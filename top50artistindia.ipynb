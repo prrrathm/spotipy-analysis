{
 "cells": [
  {
   "cell_type": "code",
   "execution_count": 1,
   "metadata": {},
   "outputs": [],
   "source": [
    "import pandas as pd\n",
    "import numpy as np\n",
    "import seaborn as sns\n",
    "import matplotlib.pyplot as plt\n"
   ]
  },
  {
   "cell_type": "code",
   "execution_count": 2,
   "metadata": {},
   "outputs": [
    {
     "data": {
      "text/html": [
       "<div>\n",
       "<style scoped>\n",
       "    .dataframe tbody tr th:only-of-type {\n",
       "        vertical-align: middle;\n",
       "    }\n",
       "\n",
       "    .dataframe tbody tr th {\n",
       "        vertical-align: top;\n",
       "    }\n",
       "\n",
       "    .dataframe thead th {\n",
       "        text-align: right;\n",
       "    }\n",
       "</style>\n",
       "<table border=\"1\" class=\"dataframe\">\n",
       "  <thead>\n",
       "    <tr style=\"text-align: right;\">\n",
       "      <th></th>\n",
       "      <th>Singer</th>\n",
       "      <th>acousticness</th>\n",
       "      <th>danceability</th>\n",
       "      <th>energy</th>\n",
       "      <th>id</th>\n",
       "      <th>instrumentalness</th>\n",
       "      <th>key</th>\n",
       "      <th>liveness</th>\n",
       "      <th>loudness</th>\n",
       "      <th>mode</th>\n",
       "      <th>Song name</th>\n",
       "      <th>speechiness</th>\n",
       "      <th>tempo</th>\n",
       "      <th>track_href</th>\n",
       "      <th>valence</th>\n",
       "    </tr>\n",
       "  </thead>\n",
       "  <tbody>\n",
       "    <tr>\n",
       "      <th>0</th>\n",
       "      <td>Aastha Gill</td>\n",
       "      <td>0.48500</td>\n",
       "      <td>0.770</td>\n",
       "      <td>0.824</td>\n",
       "      <td>39ujbBjTwwqUFySaCYDMMT</td>\n",
       "      <td>0.000000</td>\n",
       "      <td>1</td>\n",
       "      <td>0.3180</td>\n",
       "      <td>-6.491</td>\n",
       "      <td>0</td>\n",
       "      <td>Proper Patola</td>\n",
       "      <td>0.0851</td>\n",
       "      <td>172.006</td>\n",
       "      <td>https://api.spotify.com/v1/tracks/39ujbBjTwwqU...</td>\n",
       "      <td>0.490</td>\n",
       "    </tr>\n",
       "    <tr>\n",
       "      <th>1</th>\n",
       "      <td>Aastha Gill</td>\n",
       "      <td>0.14300</td>\n",
       "      <td>0.825</td>\n",
       "      <td>0.666</td>\n",
       "      <td>5cjVsWqIkBQC7acTRhL0RO</td>\n",
       "      <td>0.000003</td>\n",
       "      <td>4</td>\n",
       "      <td>0.2370</td>\n",
       "      <td>-4.847</td>\n",
       "      <td>0</td>\n",
       "      <td>Kamariya</td>\n",
       "      <td>0.0554</td>\n",
       "      <td>96.987</td>\n",
       "      <td>https://api.spotify.com/v1/tracks/5cjVsWqIkBQC...</td>\n",
       "      <td>0.763</td>\n",
       "    </tr>\n",
       "    <tr>\n",
       "      <th>2</th>\n",
       "      <td>Aastha Gill</td>\n",
       "      <td>0.23600</td>\n",
       "      <td>0.663</td>\n",
       "      <td>0.551</td>\n",
       "      <td>3XYvdqcZrTmRntFDDbJkJd</td>\n",
       "      <td>0.000036</td>\n",
       "      <td>3</td>\n",
       "      <td>0.0923</td>\n",
       "      <td>-8.272</td>\n",
       "      <td>0</td>\n",
       "      <td>Buzz (feat. Badshah)</td>\n",
       "      <td>0.1090</td>\n",
       "      <td>113.314</td>\n",
       "      <td>https://api.spotify.com/v1/tracks/3XYvdqcZrTmR...</td>\n",
       "      <td>0.601</td>\n",
       "    </tr>\n",
       "    <tr>\n",
       "      <th>3</th>\n",
       "      <td>Aastha Gill</td>\n",
       "      <td>0.00323</td>\n",
       "      <td>0.919</td>\n",
       "      <td>0.571</td>\n",
       "      <td>46GBoFCdFZZSjuGaZjZmGv</td>\n",
       "      <td>0.001680</td>\n",
       "      <td>5</td>\n",
       "      <td>0.1030</td>\n",
       "      <td>-7.175</td>\n",
       "      <td>0</td>\n",
       "      <td>Saara India</td>\n",
       "      <td>0.0687</td>\n",
       "      <td>105.007</td>\n",
       "      <td>https://api.spotify.com/v1/tracks/46GBoFCdFZZS...</td>\n",
       "      <td>0.231</td>\n",
       "    </tr>\n",
       "    <tr>\n",
       "      <th>4</th>\n",
       "      <td>Aastha Gill</td>\n",
       "      <td>0.12900</td>\n",
       "      <td>0.867</td>\n",
       "      <td>0.720</td>\n",
       "      <td>6VwVEIiCro1EMyh9B6Om3v</td>\n",
       "      <td>0.000000</td>\n",
       "      <td>9</td>\n",
       "      <td>0.2280</td>\n",
       "      <td>-5.188</td>\n",
       "      <td>0</td>\n",
       "      <td>Drunk n High</td>\n",
       "      <td>0.0619</td>\n",
       "      <td>104.974</td>\n",
       "      <td>https://api.spotify.com/v1/tracks/6VwVEIiCro1E...</td>\n",
       "      <td>0.755</td>\n",
       "    </tr>\n",
       "  </tbody>\n",
       "</table>\n",
       "</div>"
      ],
      "text/plain": [
       "        Singer  acousticness  danceability  energy                      id  \\\n",
       "0  Aastha Gill       0.48500         0.770   0.824  39ujbBjTwwqUFySaCYDMMT   \n",
       "1  Aastha Gill       0.14300         0.825   0.666  5cjVsWqIkBQC7acTRhL0RO   \n",
       "2  Aastha Gill       0.23600         0.663   0.551  3XYvdqcZrTmRntFDDbJkJd   \n",
       "3  Aastha Gill       0.00323         0.919   0.571  46GBoFCdFZZSjuGaZjZmGv   \n",
       "4  Aastha Gill       0.12900         0.867   0.720  6VwVEIiCro1EMyh9B6Om3v   \n",
       "\n",
       "   instrumentalness  key  liveness  loudness  mode             Song name  \\\n",
       "0          0.000000    1    0.3180    -6.491     0         Proper Patola   \n",
       "1          0.000003    4    0.2370    -4.847     0              Kamariya   \n",
       "2          0.000036    3    0.0923    -8.272     0  Buzz (feat. Badshah)   \n",
       "3          0.001680    5    0.1030    -7.175     0           Saara India   \n",
       "4          0.000000    9    0.2280    -5.188     0          Drunk n High   \n",
       "\n",
       "   speechiness    tempo                                         track_href  \\\n",
       "0       0.0851  172.006  https://api.spotify.com/v1/tracks/39ujbBjTwwqU...   \n",
       "1       0.0554   96.987  https://api.spotify.com/v1/tracks/5cjVsWqIkBQC...   \n",
       "2       0.1090  113.314  https://api.spotify.com/v1/tracks/3XYvdqcZrTmR...   \n",
       "3       0.0687  105.007  https://api.spotify.com/v1/tracks/46GBoFCdFZZS...   \n",
       "4       0.0619  104.974  https://api.spotify.com/v1/tracks/6VwVEIiCro1E...   \n",
       "\n",
       "   valence  \n",
       "0    0.490  \n",
       "1    0.763  \n",
       "2    0.601  \n",
       "3    0.231  \n",
       "4    0.755  "
      ]
     },
     "execution_count": 2,
     "metadata": {},
     "output_type": "execute_result"
    }
   ],
   "source": [
    "df1 = pd.read_csv(\"SingerAndSongs.csv\")\n",
    "df1.head()\n"
   ]
  },
  {
   "cell_type": "code",
   "execution_count": 3,
   "metadata": {},
   "outputs": [
    {
     "data": {
      "text/plain": [
       "(2231, 15)"
      ]
     },
     "execution_count": 3,
     "metadata": {},
     "output_type": "execute_result"
    }
   ],
   "source": [
    "df1.shape\n"
   ]
  },
  {
   "cell_type": "code",
   "execution_count": 4,
   "metadata": {},
   "outputs": [
    {
     "data": {
      "text/plain": [
       "Index(['Singer', 'acousticness', 'danceability', 'energy', 'id',\n",
       "       'instrumentalness', 'key', 'liveness', 'loudness', 'mode', 'Song name',\n",
       "       'speechiness', 'tempo', 'track_href', 'valence'],\n",
       "      dtype='object')"
      ]
     },
     "execution_count": 4,
     "metadata": {},
     "output_type": "execute_result"
    }
   ],
   "source": [
    "df1.columns\n"
   ]
  },
  {
   "cell_type": "code",
   "execution_count": 5,
   "metadata": {},
   "outputs": [
    {
     "name": "stdout",
     "output_type": "stream",
     "text": [
      "<class 'pandas.core.frame.DataFrame'>\n",
      "RangeIndex: 2231 entries, 0 to 2230\n",
      "Data columns (total 15 columns):\n",
      " #   Column            Non-Null Count  Dtype  \n",
      "---  ------            --------------  -----  \n",
      " 0   Singer            2231 non-null   object \n",
      " 1   acousticness      2231 non-null   float64\n",
      " 2   danceability      2231 non-null   float64\n",
      " 3   energy            2231 non-null   float64\n",
      " 4   id                2231 non-null   object \n",
      " 5   instrumentalness  2231 non-null   float64\n",
      " 6   key               2231 non-null   int64  \n",
      " 7   liveness          2231 non-null   float64\n",
      " 8   loudness          2231 non-null   float64\n",
      " 9   mode              2231 non-null   int64  \n",
      " 10  Song name         2230 non-null   object \n",
      " 11  speechiness       2231 non-null   float64\n",
      " 12  tempo             2231 non-null   float64\n",
      " 13  track_href        2231 non-null   object \n",
      " 14  valence           2231 non-null   float64\n",
      "dtypes: float64(9), int64(2), object(4)\n",
      "memory usage: 261.6+ KB\n"
     ]
    }
   ],
   "source": [
    "df1.info()\n"
   ]
  },
  {
   "cell_type": "code",
   "execution_count": 6,
   "metadata": {},
   "outputs": [
    {
     "data": {
      "text/html": [
       "<div>\n",
       "<style scoped>\n",
       "    .dataframe tbody tr th:only-of-type {\n",
       "        vertical-align: middle;\n",
       "    }\n",
       "\n",
       "    .dataframe tbody tr th {\n",
       "        vertical-align: top;\n",
       "    }\n",
       "\n",
       "    .dataframe thead th {\n",
       "        text-align: right;\n",
       "    }\n",
       "</style>\n",
       "<table border=\"1\" class=\"dataframe\">\n",
       "  <thead>\n",
       "    <tr style=\"text-align: right;\">\n",
       "      <th></th>\n",
       "      <th>acousticness</th>\n",
       "      <th>danceability</th>\n",
       "      <th>energy</th>\n",
       "      <th>instrumentalness</th>\n",
       "      <th>key</th>\n",
       "      <th>liveness</th>\n",
       "      <th>loudness</th>\n",
       "      <th>mode</th>\n",
       "      <th>speechiness</th>\n",
       "      <th>tempo</th>\n",
       "      <th>valence</th>\n",
       "    </tr>\n",
       "  </thead>\n",
       "  <tbody>\n",
       "    <tr>\n",
       "      <th>count</th>\n",
       "      <td>2231.000000</td>\n",
       "      <td>2231.000000</td>\n",
       "      <td>2231.000000</td>\n",
       "      <td>2231.000000</td>\n",
       "      <td>2231.000000</td>\n",
       "      <td>2231.000000</td>\n",
       "      <td>2231.000000</td>\n",
       "      <td>2231.000000</td>\n",
       "      <td>2231.000000</td>\n",
       "      <td>2231.000000</td>\n",
       "      <td>2231.000000</td>\n",
       "    </tr>\n",
       "    <tr>\n",
       "      <th>mean</th>\n",
       "      <td>0.396178</td>\n",
       "      <td>0.612732</td>\n",
       "      <td>0.658173</td>\n",
       "      <td>0.011951</td>\n",
       "      <td>5.396683</td>\n",
       "      <td>0.184136</td>\n",
       "      <td>-7.250929</td>\n",
       "      <td>0.573734</td>\n",
       "      <td>0.074873</td>\n",
       "      <td>115.488944</td>\n",
       "      <td>0.558418</td>\n",
       "    </tr>\n",
       "    <tr>\n",
       "      <th>std</th>\n",
       "      <td>0.296341</td>\n",
       "      <td>0.156026</td>\n",
       "      <td>0.190023</td>\n",
       "      <td>0.078426</td>\n",
       "      <td>3.459693</td>\n",
       "      <td>0.141807</td>\n",
       "      <td>2.929937</td>\n",
       "      <td>0.494644</td>\n",
       "      <td>0.069613</td>\n",
       "      <td>26.287521</td>\n",
       "      <td>0.216312</td>\n",
       "    </tr>\n",
       "    <tr>\n",
       "      <th>min</th>\n",
       "      <td>0.000266</td>\n",
       "      <td>0.156000</td>\n",
       "      <td>0.103000</td>\n",
       "      <td>0.000000</td>\n",
       "      <td>0.000000</td>\n",
       "      <td>0.022200</td>\n",
       "      <td>-20.090000</td>\n",
       "      <td>0.000000</td>\n",
       "      <td>0.023200</td>\n",
       "      <td>55.832000</td>\n",
       "      <td>0.039400</td>\n",
       "    </tr>\n",
       "    <tr>\n",
       "      <th>25%</th>\n",
       "      <td>0.118000</td>\n",
       "      <td>0.505000</td>\n",
       "      <td>0.520000</td>\n",
       "      <td>0.000000</td>\n",
       "      <td>2.000000</td>\n",
       "      <td>0.094800</td>\n",
       "      <td>-8.841500</td>\n",
       "      <td>0.000000</td>\n",
       "      <td>0.034200</td>\n",
       "      <td>95.987000</td>\n",
       "      <td>0.385000</td>\n",
       "    </tr>\n",
       "    <tr>\n",
       "      <th>50%</th>\n",
       "      <td>0.344000</td>\n",
       "      <td>0.622000</td>\n",
       "      <td>0.669000</td>\n",
       "      <td>0.000007</td>\n",
       "      <td>6.000000</td>\n",
       "      <td>0.126000</td>\n",
       "      <td>-6.887000</td>\n",
       "      <td>1.000000</td>\n",
       "      <td>0.048300</td>\n",
       "      <td>109.982000</td>\n",
       "      <td>0.563000</td>\n",
       "    </tr>\n",
       "    <tr>\n",
       "      <th>75%</th>\n",
       "      <td>0.647500</td>\n",
       "      <td>0.734000</td>\n",
       "      <td>0.815500</td>\n",
       "      <td>0.000249</td>\n",
       "      <td>8.000000</td>\n",
       "      <td>0.245500</td>\n",
       "      <td>-5.332500</td>\n",
       "      <td>1.000000</td>\n",
       "      <td>0.081350</td>\n",
       "      <td>130.098000</td>\n",
       "      <td>0.731000</td>\n",
       "    </tr>\n",
       "    <tr>\n",
       "      <th>max</th>\n",
       "      <td>0.994000</td>\n",
       "      <td>0.971000</td>\n",
       "      <td>0.988000</td>\n",
       "      <td>0.967000</td>\n",
       "      <td>11.000000</td>\n",
       "      <td>0.972000</td>\n",
       "      <td>0.003000</td>\n",
       "      <td>1.000000</td>\n",
       "      <td>0.684000</td>\n",
       "      <td>214.016000</td>\n",
       "      <td>0.970000</td>\n",
       "    </tr>\n",
       "  </tbody>\n",
       "</table>\n",
       "</div>"
      ],
      "text/plain": [
       "       acousticness  danceability       energy  instrumentalness          key  \\\n",
       "count   2231.000000   2231.000000  2231.000000       2231.000000  2231.000000   \n",
       "mean       0.396178      0.612732     0.658173          0.011951     5.396683   \n",
       "std        0.296341      0.156026     0.190023          0.078426     3.459693   \n",
       "min        0.000266      0.156000     0.103000          0.000000     0.000000   \n",
       "25%        0.118000      0.505000     0.520000          0.000000     2.000000   \n",
       "50%        0.344000      0.622000     0.669000          0.000007     6.000000   \n",
       "75%        0.647500      0.734000     0.815500          0.000249     8.000000   \n",
       "max        0.994000      0.971000     0.988000          0.967000    11.000000   \n",
       "\n",
       "          liveness     loudness         mode  speechiness        tempo  \\\n",
       "count  2231.000000  2231.000000  2231.000000  2231.000000  2231.000000   \n",
       "mean      0.184136    -7.250929     0.573734     0.074873   115.488944   \n",
       "std       0.141807     2.929937     0.494644     0.069613    26.287521   \n",
       "min       0.022200   -20.090000     0.000000     0.023200    55.832000   \n",
       "25%       0.094800    -8.841500     0.000000     0.034200    95.987000   \n",
       "50%       0.126000    -6.887000     1.000000     0.048300   109.982000   \n",
       "75%       0.245500    -5.332500     1.000000     0.081350   130.098000   \n",
       "max       0.972000     0.003000     1.000000     0.684000   214.016000   \n",
       "\n",
       "           valence  \n",
       "count  2231.000000  \n",
       "mean      0.558418  \n",
       "std       0.216312  \n",
       "min       0.039400  \n",
       "25%       0.385000  \n",
       "50%       0.563000  \n",
       "75%       0.731000  \n",
       "max       0.970000  "
      ]
     },
     "execution_count": 6,
     "metadata": {},
     "output_type": "execute_result"
    }
   ],
   "source": [
    "# checking numeric analysis of data set\n",
    "df1.describe()\n"
   ]
  },
  {
   "cell_type": "code",
   "execution_count": 7,
   "metadata": {},
   "outputs": [
    {
     "data": {
      "text/plain": [
       "Singer              0\n",
       "acousticness        0\n",
       "danceability        0\n",
       "energy              0\n",
       "id                  0\n",
       "instrumentalness    0\n",
       "key                 0\n",
       "liveness            0\n",
       "loudness            0\n",
       "mode                0\n",
       "Song name           1\n",
       "speechiness         0\n",
       "tempo               0\n",
       "track_href          0\n",
       "valence             0\n",
       "dtype: int64"
      ]
     },
     "execution_count": 7,
     "metadata": {},
     "output_type": "execute_result"
    }
   ],
   "source": [
    "# checking null values in data set\n",
    "df1.isnull().sum()\n"
   ]
  },
  {
   "cell_type": "code",
   "execution_count": 8,
   "metadata": {},
   "outputs": [
    {
     "data": {
      "text/plain": [
       "Singer               object\n",
       "acousticness        float64\n",
       "danceability        float64\n",
       "energy              float64\n",
       "id                   object\n",
       "instrumentalness    float64\n",
       "key                   int64\n",
       "liveness            float64\n",
       "loudness            float64\n",
       "mode                  int64\n",
       "Song name            object\n",
       "speechiness         float64\n",
       "tempo               float64\n",
       "track_href           object\n",
       "valence             float64\n",
       "dtype: object"
      ]
     },
     "execution_count": 8,
     "metadata": {},
     "output_type": "execute_result"
    }
   ],
   "source": [
    "# checking data type of values present in data set\n",
    "df1.dtypes\n"
   ]
  },
  {
   "cell_type": "markdown",
   "metadata": {},
   "source": [
    "# Data Cleaning"
   ]
  },
  {
   "cell_type": "code",
   "execution_count": 9,
   "metadata": {},
   "outputs": [
    {
     "data": {
      "text/html": [
       "<div>\n",
       "<style scoped>\n",
       "    .dataframe tbody tr th:only-of-type {\n",
       "        vertical-align: middle;\n",
       "    }\n",
       "\n",
       "    .dataframe tbody tr th {\n",
       "        vertical-align: top;\n",
       "    }\n",
       "\n",
       "    .dataframe thead th {\n",
       "        text-align: right;\n",
       "    }\n",
       "</style>\n",
       "<table border=\"1\" class=\"dataframe\">\n",
       "  <thead>\n",
       "    <tr style=\"text-align: right;\">\n",
       "      <th></th>\n",
       "      <th>Singer</th>\n",
       "      <th>acousticness</th>\n",
       "      <th>danceability</th>\n",
       "      <th>energy</th>\n",
       "      <th>id</th>\n",
       "      <th>instrumentalness</th>\n",
       "      <th>key</th>\n",
       "      <th>liveness</th>\n",
       "      <th>loudness</th>\n",
       "      <th>mode</th>\n",
       "      <th>Song name</th>\n",
       "      <th>speechiness</th>\n",
       "      <th>tempo</th>\n",
       "      <th>track_href</th>\n",
       "      <th>valence</th>\n",
       "    </tr>\n",
       "  </thead>\n",
       "  <tbody>\n",
       "    <tr>\n",
       "      <th>0</th>\n",
       "      <td>Aastha Gill</td>\n",
       "      <td>0.48500</td>\n",
       "      <td>0.770</td>\n",
       "      <td>0.824</td>\n",
       "      <td>39ujbBjTwwqUFySaCYDMMT</td>\n",
       "      <td>0.000000</td>\n",
       "      <td>1</td>\n",
       "      <td>0.3180</td>\n",
       "      <td>-6.491</td>\n",
       "      <td>0</td>\n",
       "      <td>Proper Patola</td>\n",
       "      <td>0.0851</td>\n",
       "      <td>172.006</td>\n",
       "      <td>https://api.spotify.com/v1/tracks/39ujbBjTwwqU...</td>\n",
       "      <td>0.490</td>\n",
       "    </tr>\n",
       "    <tr>\n",
       "      <th>1</th>\n",
       "      <td>Aastha Gill</td>\n",
       "      <td>0.14300</td>\n",
       "      <td>0.825</td>\n",
       "      <td>0.666</td>\n",
       "      <td>5cjVsWqIkBQC7acTRhL0RO</td>\n",
       "      <td>0.000003</td>\n",
       "      <td>4</td>\n",
       "      <td>0.2370</td>\n",
       "      <td>-4.847</td>\n",
       "      <td>0</td>\n",
       "      <td>Kamariya</td>\n",
       "      <td>0.0554</td>\n",
       "      <td>96.987</td>\n",
       "      <td>https://api.spotify.com/v1/tracks/5cjVsWqIkBQC...</td>\n",
       "      <td>0.763</td>\n",
       "    </tr>\n",
       "    <tr>\n",
       "      <th>2</th>\n",
       "      <td>Aastha Gill</td>\n",
       "      <td>0.23600</td>\n",
       "      <td>0.663</td>\n",
       "      <td>0.551</td>\n",
       "      <td>3XYvdqcZrTmRntFDDbJkJd</td>\n",
       "      <td>0.000036</td>\n",
       "      <td>3</td>\n",
       "      <td>0.0923</td>\n",
       "      <td>-8.272</td>\n",
       "      <td>0</td>\n",
       "      <td>Buzz (feat. Badshah)</td>\n",
       "      <td>0.1090</td>\n",
       "      <td>113.314</td>\n",
       "      <td>https://api.spotify.com/v1/tracks/3XYvdqcZrTmR...</td>\n",
       "      <td>0.601</td>\n",
       "    </tr>\n",
       "    <tr>\n",
       "      <th>3</th>\n",
       "      <td>Aastha Gill</td>\n",
       "      <td>0.00323</td>\n",
       "      <td>0.919</td>\n",
       "      <td>0.571</td>\n",
       "      <td>46GBoFCdFZZSjuGaZjZmGv</td>\n",
       "      <td>0.001680</td>\n",
       "      <td>5</td>\n",
       "      <td>0.1030</td>\n",
       "      <td>-7.175</td>\n",
       "      <td>0</td>\n",
       "      <td>Saara India</td>\n",
       "      <td>0.0687</td>\n",
       "      <td>105.007</td>\n",
       "      <td>https://api.spotify.com/v1/tracks/46GBoFCdFZZS...</td>\n",
       "      <td>0.231</td>\n",
       "    </tr>\n",
       "    <tr>\n",
       "      <th>4</th>\n",
       "      <td>Aastha Gill</td>\n",
       "      <td>0.12900</td>\n",
       "      <td>0.867</td>\n",
       "      <td>0.720</td>\n",
       "      <td>6VwVEIiCro1EMyh9B6Om3v</td>\n",
       "      <td>0.000000</td>\n",
       "      <td>9</td>\n",
       "      <td>0.2280</td>\n",
       "      <td>-5.188</td>\n",
       "      <td>0</td>\n",
       "      <td>Drunk n High</td>\n",
       "      <td>0.0619</td>\n",
       "      <td>104.974</td>\n",
       "      <td>https://api.spotify.com/v1/tracks/6VwVEIiCro1E...</td>\n",
       "      <td>0.755</td>\n",
       "    </tr>\n",
       "  </tbody>\n",
       "</table>\n",
       "</div>"
      ],
      "text/plain": [
       "        Singer  acousticness  danceability  energy                      id  \\\n",
       "0  Aastha Gill       0.48500         0.770   0.824  39ujbBjTwwqUFySaCYDMMT   \n",
       "1  Aastha Gill       0.14300         0.825   0.666  5cjVsWqIkBQC7acTRhL0RO   \n",
       "2  Aastha Gill       0.23600         0.663   0.551  3XYvdqcZrTmRntFDDbJkJd   \n",
       "3  Aastha Gill       0.00323         0.919   0.571  46GBoFCdFZZSjuGaZjZmGv   \n",
       "4  Aastha Gill       0.12900         0.867   0.720  6VwVEIiCro1EMyh9B6Om3v   \n",
       "\n",
       "   instrumentalness  key  liveness  loudness  mode             Song name  \\\n",
       "0          0.000000    1    0.3180    -6.491     0         Proper Patola   \n",
       "1          0.000003    4    0.2370    -4.847     0              Kamariya   \n",
       "2          0.000036    3    0.0923    -8.272     0  Buzz (feat. Badshah)   \n",
       "3          0.001680    5    0.1030    -7.175     0           Saara India   \n",
       "4          0.000000    9    0.2280    -5.188     0          Drunk n High   \n",
       "\n",
       "   speechiness    tempo                                         track_href  \\\n",
       "0       0.0851  172.006  https://api.spotify.com/v1/tracks/39ujbBjTwwqU...   \n",
       "1       0.0554   96.987  https://api.spotify.com/v1/tracks/5cjVsWqIkBQC...   \n",
       "2       0.1090  113.314  https://api.spotify.com/v1/tracks/3XYvdqcZrTmR...   \n",
       "3       0.0687  105.007  https://api.spotify.com/v1/tracks/46GBoFCdFZZS...   \n",
       "4       0.0619  104.974  https://api.spotify.com/v1/tracks/6VwVEIiCro1E...   \n",
       "\n",
       "   valence  \n",
       "0    0.490  \n",
       "1    0.763  \n",
       "2    0.601  \n",
       "3    0.231  \n",
       "4    0.755  "
      ]
     },
     "execution_count": 9,
     "metadata": {},
     "output_type": "execute_result"
    }
   ],
   "source": [
    "df1.head()\n"
   ]
  },
  {
   "cell_type": "code",
   "execution_count": 10,
   "metadata": {},
   "outputs": [
    {
     "data": {
      "text/plain": [
       "Singer              0\n",
       "acousticness        0\n",
       "danceability        0\n",
       "energy              0\n",
       "id                  0\n",
       "instrumentalness    0\n",
       "key                 0\n",
       "liveness            0\n",
       "loudness            0\n",
       "mode                0\n",
       "Song name           1\n",
       "speechiness         0\n",
       "tempo               0\n",
       "track_href          0\n",
       "valence             0\n",
       "dtype: int64"
      ]
     },
     "execution_count": 10,
     "metadata": {},
     "output_type": "execute_result"
    }
   ],
   "source": [
    "# checking null values\n",
    "df1.isnull().sum()\n"
   ]
  },
  {
   "cell_type": "code",
   "execution_count": 11,
   "metadata": {},
   "outputs": [
    {
     "data": {
      "text/plain": [
       "Singer              0\n",
       "acousticness        0\n",
       "danceability        0\n",
       "energy              0\n",
       "id                  0\n",
       "instrumentalness    0\n",
       "key                 0\n",
       "liveness            0\n",
       "loudness            0\n",
       "mode                0\n",
       "Song name           0\n",
       "speechiness         0\n",
       "tempo               0\n",
       "track_href          0\n",
       "valence             0\n",
       "dtype: int64"
      ]
     },
     "execution_count": 11,
     "metadata": {},
     "output_type": "execute_result"
    }
   ],
   "source": [
    "# drop null values\n",
    "df2 = df1.dropna()\n",
    "# check null values\n",
    "df2.isnull().sum()\n"
   ]
  },
  {
   "cell_type": "markdown",
   "id": "e587e497",
   "metadata": {},
   "source": [
    "# Feature Engineering"
   ]
  },
  {
   "cell_type": "code",
   "execution_count": 12,
   "metadata": {},
   "outputs": [
    {
     "data": {
      "text/html": [
       "<div>\n",
       "<style scoped>\n",
       "    .dataframe tbody tr th:only-of-type {\n",
       "        vertical-align: middle;\n",
       "    }\n",
       "\n",
       "    .dataframe tbody tr th {\n",
       "        vertical-align: top;\n",
       "    }\n",
       "\n",
       "    .dataframe thead th {\n",
       "        text-align: right;\n",
       "    }\n",
       "</style>\n",
       "<table border=\"1\" class=\"dataframe\">\n",
       "  <thead>\n",
       "    <tr style=\"text-align: right;\">\n",
       "      <th></th>\n",
       "      <th>Singer</th>\n",
       "      <th>acousticness</th>\n",
       "      <th>danceability</th>\n",
       "      <th>energy</th>\n",
       "      <th>id</th>\n",
       "      <th>instrumentalness</th>\n",
       "      <th>key</th>\n",
       "      <th>liveness</th>\n",
       "      <th>loudness</th>\n",
       "      <th>mode</th>\n",
       "      <th>speechiness</th>\n",
       "      <th>tempo</th>\n",
       "      <th>track_href</th>\n",
       "      <th>valence</th>\n",
       "    </tr>\n",
       "    <tr>\n",
       "      <th>Song name</th>\n",
       "      <th></th>\n",
       "      <th></th>\n",
       "      <th></th>\n",
       "      <th></th>\n",
       "      <th></th>\n",
       "      <th></th>\n",
       "      <th></th>\n",
       "      <th></th>\n",
       "      <th></th>\n",
       "      <th></th>\n",
       "      <th></th>\n",
       "      <th></th>\n",
       "      <th></th>\n",
       "      <th></th>\n",
       "    </tr>\n",
       "  </thead>\n",
       "  <tbody>\n",
       "    <tr>\n",
       "      <th>Proper Patola</th>\n",
       "      <td>Aastha Gill</td>\n",
       "      <td>0.48500</td>\n",
       "      <td>0.770</td>\n",
       "      <td>0.824</td>\n",
       "      <td>39ujbBjTwwqUFySaCYDMMT</td>\n",
       "      <td>0.000000</td>\n",
       "      <td>1</td>\n",
       "      <td>0.3180</td>\n",
       "      <td>-6.491</td>\n",
       "      <td>0</td>\n",
       "      <td>0.0851</td>\n",
       "      <td>172.006</td>\n",
       "      <td>https://api.spotify.com/v1/tracks/39ujbBjTwwqU...</td>\n",
       "      <td>0.490</td>\n",
       "    </tr>\n",
       "    <tr>\n",
       "      <th>Kamariya</th>\n",
       "      <td>Aastha Gill</td>\n",
       "      <td>0.14300</td>\n",
       "      <td>0.825</td>\n",
       "      <td>0.666</td>\n",
       "      <td>5cjVsWqIkBQC7acTRhL0RO</td>\n",
       "      <td>0.000003</td>\n",
       "      <td>4</td>\n",
       "      <td>0.2370</td>\n",
       "      <td>-4.847</td>\n",
       "      <td>0</td>\n",
       "      <td>0.0554</td>\n",
       "      <td>96.987</td>\n",
       "      <td>https://api.spotify.com/v1/tracks/5cjVsWqIkBQC...</td>\n",
       "      <td>0.763</td>\n",
       "    </tr>\n",
       "    <tr>\n",
       "      <th>Buzz (feat. Badshah)</th>\n",
       "      <td>Aastha Gill</td>\n",
       "      <td>0.23600</td>\n",
       "      <td>0.663</td>\n",
       "      <td>0.551</td>\n",
       "      <td>3XYvdqcZrTmRntFDDbJkJd</td>\n",
       "      <td>0.000036</td>\n",
       "      <td>3</td>\n",
       "      <td>0.0923</td>\n",
       "      <td>-8.272</td>\n",
       "      <td>0</td>\n",
       "      <td>0.1090</td>\n",
       "      <td>113.314</td>\n",
       "      <td>https://api.spotify.com/v1/tracks/3XYvdqcZrTmR...</td>\n",
       "      <td>0.601</td>\n",
       "    </tr>\n",
       "    <tr>\n",
       "      <th>Saara India</th>\n",
       "      <td>Aastha Gill</td>\n",
       "      <td>0.00323</td>\n",
       "      <td>0.919</td>\n",
       "      <td>0.571</td>\n",
       "      <td>46GBoFCdFZZSjuGaZjZmGv</td>\n",
       "      <td>0.001680</td>\n",
       "      <td>5</td>\n",
       "      <td>0.1030</td>\n",
       "      <td>-7.175</td>\n",
       "      <td>0</td>\n",
       "      <td>0.0687</td>\n",
       "      <td>105.007</td>\n",
       "      <td>https://api.spotify.com/v1/tracks/46GBoFCdFZZS...</td>\n",
       "      <td>0.231</td>\n",
       "    </tr>\n",
       "    <tr>\n",
       "      <th>Drunk n High</th>\n",
       "      <td>Aastha Gill</td>\n",
       "      <td>0.12900</td>\n",
       "      <td>0.867</td>\n",
       "      <td>0.720</td>\n",
       "      <td>6VwVEIiCro1EMyh9B6Om3v</td>\n",
       "      <td>0.000000</td>\n",
       "      <td>9</td>\n",
       "      <td>0.2280</td>\n",
       "      <td>-5.188</td>\n",
       "      <td>0</td>\n",
       "      <td>0.0619</td>\n",
       "      <td>104.974</td>\n",
       "      <td>https://api.spotify.com/v1/tracks/6VwVEIiCro1E...</td>\n",
       "      <td>0.755</td>\n",
       "    </tr>\n",
       "  </tbody>\n",
       "</table>\n",
       "</div>"
      ],
      "text/plain": [
       "                           Singer  acousticness  danceability  energy  \\\n",
       "Song name                                                               \n",
       "Proper Patola         Aastha Gill       0.48500         0.770   0.824   \n",
       "Kamariya              Aastha Gill       0.14300         0.825   0.666   \n",
       "Buzz (feat. Badshah)  Aastha Gill       0.23600         0.663   0.551   \n",
       "Saara India           Aastha Gill       0.00323         0.919   0.571   \n",
       "Drunk n High          Aastha Gill       0.12900         0.867   0.720   \n",
       "\n",
       "                                          id  instrumentalness  key  liveness  \\\n",
       "Song name                                                                       \n",
       "Proper Patola         39ujbBjTwwqUFySaCYDMMT          0.000000    1    0.3180   \n",
       "Kamariya              5cjVsWqIkBQC7acTRhL0RO          0.000003    4    0.2370   \n",
       "Buzz (feat. Badshah)  3XYvdqcZrTmRntFDDbJkJd          0.000036    3    0.0923   \n",
       "Saara India           46GBoFCdFZZSjuGaZjZmGv          0.001680    5    0.1030   \n",
       "Drunk n High          6VwVEIiCro1EMyh9B6Om3v          0.000000    9    0.2280   \n",
       "\n",
       "                      loudness  mode  speechiness    tempo  \\\n",
       "Song name                                                    \n",
       "Proper Patola           -6.491     0       0.0851  172.006   \n",
       "Kamariya                -4.847     0       0.0554   96.987   \n",
       "Buzz (feat. Badshah)    -8.272     0       0.1090  113.314   \n",
       "Saara India             -7.175     0       0.0687  105.007   \n",
       "Drunk n High            -5.188     0       0.0619  104.974   \n",
       "\n",
       "                                                             track_href  \\\n",
       "Song name                                                                 \n",
       "Proper Patola         https://api.spotify.com/v1/tracks/39ujbBjTwwqU...   \n",
       "Kamariya              https://api.spotify.com/v1/tracks/5cjVsWqIkBQC...   \n",
       "Buzz (feat. Badshah)  https://api.spotify.com/v1/tracks/3XYvdqcZrTmR...   \n",
       "Saara India           https://api.spotify.com/v1/tracks/46GBoFCdFZZS...   \n",
       "Drunk n High          https://api.spotify.com/v1/tracks/6VwVEIiCro1E...   \n",
       "\n",
       "                      valence  \n",
       "Song name                      \n",
       "Proper Patola           0.490  \n",
       "Kamariya                0.763  \n",
       "Buzz (feat. Badshah)    0.601  \n",
       "Saara India             0.231  \n",
       "Drunk n High            0.755  "
      ]
     },
     "execution_count": 12,
     "metadata": {},
     "output_type": "execute_result"
    }
   ],
   "source": [
    "df2.set_index(\"Song name\", inplace=True)\n",
    "df2.head()\n"
   ]
  },
  {
   "cell_type": "code",
   "execution_count": 14,
   "metadata": {},
   "outputs": [
    {
     "data": {
      "text/plain": [
       "Singer    Amit Trivedi\n",
       "Name: Radhe (From Songs of Faith), dtype: object"
      ]
     },
     "execution_count": 14,
     "metadata": {},
     "output_type": "execute_result"
    }
   ],
   "source": [
    "df2[[\"Singer\"]].iloc[69]\n"
   ]
  },
  {
   "cell_type": "code",
   "execution_count": 42,
   "metadata": {},
   "outputs": [
    {
     "data": {
      "text/html": [
       "<div>\n",
       "<style scoped>\n",
       "    .dataframe tbody tr th:only-of-type {\n",
       "        vertical-align: middle;\n",
       "    }\n",
       "\n",
       "    .dataframe tbody tr th {\n",
       "        vertical-align: top;\n",
       "    }\n",
       "\n",
       "    .dataframe thead th {\n",
       "        text-align: right;\n",
       "    }\n",
       "</style>\n",
       "<table border=\"1\" class=\"dataframe\">\n",
       "  <thead>\n",
       "    <tr style=\"text-align: right;\">\n",
       "      <th></th>\n",
       "      <th>Song name</th>\n",
       "      <th>Singer</th>\n",
       "    </tr>\n",
       "  </thead>\n",
       "  <tbody>\n",
       "    <tr>\n",
       "      <th>117</th>\n",
       "      <td>Tum Bin</td>\n",
       "      <td>Ankit Tiwari</td>\n",
       "    </tr>\n",
       "    <tr>\n",
       "      <th>1590</th>\n",
       "      <td>Bekhayali Reprise (From \"T-Series Acoustics\")</td>\n",
       "      <td>Sachet Tandon</td>\n",
       "    </tr>\n",
       "    <tr>\n",
       "      <th>625</th>\n",
       "      <td>Tu Hi Tha</td>\n",
       "      <td>Darshan Raval</td>\n",
       "    </tr>\n",
       "    <tr>\n",
       "      <th>306</th>\n",
       "      <td>Hamari Adhuri Kahani (Title Track)</td>\n",
       "      <td>Arijit Singh</td>\n",
       "    </tr>\n",
       "    <tr>\n",
       "      <th>55</th>\n",
       "      <td>Kuch Kuch Hota Hai - Sad</td>\n",
       "      <td>Alka Yagnik</td>\n",
       "    </tr>\n",
       "  </tbody>\n",
       "</table>\n",
       "</div>"
      ],
      "text/plain": [
       "                                          Song name         Singer\n",
       "117                                         Tum Bin   Ankit Tiwari\n",
       "1590  Bekhayali Reprise (From \"T-Series Acoustics\")  Sachet Tandon\n",
       "625                                       Tu Hi Tha  Darshan Raval\n",
       "306              Hamari Adhuri Kahani (Title Track)   Arijit Singh\n",
       "55                         Kuch Kuch Hota Hai - Sad    Alka Yagnik"
      ]
     },
     "execution_count": 42,
     "metadata": {},
     "output_type": "execute_result"
    }
   ],
   "source": [
    "df1.sort_values(by=['danceability'])[\n",
    "    ['Song name', 'Singer']].head()\n"
   ]
  },
  {
   "cell_type": "code",
   "execution_count": 43,
   "metadata": {},
   "outputs": [
    {
     "data": {
      "text/html": [
       "<div>\n",
       "<style scoped>\n",
       "    .dataframe tbody tr th:only-of-type {\n",
       "        vertical-align: middle;\n",
       "    }\n",
       "\n",
       "    .dataframe tbody tr th {\n",
       "        vertical-align: top;\n",
       "    }\n",
       "\n",
       "    .dataframe thead th {\n",
       "        text-align: right;\n",
       "    }\n",
       "</style>\n",
       "<table border=\"1\" class=\"dataframe\">\n",
       "  <thead>\n",
       "    <tr style=\"text-align: right;\">\n",
       "      <th></th>\n",
       "      <th>Song name</th>\n",
       "      <th>Singer</th>\n",
       "    </tr>\n",
       "  </thead>\n",
       "  <tbody>\n",
       "    <tr>\n",
       "      <th>1200</th>\n",
       "      <td>Beete Huye Lamhon Ki Kasak</td>\n",
       "      <td>Mahendra Kapoor</td>\n",
       "    </tr>\n",
       "    <tr>\n",
       "      <th>173</th>\n",
       "      <td>Aanewala Kal Ek Sapna - Anu Malik Version</td>\n",
       "      <td>Anu Malik</td>\n",
       "    </tr>\n",
       "    <tr>\n",
       "      <th>1916</th>\n",
       "      <td>Nahin Saamne Tu</td>\n",
       "      <td>Sukhwinder Singh</td>\n",
       "    </tr>\n",
       "    <tr>\n",
       "      <th>749</th>\n",
       "      <td>Mazak Hai Kya</td>\n",
       "      <td>Emiway bantai</td>\n",
       "    </tr>\n",
       "    <tr>\n",
       "      <th>1725</th>\n",
       "      <td>Yemi Cheyamanduve</td>\n",
       "      <td>Shankar Mahadevan</td>\n",
       "    </tr>\n",
       "  </tbody>\n",
       "</table>\n",
       "</div>"
      ],
      "text/plain": [
       "                                      Song name             Singer\n",
       "1200                 Beete Huye Lamhon Ki Kasak    Mahendra Kapoor\n",
       "173   Aanewala Kal Ek Sapna - Anu Malik Version          Anu Malik\n",
       "1916                            Nahin Saamne Tu   Sukhwinder Singh\n",
       "749                               Mazak Hai Kya      Emiway bantai\n",
       "1725                          Yemi Cheyamanduve  Shankar Mahadevan"
      ]
     },
     "execution_count": 43,
     "metadata": {},
     "output_type": "execute_result"
    }
   ],
   "source": [
    "df1.sort_values(by=['loudness'])[\n",
    "    ['Song name', 'Singer']].head()\n"
   ]
  },
  {
   "cell_type": "code",
   "execution_count": 26,
   "metadata": {},
   "outputs": [
    {
     "data": {
      "text/plain": [
       "[Text(0.5, 0, 'acousticness'),\n",
       " Text(1.5, 0, 'danceability'),\n",
       " Text(2.5, 0, 'energy'),\n",
       " Text(3.5, 0, 'instrumentalness'),\n",
       " Text(4.5, 0, 'liveness'),\n",
       " Text(5.5, 0, 'loudness'),\n",
       " Text(6.5, 0, 'speechiness'),\n",
       " Text(7.5, 0, 'tempo'),\n",
       " Text(8.5, 0, 'valence')]"
      ]
     },
     "execution_count": 26,
     "metadata": {},
     "output_type": "execute_result"
    },
    {
     "data": {
      "image/png": "[encoded data removed]",
      "text/plain": [
       "<Figure size 1008x504 with 2 Axes>"
      ]
     },
     "metadata": {
      "needs_background": "light"
     },
     "output_type": "display_data"
    }
   ],
   "source": [
    "corr_df = df2.drop([\"key\", \"mode\", \"track_href\", \"Singer\", \"id\"],\n",
    "                   axis=1).corr(method=\"pearson\")\n",
    "plt.figure(figsize=(14, 7))\n",
    "heatmap = sns.heatmap(corr_df, annot=True,)\n",
    "heatmap.set_title(\"Correlation Heatmap Between Variables\")\n",
    "heatmap.set_xticklabels(heatmap.get_xticklabels(), rotation=90)\n"
   ]
  },
  {
   "cell_type": "code",
   "execution_count": 25,
   "metadata": {},
   "outputs": [
    {
     "data": {
      "text/plain": [
       "[Text(0.5, 1.0, 'Loundness vs Energy Correlation')]"
      ]
     },
     "execution_count": 25,
     "metadata": {},
     "output_type": "execute_result"
    },
    {
     "data": {
      "image/png": "[encoded data removed]",
      "text/plain": [
       "<Figure size 720x432 with 1 Axes>"
      ]
     },
     "metadata": {
      "needs_background": "light"
     },
     "output_type": "display_data"
    }
   ],
   "source": [
    "plt.figure(figsize=(10, 6))\n",
    "sns.regplot(data=df2, y=\"loudness\", x=\"energy\", color=\"c\").set(\n",
    "    title=\"Loundness vs Energy Correlation\")\n"
   ]
  },
  {
   "cell_type": "code",
   "execution_count": 28,
   "metadata": {},
   "outputs": [
    {
     "data": {
      "text/plain": [
       "<seaborn.axisgrid.JointGrid at 0x135bdab2110>"
      ]
     },
     "execution_count": 28,
     "metadata": {},
     "output_type": "execute_result"
    },
    {
     "data": {
      "image/png": "[encoded data removed]",
      "text/plain": [
       "<Figure size 432x432 with 3 Axes>"
      ]
     },
     "metadata": {},
     "output_type": "display_data"
    }
   ],
   "source": [
    "sns.set(rc={'figure.figsize': (20, 20)})\n",
    "sns.jointplot(data=df2, x=\"loudness\", y=\"energy\", kind=\"kde\")\n"
   ]
  }
 ],
 "metadata": {
  "kernelspec": {
   "display_name": "Python 3.10.2 64-bit",
   "language": "python",
   "name": "python3"
  },
  "language_info": {
   "codemirror_mode": {
    "name": "ipython",
    "version": 3
   },
   "file_extension": ".py",
   "mimetype": "text/x-python",
   "name": "python",
   "nbconvert_exporter": "python",
   "pygments_lexer": "ipython3",
   "version": "3.10.2"
  },
  "orig_nbformat": 4,
  "vscode": {
   "interpreter": {
    "hash": "8c3d4d9970fc5c09c50d9318a9c7fbf4d0159e4b28833276f5678ee22bded273"
   }
  }
 },
 "nbformat": 4,
 "nbformat_minor": 2
}

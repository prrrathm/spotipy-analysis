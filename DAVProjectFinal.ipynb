{
 "cells": [
  {
   "cell_type": "code",
   "execution_count": 1,
   "metadata": {},
   "outputs": [],
   "source": [
    "import pandas as pd\n",
    "import numpy as np\n",
    "import seaborn as sns\n",
    "from math import pi\n",
    "import matplotlib.pyplot as plt \n",
    "import re\n",
    "import time\n",
    "from datetime import datetime\n",
    "import pandas as pd\n",
    "import plotly.express as px\n",
    "from plotly.subplots import make_subplots\n",
    "import plotly.graph_objects as go"
   ]
  },
  {
   "cell_type": "code",
   "execution_count": 2,
   "metadata": {},
   "outputs": [
    {
     "ename": "ConnectionError",
     "evalue": "HTTPSConnectionPool(host='accounts.spotify.com', port=443): Max retries exceeded with url: /api/token (Caused by NewConnectionError('<urllib3.connection.HTTPSConnection object at 0x000001878BDE9930>: Failed to establish a new connection: [Errno 11001] getaddrinfo failed'))",
     "output_type": "error",
     "traceback": [
      "\u001b[1;31m---------------------------------------------------------------------------\u001b[0m",
      "\u001b[1;31mgaierror\u001b[0m                                  Traceback (most recent call last)",
      "File \u001b[1;32m~\\AppData\\Roaming\\Python\\Python310\\site-packages\\urllib3\\connection.py:174\u001b[0m, in \u001b[0;36mHTTPConnection._new_conn\u001b[1;34m(self)\u001b[0m\n\u001b[0;32m    173\u001b[0m \u001b[39mtry\u001b[39;00m:\n\u001b[1;32m--> 174\u001b[0m     conn \u001b[39m=\u001b[39m connection\u001b[39m.\u001b[39mcreate_connection(\n\u001b[0;32m    175\u001b[0m         (\u001b[39mself\u001b[39m\u001b[39m.\u001b[39m_dns_host, \u001b[39mself\u001b[39m\u001b[39m.\u001b[39mport), \u001b[39mself\u001b[39m\u001b[39m.\u001b[39mtimeout, \u001b[39m*\u001b[39m\u001b[39m*\u001b[39mextra_kw\n\u001b[0;32m    176\u001b[0m     )\n\u001b[0;32m    178\u001b[0m \u001b[39mexcept\u001b[39;00m SocketTimeout:\n",
      "File \u001b[1;32m~\\AppData\\Roaming\\Python\\Python310\\site-packages\\urllib3\\util\\connection.py:72\u001b[0m, in \u001b[0;36mcreate_connection\u001b[1;34m(address, timeout, source_address, socket_options)\u001b[0m\n\u001b[0;32m     68\u001b[0m     \u001b[39mreturn\u001b[39;00m six\u001b[39m.\u001b[39mraise_from(\n\u001b[0;32m     69\u001b[0m         LocationParseError(\u001b[39mu\u001b[39m\u001b[39m\"\u001b[39m\u001b[39m'\u001b[39m\u001b[39m%s\u001b[39;00m\u001b[39m'\u001b[39m\u001b[39m, label empty or too long\u001b[39m\u001b[39m\"\u001b[39m \u001b[39m%\u001b[39m host), \u001b[39mNone\u001b[39;00m\n\u001b[0;32m     70\u001b[0m     )\n\u001b[1;32m---> 72\u001b[0m \u001b[39mfor\u001b[39;00m res \u001b[39min\u001b[39;00m socket\u001b[39m.\u001b[39;49mgetaddrinfo(host, port, family, socket\u001b[39m.\u001b[39;49mSOCK_STREAM):\n\u001b[0;32m     73\u001b[0m     af, socktype, proto, canonname, sa \u001b[39m=\u001b[39m res\n",
      "File \u001b[1;32mc:\\Program Files\\Python310\\lib\\socket.py:955\u001b[0m, in \u001b[0;36mgetaddrinfo\u001b[1;34m(host, port, family, type, proto, flags)\u001b[0m\n\u001b[0;32m    954\u001b[0m addrlist \u001b[39m=\u001b[39m []\n\u001b[1;32m--> 955\u001b[0m \u001b[39mfor\u001b[39;00m res \u001b[39min\u001b[39;00m _socket\u001b[39m.\u001b[39;49mgetaddrinfo(host, port, family, \u001b[39mtype\u001b[39;49m, proto, flags):\n\u001b[0;32m    956\u001b[0m     af, socktype, proto, canonname, sa \u001b[39m=\u001b[39m res\n",
      "\u001b[1;31mgaierror\u001b[0m: [Errno 11001] getaddrinfo failed",
      "\nDuring handling of the above exception, another exception occurred:\n",
      "\u001b[1;31mNewConnectionError\u001b[0m                        Traceback (most recent call last)",
      "File \u001b[1;32m~\\AppData\\Roaming\\Python\\Python310\\site-packages\\urllib3\\connectionpool.py:703\u001b[0m, in \u001b[0;36mHTTPConnectionPool.urlopen\u001b[1;34m(self, method, url, body, headers, retries, redirect, assert_same_host, timeout, pool_timeout, release_conn, chunked, body_pos, **response_kw)\u001b[0m\n\u001b[0;32m    702\u001b[0m \u001b[39m# Make the request on the httplib connection object.\u001b[39;00m\n\u001b[1;32m--> 703\u001b[0m httplib_response \u001b[39m=\u001b[39m \u001b[39mself\u001b[39;49m\u001b[39m.\u001b[39;49m_make_request(\n\u001b[0;32m    704\u001b[0m     conn,\n\u001b[0;32m    705\u001b[0m     method,\n\u001b[0;32m    706\u001b[0m     url,\n\u001b[0;32m    707\u001b[0m     timeout\u001b[39m=\u001b[39;49mtimeout_obj,\n\u001b[0;32m    708\u001b[0m     body\u001b[39m=\u001b[39;49mbody,\n\u001b[0;32m    709\u001b[0m     headers\u001b[39m=\u001b[39;49mheaders,\n\u001b[0;32m    710\u001b[0m     chunked\u001b[39m=\u001b[39;49mchunked,\n\u001b[0;32m    711\u001b[0m )\n\u001b[0;32m    713\u001b[0m \u001b[39m# If we're going to release the connection in ``finally:``, then\u001b[39;00m\n\u001b[0;32m    714\u001b[0m \u001b[39m# the response doesn't need to know about the connection. Otherwise\u001b[39;00m\n\u001b[0;32m    715\u001b[0m \u001b[39m# it will also try to release it and we'll have a double-release\u001b[39;00m\n\u001b[0;32m    716\u001b[0m \u001b[39m# mess.\u001b[39;00m\n",
      "File \u001b[1;32m~\\AppData\\Roaming\\Python\\Python310\\site-packages\\urllib3\\connectionpool.py:386\u001b[0m, in \u001b[0;36mHTTPConnectionPool._make_request\u001b[1;34m(self, conn, method, url, timeout, chunked, **httplib_request_kw)\u001b[0m\n\u001b[0;32m    385\u001b[0m \u001b[39mtry\u001b[39;00m:\n\u001b[1;32m--> 386\u001b[0m     \u001b[39mself\u001b[39;49m\u001b[39m.\u001b[39;49m_validate_conn(conn)\n\u001b[0;32m    387\u001b[0m \u001b[39mexcept\u001b[39;00m (SocketTimeout, BaseSSLError) \u001b[39mas\u001b[39;00m e:\n\u001b[0;32m    388\u001b[0m     \u001b[39m# Py2 raises this as a BaseSSLError, Py3 raises it as socket timeout.\u001b[39;00m\n",
      "File \u001b[1;32m~\\AppData\\Roaming\\Python\\Python310\\site-packages\\urllib3\\connectionpool.py:1042\u001b[0m, in \u001b[0;36mHTTPSConnectionPool._validate_conn\u001b[1;34m(self, conn)\u001b[0m\n\u001b[0;32m   1041\u001b[0m \u001b[39mif\u001b[39;00m \u001b[39mnot\u001b[39;00m \u001b[39mgetattr\u001b[39m(conn, \u001b[39m\"\u001b[39m\u001b[39msock\u001b[39m\u001b[39m\"\u001b[39m, \u001b[39mNone\u001b[39;00m):  \u001b[39m# AppEngine might not have  `.sock`\u001b[39;00m\n\u001b[1;32m-> 1042\u001b[0m     conn\u001b[39m.\u001b[39;49mconnect()\n\u001b[0;32m   1044\u001b[0m \u001b[39mif\u001b[39;00m \u001b[39mnot\u001b[39;00m conn\u001b[39m.\u001b[39mis_verified:\n",
      "File \u001b[1;32m~\\AppData\\Roaming\\Python\\Python310\\site-packages\\urllib3\\connection.py:358\u001b[0m, in \u001b[0;36mHTTPSConnection.connect\u001b[1;34m(self)\u001b[0m\n\u001b[0;32m    356\u001b[0m \u001b[39mdef\u001b[39;00m \u001b[39mconnect\u001b[39m(\u001b[39mself\u001b[39m):\n\u001b[0;32m    357\u001b[0m     \u001b[39m# Add certificate verification\u001b[39;00m\n\u001b[1;32m--> 358\u001b[0m     \u001b[39mself\u001b[39m\u001b[39m.\u001b[39msock \u001b[39m=\u001b[39m conn \u001b[39m=\u001b[39m \u001b[39mself\u001b[39;49m\u001b[39m.\u001b[39;49m_new_conn()\n\u001b[0;32m    359\u001b[0m     hostname \u001b[39m=\u001b[39m \u001b[39mself\u001b[39m\u001b[39m.\u001b[39mhost\n",
      "File \u001b[1;32m~\\AppData\\Roaming\\Python\\Python310\\site-packages\\urllib3\\connection.py:186\u001b[0m, in \u001b[0;36mHTTPConnection._new_conn\u001b[1;34m(self)\u001b[0m\n\u001b[0;32m    185\u001b[0m \u001b[39mexcept\u001b[39;00m SocketError \u001b[39mas\u001b[39;00m e:\n\u001b[1;32m--> 186\u001b[0m     \u001b[39mraise\u001b[39;00m NewConnectionError(\n\u001b[0;32m    187\u001b[0m         \u001b[39mself\u001b[39m, \u001b[39m\"\u001b[39m\u001b[39mFailed to establish a new connection: \u001b[39m\u001b[39m%s\u001b[39;00m\u001b[39m\"\u001b[39m \u001b[39m%\u001b[39m e\n\u001b[0;32m    188\u001b[0m     )\n\u001b[0;32m    190\u001b[0m \u001b[39mreturn\u001b[39;00m conn\n",
      "\u001b[1;31mNewConnectionError\u001b[0m: <urllib3.connection.HTTPSConnection object at 0x000001878BDE9930>: Failed to establish a new connection: [Errno 11001] getaddrinfo failed",
      "\nDuring handling of the above exception, another exception occurred:\n",
      "\u001b[1;31mMaxRetryError\u001b[0m                             Traceback (most recent call last)",
      "File \u001b[1;32m~\\AppData\\Roaming\\Python\\Python310\\site-packages\\requests\\adapters.py:489\u001b[0m, in \u001b[0;36mHTTPAdapter.send\u001b[1;34m(self, request, stream, timeout, verify, cert, proxies)\u001b[0m\n\u001b[0;32m    488\u001b[0m \u001b[39mif\u001b[39;00m \u001b[39mnot\u001b[39;00m chunked:\n\u001b[1;32m--> 489\u001b[0m     resp \u001b[39m=\u001b[39m conn\u001b[39m.\u001b[39;49murlopen(\n\u001b[0;32m    490\u001b[0m         method\u001b[39m=\u001b[39;49mrequest\u001b[39m.\u001b[39;49mmethod,\n\u001b[0;32m    491\u001b[0m         url\u001b[39m=\u001b[39;49murl,\n\u001b[0;32m    492\u001b[0m         body\u001b[39m=\u001b[39;49mrequest\u001b[39m.\u001b[39;49mbody,\n\u001b[0;32m    493\u001b[0m         headers\u001b[39m=\u001b[39;49mrequest\u001b[39m.\u001b[39;49mheaders,\n\u001b[0;32m    494\u001b[0m         redirect\u001b[39m=\u001b[39;49m\u001b[39mFalse\u001b[39;49;00m,\n\u001b[0;32m    495\u001b[0m         assert_same_host\u001b[39m=\u001b[39;49m\u001b[39mFalse\u001b[39;49;00m,\n\u001b[0;32m    496\u001b[0m         preload_content\u001b[39m=\u001b[39;49m\u001b[39mFalse\u001b[39;49;00m,\n\u001b[0;32m    497\u001b[0m         decode_content\u001b[39m=\u001b[39;49m\u001b[39mFalse\u001b[39;49;00m,\n\u001b[0;32m    498\u001b[0m         retries\u001b[39m=\u001b[39;49m\u001b[39mself\u001b[39;49m\u001b[39m.\u001b[39;49mmax_retries,\n\u001b[0;32m    499\u001b[0m         timeout\u001b[39m=\u001b[39;49mtimeout,\n\u001b[0;32m    500\u001b[0m     )\n\u001b[0;32m    502\u001b[0m \u001b[39m# Send the request.\u001b[39;00m\n\u001b[0;32m    503\u001b[0m \u001b[39melse\u001b[39;00m:\n",
      "File \u001b[1;32m~\\AppData\\Roaming\\Python\\Python310\\site-packages\\urllib3\\connectionpool.py:787\u001b[0m, in \u001b[0;36mHTTPConnectionPool.urlopen\u001b[1;34m(self, method, url, body, headers, retries, redirect, assert_same_host, timeout, pool_timeout, release_conn, chunked, body_pos, **response_kw)\u001b[0m\n\u001b[0;32m    785\u001b[0m     e \u001b[39m=\u001b[39m ProtocolError(\u001b[39m\"\u001b[39m\u001b[39mConnection aborted.\u001b[39m\u001b[39m\"\u001b[39m, e)\n\u001b[1;32m--> 787\u001b[0m retries \u001b[39m=\u001b[39m retries\u001b[39m.\u001b[39;49mincrement(\n\u001b[0;32m    788\u001b[0m     method, url, error\u001b[39m=\u001b[39;49me, _pool\u001b[39m=\u001b[39;49m\u001b[39mself\u001b[39;49m, _stacktrace\u001b[39m=\u001b[39;49msys\u001b[39m.\u001b[39;49mexc_info()[\u001b[39m2\u001b[39;49m]\n\u001b[0;32m    789\u001b[0m )\n\u001b[0;32m    790\u001b[0m retries\u001b[39m.\u001b[39msleep()\n",
      "File \u001b[1;32m~\\AppData\\Roaming\\Python\\Python310\\site-packages\\urllib3\\util\\retry.py:592\u001b[0m, in \u001b[0;36mRetry.increment\u001b[1;34m(self, method, url, response, error, _pool, _stacktrace)\u001b[0m\n\u001b[0;32m    591\u001b[0m \u001b[39mif\u001b[39;00m new_retry\u001b[39m.\u001b[39mis_exhausted():\n\u001b[1;32m--> 592\u001b[0m     \u001b[39mraise\u001b[39;00m MaxRetryError(_pool, url, error \u001b[39mor\u001b[39;00m ResponseError(cause))\n\u001b[0;32m    594\u001b[0m log\u001b[39m.\u001b[39mdebug(\u001b[39m\"\u001b[39m\u001b[39mIncremented Retry for (url=\u001b[39m\u001b[39m'\u001b[39m\u001b[39m%s\u001b[39;00m\u001b[39m'\u001b[39m\u001b[39m): \u001b[39m\u001b[39m%r\u001b[39;00m\u001b[39m\"\u001b[39m, url, new_retry)\n",
      "\u001b[1;31mMaxRetryError\u001b[0m: HTTPSConnectionPool(host='accounts.spotify.com', port=443): Max retries exceeded with url: /api/token (Caused by NewConnectionError('<urllib3.connection.HTTPSConnection object at 0x000001878BDE9930>: Failed to establish a new connection: [Errno 11001] getaddrinfo failed'))",
      "\nDuring handling of the above exception, another exception occurred:\n",
      "\u001b[1;31mConnectionError\u001b[0m                           Traceback (most recent call last)",
      "Cell \u001b[1;32mIn [2], line 16\u001b[0m\n\u001b[0;32m     12\u001b[0m sp \u001b[39m=\u001b[39m spotipy\u001b[39m.\u001b[39mSpotify(auth_manager\u001b[39m=\u001b[39mSpotifyOAuth(\n\u001b[0;32m     13\u001b[0m     client_id\u001b[39m=\u001b[39mcid, client_secret\u001b[39m=\u001b[39msecret, redirect_uri\u001b[39m=\u001b[39m\u001b[39m\"\u001b[39m\u001b[39mhttp://localhost:9000\u001b[39m\u001b[39m\"\u001b[39m))\n\u001b[0;32m     15\u001b[0m \u001b[39m# sp = spotipy.Spotify(client_credentials_manager=client_credentials_manager, scope=scope)\u001b[39;00m\n\u001b[1;32m---> 16\u001b[0m sp\u001b[39m.\u001b[39;49muser(\u001b[39m'\u001b[39;49m\u001b[39mpratham\u001b[39;49m\u001b[39m'\u001b[39;49m)\n",
      "File \u001b[1;32m~\\AppData\\Roaming\\Python\\Python310\\site-packages\\spotipy\\client.py:603\u001b[0m, in \u001b[0;36mSpotify.user\u001b[1;34m(self, user)\u001b[0m\n\u001b[0;32m    597\u001b[0m \u001b[39mdef\u001b[39;00m \u001b[39muser\u001b[39m(\u001b[39mself\u001b[39m, user):\n\u001b[0;32m    598\u001b[0m     \u001b[39m\"\"\" Gets basic profile information about a Spotify User\u001b[39;00m\n\u001b[0;32m    599\u001b[0m \n\u001b[0;32m    600\u001b[0m \u001b[39m        Parameters:\u001b[39;00m\n\u001b[0;32m    601\u001b[0m \u001b[39m            - user - the id of the usr\u001b[39;00m\n\u001b[0;32m    602\u001b[0m \u001b[39m    \"\"\"\u001b[39;00m\n\u001b[1;32m--> 603\u001b[0m     \u001b[39mreturn\u001b[39;00m \u001b[39mself\u001b[39;49m\u001b[39m.\u001b[39;49m_get(\u001b[39m\"\u001b[39;49m\u001b[39musers/\u001b[39;49m\u001b[39m\"\u001b[39;49m \u001b[39m+\u001b[39;49m user)\n",
      "File \u001b[1;32m~\\AppData\\Roaming\\Python\\Python310\\site-packages\\spotipy\\client.py:297\u001b[0m, in \u001b[0;36mSpotify._get\u001b[1;34m(self, url, args, payload, **kwargs)\u001b[0m\n\u001b[0;32m    294\u001b[0m \u001b[39mif\u001b[39;00m args:\n\u001b[0;32m    295\u001b[0m     kwargs\u001b[39m.\u001b[39mupdate(args)\n\u001b[1;32m--> 297\u001b[0m \u001b[39mreturn\u001b[39;00m \u001b[39mself\u001b[39;49m\u001b[39m.\u001b[39;49m_internal_call(\u001b[39m\"\u001b[39;49m\u001b[39mGET\u001b[39;49m\u001b[39m\"\u001b[39;49m, url, payload, kwargs)\n",
      "File \u001b[1;32m~\\AppData\\Roaming\\Python\\Python310\\site-packages\\spotipy\\client.py:221\u001b[0m, in \u001b[0;36mSpotify._internal_call\u001b[1;34m(self, method, url, payload, params)\u001b[0m\n\u001b[0;32m    219\u001b[0m \u001b[39mif\u001b[39;00m \u001b[39mnot\u001b[39;00m url\u001b[39m.\u001b[39mstartswith(\u001b[39m\"\u001b[39m\u001b[39mhttp\u001b[39m\u001b[39m\"\u001b[39m):\n\u001b[0;32m    220\u001b[0m     url \u001b[39m=\u001b[39m \u001b[39mself\u001b[39m\u001b[39m.\u001b[39mprefix \u001b[39m+\u001b[39m url\n\u001b[1;32m--> 221\u001b[0m headers \u001b[39m=\u001b[39m \u001b[39mself\u001b[39;49m\u001b[39m.\u001b[39;49m_auth_headers()\n\u001b[0;32m    223\u001b[0m \u001b[39mif\u001b[39;00m \u001b[39m\"\u001b[39m\u001b[39mcontent_type\u001b[39m\u001b[39m\"\u001b[39m \u001b[39min\u001b[39;00m args[\u001b[39m\"\u001b[39m\u001b[39mparams\u001b[39m\u001b[39m\"\u001b[39m]:\n\u001b[0;32m    224\u001b[0m     headers[\u001b[39m\"\u001b[39m\u001b[39mContent-Type\u001b[39m\u001b[39m\"\u001b[39m] \u001b[39m=\u001b[39m args[\u001b[39m\"\u001b[39m\u001b[39mparams\u001b[39m\u001b[39m\"\u001b[39m][\u001b[39m\"\u001b[39m\u001b[39mcontent_type\u001b[39m\u001b[39m\"\u001b[39m]\n",
      "File \u001b[1;32m~\\AppData\\Roaming\\Python\\Python310\\site-packages\\spotipy\\client.py:212\u001b[0m, in \u001b[0;36mSpotify._auth_headers\u001b[1;34m(self)\u001b[0m\n\u001b[0;32m    210\u001b[0m     \u001b[39mreturn\u001b[39;00m {}\n\u001b[0;32m    211\u001b[0m \u001b[39mtry\u001b[39;00m:\n\u001b[1;32m--> 212\u001b[0m     token \u001b[39m=\u001b[39m \u001b[39mself\u001b[39;49m\u001b[39m.\u001b[39;49mauth_manager\u001b[39m.\u001b[39;49mget_access_token(as_dict\u001b[39m=\u001b[39;49m\u001b[39mFalse\u001b[39;49;00m)\n\u001b[0;32m    213\u001b[0m \u001b[39mexcept\u001b[39;00m \u001b[39mTypeError\u001b[39;00m:\n\u001b[0;32m    214\u001b[0m     token \u001b[39m=\u001b[39m \u001b[39mself\u001b[39m\u001b[39m.\u001b[39mauth_manager\u001b[39m.\u001b[39mget_access_token()\n",
      "File \u001b[1;32m~\\AppData\\Roaming\\Python\\Python310\\site-packages\\spotipy\\oauth2.py:525\u001b[0m, in \u001b[0;36mSpotifyOAuth.get_access_token\u001b[1;34m(self, code, as_dict, check_cache)\u001b[0m\n\u001b[0;32m    516\u001b[0m     warnings\u001b[39m.\u001b[39mwarn(\n\u001b[0;32m    517\u001b[0m         \u001b[39m\"\u001b[39m\u001b[39mYou\u001b[39m\u001b[39m'\u001b[39m\u001b[39mre using \u001b[39m\u001b[39m'\u001b[39m\u001b[39mas_dict = True\u001b[39m\u001b[39m'\u001b[39m\u001b[39m.\u001b[39m\u001b[39m\"\u001b[39m\n\u001b[0;32m    518\u001b[0m         \u001b[39m\"\u001b[39m\u001b[39mget_access_token will return the token string directly in future \u001b[39m\u001b[39m\"\u001b[39m\n\u001b[1;32m   (...)\u001b[0m\n\u001b[0;32m    522\u001b[0m         stacklevel\u001b[39m=\u001b[39m\u001b[39m2\u001b[39m,\n\u001b[0;32m    523\u001b[0m     )\n\u001b[0;32m    524\u001b[0m \u001b[39mif\u001b[39;00m check_cache:\n\u001b[1;32m--> 525\u001b[0m     token_info \u001b[39m=\u001b[39m \u001b[39mself\u001b[39;49m\u001b[39m.\u001b[39;49mvalidate_token(\u001b[39mself\u001b[39;49m\u001b[39m.\u001b[39;49mcache_handler\u001b[39m.\u001b[39;49mget_cached_token())\n\u001b[0;32m    526\u001b[0m     \u001b[39mif\u001b[39;00m token_info \u001b[39mis\u001b[39;00m \u001b[39mnot\u001b[39;00m \u001b[39mNone\u001b[39;00m:\n\u001b[0;32m    527\u001b[0m         \u001b[39mif\u001b[39;00m \u001b[39mself\u001b[39m\u001b[39m.\u001b[39mis_token_expired(token_info):\n",
      "File \u001b[1;32m~\\AppData\\Roaming\\Python\\Python310\\site-packages\\spotipy\\oauth2.py:380\u001b[0m, in \u001b[0;36mSpotifyOAuth.validate_token\u001b[1;34m(self, token_info)\u001b[0m\n\u001b[0;32m    377\u001b[0m     \u001b[39mreturn\u001b[39;00m \u001b[39mNone\u001b[39;00m\n\u001b[0;32m    379\u001b[0m \u001b[39mif\u001b[39;00m \u001b[39mself\u001b[39m\u001b[39m.\u001b[39mis_token_expired(token_info):\n\u001b[1;32m--> 380\u001b[0m     token_info \u001b[39m=\u001b[39m \u001b[39mself\u001b[39;49m\u001b[39m.\u001b[39;49mrefresh_access_token(\n\u001b[0;32m    381\u001b[0m         token_info[\u001b[39m\"\u001b[39;49m\u001b[39mrefresh_token\u001b[39;49m\u001b[39m\"\u001b[39;49m]\n\u001b[0;32m    382\u001b[0m     )\n\u001b[0;32m    384\u001b[0m \u001b[39mreturn\u001b[39;00m token_info\n",
      "File \u001b[1;32m~\\AppData\\Roaming\\Python\\Python310\\site-packages\\spotipy\\oauth2.py:581\u001b[0m, in \u001b[0;36mSpotifyOAuth.refresh_access_token\u001b[1;34m(self, refresh_token)\u001b[0m\n\u001b[0;32m    575\u001b[0m logger\u001b[39m.\u001b[39mdebug(\n\u001b[0;32m    576\u001b[0m     \u001b[39m\"\u001b[39m\u001b[39msending POST request to \u001b[39m\u001b[39m%s\u001b[39;00m\u001b[39m with Headers: \u001b[39m\u001b[39m%s\u001b[39;00m\u001b[39m and Body: \u001b[39m\u001b[39m%r\u001b[39;00m\u001b[39m\"\u001b[39m,\n\u001b[0;32m    577\u001b[0m     \u001b[39mself\u001b[39m\u001b[39m.\u001b[39mOAUTH_TOKEN_URL, headers, payload\n\u001b[0;32m    578\u001b[0m )\n\u001b[0;32m    580\u001b[0m \u001b[39mtry\u001b[39;00m:\n\u001b[1;32m--> 581\u001b[0m     response \u001b[39m=\u001b[39m \u001b[39mself\u001b[39;49m\u001b[39m.\u001b[39;49m_session\u001b[39m.\u001b[39;49mpost(\n\u001b[0;32m    582\u001b[0m         \u001b[39mself\u001b[39;49m\u001b[39m.\u001b[39;49mOAUTH_TOKEN_URL,\n\u001b[0;32m    583\u001b[0m         data\u001b[39m=\u001b[39;49mpayload,\n\u001b[0;32m    584\u001b[0m         headers\u001b[39m=\u001b[39;49mheaders,\n\u001b[0;32m    585\u001b[0m         proxies\u001b[39m=\u001b[39;49m\u001b[39mself\u001b[39;49m\u001b[39m.\u001b[39;49mproxies,\n\u001b[0;32m    586\u001b[0m         timeout\u001b[39m=\u001b[39;49m\u001b[39mself\u001b[39;49m\u001b[39m.\u001b[39;49mrequests_timeout,\n\u001b[0;32m    587\u001b[0m     )\n\u001b[0;32m    588\u001b[0m     response\u001b[39m.\u001b[39mraise_for_status()\n\u001b[0;32m    589\u001b[0m     token_info \u001b[39m=\u001b[39m response\u001b[39m.\u001b[39mjson()\n",
      "File \u001b[1;32m~\\AppData\\Roaming\\Python\\Python310\\site-packages\\requests\\sessions.py:635\u001b[0m, in \u001b[0;36mSession.post\u001b[1;34m(self, url, data, json, **kwargs)\u001b[0m\n\u001b[0;32m    624\u001b[0m \u001b[39mdef\u001b[39;00m \u001b[39mpost\u001b[39m(\u001b[39mself\u001b[39m, url, data\u001b[39m=\u001b[39m\u001b[39mNone\u001b[39;00m, json\u001b[39m=\u001b[39m\u001b[39mNone\u001b[39;00m, \u001b[39m*\u001b[39m\u001b[39m*\u001b[39mkwargs):\n\u001b[0;32m    625\u001b[0m     \u001b[39mr\u001b[39m\u001b[39m\"\"\"Sends a POST request. Returns :class:`Response` object.\u001b[39;00m\n\u001b[0;32m    626\u001b[0m \n\u001b[0;32m    627\u001b[0m \u001b[39m    :param url: URL for the new :class:`Request` object.\u001b[39;00m\n\u001b[1;32m   (...)\u001b[0m\n\u001b[0;32m    632\u001b[0m \u001b[39m    :rtype: requests.Response\u001b[39;00m\n\u001b[0;32m    633\u001b[0m \u001b[39m    \"\"\"\u001b[39;00m\n\u001b[1;32m--> 635\u001b[0m     \u001b[39mreturn\u001b[39;00m \u001b[39mself\u001b[39m\u001b[39m.\u001b[39mrequest(\u001b[39m\"\u001b[39m\u001b[39mPOST\u001b[39m\u001b[39m\"\u001b[39m, url, data\u001b[39m=\u001b[39mdata, json\u001b[39m=\u001b[39mjson, \u001b[39m*\u001b[39m\u001b[39m*\u001b[39mkwargs)\n",
      "File \u001b[1;32m~\\AppData\\Roaming\\Python\\Python310\\site-packages\\requests\\sessions.py:587\u001b[0m, in \u001b[0;36mSession.request\u001b[1;34m(self, method, url, params, data, headers, cookies, files, auth, timeout, allow_redirects, proxies, hooks, stream, verify, cert, json)\u001b[0m\n\u001b[0;32m    582\u001b[0m send_kwargs \u001b[39m=\u001b[39m {\n\u001b[0;32m    583\u001b[0m     \u001b[39m\"\u001b[39m\u001b[39mtimeout\u001b[39m\u001b[39m\"\u001b[39m: timeout,\n\u001b[0;32m    584\u001b[0m     \u001b[39m\"\u001b[39m\u001b[39mallow_redirects\u001b[39m\u001b[39m\"\u001b[39m: allow_redirects,\n\u001b[0;32m    585\u001b[0m }\n\u001b[0;32m    586\u001b[0m send_kwargs\u001b[39m.\u001b[39mupdate(settings)\n\u001b[1;32m--> 587\u001b[0m resp \u001b[39m=\u001b[39m \u001b[39mself\u001b[39m\u001b[39m.\u001b[39msend(prep, \u001b[39m*\u001b[39m\u001b[39m*\u001b[39msend_kwargs)\n\u001b[0;32m    589\u001b[0m \u001b[39mreturn\u001b[39;00m resp\n",
      "File \u001b[1;32m~\\AppData\\Roaming\\Python\\Python310\\site-packages\\requests\\sessions.py:701\u001b[0m, in \u001b[0;36mSession.send\u001b[1;34m(self, request, **kwargs)\u001b[0m\n\u001b[0;32m    698\u001b[0m start \u001b[39m=\u001b[39m preferred_clock()\n\u001b[0;32m    700\u001b[0m \u001b[39m# Send the request\u001b[39;00m\n\u001b[1;32m--> 701\u001b[0m r \u001b[39m=\u001b[39m adapter\u001b[39m.\u001b[39msend(request, \u001b[39m*\u001b[39m\u001b[39m*\u001b[39mkwargs)\n\u001b[0;32m    703\u001b[0m \u001b[39m# Total elapsed time of the request (approximately)\u001b[39;00m\n\u001b[0;32m    704\u001b[0m elapsed \u001b[39m=\u001b[39m preferred_clock() \u001b[39m-\u001b[39m start\n",
      "File \u001b[1;32m~\\AppData\\Roaming\\Python\\Python310\\site-packages\\requests\\adapters.py:565\u001b[0m, in \u001b[0;36mHTTPAdapter.send\u001b[1;34m(self, request, stream, timeout, verify, cert, proxies)\u001b[0m\n\u001b[0;32m    561\u001b[0m     \u001b[39mif\u001b[39;00m \u001b[39misinstance\u001b[39m(e\u001b[39m.\u001b[39mreason, _SSLError):\n\u001b[0;32m    562\u001b[0m         \u001b[39m# This branch is for urllib3 v1.22 and later.\u001b[39;00m\n\u001b[0;32m    563\u001b[0m         \u001b[39mraise\u001b[39;00m SSLError(e, request\u001b[39m=\u001b[39mrequest)\n\u001b[1;32m--> 565\u001b[0m     \u001b[39mraise\u001b[39;00m \u001b[39mConnectionError\u001b[39;00m(e, request\u001b[39m=\u001b[39mrequest)\n\u001b[0;32m    567\u001b[0m \u001b[39mexcept\u001b[39;00m ClosedPoolError \u001b[39mas\u001b[39;00m e:\n\u001b[0;32m    568\u001b[0m     \u001b[39mraise\u001b[39;00m \u001b[39mConnectionError\u001b[39;00m(e, request\u001b[39m=\u001b[39mrequest)\n",
      "\u001b[1;31mConnectionError\u001b[0m: HTTPSConnectionPool(host='accounts.spotify.com', port=443): Max retries exceeded with url: /api/token (Caused by NewConnectionError('<urllib3.connection.HTTPSConnection object at 0x000001878BDE9930>: Failed to establish a new connection: [Errno 11001] getaddrinfo failed'))"
     ]
    }
   ],
   "source": [
    "from spotipy.oauth2 import SpotifyClientCredentials\n",
    "import spotipy\n",
    "from spotipy.oauth2 import SpotifyOAuth\n",
    "\n",
    "cid = '5d9494efb79d4abaabc13e9778431f49'\n",
    "secret = '4d23d535c7fe4e9cadd241ddf58df15e'\n",
    "scope = \"user-read-currently-playing\"\n",
    "\n",
    "client_credentials_manager = SpotifyClientCredentials(\n",
    "    client_id=cid, client_secret=secret)\n",
    "\n",
    "sp = spotipy.Spotify(auth_manager=SpotifyOAuth(\n",
    "    client_id=cid, client_secret=secret, redirect_uri=\"http://localhost:9000\"))\n",
    "\n",
    "# sp = spotipy.Spotify(client_credentials_manager=client_credentials_manager, scope=scope)\n",
    "sp.user('pratham')\n"
   ]
  },
  {
   "cell_type": "code",
   "execution_count": 3,
   "metadata": {},
   "outputs": [],
   "source": [
    "FeatureDF = pd.read_csv('./data/features/features.csv')\n",
    "TracksDF = pd.read_csv('./data/tracks/tracks.csv')"
   ]
  },
  {
   "cell_type": "code",
   "execution_count": 4,
   "metadata": {},
   "outputs": [
    {
     "data": {
      "text/html": [
       "<div>\n",
       "<style scoped>\n",
       "    .dataframe tbody tr th:only-of-type {\n",
       "        vertical-align: middle;\n",
       "    }\n",
       "\n",
       "    .dataframe tbody tr th {\n",
       "        vertical-align: top;\n",
       "    }\n",
       "\n",
       "    .dataframe thead th {\n",
       "        text-align: right;\n",
       "    }\n",
       "</style>\n",
       "<table border=\"1\" class=\"dataframe\">\n",
       "  <thead>\n",
       "    <tr style=\"text-align: right;\">\n",
       "      <th></th>\n",
       "      <th>playlist_uri</th>\n",
       "      <th>album</th>\n",
       "      <th>album_uri</th>\n",
       "      <th>artist</th>\n",
       "      <th>artist_uri</th>\n",
       "      <th>disc_number</th>\n",
       "      <th>duration_ms</th>\n",
       "      <th>name</th>\n",
       "      <th>popularity</th>\n",
       "      <th>explicit</th>\n",
       "      <th>uri</th>\n",
       "      <th>link</th>\n",
       "    </tr>\n",
       "  </thead>\n",
       "  <tbody>\n",
       "    <tr>\n",
       "      <th>0</th>\n",
       "      <td>spotify:playlist:7gKVccRxsOD0gKdUv63HoB</td>\n",
       "      <td>The Way That Lovers Do</td>\n",
       "      <td>spotify:album:4WLh56ZjwINYBNhaxLvEhA</td>\n",
       "      <td>Prateek Kuhad</td>\n",
       "      <td>spotify:artist:0tC995Rfn9k2l7nqgCZsV7</td>\n",
       "      <td>1</td>\n",
       "      <td>153693</td>\n",
       "      <td>All I Need</td>\n",
       "      <td>55</td>\n",
       "      <td>False</td>\n",
       "      <td>spotify:track:47hXMyQDGW8sA1NGqmFL7h</td>\n",
       "      <td>https://api.spotify.com/v1/tracks/47hXMyQDGW8s...</td>\n",
       "    </tr>\n",
       "    <tr>\n",
       "      <th>1</th>\n",
       "      <td>spotify:playlist:7gKVccRxsOD0gKdUv63HoB</td>\n",
       "      <td>The Way That Lovers Do</td>\n",
       "      <td>spotify:album:4WLh56ZjwINYBNhaxLvEhA</td>\n",
       "      <td>Prateek Kuhad</td>\n",
       "      <td>spotify:artist:0tC995Rfn9k2l7nqgCZsV7</td>\n",
       "      <td>1</td>\n",
       "      <td>204373</td>\n",
       "      <td>Hollow</td>\n",
       "      <td>40</td>\n",
       "      <td>False</td>\n",
       "      <td>spotify:track:1y7FoHfVtbZV6mONGJgU7j</td>\n",
       "      <td>https://api.spotify.com/v1/tracks/1y7FoHfVtbZV...</td>\n",
       "    </tr>\n",
       "    <tr>\n",
       "      <th>2</th>\n",
       "      <td>spotify:playlist:7gKVccRxsOD0gKdUv63HoB</td>\n",
       "      <td>The Way That Lovers Do</td>\n",
       "      <td>spotify:album:4WLh56ZjwINYBNhaxLvEhA</td>\n",
       "      <td>Prateek Kuhad</td>\n",
       "      <td>spotify:artist:0tC995Rfn9k2l7nqgCZsV7</td>\n",
       "      <td>1</td>\n",
       "      <td>193733</td>\n",
       "      <td>Favorite Peeps</td>\n",
       "      <td>44</td>\n",
       "      <td>False</td>\n",
       "      <td>spotify:track:0SHa9XHwYYB1UUmgbgHuhQ</td>\n",
       "      <td>https://api.spotify.com/v1/tracks/0SHa9XHwYYB1...</td>\n",
       "    </tr>\n",
       "    <tr>\n",
       "      <th>3</th>\n",
       "      <td>spotify:playlist:7gKVccRxsOD0gKdUv63HoB</td>\n",
       "      <td>The Way That Lovers Do</td>\n",
       "      <td>spotify:album:4WLh56ZjwINYBNhaxLvEhA</td>\n",
       "      <td>Prateek Kuhad</td>\n",
       "      <td>spotify:artist:0tC995Rfn9k2l7nqgCZsV7</td>\n",
       "      <td>1</td>\n",
       "      <td>163653</td>\n",
       "      <td>Co2</td>\n",
       "      <td>53</td>\n",
       "      <td>False</td>\n",
       "      <td>spotify:track:3hB9lDLyAClYVZivMMl20N</td>\n",
       "      <td>https://api.spotify.com/v1/tracks/3hB9lDLyAClY...</td>\n",
       "    </tr>\n",
       "    <tr>\n",
       "      <th>4</th>\n",
       "      <td>spotify:playlist:7gKVccRxsOD0gKdUv63HoB</td>\n",
       "      <td>The Way That Lovers Do</td>\n",
       "      <td>spotify:album:4WLh56ZjwINYBNhaxLvEhA</td>\n",
       "      <td>Prateek Kuhad</td>\n",
       "      <td>spotify:artist:0tC995Rfn9k2l7nqgCZsV7</td>\n",
       "      <td>1</td>\n",
       "      <td>184413</td>\n",
       "      <td>Face</td>\n",
       "      <td>39</td>\n",
       "      <td>False</td>\n",
       "      <td>spotify:track:0HuS5vFQd06cXV54I0twkV</td>\n",
       "      <td>https://api.spotify.com/v1/tracks/0HuS5vFQd06c...</td>\n",
       "    </tr>\n",
       "  </tbody>\n",
       "</table>\n",
       "</div>"
      ],
      "text/plain": [
       "                              playlist_uri                   album  \\\n",
       "0  spotify:playlist:7gKVccRxsOD0gKdUv63HoB  The Way That Lovers Do   \n",
       "1  spotify:playlist:7gKVccRxsOD0gKdUv63HoB  The Way That Lovers Do   \n",
       "2  spotify:playlist:7gKVccRxsOD0gKdUv63HoB  The Way That Lovers Do   \n",
       "3  spotify:playlist:7gKVccRxsOD0gKdUv63HoB  The Way That Lovers Do   \n",
       "4  spotify:playlist:7gKVccRxsOD0gKdUv63HoB  The Way That Lovers Do   \n",
       "\n",
       "                              album_uri         artist  \\\n",
       "0  spotify:album:4WLh56ZjwINYBNhaxLvEhA  Prateek Kuhad   \n",
       "1  spotify:album:4WLh56ZjwINYBNhaxLvEhA  Prateek Kuhad   \n",
       "2  spotify:album:4WLh56ZjwINYBNhaxLvEhA  Prateek Kuhad   \n",
       "3  spotify:album:4WLh56ZjwINYBNhaxLvEhA  Prateek Kuhad   \n",
       "4  spotify:album:4WLh56ZjwINYBNhaxLvEhA  Prateek Kuhad   \n",
       "\n",
       "                              artist_uri  disc_number  duration_ms  \\\n",
       "0  spotify:artist:0tC995Rfn9k2l7nqgCZsV7            1       153693   \n",
       "1  spotify:artist:0tC995Rfn9k2l7nqgCZsV7            1       204373   \n",
       "2  spotify:artist:0tC995Rfn9k2l7nqgCZsV7            1       193733   \n",
       "3  spotify:artist:0tC995Rfn9k2l7nqgCZsV7            1       163653   \n",
       "4  spotify:artist:0tC995Rfn9k2l7nqgCZsV7            1       184413   \n",
       "\n",
       "             name  popularity  explicit                                   uri  \\\n",
       "0      All I Need          55     False  spotify:track:47hXMyQDGW8sA1NGqmFL7h   \n",
       "1          Hollow          40     False  spotify:track:1y7FoHfVtbZV6mONGJgU7j   \n",
       "2  Favorite Peeps          44     False  spotify:track:0SHa9XHwYYB1UUmgbgHuhQ   \n",
       "3             Co2          53     False  spotify:track:3hB9lDLyAClYVZivMMl20N   \n",
       "4            Face          39     False  spotify:track:0HuS5vFQd06cXV54I0twkV   \n",
       "\n",
       "                                                link  \n",
       "0  https://api.spotify.com/v1/tracks/47hXMyQDGW8s...  \n",
       "1  https://api.spotify.com/v1/tracks/1y7FoHfVtbZV...  \n",
       "2  https://api.spotify.com/v1/tracks/0SHa9XHwYYB1...  \n",
       "3  https://api.spotify.com/v1/tracks/3hB9lDLyAClY...  \n",
       "4  https://api.spotify.com/v1/tracks/0HuS5vFQd06c...  "
      ]
     },
     "execution_count": 4,
     "metadata": {},
     "output_type": "execute_result"
    }
   ],
   "source": [
    "TracksDF.head()"
   ]
  },
  {
   "cell_type": "code",
   "execution_count": 5,
   "metadata": {},
   "outputs": [
    {
     "data": {
      "text/html": [
       "<div>\n",
       "<style scoped>\n",
       "    .dataframe tbody tr th:only-of-type {\n",
       "        vertical-align: middle;\n",
       "    }\n",
       "\n",
       "    .dataframe tbody tr th {\n",
       "        vertical-align: top;\n",
       "    }\n",
       "\n",
       "    .dataframe thead th {\n",
       "        text-align: right;\n",
       "    }\n",
       "</style>\n",
       "<table border=\"1\" class=\"dataframe\">\n",
       "  <thead>\n",
       "    <tr style=\"text-align: right;\">\n",
       "      <th></th>\n",
       "      <th>playlist_uri</th>\n",
       "      <th>duration_ms</th>\n",
       "      <th>key</th>\n",
       "      <th>mode</th>\n",
       "      <th>time_signature</th>\n",
       "      <th>acousticness</th>\n",
       "      <th>danceability</th>\n",
       "      <th>energy</th>\n",
       "      <th>instrumentalness</th>\n",
       "      <th>liveness</th>\n",
       "      <th>loudness</th>\n",
       "      <th>speechiness</th>\n",
       "      <th>valence</th>\n",
       "      <th>tempo</th>\n",
       "      <th>uri</th>\n",
       "    </tr>\n",
       "  </thead>\n",
       "  <tbody>\n",
       "    <tr>\n",
       "      <th>0</th>\n",
       "      <td>spotify:playlist:7gKVccRxsOD0gKdUv63HoB</td>\n",
       "      <td>153693</td>\n",
       "      <td>6</td>\n",
       "      <td>1</td>\n",
       "      <td>4</td>\n",
       "      <td>0.771</td>\n",
       "      <td>0.786</td>\n",
       "      <td>0.356</td>\n",
       "      <td>0.6940</td>\n",
       "      <td>0.100</td>\n",
       "      <td>-11.432</td>\n",
       "      <td>0.0462</td>\n",
       "      <td>0.5190</td>\n",
       "      <td>116.023</td>\n",
       "      <td>spotify:track:47hXMyQDGW8sA1NGqmFL7h</td>\n",
       "    </tr>\n",
       "    <tr>\n",
       "      <th>1</th>\n",
       "      <td>spotify:playlist:7gKVccRxsOD0gKdUv63HoB</td>\n",
       "      <td>204373</td>\n",
       "      <td>11</td>\n",
       "      <td>1</td>\n",
       "      <td>4</td>\n",
       "      <td>0.845</td>\n",
       "      <td>0.348</td>\n",
       "      <td>0.310</td>\n",
       "      <td>0.0569</td>\n",
       "      <td>0.111</td>\n",
       "      <td>-13.122</td>\n",
       "      <td>0.0413</td>\n",
       "      <td>0.0474</td>\n",
       "      <td>114.812</td>\n",
       "      <td>spotify:track:1y7FoHfVtbZV6mONGJgU7j</td>\n",
       "    </tr>\n",
       "    <tr>\n",
       "      <th>2</th>\n",
       "      <td>spotify:playlist:7gKVccRxsOD0gKdUv63HoB</td>\n",
       "      <td>193733</td>\n",
       "      <td>7</td>\n",
       "      <td>1</td>\n",
       "      <td>4</td>\n",
       "      <td>0.767</td>\n",
       "      <td>0.611</td>\n",
       "      <td>0.525</td>\n",
       "      <td>0.7990</td>\n",
       "      <td>0.112</td>\n",
       "      <td>-9.683</td>\n",
       "      <td>0.0354</td>\n",
       "      <td>0.2990</td>\n",
       "      <td>113.946</td>\n",
       "      <td>spotify:track:0SHa9XHwYYB1UUmgbgHuhQ</td>\n",
       "    </tr>\n",
       "    <tr>\n",
       "      <th>3</th>\n",
       "      <td>spotify:playlist:7gKVccRxsOD0gKdUv63HoB</td>\n",
       "      <td>163653</td>\n",
       "      <td>1</td>\n",
       "      <td>1</td>\n",
       "      <td>4</td>\n",
       "      <td>0.663</td>\n",
       "      <td>0.533</td>\n",
       "      <td>0.678</td>\n",
       "      <td>0.0000</td>\n",
       "      <td>0.145</td>\n",
       "      <td>-5.244</td>\n",
       "      <td>0.0256</td>\n",
       "      <td>0.6830</td>\n",
       "      <td>80.960</td>\n",
       "      <td>spotify:track:3hB9lDLyAClYVZivMMl20N</td>\n",
       "    </tr>\n",
       "    <tr>\n",
       "      <th>4</th>\n",
       "      <td>spotify:playlist:7gKVccRxsOD0gKdUv63HoB</td>\n",
       "      <td>184413</td>\n",
       "      <td>7</td>\n",
       "      <td>1</td>\n",
       "      <td>4</td>\n",
       "      <td>0.920</td>\n",
       "      <td>0.481</td>\n",
       "      <td>0.669</td>\n",
       "      <td>0.0219</td>\n",
       "      <td>0.139</td>\n",
       "      <td>-13.329</td>\n",
       "      <td>0.4550</td>\n",
       "      <td>0.3510</td>\n",
       "      <td>128.219</td>\n",
       "      <td>spotify:track:0HuS5vFQd06cXV54I0twkV</td>\n",
       "    </tr>\n",
       "  </tbody>\n",
       "</table>\n",
       "</div>"
      ],
      "text/plain": [
       "                              playlist_uri  duration_ms  key  mode  \\\n",
       "0  spotify:playlist:7gKVccRxsOD0gKdUv63HoB       153693    6     1   \n",
       "1  spotify:playlist:7gKVccRxsOD0gKdUv63HoB       204373   11     1   \n",
       "2  spotify:playlist:7gKVccRxsOD0gKdUv63HoB       193733    7     1   \n",
       "3  spotify:playlist:7gKVccRxsOD0gKdUv63HoB       163653    1     1   \n",
       "4  spotify:playlist:7gKVccRxsOD0gKdUv63HoB       184413    7     1   \n",
       "\n",
       "   time_signature  acousticness  danceability  energy  instrumentalness  \\\n",
       "0               4         0.771         0.786   0.356            0.6940   \n",
       "1               4         0.845         0.348   0.310            0.0569   \n",
       "2               4         0.767         0.611   0.525            0.7990   \n",
       "3               4         0.663         0.533   0.678            0.0000   \n",
       "4               4         0.920         0.481   0.669            0.0219   \n",
       "\n",
       "   liveness  loudness  speechiness  valence    tempo  \\\n",
       "0     0.100   -11.432       0.0462   0.5190  116.023   \n",
       "1     0.111   -13.122       0.0413   0.0474  114.812   \n",
       "2     0.112    -9.683       0.0354   0.2990  113.946   \n",
       "3     0.145    -5.244       0.0256   0.6830   80.960   \n",
       "4     0.139   -13.329       0.4550   0.3510  128.219   \n",
       "\n",
       "                                    uri  \n",
       "0  spotify:track:47hXMyQDGW8sA1NGqmFL7h  \n",
       "1  spotify:track:1y7FoHfVtbZV6mONGJgU7j  \n",
       "2  spotify:track:0SHa9XHwYYB1UUmgbgHuhQ  \n",
       "3  spotify:track:3hB9lDLyAClYVZivMMl20N  \n",
       "4  spotify:track:0HuS5vFQd06cXV54I0twkV  "
      ]
     },
     "execution_count": 5,
     "metadata": {},
     "output_type": "execute_result"
    }
   ],
   "source": [
    "FeatureDF.head()"
   ]
  },
  {
   "cell_type": "code",
   "execution_count": 6,
   "metadata": {},
   "outputs": [],
   "source": [
    "categories = ['danceability',\n",
    "              'energy',\n",
    "              'speechiness',\n",
    "              'acousticness',\n",
    "              'liveness',\n",
    "              'valence']\n"
   ]
  },
  {
   "cell_type": "code",
   "execution_count": 16,
   "metadata": {},
   "outputs": [
    {
     "data": {
      "text/html": [
       "<div>\n",
       "<style scoped>\n",
       "    .dataframe tbody tr th:only-of-type {\n",
       "        vertical-align: middle;\n",
       "    }\n",
       "\n",
       "    .dataframe tbody tr th {\n",
       "        vertical-align: top;\n",
       "    }\n",
       "\n",
       "    .dataframe thead th {\n",
       "        text-align: right;\n",
       "    }\n",
       "</style>\n",
       "<table border=\"1\" class=\"dataframe\">\n",
       "  <thead>\n",
       "    <tr style=\"text-align: right;\">\n",
       "      <th></th>\n",
       "      <th>playlist_uri</th>\n",
       "      <th>duration_ms</th>\n",
       "      <th>key</th>\n",
       "      <th>mode</th>\n",
       "      <th>time_signature</th>\n",
       "      <th>acousticness</th>\n",
       "      <th>danceability</th>\n",
       "      <th>energy</th>\n",
       "      <th>instrumentalness</th>\n",
       "      <th>liveness</th>\n",
       "      <th>loudness</th>\n",
       "      <th>speechiness</th>\n",
       "      <th>valence</th>\n",
       "      <th>tempo</th>\n",
       "      <th>uri</th>\n",
       "    </tr>\n",
       "  </thead>\n",
       "  <tbody>\n",
       "    <tr>\n",
       "      <th>0</th>\n",
       "      <td>spotify:playlist:7gKVccRxsOD0gKdUv63HoB</td>\n",
       "      <td>153693</td>\n",
       "      <td>6</td>\n",
       "      <td>1</td>\n",
       "      <td>4</td>\n",
       "      <td>0.7710</td>\n",
       "      <td>0.786</td>\n",
       "      <td>0.3560</td>\n",
       "      <td>0.694000</td>\n",
       "      <td>0.1000</td>\n",
       "      <td>-11.432</td>\n",
       "      <td>0.0462</td>\n",
       "      <td>0.5190</td>\n",
       "      <td>116.023</td>\n",
       "      <td>spotify:track:47hXMyQDGW8sA1NGqmFL7h</td>\n",
       "    </tr>\n",
       "    <tr>\n",
       "      <th>1</th>\n",
       "      <td>spotify:playlist:7gKVccRxsOD0gKdUv63HoB</td>\n",
       "      <td>204373</td>\n",
       "      <td>11</td>\n",
       "      <td>1</td>\n",
       "      <td>4</td>\n",
       "      <td>0.8450</td>\n",
       "      <td>0.348</td>\n",
       "      <td>0.3100</td>\n",
       "      <td>0.056900</td>\n",
       "      <td>0.1110</td>\n",
       "      <td>-13.122</td>\n",
       "      <td>0.0413</td>\n",
       "      <td>0.0474</td>\n",
       "      <td>114.812</td>\n",
       "      <td>spotify:track:1y7FoHfVtbZV6mONGJgU7j</td>\n",
       "    </tr>\n",
       "    <tr>\n",
       "      <th>2</th>\n",
       "      <td>spotify:playlist:7gKVccRxsOD0gKdUv63HoB</td>\n",
       "      <td>193733</td>\n",
       "      <td>7</td>\n",
       "      <td>1</td>\n",
       "      <td>4</td>\n",
       "      <td>0.7670</td>\n",
       "      <td>0.611</td>\n",
       "      <td>0.5250</td>\n",
       "      <td>0.799000</td>\n",
       "      <td>0.1120</td>\n",
       "      <td>-9.683</td>\n",
       "      <td>0.0354</td>\n",
       "      <td>0.2990</td>\n",
       "      <td>113.946</td>\n",
       "      <td>spotify:track:0SHa9XHwYYB1UUmgbgHuhQ</td>\n",
       "    </tr>\n",
       "    <tr>\n",
       "      <th>3</th>\n",
       "      <td>spotify:playlist:7gKVccRxsOD0gKdUv63HoB</td>\n",
       "      <td>163653</td>\n",
       "      <td>1</td>\n",
       "      <td>1</td>\n",
       "      <td>4</td>\n",
       "      <td>0.6630</td>\n",
       "      <td>0.533</td>\n",
       "      <td>0.6780</td>\n",
       "      <td>0.000000</td>\n",
       "      <td>0.1450</td>\n",
       "      <td>-5.244</td>\n",
       "      <td>0.0256</td>\n",
       "      <td>0.6830</td>\n",
       "      <td>80.960</td>\n",
       "      <td>spotify:track:3hB9lDLyAClYVZivMMl20N</td>\n",
       "    </tr>\n",
       "    <tr>\n",
       "      <th>4</th>\n",
       "      <td>spotify:playlist:7gKVccRxsOD0gKdUv63HoB</td>\n",
       "      <td>184413</td>\n",
       "      <td>7</td>\n",
       "      <td>1</td>\n",
       "      <td>4</td>\n",
       "      <td>0.9200</td>\n",
       "      <td>0.481</td>\n",
       "      <td>0.6690</td>\n",
       "      <td>0.021900</td>\n",
       "      <td>0.1390</td>\n",
       "      <td>-13.329</td>\n",
       "      <td>0.4550</td>\n",
       "      <td>0.3510</td>\n",
       "      <td>128.219</td>\n",
       "      <td>spotify:track:0HuS5vFQd06cXV54I0twkV</td>\n",
       "    </tr>\n",
       "    <tr>\n",
       "      <th>5</th>\n",
       "      <td>spotify:playlist:7gKVccRxsOD0gKdUv63HoB</td>\n",
       "      <td>180013</td>\n",
       "      <td>0</td>\n",
       "      <td>1</td>\n",
       "      <td>4</td>\n",
       "      <td>0.8380</td>\n",
       "      <td>0.360</td>\n",
       "      <td>0.2470</td>\n",
       "      <td>0.004540</td>\n",
       "      <td>0.1040</td>\n",
       "      <td>-9.415</td>\n",
       "      <td>0.0396</td>\n",
       "      <td>0.2790</td>\n",
       "      <td>77.225</td>\n",
       "      <td>spotify:track:3XWRc74od1pT7MUkGiJmoW</td>\n",
       "    </tr>\n",
       "    <tr>\n",
       "      <th>6</th>\n",
       "      <td>spotify:playlist:7gKVccRxsOD0gKdUv63HoB</td>\n",
       "      <td>167587</td>\n",
       "      <td>5</td>\n",
       "      <td>1</td>\n",
       "      <td>4</td>\n",
       "      <td>0.7680</td>\n",
       "      <td>0.358</td>\n",
       "      <td>0.5800</td>\n",
       "      <td>0.005800</td>\n",
       "      <td>0.1270</td>\n",
       "      <td>-9.924</td>\n",
       "      <td>0.0450</td>\n",
       "      <td>0.3520</td>\n",
       "      <td>98.853</td>\n",
       "      <td>spotify:track:1kJvdhrr9MHOZ1e1PhTXTG</td>\n",
       "    </tr>\n",
       "    <tr>\n",
       "      <th>7</th>\n",
       "      <td>spotify:playlist:7gKVccRxsOD0gKdUv63HoB</td>\n",
       "      <td>219907</td>\n",
       "      <td>5</td>\n",
       "      <td>0</td>\n",
       "      <td>4</td>\n",
       "      <td>0.7330</td>\n",
       "      <td>0.693</td>\n",
       "      <td>0.4590</td>\n",
       "      <td>0.059300</td>\n",
       "      <td>0.1200</td>\n",
       "      <td>-12.451</td>\n",
       "      <td>0.0407</td>\n",
       "      <td>0.3500</td>\n",
       "      <td>81.024</td>\n",
       "      <td>spotify:track:29YXX6TCgc7d5jz3BYF7Gc</td>\n",
       "    </tr>\n",
       "    <tr>\n",
       "      <th>8</th>\n",
       "      <td>spotify:playlist:7gKVccRxsOD0gKdUv63HoB</td>\n",
       "      <td>187733</td>\n",
       "      <td>0</td>\n",
       "      <td>1</td>\n",
       "      <td>4</td>\n",
       "      <td>0.6620</td>\n",
       "      <td>0.661</td>\n",
       "      <td>0.4810</td>\n",
       "      <td>0.079100</td>\n",
       "      <td>0.0789</td>\n",
       "      <td>-10.962</td>\n",
       "      <td>0.0294</td>\n",
       "      <td>0.1540</td>\n",
       "      <td>119.974</td>\n",
       "      <td>spotify:track:7pgIbZ3tWdXLUAlofe3r2i</td>\n",
       "    </tr>\n",
       "    <tr>\n",
       "      <th>9</th>\n",
       "      <td>spotify:playlist:7gKVccRxsOD0gKdUv63HoB</td>\n",
       "      <td>219573</td>\n",
       "      <td>7</td>\n",
       "      <td>1</td>\n",
       "      <td>4</td>\n",
       "      <td>0.5970</td>\n",
       "      <td>0.606</td>\n",
       "      <td>0.4880</td>\n",
       "      <td>0.098200</td>\n",
       "      <td>0.1840</td>\n",
       "      <td>-7.339</td>\n",
       "      <td>0.0255</td>\n",
       "      <td>0.4680</td>\n",
       "      <td>81.019</td>\n",
       "      <td>spotify:track:39lOHITmszIVH9WF4Jpbum</td>\n",
       "    </tr>\n",
       "    <tr>\n",
       "      <th>10</th>\n",
       "      <td>spotify:playlist:7gKVccRxsOD0gKdUv63HoB</td>\n",
       "      <td>95000</td>\n",
       "      <td>9</td>\n",
       "      <td>1</td>\n",
       "      <td>4</td>\n",
       "      <td>0.9290</td>\n",
       "      <td>0.541</td>\n",
       "      <td>0.2540</td>\n",
       "      <td>0.000325</td>\n",
       "      <td>0.1010</td>\n",
       "      <td>-10.966</td>\n",
       "      <td>0.0387</td>\n",
       "      <td>0.2510</td>\n",
       "      <td>187.857</td>\n",
       "      <td>spotify:track:6Td37HXpeCVelczrLcg73L</td>\n",
       "    </tr>\n",
       "    <tr>\n",
       "      <th>11</th>\n",
       "      <td>spotify:playlist:7gKVccRxsOD0gKdUv63HoB</td>\n",
       "      <td>183226</td>\n",
       "      <td>8</td>\n",
       "      <td>0</td>\n",
       "      <td>4</td>\n",
       "      <td>0.0690</td>\n",
       "      <td>0.814</td>\n",
       "      <td>0.7860</td>\n",
       "      <td>0.000000</td>\n",
       "      <td>0.0976</td>\n",
       "      <td>-5.178</td>\n",
       "      <td>0.2320</td>\n",
       "      <td>0.7970</td>\n",
       "      <td>93.025</td>\n",
       "      <td>spotify:track:3JkVYvxNoGf2HCWJo61462</td>\n",
       "    </tr>\n",
       "    <tr>\n",
       "      <th>12</th>\n",
       "      <td>spotify:playlist:7gKVccRxsOD0gKdUv63HoB</td>\n",
       "      <td>232258</td>\n",
       "      <td>4</td>\n",
       "      <td>0</td>\n",
       "      <td>4</td>\n",
       "      <td>0.1010</td>\n",
       "      <td>0.824</td>\n",
       "      <td>0.5430</td>\n",
       "      <td>0.000000</td>\n",
       "      <td>0.1780</td>\n",
       "      <td>-8.667</td>\n",
       "      <td>0.2090</td>\n",
       "      <td>0.5480</td>\n",
       "      <td>124.018</td>\n",
       "      <td>spotify:track:1skGwRjc7wYY70PJCAkKMr</td>\n",
       "    </tr>\n",
       "    <tr>\n",
       "      <th>13</th>\n",
       "      <td>spotify:playlist:7gKVccRxsOD0gKdUv63HoB</td>\n",
       "      <td>173333</td>\n",
       "      <td>8</td>\n",
       "      <td>1</td>\n",
       "      <td>5</td>\n",
       "      <td>0.4340</td>\n",
       "      <td>0.738</td>\n",
       "      <td>0.5990</td>\n",
       "      <td>0.000000</td>\n",
       "      <td>0.1300</td>\n",
       "      <td>-7.102</td>\n",
       "      <td>0.0393</td>\n",
       "      <td>0.5750</td>\n",
       "      <td>120.052</td>\n",
       "      <td>spotify:track:1w3exvIgbRFV2ijf6qyWm8</td>\n",
       "    </tr>\n",
       "    <tr>\n",
       "      <th>14</th>\n",
       "      <td>spotify:playlist:7gKVccRxsOD0gKdUv63HoB</td>\n",
       "      <td>108493</td>\n",
       "      <td>8</td>\n",
       "      <td>1</td>\n",
       "      <td>4</td>\n",
       "      <td>0.1390</td>\n",
       "      <td>0.742</td>\n",
       "      <td>0.6750</td>\n",
       "      <td>0.000000</td>\n",
       "      <td>0.1670</td>\n",
       "      <td>-6.551</td>\n",
       "      <td>0.0907</td>\n",
       "      <td>0.6790</td>\n",
       "      <td>145.989</td>\n",
       "      <td>spotify:track:7cVe3mYMIfhOlz1NXFWv70</td>\n",
       "    </tr>\n",
       "    <tr>\n",
       "      <th>15</th>\n",
       "      <td>spotify:playlist:7gKVccRxsOD0gKdUv63HoB</td>\n",
       "      <td>159086</td>\n",
       "      <td>9</td>\n",
       "      <td>1</td>\n",
       "      <td>4</td>\n",
       "      <td>0.0381</td>\n",
       "      <td>0.552</td>\n",
       "      <td>0.6670</td>\n",
       "      <td>0.000000</td>\n",
       "      <td>0.0777</td>\n",
       "      <td>-8.024</td>\n",
       "      <td>0.3330</td>\n",
       "      <td>0.3480</td>\n",
       "      <td>174.889</td>\n",
       "      <td>spotify:track:1O00WM9qGLUBA5gq2yw0WF</td>\n",
       "    </tr>\n",
       "    <tr>\n",
       "      <th>16</th>\n",
       "      <td>spotify:playlist:7gKVccRxsOD0gKdUv63HoB</td>\n",
       "      <td>160036</td>\n",
       "      <td>2</td>\n",
       "      <td>0</td>\n",
       "      <td>3</td>\n",
       "      <td>0.0202</td>\n",
       "      <td>0.661</td>\n",
       "      <td>0.4150</td>\n",
       "      <td>0.028800</td>\n",
       "      <td>0.3100</td>\n",
       "      <td>-10.679</td>\n",
       "      <td>0.1830</td>\n",
       "      <td>0.2860</td>\n",
       "      <td>89.928</td>\n",
       "      <td>spotify:track:18sA3ZuFnaYvinSyc1EZ0M</td>\n",
       "    </tr>\n",
       "    <tr>\n",
       "      <th>17</th>\n",
       "      <td>spotify:playlist:7gKVccRxsOD0gKdUv63HoB</td>\n",
       "      <td>199735</td>\n",
       "      <td>11</td>\n",
       "      <td>0</td>\n",
       "      <td>4</td>\n",
       "      <td>0.0475</td>\n",
       "      <td>0.739</td>\n",
       "      <td>0.3900</td>\n",
       "      <td>0.132000</td>\n",
       "      <td>0.0732</td>\n",
       "      <td>-12.118</td>\n",
       "      <td>0.0918</td>\n",
       "      <td>0.2850</td>\n",
       "      <td>91.961</td>\n",
       "      <td>spotify:track:3TB0OtQMzrPoNcmXfUMVzC</td>\n",
       "    </tr>\n",
       "    <tr>\n",
       "      <th>18</th>\n",
       "      <td>spotify:playlist:7gKVccRxsOD0gKdUv63HoB</td>\n",
       "      <td>190358</td>\n",
       "      <td>7</td>\n",
       "      <td>1</td>\n",
       "      <td>4</td>\n",
       "      <td>0.0554</td>\n",
       "      <td>0.756</td>\n",
       "      <td>0.4360</td>\n",
       "      <td>0.031100</td>\n",
       "      <td>0.3090</td>\n",
       "      <td>-7.262</td>\n",
       "      <td>0.0457</td>\n",
       "      <td>0.2280</td>\n",
       "      <td>101.933</td>\n",
       "      <td>spotify:track:308ngBPHBQa8HW4n0PBUKh</td>\n",
       "    </tr>\n",
       "    <tr>\n",
       "      <th>19</th>\n",
       "      <td>spotify:playlist:7gKVccRxsOD0gKdUv63HoB</td>\n",
       "      <td>170108</td>\n",
       "      <td>6</td>\n",
       "      <td>1</td>\n",
       "      <td>4</td>\n",
       "      <td>0.4430</td>\n",
       "      <td>0.659</td>\n",
       "      <td>0.2770</td>\n",
       "      <td>0.103000</td>\n",
       "      <td>0.1280</td>\n",
       "      <td>-16.718</td>\n",
       "      <td>0.1190</td>\n",
       "      <td>0.2400</td>\n",
       "      <td>149.910</td>\n",
       "      <td>spotify:track:5Mk3wOYG9Emd6SL5jVviZ7</td>\n",
       "    </tr>\n",
       "    <tr>\n",
       "      <th>20</th>\n",
       "      <td>spotify:playlist:7gKVccRxsOD0gKdUv63HoB</td>\n",
       "      <td>204027</td>\n",
       "      <td>7</td>\n",
       "      <td>0</td>\n",
       "      <td>4</td>\n",
       "      <td>0.2860</td>\n",
       "      <td>0.784</td>\n",
       "      <td>0.3900</td>\n",
       "      <td>0.000378</td>\n",
       "      <td>0.1390</td>\n",
       "      <td>-10.205</td>\n",
       "      <td>0.0615</td>\n",
       "      <td>0.3160</td>\n",
       "      <td>89.997</td>\n",
       "      <td>spotify:track:1Dq6xyMtnxEdmVOjzV9caq</td>\n",
       "    </tr>\n",
       "    <tr>\n",
       "      <th>21</th>\n",
       "      <td>spotify:playlist:7gKVccRxsOD0gKdUv63HoB</td>\n",
       "      <td>152941</td>\n",
       "      <td>4</td>\n",
       "      <td>1</td>\n",
       "      <td>4</td>\n",
       "      <td>0.3430</td>\n",
       "      <td>0.580</td>\n",
       "      <td>0.5890</td>\n",
       "      <td>0.000004</td>\n",
       "      <td>0.1210</td>\n",
       "      <td>-7.080</td>\n",
       "      <td>0.3270</td>\n",
       "      <td>0.3630</td>\n",
       "      <td>88.464</td>\n",
       "      <td>spotify:track:51sZc2sRnjxpTuzLnlkNbm</td>\n",
       "    </tr>\n",
       "    <tr>\n",
       "      <th>22</th>\n",
       "      <td>spotify:playlist:7gKVccRxsOD0gKdUv63HoB</td>\n",
       "      <td>211544</td>\n",
       "      <td>2</td>\n",
       "      <td>1</td>\n",
       "      <td>4</td>\n",
       "      <td>0.0641</td>\n",
       "      <td>0.679</td>\n",
       "      <td>0.6610</td>\n",
       "      <td>0.003270</td>\n",
       "      <td>0.0976</td>\n",
       "      <td>-8.928</td>\n",
       "      <td>0.1240</td>\n",
       "      <td>0.3880</td>\n",
       "      <td>169.979</td>\n",
       "      <td>spotify:track:6D0RJju2TSMtZM1jsRc58S</td>\n",
       "    </tr>\n",
       "    <tr>\n",
       "      <th>23</th>\n",
       "      <td>spotify:playlist:7gKVccRxsOD0gKdUv63HoB</td>\n",
       "      <td>195866</td>\n",
       "      <td>2</td>\n",
       "      <td>1</td>\n",
       "      <td>4</td>\n",
       "      <td>0.2040</td>\n",
       "      <td>0.666</td>\n",
       "      <td>0.3500</td>\n",
       "      <td>0.004370</td>\n",
       "      <td>0.2380</td>\n",
       "      <td>-10.650</td>\n",
       "      <td>0.0389</td>\n",
       "      <td>0.2720</td>\n",
       "      <td>149.873</td>\n",
       "      <td>spotify:track:5Y3OxkwWPuFZc5rRoJE45A</td>\n",
       "    </tr>\n",
       "    <tr>\n",
       "      <th>24</th>\n",
       "      <td>spotify:playlist:7gKVccRxsOD0gKdUv63HoB</td>\n",
       "      <td>182403</td>\n",
       "      <td>2</td>\n",
       "      <td>1</td>\n",
       "      <td>4</td>\n",
       "      <td>0.0268</td>\n",
       "      <td>0.831</td>\n",
       "      <td>0.3640</td>\n",
       "      <td>0.004780</td>\n",
       "      <td>0.0736</td>\n",
       "      <td>-10.561</td>\n",
       "      <td>0.1240</td>\n",
       "      <td>0.6490</td>\n",
       "      <td>100.014</td>\n",
       "      <td>spotify:track:3ADku3uSBCVbRF7fAl1J43</td>\n",
       "    </tr>\n",
       "    <tr>\n",
       "      <th>25</th>\n",
       "      <td>spotify:playlist:7gKVccRxsOD0gKdUv63HoB</td>\n",
       "      <td>197991</td>\n",
       "      <td>4</td>\n",
       "      <td>0</td>\n",
       "      <td>5</td>\n",
       "      <td>0.1950</td>\n",
       "      <td>0.601</td>\n",
       "      <td>0.4590</td>\n",
       "      <td>0.013700</td>\n",
       "      <td>0.1440</td>\n",
       "      <td>-10.879</td>\n",
       "      <td>0.4400</td>\n",
       "      <td>0.2310</td>\n",
       "      <td>123.608</td>\n",
       "      <td>spotify:track:2jUOGqov3TsX7wNHTMoIaJ</td>\n",
       "    </tr>\n",
       "    <tr>\n",
       "      <th>26</th>\n",
       "      <td>spotify:playlist:7gKVccRxsOD0gKdUv63HoB</td>\n",
       "      <td>247500</td>\n",
       "      <td>11</td>\n",
       "      <td>0</td>\n",
       "      <td>4</td>\n",
       "      <td>0.0095</td>\n",
       "      <td>0.432</td>\n",
       "      <td>0.4290</td>\n",
       "      <td>0.000067</td>\n",
       "      <td>0.1360</td>\n",
       "      <td>-10.545</td>\n",
       "      <td>0.0293</td>\n",
       "      <td>0.2050</td>\n",
       "      <td>149.964</td>\n",
       "      <td>spotify:track:7EX4LadxtxQo6tboAkJWBU</td>\n",
       "    </tr>\n",
       "    <tr>\n",
       "      <th>27</th>\n",
       "      <td>spotify:playlist:7gKVccRxsOD0gKdUv63HoB</td>\n",
       "      <td>184014</td>\n",
       "      <td>0</td>\n",
       "      <td>1</td>\n",
       "      <td>4</td>\n",
       "      <td>0.2990</td>\n",
       "      <td>0.534</td>\n",
       "      <td>0.4580</td>\n",
       "      <td>0.000683</td>\n",
       "      <td>0.0950</td>\n",
       "      <td>-13.542</td>\n",
       "      <td>0.2330</td>\n",
       "      <td>0.2750</td>\n",
       "      <td>83.814</td>\n",
       "      <td>spotify:track:7xJv0nURSYIPtgdwiNSqiy</td>\n",
       "    </tr>\n",
       "    <tr>\n",
       "      <th>28</th>\n",
       "      <td>spotify:playlist:7gKVccRxsOD0gKdUv63HoB</td>\n",
       "      <td>215270</td>\n",
       "      <td>4</td>\n",
       "      <td>0</td>\n",
       "      <td>4</td>\n",
       "      <td>0.8040</td>\n",
       "      <td>0.490</td>\n",
       "      <td>0.2290</td>\n",
       "      <td>0.004890</td>\n",
       "      <td>0.1260</td>\n",
       "      <td>-12.110</td>\n",
       "      <td>0.0273</td>\n",
       "      <td>0.2810</td>\n",
       "      <td>90.205</td>\n",
       "      <td>spotify:track:4w0rTd0QIbsvVykYij8M7L</td>\n",
       "    </tr>\n",
       "    <tr>\n",
       "      <th>29</th>\n",
       "      <td>spotify:playlist:7gKVccRxsOD0gKdUv63HoB</td>\n",
       "      <td>159130</td>\n",
       "      <td>11</td>\n",
       "      <td>0</td>\n",
       "      <td>4</td>\n",
       "      <td>0.6270</td>\n",
       "      <td>0.735</td>\n",
       "      <td>0.5010</td>\n",
       "      <td>0.001300</td>\n",
       "      <td>0.1040</td>\n",
       "      <td>-11.257</td>\n",
       "      <td>0.1670</td>\n",
       "      <td>0.5510</td>\n",
       "      <td>92.031</td>\n",
       "      <td>spotify:track:2Qn6WHJrY5Im82Jux8FboH</td>\n",
       "    </tr>\n",
       "    <tr>\n",
       "      <th>30</th>\n",
       "      <td>spotify:playlist:7gKVccRxsOD0gKdUv63HoB</td>\n",
       "      <td>171743</td>\n",
       "      <td>8</td>\n",
       "      <td>1</td>\n",
       "      <td>4</td>\n",
       "      <td>0.8450</td>\n",
       "      <td>0.656</td>\n",
       "      <td>0.4360</td>\n",
       "      <td>0.000000</td>\n",
       "      <td>0.2210</td>\n",
       "      <td>-11.141</td>\n",
       "      <td>0.0744</td>\n",
       "      <td>0.1960</td>\n",
       "      <td>109.239</td>\n",
       "      <td>spotify:track:0QzuaeCEEOV40Pn7IvKEny</td>\n",
       "    </tr>\n",
       "    <tr>\n",
       "      <th>31</th>\n",
       "      <td>spotify:playlist:7gKVccRxsOD0gKdUv63HoB</td>\n",
       "      <td>210406</td>\n",
       "      <td>2</td>\n",
       "      <td>0</td>\n",
       "      <td>4</td>\n",
       "      <td>0.8300</td>\n",
       "      <td>0.677</td>\n",
       "      <td>0.4540</td>\n",
       "      <td>0.000086</td>\n",
       "      <td>0.2740</td>\n",
       "      <td>-8.555</td>\n",
       "      <td>0.0673</td>\n",
       "      <td>0.2730</td>\n",
       "      <td>80.045</td>\n",
       "      <td>spotify:track:4t5joZkdlXlvzLXJbkgppJ</td>\n",
       "    </tr>\n",
       "    <tr>\n",
       "      <th>32</th>\n",
       "      <td>spotify:playlist:7gKVccRxsOD0gKdUv63HoB</td>\n",
       "      <td>198405</td>\n",
       "      <td>8</td>\n",
       "      <td>0</td>\n",
       "      <td>4</td>\n",
       "      <td>0.4380</td>\n",
       "      <td>0.696</td>\n",
       "      <td>0.5430</td>\n",
       "      <td>0.000033</td>\n",
       "      <td>0.3940</td>\n",
       "      <td>-8.730</td>\n",
       "      <td>0.0454</td>\n",
       "      <td>0.3000</td>\n",
       "      <td>115.983</td>\n",
       "      <td>spotify:track:4MiZmaNIbvO7yY8UltCATD</td>\n",
       "    </tr>\n",
       "    <tr>\n",
       "      <th>33</th>\n",
       "      <td>spotify:playlist:7gKVccRxsOD0gKdUv63HoB</td>\n",
       "      <td>185376</td>\n",
       "      <td>6</td>\n",
       "      <td>0</td>\n",
       "      <td>4</td>\n",
       "      <td>0.7860</td>\n",
       "      <td>0.504</td>\n",
       "      <td>0.4050</td>\n",
       "      <td>0.001430</td>\n",
       "      <td>0.1020</td>\n",
       "      <td>-11.312</td>\n",
       "      <td>0.0515</td>\n",
       "      <td>0.1760</td>\n",
       "      <td>93.469</td>\n",
       "      <td>spotify:track:6sWkR0Y0NsJN4Ov3vKAPIa</td>\n",
       "    </tr>\n",
       "    <tr>\n",
       "      <th>34</th>\n",
       "      <td>spotify:playlist:7gKVccRxsOD0gKdUv63HoB</td>\n",
       "      <td>196428</td>\n",
       "      <td>2</td>\n",
       "      <td>1</td>\n",
       "      <td>4</td>\n",
       "      <td>0.4660</td>\n",
       "      <td>0.502</td>\n",
       "      <td>0.4460</td>\n",
       "      <td>0.000090</td>\n",
       "      <td>0.3310</td>\n",
       "      <td>-9.086</td>\n",
       "      <td>0.0365</td>\n",
       "      <td>0.3110</td>\n",
       "      <td>150.164</td>\n",
       "      <td>spotify:track:1KWbsqgeBi2WfqZ8Of494c</td>\n",
       "    </tr>\n",
       "    <tr>\n",
       "      <th>35</th>\n",
       "      <td>spotify:playlist:7gKVccRxsOD0gKdUv63HoB</td>\n",
       "      <td>241459</td>\n",
       "      <td>6</td>\n",
       "      <td>1</td>\n",
       "      <td>4</td>\n",
       "      <td>0.4570</td>\n",
       "      <td>0.507</td>\n",
       "      <td>0.5160</td>\n",
       "      <td>0.028400</td>\n",
       "      <td>0.1280</td>\n",
       "      <td>-9.670</td>\n",
       "      <td>0.1060</td>\n",
       "      <td>0.4860</td>\n",
       "      <td>83.951</td>\n",
       "      <td>spotify:track:7mMzlK2pYVbgkUL1zaGGyV</td>\n",
       "    </tr>\n",
       "    <tr>\n",
       "      <th>36</th>\n",
       "      <td>spotify:playlist:7gKVccRxsOD0gKdUv63HoB</td>\n",
       "      <td>212787</td>\n",
       "      <td>2</td>\n",
       "      <td>0</td>\n",
       "      <td>4</td>\n",
       "      <td>0.6920</td>\n",
       "      <td>0.439</td>\n",
       "      <td>0.3130</td>\n",
       "      <td>0.000006</td>\n",
       "      <td>0.0464</td>\n",
       "      <td>-10.122</td>\n",
       "      <td>0.0291</td>\n",
       "      <td>0.2430</td>\n",
       "      <td>145.899</td>\n",
       "      <td>spotify:track:3W2G2Bwt9UAM0sgUVhOC6E</td>\n",
       "    </tr>\n",
       "    <tr>\n",
       "      <th>37</th>\n",
       "      <td>spotify:playlist:7gKVccRxsOD0gKdUv63HoB</td>\n",
       "      <td>225093</td>\n",
       "      <td>10</td>\n",
       "      <td>1</td>\n",
       "      <td>3</td>\n",
       "      <td>0.2040</td>\n",
       "      <td>0.338</td>\n",
       "      <td>0.5600</td>\n",
       "      <td>0.000003</td>\n",
       "      <td>0.1080</td>\n",
       "      <td>-7.052</td>\n",
       "      <td>0.0298</td>\n",
       "      <td>0.5760</td>\n",
       "      <td>82.966</td>\n",
       "      <td>spotify:track:37zPDZLuL3dgmI4hb6Yix0</td>\n",
       "    </tr>\n",
       "    <tr>\n",
       "      <th>38</th>\n",
       "      <td>spotify:playlist:7gKVccRxsOD0gKdUv63HoB</td>\n",
       "      <td>228333</td>\n",
       "      <td>5</td>\n",
       "      <td>1</td>\n",
       "      <td>4</td>\n",
       "      <td>0.7810</td>\n",
       "      <td>0.401</td>\n",
       "      <td>0.1610</td>\n",
       "      <td>0.000004</td>\n",
       "      <td>0.1180</td>\n",
       "      <td>-11.138</td>\n",
       "      <td>0.0372</td>\n",
       "      <td>0.1120</td>\n",
       "      <td>129.826</td>\n",
       "      <td>spotify:track:4fwiUXTml7O24fL34JxFI7</td>\n",
       "    </tr>\n",
       "    <tr>\n",
       "      <th>39</th>\n",
       "      <td>spotify:playlist:7gKVccRxsOD0gKdUv63HoB</td>\n",
       "      <td>229653</td>\n",
       "      <td>1</td>\n",
       "      <td>1</td>\n",
       "      <td>4</td>\n",
       "      <td>0.7450</td>\n",
       "      <td>0.747</td>\n",
       "      <td>0.2650</td>\n",
       "      <td>0.016900</td>\n",
       "      <td>0.1100</td>\n",
       "      <td>-14.141</td>\n",
       "      <td>0.0354</td>\n",
       "      <td>0.2000</td>\n",
       "      <td>138.017</td>\n",
       "      <td>spotify:track:5P6ZBMWS66FVo6deJaDdHy</td>\n",
       "    </tr>\n",
       "    <tr>\n",
       "      <th>40</th>\n",
       "      <td>spotify:playlist:7gKVccRxsOD0gKdUv63HoB</td>\n",
       "      <td>215400</td>\n",
       "      <td>4</td>\n",
       "      <td>1</td>\n",
       "      <td>4</td>\n",
       "      <td>0.7840</td>\n",
       "      <td>0.512</td>\n",
       "      <td>0.3810</td>\n",
       "      <td>0.000000</td>\n",
       "      <td>0.1090</td>\n",
       "      <td>-7.478</td>\n",
       "      <td>0.0258</td>\n",
       "      <td>0.1140</td>\n",
       "      <td>82.626</td>\n",
       "      <td>spotify:track:4BafNHkkPaUocRMKi392MT</td>\n",
       "    </tr>\n",
       "    <tr>\n",
       "      <th>41</th>\n",
       "      <td>spotify:playlist:7gKVccRxsOD0gKdUv63HoB</td>\n",
       "      <td>149427</td>\n",
       "      <td>4</td>\n",
       "      <td>0</td>\n",
       "      <td>3</td>\n",
       "      <td>0.8500</td>\n",
       "      <td>0.254</td>\n",
       "      <td>0.3490</td>\n",
       "      <td>0.000029</td>\n",
       "      <td>0.2340</td>\n",
       "      <td>-10.020</td>\n",
       "      <td>0.0379</td>\n",
       "      <td>0.3030</td>\n",
       "      <td>170.214</td>\n",
       "      <td>spotify:track:4qoD4IJbbir3hsAu4IowiG</td>\n",
       "    </tr>\n",
       "    <tr>\n",
       "      <th>42</th>\n",
       "      <td>spotify:playlist:7gKVccRxsOD0gKdUv63HoB</td>\n",
       "      <td>213400</td>\n",
       "      <td>10</td>\n",
       "      <td>1</td>\n",
       "      <td>4</td>\n",
       "      <td>0.5370</td>\n",
       "      <td>0.317</td>\n",
       "      <td>0.4510</td>\n",
       "      <td>0.000000</td>\n",
       "      <td>0.0898</td>\n",
       "      <td>-6.762</td>\n",
       "      <td>0.0347</td>\n",
       "      <td>0.4590</td>\n",
       "      <td>173.831</td>\n",
       "      <td>spotify:track:79jxIFiRzVvJVPYiaqBTqK</td>\n",
       "    </tr>\n",
       "    <tr>\n",
       "      <th>43</th>\n",
       "      <td>spotify:playlist:7gKVccRxsOD0gKdUv63HoB</td>\n",
       "      <td>228160</td>\n",
       "      <td>7</td>\n",
       "      <td>0</td>\n",
       "      <td>4</td>\n",
       "      <td>0.8450</td>\n",
       "      <td>0.370</td>\n",
       "      <td>0.3010</td>\n",
       "      <td>0.000313</td>\n",
       "      <td>0.1130</td>\n",
       "      <td>-10.669</td>\n",
       "      <td>0.0322</td>\n",
       "      <td>0.1490</td>\n",
       "      <td>148.004</td>\n",
       "      <td>spotify:track:56ZfDPbCCrJUyyxU2syt6c</td>\n",
       "    </tr>\n",
       "    <tr>\n",
       "      <th>44</th>\n",
       "      <td>spotify:playlist:7gKVccRxsOD0gKdUv63HoB</td>\n",
       "      <td>212747</td>\n",
       "      <td>5</td>\n",
       "      <td>1</td>\n",
       "      <td>4</td>\n",
       "      <td>0.7350</td>\n",
       "      <td>0.435</td>\n",
       "      <td>0.5880</td>\n",
       "      <td>0.000000</td>\n",
       "      <td>0.1560</td>\n",
       "      <td>-5.809</td>\n",
       "      <td>0.0336</td>\n",
       "      <td>0.5160</td>\n",
       "      <td>83.685</td>\n",
       "      <td>spotify:track:4oQxCtf4WyMSiEE0k9kTUr</td>\n",
       "    </tr>\n",
       "    <tr>\n",
       "      <th>45</th>\n",
       "      <td>spotify:playlist:7gKVccRxsOD0gKdUv63HoB</td>\n",
       "      <td>282373</td>\n",
       "      <td>4</td>\n",
       "      <td>0</td>\n",
       "      <td>3</td>\n",
       "      <td>0.9200</td>\n",
       "      <td>0.364</td>\n",
       "      <td>0.1720</td>\n",
       "      <td>0.000018</td>\n",
       "      <td>0.0916</td>\n",
       "      <td>-11.684</td>\n",
       "      <td>0.0335</td>\n",
       "      <td>0.1050</td>\n",
       "      <td>130.505</td>\n",
       "      <td>spotify:track:5F1Ml9CcAC4FnMAOEZDXYv</td>\n",
       "    </tr>\n",
       "    <tr>\n",
       "      <th>46</th>\n",
       "      <td>spotify:playlist:7gKVccRxsOD0gKdUv63HoB</td>\n",
       "      <td>199280</td>\n",
       "      <td>4</td>\n",
       "      <td>1</td>\n",
       "      <td>4</td>\n",
       "      <td>0.8840</td>\n",
       "      <td>0.338</td>\n",
       "      <td>0.0948</td>\n",
       "      <td>0.000004</td>\n",
       "      <td>0.1000</td>\n",
       "      <td>-11.391</td>\n",
       "      <td>0.0434</td>\n",
       "      <td>0.2370</td>\n",
       "      <td>175.941</td>\n",
       "      <td>spotify:track:2gE7DT6krgEjU6qItbLdXZ</td>\n",
       "    </tr>\n",
       "    <tr>\n",
       "      <th>47</th>\n",
       "      <td>spotify:playlist:7gKVccRxsOD0gKdUv63HoB</td>\n",
       "      <td>185960</td>\n",
       "      <td>2</td>\n",
       "      <td>1</td>\n",
       "      <td>5</td>\n",
       "      <td>0.9060</td>\n",
       "      <td>0.430</td>\n",
       "      <td>0.1990</td>\n",
       "      <td>0.000009</td>\n",
       "      <td>0.1450</td>\n",
       "      <td>-11.316</td>\n",
       "      <td>0.0348</td>\n",
       "      <td>0.4770</td>\n",
       "      <td>116.899</td>\n",
       "      <td>spotify:track:6UoygTjFvuC8pEGo2siNGM</td>\n",
       "    </tr>\n",
       "    <tr>\n",
       "      <th>48</th>\n",
       "      <td>spotify:playlist:7gKVccRxsOD0gKdUv63HoB</td>\n",
       "      <td>216220</td>\n",
       "      <td>6</td>\n",
       "      <td>0</td>\n",
       "      <td>4</td>\n",
       "      <td>0.0444</td>\n",
       "      <td>0.585</td>\n",
       "      <td>0.6250</td>\n",
       "      <td>0.000000</td>\n",
       "      <td>0.0376</td>\n",
       "      <td>-5.130</td>\n",
       "      <td>0.0765</td>\n",
       "      <td>0.6660</td>\n",
       "      <td>164.066</td>\n",
       "      <td>spotify:track:3QCL4FJOSqLrFDJmcdNSbA</td>\n",
       "    </tr>\n",
       "    <tr>\n",
       "      <th>49</th>\n",
       "      <td>spotify:playlist:7gKVccRxsOD0gKdUv63HoB</td>\n",
       "      <td>167472</td>\n",
       "      <td>0</td>\n",
       "      <td>1</td>\n",
       "      <td>4</td>\n",
       "      <td>0.0052</td>\n",
       "      <td>0.721</td>\n",
       "      <td>0.6760</td>\n",
       "      <td>0.000003</td>\n",
       "      <td>0.2050</td>\n",
       "      <td>-6.534</td>\n",
       "      <td>0.0450</td>\n",
       "      <td>0.3940</td>\n",
       "      <td>140.080</td>\n",
       "      <td>spotify:track:3edqjLVQrRPLvt9FAYUAsT</td>\n",
       "    </tr>\n",
       "    <tr>\n",
       "      <th>50</th>\n",
       "      <td>spotify:playlist:7gKVccRxsOD0gKdUv63HoB</td>\n",
       "      <td>219240</td>\n",
       "      <td>5</td>\n",
       "      <td>1</td>\n",
       "      <td>4</td>\n",
       "      <td>0.1520</td>\n",
       "      <td>0.833</td>\n",
       "      <td>0.6390</td>\n",
       "      <td>0.000000</td>\n",
       "      <td>0.1010</td>\n",
       "      <td>-6.964</td>\n",
       "      <td>0.0676</td>\n",
       "      <td>0.4480</td>\n",
       "      <td>102.989</td>\n",
       "      <td>spotify:track:1rDQJd8kzwBRXeoTtojkQn</td>\n",
       "    </tr>\n",
       "    <tr>\n",
       "      <th>51</th>\n",
       "      <td>spotify:playlist:7gKVccRxsOD0gKdUv63HoB</td>\n",
       "      <td>222096</td>\n",
       "      <td>4</td>\n",
       "      <td>0</td>\n",
       "      <td>4</td>\n",
       "      <td>0.4770</td>\n",
       "      <td>0.678</td>\n",
       "      <td>0.4490</td>\n",
       "      <td>0.000000</td>\n",
       "      <td>0.5360</td>\n",
       "      <td>-9.379</td>\n",
       "      <td>0.0869</td>\n",
       "      <td>0.6060</td>\n",
       "      <td>100.033</td>\n",
       "      <td>spotify:track:0YLSjVxSb5FT1Bo8Tnxr8j</td>\n",
       "    </tr>\n",
       "  </tbody>\n",
       "</table>\n",
       "</div>"
      ],
      "text/plain": [
       "                               playlist_uri  duration_ms  key  mode  \\\n",
       "0   spotify:playlist:7gKVccRxsOD0gKdUv63HoB       153693    6     1   \n",
       "1   spotify:playlist:7gKVccRxsOD0gKdUv63HoB       204373   11     1   \n",
       "2   spotify:playlist:7gKVccRxsOD0gKdUv63HoB       193733    7     1   \n",
       "3   spotify:playlist:7gKVccRxsOD0gKdUv63HoB       163653    1     1   \n",
       "4   spotify:playlist:7gKVccRxsOD0gKdUv63HoB       184413    7     1   \n",
       "5   spotify:playlist:7gKVccRxsOD0gKdUv63HoB       180013    0     1   \n",
       "6   spotify:playlist:7gKVccRxsOD0gKdUv63HoB       167587    5     1   \n",
       "7   spotify:playlist:7gKVccRxsOD0gKdUv63HoB       219907    5     0   \n",
       "8   spotify:playlist:7gKVccRxsOD0gKdUv63HoB       187733    0     1   \n",
       "9   spotify:playlist:7gKVccRxsOD0gKdUv63HoB       219573    7     1   \n",
       "10  spotify:playlist:7gKVccRxsOD0gKdUv63HoB        95000    9     1   \n",
       "11  spotify:playlist:7gKVccRxsOD0gKdUv63HoB       183226    8     0   \n",
       "12  spotify:playlist:7gKVccRxsOD0gKdUv63HoB       232258    4     0   \n",
       "13  spotify:playlist:7gKVccRxsOD0gKdUv63HoB       173333    8     1   \n",
       "14  spotify:playlist:7gKVccRxsOD0gKdUv63HoB       108493    8     1   \n",
       "15  spotify:playlist:7gKVccRxsOD0gKdUv63HoB       159086    9     1   \n",
       "16  spotify:playlist:7gKVccRxsOD0gKdUv63HoB       160036    2     0   \n",
       "17  spotify:playlist:7gKVccRxsOD0gKdUv63HoB       199735   11     0   \n",
       "18  spotify:playlist:7gKVccRxsOD0gKdUv63HoB       190358    7     1   \n",
       "19  spotify:playlist:7gKVccRxsOD0gKdUv63HoB       170108    6     1   \n",
       "20  spotify:playlist:7gKVccRxsOD0gKdUv63HoB       204027    7     0   \n",
       "21  spotify:playlist:7gKVccRxsOD0gKdUv63HoB       152941    4     1   \n",
       "22  spotify:playlist:7gKVccRxsOD0gKdUv63HoB       211544    2     1   \n",
       "23  spotify:playlist:7gKVccRxsOD0gKdUv63HoB       195866    2     1   \n",
       "24  spotify:playlist:7gKVccRxsOD0gKdUv63HoB       182403    2     1   \n",
       "25  spotify:playlist:7gKVccRxsOD0gKdUv63HoB       197991    4     0   \n",
       "26  spotify:playlist:7gKVccRxsOD0gKdUv63HoB       247500   11     0   \n",
       "27  spotify:playlist:7gKVccRxsOD0gKdUv63HoB       184014    0     1   \n",
       "28  spotify:playlist:7gKVccRxsOD0gKdUv63HoB       215270    4     0   \n",
       "29  spotify:playlist:7gKVccRxsOD0gKdUv63HoB       159130   11     0   \n",
       "30  spotify:playlist:7gKVccRxsOD0gKdUv63HoB       171743    8     1   \n",
       "31  spotify:playlist:7gKVccRxsOD0gKdUv63HoB       210406    2     0   \n",
       "32  spotify:playlist:7gKVccRxsOD0gKdUv63HoB       198405    8     0   \n",
       "33  spotify:playlist:7gKVccRxsOD0gKdUv63HoB       185376    6     0   \n",
       "34  spotify:playlist:7gKVccRxsOD0gKdUv63HoB       196428    2     1   \n",
       "35  spotify:playlist:7gKVccRxsOD0gKdUv63HoB       241459    6     1   \n",
       "36  spotify:playlist:7gKVccRxsOD0gKdUv63HoB       212787    2     0   \n",
       "37  spotify:playlist:7gKVccRxsOD0gKdUv63HoB       225093   10     1   \n",
       "38  spotify:playlist:7gKVccRxsOD0gKdUv63HoB       228333    5     1   \n",
       "39  spotify:playlist:7gKVccRxsOD0gKdUv63HoB       229653    1     1   \n",
       "40  spotify:playlist:7gKVccRxsOD0gKdUv63HoB       215400    4     1   \n",
       "41  spotify:playlist:7gKVccRxsOD0gKdUv63HoB       149427    4     0   \n",
       "42  spotify:playlist:7gKVccRxsOD0gKdUv63HoB       213400   10     1   \n",
       "43  spotify:playlist:7gKVccRxsOD0gKdUv63HoB       228160    7     0   \n",
       "44  spotify:playlist:7gKVccRxsOD0gKdUv63HoB       212747    5     1   \n",
       "45  spotify:playlist:7gKVccRxsOD0gKdUv63HoB       282373    4     0   \n",
       "46  spotify:playlist:7gKVccRxsOD0gKdUv63HoB       199280    4     1   \n",
       "47  spotify:playlist:7gKVccRxsOD0gKdUv63HoB       185960    2     1   \n",
       "48  spotify:playlist:7gKVccRxsOD0gKdUv63HoB       216220    6     0   \n",
       "49  spotify:playlist:7gKVccRxsOD0gKdUv63HoB       167472    0     1   \n",
       "50  spotify:playlist:7gKVccRxsOD0gKdUv63HoB       219240    5     1   \n",
       "51  spotify:playlist:7gKVccRxsOD0gKdUv63HoB       222096    4     0   \n",
       "\n",
       "    time_signature  acousticness  danceability  energy  instrumentalness  \\\n",
       "0                4        0.7710         0.786  0.3560          0.694000   \n",
       "1                4        0.8450         0.348  0.3100          0.056900   \n",
       "2                4        0.7670         0.611  0.5250          0.799000   \n",
       "3                4        0.6630         0.533  0.6780          0.000000   \n",
       "4                4        0.9200         0.481  0.6690          0.021900   \n",
       "5                4        0.8380         0.360  0.2470          0.004540   \n",
       "6                4        0.7680         0.358  0.5800          0.005800   \n",
       "7                4        0.7330         0.693  0.4590          0.059300   \n",
       "8                4        0.6620         0.661  0.4810          0.079100   \n",
       "9                4        0.5970         0.606  0.4880          0.098200   \n",
       "10               4        0.9290         0.541  0.2540          0.000325   \n",
       "11               4        0.0690         0.814  0.7860          0.000000   \n",
       "12               4        0.1010         0.824  0.5430          0.000000   \n",
       "13               5        0.4340         0.738  0.5990          0.000000   \n",
       "14               4        0.1390         0.742  0.6750          0.000000   \n",
       "15               4        0.0381         0.552  0.6670          0.000000   \n",
       "16               3        0.0202         0.661  0.4150          0.028800   \n",
       "17               4        0.0475         0.739  0.3900          0.132000   \n",
       "18               4        0.0554         0.756  0.4360          0.031100   \n",
       "19               4        0.4430         0.659  0.2770          0.103000   \n",
       "20               4        0.2860         0.784  0.3900          0.000378   \n",
       "21               4        0.3430         0.580  0.5890          0.000004   \n",
       "22               4        0.0641         0.679  0.6610          0.003270   \n",
       "23               4        0.2040         0.666  0.3500          0.004370   \n",
       "24               4        0.0268         0.831  0.3640          0.004780   \n",
       "25               5        0.1950         0.601  0.4590          0.013700   \n",
       "26               4        0.0095         0.432  0.4290          0.000067   \n",
       "27               4        0.2990         0.534  0.4580          0.000683   \n",
       "28               4        0.8040         0.490  0.2290          0.004890   \n",
       "29               4        0.6270         0.735  0.5010          0.001300   \n",
       "30               4        0.8450         0.656  0.4360          0.000000   \n",
       "31               4        0.8300         0.677  0.4540          0.000086   \n",
       "32               4        0.4380         0.696  0.5430          0.000033   \n",
       "33               4        0.7860         0.504  0.4050          0.001430   \n",
       "34               4        0.4660         0.502  0.4460          0.000090   \n",
       "35               4        0.4570         0.507  0.5160          0.028400   \n",
       "36               4        0.6920         0.439  0.3130          0.000006   \n",
       "37               3        0.2040         0.338  0.5600          0.000003   \n",
       "38               4        0.7810         0.401  0.1610          0.000004   \n",
       "39               4        0.7450         0.747  0.2650          0.016900   \n",
       "40               4        0.7840         0.512  0.3810          0.000000   \n",
       "41               3        0.8500         0.254  0.3490          0.000029   \n",
       "42               4        0.5370         0.317  0.4510          0.000000   \n",
       "43               4        0.8450         0.370  0.3010          0.000313   \n",
       "44               4        0.7350         0.435  0.5880          0.000000   \n",
       "45               3        0.9200         0.364  0.1720          0.000018   \n",
       "46               4        0.8840         0.338  0.0948          0.000004   \n",
       "47               5        0.9060         0.430  0.1990          0.000009   \n",
       "48               4        0.0444         0.585  0.6250          0.000000   \n",
       "49               4        0.0052         0.721  0.6760          0.000003   \n",
       "50               4        0.1520         0.833  0.6390          0.000000   \n",
       "51               4        0.4770         0.678  0.4490          0.000000   \n",
       "\n",
       "    liveness  loudness  speechiness  valence    tempo  \\\n",
       "0     0.1000   -11.432       0.0462   0.5190  116.023   \n",
       "1     0.1110   -13.122       0.0413   0.0474  114.812   \n",
       "2     0.1120    -9.683       0.0354   0.2990  113.946   \n",
       "3     0.1450    -5.244       0.0256   0.6830   80.960   \n",
       "4     0.1390   -13.329       0.4550   0.3510  128.219   \n",
       "5     0.1040    -9.415       0.0396   0.2790   77.225   \n",
       "6     0.1270    -9.924       0.0450   0.3520   98.853   \n",
       "7     0.1200   -12.451       0.0407   0.3500   81.024   \n",
       "8     0.0789   -10.962       0.0294   0.1540  119.974   \n",
       "9     0.1840    -7.339       0.0255   0.4680   81.019   \n",
       "10    0.1010   -10.966       0.0387   0.2510  187.857   \n",
       "11    0.0976    -5.178       0.2320   0.7970   93.025   \n",
       "12    0.1780    -8.667       0.2090   0.5480  124.018   \n",
       "13    0.1300    -7.102       0.0393   0.5750  120.052   \n",
       "14    0.1670    -6.551       0.0907   0.6790  145.989   \n",
       "15    0.0777    -8.024       0.3330   0.3480  174.889   \n",
       "16    0.3100   -10.679       0.1830   0.2860   89.928   \n",
       "17    0.0732   -12.118       0.0918   0.2850   91.961   \n",
       "18    0.3090    -7.262       0.0457   0.2280  101.933   \n",
       "19    0.1280   -16.718       0.1190   0.2400  149.910   \n",
       "20    0.1390   -10.205       0.0615   0.3160   89.997   \n",
       "21    0.1210    -7.080       0.3270   0.3630   88.464   \n",
       "22    0.0976    -8.928       0.1240   0.3880  169.979   \n",
       "23    0.2380   -10.650       0.0389   0.2720  149.873   \n",
       "24    0.0736   -10.561       0.1240   0.6490  100.014   \n",
       "25    0.1440   -10.879       0.4400   0.2310  123.608   \n",
       "26    0.1360   -10.545       0.0293   0.2050  149.964   \n",
       "27    0.0950   -13.542       0.2330   0.2750   83.814   \n",
       "28    0.1260   -12.110       0.0273   0.2810   90.205   \n",
       "29    0.1040   -11.257       0.1670   0.5510   92.031   \n",
       "30    0.2210   -11.141       0.0744   0.1960  109.239   \n",
       "31    0.2740    -8.555       0.0673   0.2730   80.045   \n",
       "32    0.3940    -8.730       0.0454   0.3000  115.983   \n",
       "33    0.1020   -11.312       0.0515   0.1760   93.469   \n",
       "34    0.3310    -9.086       0.0365   0.3110  150.164   \n",
       "35    0.1280    -9.670       0.1060   0.4860   83.951   \n",
       "36    0.0464   -10.122       0.0291   0.2430  145.899   \n",
       "37    0.1080    -7.052       0.0298   0.5760   82.966   \n",
       "38    0.1180   -11.138       0.0372   0.1120  129.826   \n",
       "39    0.1100   -14.141       0.0354   0.2000  138.017   \n",
       "40    0.1090    -7.478       0.0258   0.1140   82.626   \n",
       "41    0.2340   -10.020       0.0379   0.3030  170.214   \n",
       "42    0.0898    -6.762       0.0347   0.4590  173.831   \n",
       "43    0.1130   -10.669       0.0322   0.1490  148.004   \n",
       "44    0.1560    -5.809       0.0336   0.5160   83.685   \n",
       "45    0.0916   -11.684       0.0335   0.1050  130.505   \n",
       "46    0.1000   -11.391       0.0434   0.2370  175.941   \n",
       "47    0.1450   -11.316       0.0348   0.4770  116.899   \n",
       "48    0.0376    -5.130       0.0765   0.6660  164.066   \n",
       "49    0.2050    -6.534       0.0450   0.3940  140.080   \n",
       "50    0.1010    -6.964       0.0676   0.4480  102.989   \n",
       "51    0.5360    -9.379       0.0869   0.6060  100.033   \n",
       "\n",
       "                                     uri  \n",
       "0   spotify:track:47hXMyQDGW8sA1NGqmFL7h  \n",
       "1   spotify:track:1y7FoHfVtbZV6mONGJgU7j  \n",
       "2   spotify:track:0SHa9XHwYYB1UUmgbgHuhQ  \n",
       "3   spotify:track:3hB9lDLyAClYVZivMMl20N  \n",
       "4   spotify:track:0HuS5vFQd06cXV54I0twkV  \n",
       "5   spotify:track:3XWRc74od1pT7MUkGiJmoW  \n",
       "6   spotify:track:1kJvdhrr9MHOZ1e1PhTXTG  \n",
       "7   spotify:track:29YXX6TCgc7d5jz3BYF7Gc  \n",
       "8   spotify:track:7pgIbZ3tWdXLUAlofe3r2i  \n",
       "9   spotify:track:39lOHITmszIVH9WF4Jpbum  \n",
       "10  spotify:track:6Td37HXpeCVelczrLcg73L  \n",
       "11  spotify:track:3JkVYvxNoGf2HCWJo61462  \n",
       "12  spotify:track:1skGwRjc7wYY70PJCAkKMr  \n",
       "13  spotify:track:1w3exvIgbRFV2ijf6qyWm8  \n",
       "14  spotify:track:7cVe3mYMIfhOlz1NXFWv70  \n",
       "15  spotify:track:1O00WM9qGLUBA5gq2yw0WF  \n",
       "16  spotify:track:18sA3ZuFnaYvinSyc1EZ0M  \n",
       "17  spotify:track:3TB0OtQMzrPoNcmXfUMVzC  \n",
       "18  spotify:track:308ngBPHBQa8HW4n0PBUKh  \n",
       "19  spotify:track:5Mk3wOYG9Emd6SL5jVviZ7  \n",
       "20  spotify:track:1Dq6xyMtnxEdmVOjzV9caq  \n",
       "21  spotify:track:51sZc2sRnjxpTuzLnlkNbm  \n",
       "22  spotify:track:6D0RJju2TSMtZM1jsRc58S  \n",
       "23  spotify:track:5Y3OxkwWPuFZc5rRoJE45A  \n",
       "24  spotify:track:3ADku3uSBCVbRF7fAl1J43  \n",
       "25  spotify:track:2jUOGqov3TsX7wNHTMoIaJ  \n",
       "26  spotify:track:7EX4LadxtxQo6tboAkJWBU  \n",
       "27  spotify:track:7xJv0nURSYIPtgdwiNSqiy  \n",
       "28  spotify:track:4w0rTd0QIbsvVykYij8M7L  \n",
       "29  spotify:track:2Qn6WHJrY5Im82Jux8FboH  \n",
       "30  spotify:track:0QzuaeCEEOV40Pn7IvKEny  \n",
       "31  spotify:track:4t5joZkdlXlvzLXJbkgppJ  \n",
       "32  spotify:track:4MiZmaNIbvO7yY8UltCATD  \n",
       "33  spotify:track:6sWkR0Y0NsJN4Ov3vKAPIa  \n",
       "34  spotify:track:1KWbsqgeBi2WfqZ8Of494c  \n",
       "35  spotify:track:7mMzlK2pYVbgkUL1zaGGyV  \n",
       "36  spotify:track:3W2G2Bwt9UAM0sgUVhOC6E  \n",
       "37  spotify:track:37zPDZLuL3dgmI4hb6Yix0  \n",
       "38  spotify:track:4fwiUXTml7O24fL34JxFI7  \n",
       "39  spotify:track:5P6ZBMWS66FVo6deJaDdHy  \n",
       "40  spotify:track:4BafNHkkPaUocRMKi392MT  \n",
       "41  spotify:track:4qoD4IJbbir3hsAu4IowiG  \n",
       "42  spotify:track:79jxIFiRzVvJVPYiaqBTqK  \n",
       "43  spotify:track:56ZfDPbCCrJUyyxU2syt6c  \n",
       "44  spotify:track:4oQxCtf4WyMSiEE0k9kTUr  \n",
       "45  spotify:track:5F1Ml9CcAC4FnMAOEZDXYv  \n",
       "46  spotify:track:2gE7DT6krgEjU6qItbLdXZ  \n",
       "47  spotify:track:6UoygTjFvuC8pEGo2siNGM  \n",
       "48  spotify:track:3QCL4FJOSqLrFDJmcdNSbA  \n",
       "49  spotify:track:3edqjLVQrRPLvt9FAYUAsT  \n",
       "50  spotify:track:1rDQJd8kzwBRXeoTtojkQn  \n",
       "51  spotify:track:0YLSjVxSb5FT1Bo8Tnxr8j  "
      ]
     },
     "execution_count": 16,
     "metadata": {},
     "output_type": "execute_result"
    }
   ],
   "source": [
    "FeatureDF"
   ]
  },
  {
   "cell_type": "code",
   "execution_count": 17,
   "metadata": {},
   "outputs": [
    {
     "data": {
      "text/plain": [
       "<AxesSubplot: xlabel='key', ylabel='Count'>"
      ]
     },
     "execution_count": 17,
     "metadata": {},
     "output_type": "execute_result"
    },
    {
     "data": {
      "image/png": "[encoded data removed]",
      "text/plain": [
       "<Figure size 640x480 with 1 Axes>"
      ]
     },
     "metadata": {},
     "output_type": "display_data"
    }
   ],
   "source": [
    "sns.histplot(FeatureDF,x='key')"
   ]
  },
  {
   "cell_type": "markdown",
   "metadata": {},
   "source": [
    "0: Minor\n",
    "1: Major\n",
    "\n"
   ]
  },
  {
   "cell_type": "code",
   "execution_count": 11,
   "metadata": {},
   "outputs": [
    {
     "data": {
      "image/png": "[encoded data removed]",
      "text/plain": [
       "<Figure size 640x480 with 1 Axes>"
      ]
     },
     "metadata": {},
     "output_type": "display_data"
    }
   ],
   "source": [
    "mode = list(FeatureDF['mode'].value_counts().index)\n",
    "size = list(FeatureDF['mode'].value_counts())\n",
    "fig = plt.pie(size, labels=mode,autopct='%.0f%%')"
   ]
  },
  {
   "cell_type": "code",
   "execution_count": 21,
   "metadata": {},
   "outputs": [
    {
     "data": {
      "text/plain": [
       "Text(0.5, 1.0, 'valence')"
      ]
     },
     "execution_count": 21,
     "metadata": {},
     "output_type": "execute_result"
    },
    {
     "data": {
      "image/png": "[encoded data removed]",
      "text/plain": [
       "<Figure size 1600x1200 with 6 Axes>"
      ]
     },
     "metadata": {},
     "output_type": "display_data"
    }
   ],
   "source": [
    "plt.figure(figsize=(16,12))\n",
    "plt.subplot(2,3,1)\n",
    "plt.hist(FeatureDF['energy'])\n",
    "plt.title('Energy')\n",
    "plt.subplot(2,3,2)\n",
    "plt.hist(FeatureDF['danceability'])\n",
    "plt.title('danceability')\n",
    "plt.subplot(2,3,3)\n",
    "plt.hist(FeatureDF['speechiness'])\n",
    "plt.title('speechiness')\n",
    "plt.subplot(2,3,4)\n",
    "plt.hist(FeatureDF['acousticness'])\n",
    "plt.title('acousticness')\n",
    "plt.subplot(2,3,5)\n",
    "plt.hist(FeatureDF['liveness'])\n",
    "plt.title('liveness')\n",
    "plt.subplot(2,3,6)\n",
    "plt.hist(FeatureDF['valence'])\n",
    "plt.title('valence')"
   ]
  },
  {
   "cell_type": "code",
   "execution_count": null,
   "metadata": {},
   "outputs": [
    {
     "data": {
      "application/vnd.plotly.v1+json": {
       "config": {
        "plotlyServerURL": "https://plot.ly"
       },
       "data": [
        {
         "name": "Energy",
         "type": "histogram",
         "x": [
          0.356,
          0.31,
          0.525,
          0.678,
          0.669,
          0.247,
          0.58,
          0.459,
          0.481,
          0.488,
          0.254,
          0.786,
          0.543,
          0.599,
          0.675,
          0.667,
          0.415,
          0.39,
          0.436,
          0.277,
          0.39,
          0.589,
          0.661,
          0.35,
          0.364,
          0.459,
          0.429,
          0.458,
          0.229,
          0.501,
          0.436,
          0.454,
          0.543,
          0.405,
          0.446,
          0.516,
          0.313,
          0.56,
          0.161,
          0.265,
          0.381,
          0.349,
          0.451,
          0.301,
          0.588,
          0.172,
          0.0948,
          0.199,
          0.625,
          0.676,
          0.639,
          0.449
         ],
         "xaxis": "x",
         "yaxis": "y"
        },
        {
         "name": "Danceability",
         "type": "histogram",
         "x": [
          0.786,
          0.348,
          0.611,
          0.533,
          0.481,
          0.36,
          0.358,
          0.693,
          0.661,
          0.606,
          0.541,
          0.814,
          0.824,
          0.738,
          0.742,
          0.552,
          0.661,
          0.739,
          0.756,
          0.659,
          0.784,
          0.58,
          0.679,
          0.666,
          0.831,
          0.601,
          0.432,
          0.534,
          0.49,
          0.735,
          0.656,
          0.677,
          0.696,
          0.504,
          0.502,
          0.507,
          0.439,
          0.338,
          0.401,
          0.747,
          0.512,
          0.254,
          0.317,
          0.37,
          0.435,
          0.364,
          0.338,
          0.43,
          0.585,
          0.721,
          0.833,
          0.678
         ],
         "xaxis": "x2",
         "yaxis": "y2"
        },
        {
         "name": "Speechiness",
         "type": "histogram",
         "x": [
          0.0462,
          0.0413,
          0.0354,
          0.0256,
          0.455,
          0.0396,
          0.045,
          0.0407,
          0.0294,
          0.0255,
          0.0387,
          0.232,
          0.209,
          0.0393,
          0.0907,
          0.333,
          0.183,
          0.0918,
          0.0457,
          0.119,
          0.0615,
          0.327,
          0.124,
          0.0389,
          0.124,
          0.44,
          0.0293,
          0.233,
          0.0273,
          0.167,
          0.0744,
          0.0673,
          0.0454,
          0.0515,
          0.0365,
          0.106,
          0.0291,
          0.0298,
          0.0372,
          0.0354,
          0.0258,
          0.0379,
          0.0347,
          0.0322,
          0.0336,
          0.0335,
          0.0434,
          0.0348,
          0.0765,
          0.045,
          0.0676,
          0.0869
         ],
         "xaxis": "x3",
         "yaxis": "y3"
        },
        {
         "name": "Acousticness",
         "type": "histogram",
         "x": [
          0.771,
          0.845,
          0.767,
          0.663,
          0.92,
          0.838,
          0.768,
          0.733,
          0.662,
          0.597,
          0.929,
          0.069,
          0.101,
          0.434,
          0.139,
          0.0381,
          0.0202,
          0.0475,
          0.0554,
          0.443,
          0.286,
          0.343,
          0.0641,
          0.204,
          0.0268,
          0.195,
          0.0095,
          0.299,
          0.804,
          0.627,
          0.845,
          0.83,
          0.438,
          0.786,
          0.466,
          0.457,
          0.692,
          0.204,
          0.781,
          0.745,
          0.784,
          0.85,
          0.537,
          0.845,
          0.735,
          0.92,
          0.884,
          0.906,
          0.0444,
          0.0052,
          0.152,
          0.477
         ],
         "xaxis": "x4",
         "yaxis": "y4"
        },
        {
         "name": "Liveness",
         "type": "histogram",
         "x": [
          0.1,
          0.111,
          0.112,
          0.145,
          0.139,
          0.104,
          0.127,
          0.12,
          0.0789,
          0.184,
          0.101,
          0.0976,
          0.178,
          0.13,
          0.167,
          0.0777,
          0.31,
          0.0732,
          0.309,
          0.128,
          0.139,
          0.121,
          0.0976,
          0.238,
          0.0736,
          0.144,
          0.136,
          0.095,
          0.126,
          0.104,
          0.221,
          0.274,
          0.394,
          0.102,
          0.331,
          0.128,
          0.0464,
          0.108,
          0.118,
          0.11,
          0.109,
          0.234,
          0.0898,
          0.113,
          0.156,
          0.0916,
          0.1,
          0.145,
          0.0376,
          0.205,
          0.101,
          0.536
         ],
         "xaxis": "x5",
         "yaxis": "y5"
        },
        {
         "name": "Valence",
         "type": "histogram",
         "x": [
          0.519,
          0.0474,
          0.299,
          0.683,
          0.351,
          0.279,
          0.352,
          0.35,
          0.154,
          0.468,
          0.251,
          0.797,
          0.548,
          0.575,
          0.679,
          0.348,
          0.286,
          0.285,
          0.228,
          0.24,
          0.316,
          0.363,
          0.388,
          0.272,
          0.649,
          0.231,
          0.205,
          0.275,
          0.281,
          0.551,
          0.196,
          0.273,
          0.3,
          0.176,
          0.311,
          0.486,
          0.243,
          0.576,
          0.112,
          0.2,
          0.114,
          0.303,
          0.459,
          0.149,
          0.516,
          0.105,
          0.237,
          0.477,
          0.666,
          0.394,
          0.448,
          0.606
         ],
         "xaxis": "x6",
         "yaxis": "y6"
        }
       ],
       "layout": {
        "annotations": [
         {
          "font": {
           "size": 16
          },
          "showarrow": false,
          "text": "Energy",
          "x": 0.225,
          "xanchor": "center",
          "xref": "paper",
          "y": 1,
          "yanchor": "bottom",
          "yref": "paper"
         },
         {
          "font": {
           "size": 16
          },
          "showarrow": false,
          "text": "Danceability",
          "x": 0.775,
          "xanchor": "center",
          "xref": "paper",
          "y": 1,
          "yanchor": "bottom",
          "yref": "paper"
         },
         {
          "font": {
           "size": 16
          },
          "showarrow": false,
          "text": "Speechiness",
          "x": 0.225,
          "xanchor": "center",
          "xref": "paper",
          "y": 0.6111111111111112,
          "yanchor": "bottom",
          "yref": "paper"
         },
         {
          "font": {
           "size": 16
          },
          "showarrow": false,
          "text": "Acousticness",
          "x": 0.775,
          "xanchor": "center",
          "xref": "paper",
          "y": 0.6111111111111112,
          "yanchor": "bottom",
          "yref": "paper"
         },
         {
          "font": {
           "size": 16
          },
          "showarrow": false,
          "text": "Liveness",
          "x": 0.225,
          "xanchor": "center",
          "xref": "paper",
          "y": 0.22222222222222224,
          "yanchor": "bottom",
          "yref": "paper"
         },
         {
          "font": {
           "size": 16
          },
          "showarrow": false,
          "text": "Valence",
          "x": 0.775,
          "xanchor": "center",
          "xref": "paper",
          "y": 0.22222222222222224,
          "yanchor": "bottom",
          "yref": "paper"
         }
        ],
        "template": {
         "data": {
          "bar": [
           {
            "error_x": {
             "color": "#2a3f5f"
            },
            "error_y": {
             "color": "#2a3f5f"
            },
            "marker": {
             "line": {
              "color": "#E5ECF6",
              "width": 0.5
             },
             "pattern": {
              "fillmode": "overlay",
              "size": 10,
              "solidity": 0.2
             }
            },
            "type": "bar"
           }
          ],
          "barpolar": [
           {
            "marker": {
             "line": {
              "color": "#E5ECF6",
              "width": 0.5
             },
             "pattern": {
              "fillmode": "overlay",
              "size": 10,
              "solidity": 0.2
             }
            },
            "type": "barpolar"
           }
          ],
          "carpet": [
           {
            "aaxis": {
             "endlinecolor": "#2a3f5f",
             "gridcolor": "white",
             "linecolor": "white",
             "minorgridcolor": "white",
             "startlinecolor": "#2a3f5f"
            },
            "baxis": {
             "endlinecolor": "#2a3f5f",
             "gridcolor": "white",
             "linecolor": "white",
             "minorgridcolor": "white",
             "startlinecolor": "#2a3f5f"
            },
            "type": "carpet"
           }
          ],
          "choropleth": [
           {
            "colorbar": {
             "outlinewidth": 0,
             "ticks": ""
            },
            "type": "choropleth"
           }
          ],
          "contour": [
           {
            "colorbar": {
             "outlinewidth": 0,
             "ticks": ""
            },
            "colorscale": [
             [
              0,
              "#0d0887"
             ],
             [
              0.1111111111111111,
              "#46039f"
             ],
             [
              0.2222222222222222,
              "#7201a8"
             ],
             [
              0.3333333333333333,
              "#9c179e"
             ],
             [
              0.4444444444444444,
              "#bd3786"
             ],
             [
              0.5555555555555556,
              "#d8576b"
             ],
             [
              0.6666666666666666,
              "#ed7953"
             ],
             [
              0.7777777777777778,
              "#fb9f3a"
             ],
             [
              0.8888888888888888,
              "#fdca26"
             ],
             [
              1,
              "#f0f921"
             ]
            ],
            "type": "contour"
           }
          ],
          "contourcarpet": [
           {
            "colorbar": {
             "outlinewidth": 0,
             "ticks": ""
            },
            "type": "contourcarpet"
           }
          ],
          "heatmap": [
           {
            "colorbar": {
             "outlinewidth": 0,
             "ticks": ""
            },
            "colorscale": [
             [
              0,
              "#0d0887"
             ],
             [
              0.1111111111111111,
              "#46039f"
             ],
             [
              0.2222222222222222,
              "#7201a8"
             ],
             [
              0.3333333333333333,
              "#9c179e"
             ],
             [
              0.4444444444444444,
              "#bd3786"
             ],
             [
              0.5555555555555556,
              "#d8576b"
             ],
             [
              0.6666666666666666,
              "#ed7953"
             ],
             [
              0.7777777777777778,
              "#fb9f3a"
             ],
             [
              0.8888888888888888,
              "#fdca26"
             ],
             [
              1,
              "#f0f921"
             ]
            ],
            "type": "heatmap"
           }
          ],
          "heatmapgl": [
           {
            "colorbar": {
             "outlinewidth": 0,
             "ticks": ""
            },
            "colorscale": [
             [
              0,
              "#0d0887"
             ],
             [
              0.1111111111111111,
              "#46039f"
             ],
             [
              0.2222222222222222,
              "#7201a8"
             ],
             [
              0.3333333333333333,
              "#9c179e"
             ],
             [
              0.4444444444444444,
              "#bd3786"
             ],
             [
              0.5555555555555556,
              "#d8576b"
             ],
             [
              0.6666666666666666,
              "#ed7953"
             ],
             [
              0.7777777777777778,
              "#fb9f3a"
             ],
             [
              0.8888888888888888,
              "#fdca26"
             ],
             [
              1,
              "#f0f921"
             ]
            ],
            "type": "heatmapgl"
           }
          ],
          "histogram": [
           {
            "marker": {
             "pattern": {
              "fillmode": "overlay",
              "size": 10,
              "solidity": 0.2
             }
            },
            "type": "histogram"
           }
          ],
          "histogram2d": [
           {
            "colorbar": {
             "outlinewidth": 0,
             "ticks": ""
            },
            "colorscale": [
             [
              0,
              "#0d0887"
             ],
             [
              0.1111111111111111,
              "#46039f"
             ],
             [
              0.2222222222222222,
              "#7201a8"
             ],
             [
              0.3333333333333333,
              "#9c179e"
             ],
             [
              0.4444444444444444,
              "#bd3786"
             ],
             [
              0.5555555555555556,
              "#d8576b"
             ],
             [
              0.6666666666666666,
              "#ed7953"
             ],
             [
              0.7777777777777778,
              "#fb9f3a"
             ],
             [
              0.8888888888888888,
              "#fdca26"
             ],
             [
              1,
              "#f0f921"
             ]
            ],
            "type": "histogram2d"
           }
          ],
          "histogram2dcontour": [
           {
            "colorbar": {
             "outlinewidth": 0,
             "ticks": ""
            },
            "colorscale": [
             [
              0,
              "#0d0887"
             ],
             [
              0.1111111111111111,
              "#46039f"
             ],
             [
              0.2222222222222222,
              "#7201a8"
             ],
             [
              0.3333333333333333,
              "#9c179e"
             ],
             [
              0.4444444444444444,
              "#bd3786"
             ],
             [
              0.5555555555555556,
              "#d8576b"
             ],
             [
              0.6666666666666666,
              "#ed7953"
             ],
             [
              0.7777777777777778,
              "#fb9f3a"
             ],
             [
              0.8888888888888888,
              "#fdca26"
             ],
             [
              1,
              "#f0f921"
             ]
            ],
            "type": "histogram2dcontour"
           }
          ],
          "mesh3d": [
           {
            "colorbar": {
             "outlinewidth": 0,
             "ticks": ""
            },
            "type": "mesh3d"
           }
          ],
          "parcoords": [
           {
            "line": {
             "colorbar": {
              "outlinewidth": 0,
              "ticks": ""
             }
            },
            "type": "parcoords"
           }
          ],
          "pie": [
           {
            "automargin": true,
            "type": "pie"
           }
          ],
          "scatter": [
           {
            "fillpattern": {
             "fillmode": "overlay",
             "size": 10,
             "solidity": 0.2
            },
            "type": "scatter"
           }
          ],
          "scatter3d": [
           {
            "line": {
             "colorbar": {
              "outlinewidth": 0,
              "ticks": ""
             }
            },
            "marker": {
             "colorbar": {
              "outlinewidth": 0,
              "ticks": ""
             }
            },
            "type": "scatter3d"
           }
          ],
          "scattercarpet": [
           {
            "marker": {
             "colorbar": {
              "outlinewidth": 0,
              "ticks": ""
             }
            },
            "type": "scattercarpet"
           }
          ],
          "scattergeo": [
           {
            "marker": {
             "colorbar": {
              "outlinewidth": 0,
              "ticks": ""
             }
            },
            "type": "scattergeo"
           }
          ],
          "scattergl": [
           {
            "marker": {
             "colorbar": {
              "outlinewidth": 0,
              "ticks": ""
             }
            },
            "type": "scattergl"
           }
          ],
          "scattermapbox": [
           {
            "marker": {
             "colorbar": {
              "outlinewidth": 0,
              "ticks": ""
             }
            },
            "type": "scattermapbox"
           }
          ],
          "scatterpolar": [
           {
            "marker": {
             "colorbar": {
              "outlinewidth": 0,
              "ticks": ""
             }
            },
            "type": "scatterpolar"
           }
          ],
          "scatterpolargl": [
           {
            "marker": {
             "colorbar": {
              "outlinewidth": 0,
              "ticks": ""
             }
            },
            "type": "scatterpolargl"
           }
          ],
          "scatterternary": [
           {
            "marker": {
             "colorbar": {
              "outlinewidth": 0,
              "ticks": ""
             }
            },
            "type": "scatterternary"
           }
          ],
          "surface": [
           {
            "colorbar": {
             "outlinewidth": 0,
             "ticks": ""
            },
            "colorscale": [
             [
              0,
              "#0d0887"
             ],
             [
              0.1111111111111111,
              "#46039f"
             ],
             [
              0.2222222222222222,
              "#7201a8"
             ],
             [
              0.3333333333333333,
              "#9c179e"
             ],
             [
              0.4444444444444444,
              "#bd3786"
             ],
             [
              0.5555555555555556,
              "#d8576b"
             ],
             [
              0.6666666666666666,
              "#ed7953"
             ],
             [
              0.7777777777777778,
              "#fb9f3a"
             ],
             [
              0.8888888888888888,
              "#fdca26"
             ],
             [
              1,
              "#f0f921"
             ]
            ],
            "type": "surface"
           }
          ],
          "table": [
           {
            "cells": {
             "fill": {
              "color": "#EBF0F8"
             },
             "line": {
              "color": "white"
             }
            },
            "header": {
             "fill": {
              "color": "#C8D4E3"
             },
             "line": {
              "color": "white"
             }
            },
            "type": "table"
           }
          ]
         },
         "layout": {
          "annotationdefaults": {
           "arrowcolor": "#2a3f5f",
           "arrowhead": 0,
           "arrowwidth": 1
          },
          "autotypenumbers": "strict",
          "coloraxis": {
           "colorbar": {
            "outlinewidth": 0,
            "ticks": ""
           }
          },
          "colorscale": {
           "diverging": [
            [
             0,
             "#8e0152"
            ],
            [
             0.1,
             "#c51b7d"
            ],
            [
             0.2,
             "#de77ae"
            ],
            [
             0.3,
             "#f1b6da"
            ],
            [
             0.4,
             "#fde0ef"
            ],
            [
             0.5,
             "#f7f7f7"
            ],
            [
             0.6,
             "#e6f5d0"
            ],
            [
             0.7,
             "#b8e186"
            ],
            [
             0.8,
             "#7fbc41"
            ],
            [
             0.9,
             "#4d9221"
            ],
            [
             1,
             "#276419"
            ]
           ],
           "sequential": [
            [
             0,
             "#0d0887"
            ],
            [
             0.1111111111111111,
             "#46039f"
            ],
            [
             0.2222222222222222,
             "#7201a8"
            ],
            [
             0.3333333333333333,
             "#9c179e"
            ],
            [
             0.4444444444444444,
             "#bd3786"
            ],
            [
             0.5555555555555556,
             "#d8576b"
            ],
            [
             0.6666666666666666,
             "#ed7953"
            ],
            [
             0.7777777777777778,
             "#fb9f3a"
            ],
            [
             0.8888888888888888,
             "#fdca26"
            ],
            [
             1,
             "#f0f921"
            ]
           ],
           "sequentialminus": [
            [
             0,
             "#0d0887"
            ],
            [
             0.1111111111111111,
             "#46039f"
            ],
            [
             0.2222222222222222,
             "#7201a8"
            ],
            [
             0.3333333333333333,
             "#9c179e"
            ],
            [
             0.4444444444444444,
             "#bd3786"
            ],
            [
             0.5555555555555556,
             "#d8576b"
            ],
            [
             0.6666666666666666,
             "#ed7953"
            ],
            [
             0.7777777777777778,
             "#fb9f3a"
            ],
            [
             0.8888888888888888,
             "#fdca26"
            ],
            [
             1,
             "#f0f921"
            ]
           ]
          },
          "colorway": [
           "#636efa",
           "#EF553B",
           "#00cc96",
           "#ab63fa",
           "#FFA15A",
           "#19d3f3",
           "#FF6692",
           "#B6E880",
           "#FF97FF",
           "#FECB52"
          ],
          "font": {
           "color": "#2a3f5f"
          },
          "geo": {
           "bgcolor": "white",
           "lakecolor": "white",
           "landcolor": "#E5ECF6",
           "showlakes": true,
           "showland": true,
           "subunitcolor": "white"
          },
          "hoverlabel": {
           "align": "left"
          },
          "hovermode": "closest",
          "mapbox": {
           "style": "light"
          },
          "paper_bgcolor": "white",
          "plot_bgcolor": "#E5ECF6",
          "polar": {
           "angularaxis": {
            "gridcolor": "white",
            "linecolor": "white",
            "ticks": ""
           },
           "bgcolor": "#E5ECF6",
           "radialaxis": {
            "gridcolor": "white",
            "linecolor": "white",
            "ticks": ""
           }
          },
          "scene": {
           "xaxis": {
            "backgroundcolor": "#E5ECF6",
            "gridcolor": "white",
            "gridwidth": 2,
            "linecolor": "white",
            "showbackground": true,
            "ticks": "",
            "zerolinecolor": "white"
           },
           "yaxis": {
            "backgroundcolor": "#E5ECF6",
            "gridcolor": "white",
            "gridwidth": 2,
            "linecolor": "white",
            "showbackground": true,
            "ticks": "",
            "zerolinecolor": "white"
           },
           "zaxis": {
            "backgroundcolor": "#E5ECF6",
            "gridcolor": "white",
            "gridwidth": 2,
            "linecolor": "white",
            "showbackground": true,
            "ticks": "",
            "zerolinecolor": "white"
           }
          },
          "shapedefaults": {
           "line": {
            "color": "#2a3f5f"
           }
          },
          "ternary": {
           "aaxis": {
            "gridcolor": "white",
            "linecolor": "white",
            "ticks": ""
           },
           "baxis": {
            "gridcolor": "white",
            "linecolor": "white",
            "ticks": ""
           },
           "bgcolor": "#E5ECF6",
           "caxis": {
            "gridcolor": "white",
            "linecolor": "white",
            "ticks": ""
           }
          },
          "title": {
           "x": 0.05
          },
          "xaxis": {
           "automargin": true,
           "gridcolor": "white",
           "linecolor": "white",
           "ticks": "",
           "title": {
            "standoff": 15
           },
           "zerolinecolor": "white",
           "zerolinewidth": 2
          },
          "yaxis": {
           "automargin": true,
           "gridcolor": "white",
           "linecolor": "white",
           "ticks": "",
           "title": {
            "standoff": 15
           },
           "zerolinecolor": "white",
           "zerolinewidth": 2
          }
         }
        },
        "title": {
         "text": "Distribution of Spotify metrics of Playlist"
        },
        "xaxis": {
         "anchor": "y",
         "domain": [
          0,
          0.45
         ]
        },
        "xaxis2": {
         "anchor": "y2",
         "domain": [
          0.55,
          1
         ]
        },
        "xaxis3": {
         "anchor": "y3",
         "domain": [
          0,
          0.45
         ]
        },
        "xaxis4": {
         "anchor": "y4",
         "domain": [
          0.55,
          1
         ]
        },
        "xaxis5": {
         "anchor": "y5",
         "domain": [
          0,
          0.45
         ]
        },
        "xaxis6": {
         "anchor": "y6",
         "domain": [
          0.55,
          1
         ]
        },
        "yaxis": {
         "anchor": "x",
         "domain": [
          0.7777777777777778,
          1
         ]
        },
        "yaxis2": {
         "anchor": "x2",
         "domain": [
          0.7777777777777778,
          1
         ]
        },
        "yaxis3": {
         "anchor": "x3",
         "domain": [
          0.3888888888888889,
          0.6111111111111112
         ]
        },
        "yaxis4": {
         "anchor": "x4",
         "domain": [
          0.3888888888888889,
          0.6111111111111112
         ]
        },
        "yaxis5": {
         "anchor": "x5",
         "domain": [
          0,
          0.22222222222222224
         ]
        },
        "yaxis6": {
         "anchor": "x6",
         "domain": [
          0,
          0.22222222222222224
         ]
        }
       }
      }
     },
     "metadata": {},
     "output_type": "display_data"
    }
   ],
   "source": [
    "fig = make_subplots(rows=3, cols=2,\n",
    "                    subplot_titles = ['Energy', 'Danceability', 'Speechiness',\n",
    "                                      'Acousticness', 'Liveness', 'Valence'])\n",
    "fig.add_trace(sns.hist(x=, name = 'Energy'), row=1, col=1)\n",
    "fig.add_trace(sns.hist(x=FeatureDF['danceability'], name = 'Danceability'), row=1, col=2)\n",
    "fig.add_trace(sns.hist(x=FeatureDF['speechiness'], name = 'Speechiness'), row=2, col=1)\n",
    "fig.add_trace(sns.hist(x=FeatureDF['acousticness'], name = 'Acousticness'), row=2, col=2)\n",
    "fig.add_trace(sns.hist(x=FeatureDF['liveness'], name = 'Liveness'), row=3, col=1)\n",
    "fig.add_trace(sns.hist(x=FeatureDF['valence'], name = 'Valence'), row=3, col=2)\n",
    "fig.update_layout(title = \"Distribution of Spotify metrics of Playlist\")\n",
    "fig.show()"
   ]
  },
  {
   "cell_type": "code",
   "execution_count": 25,
   "metadata": {},
   "outputs": [
    {
     "data": {
      "text/html": [
       "<div>\n",
       "<style scoped>\n",
       "    .dataframe tbody tr th:only-of-type {\n",
       "        vertical-align: middle;\n",
       "    }\n",
       "\n",
       "    .dataframe tbody tr th {\n",
       "        vertical-align: top;\n",
       "    }\n",
       "\n",
       "    .dataframe thead th {\n",
       "        text-align: right;\n",
       "    }\n",
       "</style>\n",
       "<table border=\"1\" class=\"dataframe\">\n",
       "  <thead>\n",
       "    <tr style=\"text-align: right;\">\n",
       "      <th></th>\n",
       "      <th>playlist_uri</th>\n",
       "      <th>album</th>\n",
       "      <th>album_uri</th>\n",
       "      <th>artist</th>\n",
       "      <th>artist_uri</th>\n",
       "      <th>disc_number</th>\n",
       "      <th>duration_ms</th>\n",
       "      <th>name</th>\n",
       "      <th>popularity</th>\n",
       "      <th>explicit</th>\n",
       "      <th>uri</th>\n",
       "      <th>link</th>\n",
       "    </tr>\n",
       "  </thead>\n",
       "  <tbody>\n",
       "    <tr>\n",
       "      <th>0</th>\n",
       "      <td>spotify:playlist:7gKVccRxsOD0gKdUv63HoB</td>\n",
       "      <td>The Way That Lovers Do</td>\n",
       "      <td>spotify:album:4WLh56ZjwINYBNhaxLvEhA</td>\n",
       "      <td>Prateek Kuhad</td>\n",
       "      <td>spotify:artist:0tC995Rfn9k2l7nqgCZsV7</td>\n",
       "      <td>1</td>\n",
       "      <td>153693</td>\n",
       "      <td>All I Need</td>\n",
       "      <td>55</td>\n",
       "      <td>False</td>\n",
       "      <td>spotify:track:47hXMyQDGW8sA1NGqmFL7h</td>\n",
       "      <td>https://api.spotify.com/v1/tracks/47hXMyQDGW8s...</td>\n",
       "    </tr>\n",
       "    <tr>\n",
       "      <th>1</th>\n",
       "      <td>spotify:playlist:7gKVccRxsOD0gKdUv63HoB</td>\n",
       "      <td>The Way That Lovers Do</td>\n",
       "      <td>spotify:album:4WLh56ZjwINYBNhaxLvEhA</td>\n",
       "      <td>Prateek Kuhad</td>\n",
       "      <td>spotify:artist:0tC995Rfn9k2l7nqgCZsV7</td>\n",
       "      <td>1</td>\n",
       "      <td>204373</td>\n",
       "      <td>Hollow</td>\n",
       "      <td>40</td>\n",
       "      <td>False</td>\n",
       "      <td>spotify:track:1y7FoHfVtbZV6mONGJgU7j</td>\n",
       "      <td>https://api.spotify.com/v1/tracks/1y7FoHfVtbZV...</td>\n",
       "    </tr>\n",
       "    <tr>\n",
       "      <th>2</th>\n",
       "      <td>spotify:playlist:7gKVccRxsOD0gKdUv63HoB</td>\n",
       "      <td>The Way That Lovers Do</td>\n",
       "      <td>spotify:album:4WLh56ZjwINYBNhaxLvEhA</td>\n",
       "      <td>Prateek Kuhad</td>\n",
       "      <td>spotify:artist:0tC995Rfn9k2l7nqgCZsV7</td>\n",
       "      <td>1</td>\n",
       "      <td>193733</td>\n",
       "      <td>Favorite Peeps</td>\n",
       "      <td>44</td>\n",
       "      <td>False</td>\n",
       "      <td>spotify:track:0SHa9XHwYYB1UUmgbgHuhQ</td>\n",
       "      <td>https://api.spotify.com/v1/tracks/0SHa9XHwYYB1...</td>\n",
       "    </tr>\n",
       "    <tr>\n",
       "      <th>3</th>\n",
       "      <td>spotify:playlist:7gKVccRxsOD0gKdUv63HoB</td>\n",
       "      <td>The Way That Lovers Do</td>\n",
       "      <td>spotify:album:4WLh56ZjwINYBNhaxLvEhA</td>\n",
       "      <td>Prateek Kuhad</td>\n",
       "      <td>spotify:artist:0tC995Rfn9k2l7nqgCZsV7</td>\n",
       "      <td>1</td>\n",
       "      <td>163653</td>\n",
       "      <td>Co2</td>\n",
       "      <td>53</td>\n",
       "      <td>False</td>\n",
       "      <td>spotify:track:3hB9lDLyAClYVZivMMl20N</td>\n",
       "      <td>https://api.spotify.com/v1/tracks/3hB9lDLyAClY...</td>\n",
       "    </tr>\n",
       "    <tr>\n",
       "      <th>4</th>\n",
       "      <td>spotify:playlist:7gKVccRxsOD0gKdUv63HoB</td>\n",
       "      <td>The Way That Lovers Do</td>\n",
       "      <td>spotify:album:4WLh56ZjwINYBNhaxLvEhA</td>\n",
       "      <td>Prateek Kuhad</td>\n",
       "      <td>spotify:artist:0tC995Rfn9k2l7nqgCZsV7</td>\n",
       "      <td>1</td>\n",
       "      <td>184413</td>\n",
       "      <td>Face</td>\n",
       "      <td>39</td>\n",
       "      <td>False</td>\n",
       "      <td>spotify:track:0HuS5vFQd06cXV54I0twkV</td>\n",
       "      <td>https://api.spotify.com/v1/tracks/0HuS5vFQd06c...</td>\n",
       "    </tr>\n",
       "  </tbody>\n",
       "</table>\n",
       "</div>"
      ],
      "text/plain": [
       "                              playlist_uri                   album  \\\n",
       "0  spotify:playlist:7gKVccRxsOD0gKdUv63HoB  The Way That Lovers Do   \n",
       "1  spotify:playlist:7gKVccRxsOD0gKdUv63HoB  The Way That Lovers Do   \n",
       "2  spotify:playlist:7gKVccRxsOD0gKdUv63HoB  The Way That Lovers Do   \n",
       "3  spotify:playlist:7gKVccRxsOD0gKdUv63HoB  The Way That Lovers Do   \n",
       "4  spotify:playlist:7gKVccRxsOD0gKdUv63HoB  The Way That Lovers Do   \n",
       "\n",
       "                              album_uri         artist  \\\n",
       "0  spotify:album:4WLh56ZjwINYBNhaxLvEhA  Prateek Kuhad   \n",
       "1  spotify:album:4WLh56ZjwINYBNhaxLvEhA  Prateek Kuhad   \n",
       "2  spotify:album:4WLh56ZjwINYBNhaxLvEhA  Prateek Kuhad   \n",
       "3  spotify:album:4WLh56ZjwINYBNhaxLvEhA  Prateek Kuhad   \n",
       "4  spotify:album:4WLh56ZjwINYBNhaxLvEhA  Prateek Kuhad   \n",
       "\n",
       "                              artist_uri  disc_number  duration_ms  \\\n",
       "0  spotify:artist:0tC995Rfn9k2l7nqgCZsV7            1       153693   \n",
       "1  spotify:artist:0tC995Rfn9k2l7nqgCZsV7            1       204373   \n",
       "2  spotify:artist:0tC995Rfn9k2l7nqgCZsV7            1       193733   \n",
       "3  spotify:artist:0tC995Rfn9k2l7nqgCZsV7            1       163653   \n",
       "4  spotify:artist:0tC995Rfn9k2l7nqgCZsV7            1       184413   \n",
       "\n",
       "             name  popularity  explicit                                   uri  \\\n",
       "0      All I Need          55     False  spotify:track:47hXMyQDGW8sA1NGqmFL7h   \n",
       "1          Hollow          40     False  spotify:track:1y7FoHfVtbZV6mONGJgU7j   \n",
       "2  Favorite Peeps          44     False  spotify:track:0SHa9XHwYYB1UUmgbgHuhQ   \n",
       "3             Co2          53     False  spotify:track:3hB9lDLyAClYVZivMMl20N   \n",
       "4            Face          39     False  spotify:track:0HuS5vFQd06cXV54I0twkV   \n",
       "\n",
       "                                                link  \n",
       "0  https://api.spotify.com/v1/tracks/47hXMyQDGW8s...  \n",
       "1  https://api.spotify.com/v1/tracks/1y7FoHfVtbZV...  \n",
       "2  https://api.spotify.com/v1/tracks/0SHa9XHwYYB1...  \n",
       "3  https://api.spotify.com/v1/tracks/3hB9lDLyAClY...  \n",
       "4  https://api.spotify.com/v1/tracks/0HuS5vFQd06c...  "
      ]
     },
     "execution_count": 25,
     "metadata": {},
     "output_type": "execute_result"
    }
   ],
   "source": [
    "TracksDF.head()"
   ]
  },
  {
   "cell_type": "code",
   "execution_count": 26,
   "metadata": {},
   "outputs": [
    {
     "data": {
      "text/html": [
       "<div>\n",
       "<style scoped>\n",
       "    .dataframe tbody tr th:only-of-type {\n",
       "        vertical-align: middle;\n",
       "    }\n",
       "\n",
       "    .dataframe tbody tr th {\n",
       "        vertical-align: top;\n",
       "    }\n",
       "\n",
       "    .dataframe thead th {\n",
       "        text-align: right;\n",
       "    }\n",
       "</style>\n",
       "<table border=\"1\" class=\"dataframe\">\n",
       "  <thead>\n",
       "    <tr style=\"text-align: right;\">\n",
       "      <th></th>\n",
       "      <th>name</th>\n",
       "      <th>album</th>\n",
       "      <th>uri</th>\n",
       "      <th>artist</th>\n",
       "    </tr>\n",
       "  </thead>\n",
       "  <tbody>\n",
       "    <tr>\n",
       "      <th>0</th>\n",
       "      <td>0 to 100</td>\n",
       "      <td>No Name</td>\n",
       "      <td>spotify:track:7cVe3mYMIfhOlz1NXFWv70</td>\n",
       "      <td>Sidhu Moose Wala</td>\n",
       "    </tr>\n",
       "    <tr>\n",
       "      <th>1</th>\n",
       "      <td>051021</td>\n",
       "      <td>Scars &amp; Screws</td>\n",
       "      <td>spotify:track:6D0RJju2TSMtZM1jsRc58S</td>\n",
       "      <td>Shamoon Ismail,Talha Anjum</td>\n",
       "    </tr>\n",
       "    <tr>\n",
       "      <th>2</th>\n",
       "      <td>All I Need</td>\n",
       "      <td>The Way That Lovers Do</td>\n",
       "      <td>spotify:track:47hXMyQDGW8sA1NGqmFL7h</td>\n",
       "      <td>Prateek Kuhad</td>\n",
       "    </tr>\n",
       "    <tr>\n",
       "      <th>3</th>\n",
       "      <td>All Night Long</td>\n",
       "      <td>Scars &amp; Screws</td>\n",
       "      <td>spotify:track:308ngBPHBQa8HW4n0PBUKh</td>\n",
       "      <td>Shamoon Ismail</td>\n",
       "    </tr>\n",
       "    <tr>\n",
       "      <th>4</th>\n",
       "      <td>Ari Ari</td>\n",
       "      <td>Baaraat</td>\n",
       "      <td>spotify:track:3edqjLVQrRPLvt9FAYUAsT</td>\n",
       "      <td>Ritviz,Nucleya</td>\n",
       "    </tr>\n",
       "    <tr>\n",
       "      <th>5</th>\n",
       "      <td>Baaraat</td>\n",
       "      <td>Baaraat</td>\n",
       "      <td>spotify:track:0YLSjVxSb5FT1Bo8Tnxr8j</td>\n",
       "      <td>Ritviz,Nucleya</td>\n",
       "    </tr>\n",
       "    <tr>\n",
       "      <th>6</th>\n",
       "      <td>Bloodlust (feat. Mr. Capone-E)</td>\n",
       "      <td>No Name</td>\n",
       "      <td>spotify:track:1O00WM9qGLUBA5gq2yw0WF</td>\n",
       "      <td>Sidhu Moose Wala,Mr. Capone-E</td>\n",
       "    </tr>\n",
       "    <tr>\n",
       "      <th>7</th>\n",
       "      <td>Bloom</td>\n",
       "      <td>The Way That Lovers Do</td>\n",
       "      <td>spotify:track:39lOHITmszIVH9WF4Jpbum</td>\n",
       "      <td>Prateek Kuhad</td>\n",
       "    </tr>\n",
       "    <tr>\n",
       "      <th>8</th>\n",
       "      <td>Chaunde Ne Pharna</td>\n",
       "      <td>Scars &amp; Screws</td>\n",
       "      <td>spotify:track:18sA3ZuFnaYvinSyc1EZ0M</td>\n",
       "      <td>Shamoon Ismail</td>\n",
       "    </tr>\n",
       "    <tr>\n",
       "      <th>9</th>\n",
       "      <td>Co2</td>\n",
       "      <td>The Way That Lovers Do</td>\n",
       "      <td>spotify:track:3hB9lDLyAClYVZivMMl20N</td>\n",
       "      <td>Prateek Kuhad</td>\n",
       "    </tr>\n",
       "    <tr>\n",
       "      <th>10</th>\n",
       "      <td>Cocaine</td>\n",
       "      <td>Scars &amp; Screws</td>\n",
       "      <td>spotify:track:5Mk3wOYG9Emd6SL5jVviZ7</td>\n",
       "      <td>Shamoon Ismail</td>\n",
       "    </tr>\n",
       "    <tr>\n",
       "      <th>11</th>\n",
       "      <td>D'Arline</td>\n",
       "      <td>The Civil Wars</td>\n",
       "      <td>spotify:track:6UoygTjFvuC8pEGo2siNGM</td>\n",
       "      <td>The Civil Wars</td>\n",
       "    </tr>\n",
       "    <tr>\n",
       "      <th>12</th>\n",
       "      <td>Devil's Backbone</td>\n",
       "      <td>The Civil Wars</td>\n",
       "      <td>spotify:track:4qoD4IJbbir3hsAu4IowiG</td>\n",
       "      <td>The Civil Wars</td>\n",
       "    </tr>\n",
       "    <tr>\n",
       "      <th>13</th>\n",
       "      <td>Disarm</td>\n",
       "      <td>The Civil Wars</td>\n",
       "      <td>spotify:track:5F1Ml9CcAC4FnMAOEZDXYv</td>\n",
       "      <td>The Civil Wars</td>\n",
       "    </tr>\n",
       "    <tr>\n",
       "      <th>14</th>\n",
       "      <td>Drown</td>\n",
       "      <td>The Way That Lovers Do</td>\n",
       "      <td>spotify:track:1kJvdhrr9MHOZ1e1PhTXTG</td>\n",
       "      <td>Prateek Kuhad</td>\n",
       "    </tr>\n",
       "    <tr>\n",
       "      <th>15</th>\n",
       "      <td>Dust to Dust</td>\n",
       "      <td>The Civil Wars</td>\n",
       "      <td>spotify:track:5P6ZBMWS66FVo6deJaDdHy</td>\n",
       "      <td>The Civil Wars</td>\n",
       "    </tr>\n",
       "    <tr>\n",
       "      <th>16</th>\n",
       "      <td>Eavesdrop</td>\n",
       "      <td>The Civil Wars</td>\n",
       "      <td>spotify:track:4BafNHkkPaUocRMKi392MT</td>\n",
       "      <td>The Civil Wars</td>\n",
       "    </tr>\n",
       "    <tr>\n",
       "      <th>17</th>\n",
       "      <td>Everybody Hurts</td>\n",
       "      <td>No Name</td>\n",
       "      <td>spotify:track:1w3exvIgbRFV2ijf6qyWm8</td>\n",
       "      <td>Sidhu Moose Wala</td>\n",
       "    </tr>\n",
       "    <tr>\n",
       "      <th>18</th>\n",
       "      <td>Faasla</td>\n",
       "      <td>Scars &amp; Screws</td>\n",
       "      <td>spotify:track:3TB0OtQMzrPoNcmXfUMVzC</td>\n",
       "      <td>Shamoon Ismail,Hasan Raheem</td>\n",
       "    </tr>\n",
       "    <tr>\n",
       "      <th>19</th>\n",
       "      <td>Face</td>\n",
       "      <td>The Way That Lovers Do</td>\n",
       "      <td>spotify:track:0HuS5vFQd06cXV54I0twkV</td>\n",
       "      <td>Prateek Kuhad</td>\n",
       "    </tr>\n",
       "    <tr>\n",
       "      <th>20</th>\n",
       "      <td>Favorite Peeps</td>\n",
       "      <td>The Way That Lovers Do</td>\n",
       "      <td>spotify:track:0SHa9XHwYYB1UUmgbgHuhQ</td>\n",
       "      <td>Prateek Kuhad</td>\n",
       "    </tr>\n",
       "    <tr>\n",
       "      <th>21</th>\n",
       "      <td>From This Valley</td>\n",
       "      <td>The Civil Wars</td>\n",
       "      <td>spotify:track:79jxIFiRzVvJVPYiaqBTqK</td>\n",
       "      <td>The Civil Wars</td>\n",
       "    </tr>\n",
       "    <tr>\n",
       "      <th>22</th>\n",
       "      <td>Full Time Lover</td>\n",
       "      <td>The Way That Lovers Do</td>\n",
       "      <td>spotify:track:6Td37HXpeCVelczrLcg73L</td>\n",
       "      <td>Prateek Kuhad</td>\n",
       "    </tr>\n",
       "    <tr>\n",
       "      <th>23</th>\n",
       "      <td>Heartbroken</td>\n",
       "      <td>The Way That Lovers Do</td>\n",
       "      <td>spotify:track:7pgIbZ3tWdXLUAlofe3r2i</td>\n",
       "      <td>Prateek Kuhad</td>\n",
       "    </tr>\n",
       "    <tr>\n",
       "      <th>24</th>\n",
       "      <td>Hollow</td>\n",
       "      <td>The Way That Lovers Do</td>\n",
       "      <td>spotify:track:1y7FoHfVtbZV6mONGJgU7j</td>\n",
       "      <td>Prateek Kuhad</td>\n",
       "    </tr>\n",
       "    <tr>\n",
       "      <th>25</th>\n",
       "      <td>I Had Me a Girl</td>\n",
       "      <td>The Civil Wars</td>\n",
       "      <td>spotify:track:37zPDZLuL3dgmI4hb6Yix0</td>\n",
       "      <td>The Civil Wars</td>\n",
       "    </tr>\n",
       "    <tr>\n",
       "      <th>26</th>\n",
       "      <td>Into The Sunset</td>\n",
       "      <td>Scars &amp; Screws</td>\n",
       "      <td>spotify:track:7xJv0nURSYIPtgdwiNSqiy</td>\n",
       "      <td>Shamoon Ismail</td>\n",
       "    </tr>\n",
       "    <tr>\n",
       "      <th>27</th>\n",
       "      <td>Just A Word</td>\n",
       "      <td>The Way That Lovers Do</td>\n",
       "      <td>spotify:track:3XWRc74od1pT7MUkGiJmoW</td>\n",
       "      <td>Prateek Kuhad</td>\n",
       "    </tr>\n",
       "    <tr>\n",
       "      <th>28</th>\n",
       "      <td>Load Out</td>\n",
       "      <td>Scars &amp; Screws</td>\n",
       "      <td>spotify:track:1Dq6xyMtnxEdmVOjzV9caq</td>\n",
       "      <td>Shamoon Ismail,Talhah Yunus</td>\n",
       "    </tr>\n",
       "    <tr>\n",
       "      <th>29</th>\n",
       "      <td>Location</td>\n",
       "      <td>Scars &amp; Screws</td>\n",
       "      <td>spotify:track:3ADku3uSBCVbRF7fAl1J43</td>\n",
       "      <td>Shamoon Ismail</td>\n",
       "    </tr>\n",
       "    <tr>\n",
       "      <th>30</th>\n",
       "      <td>Lockdown Freestyle</td>\n",
       "      <td>Scars &amp; Screws</td>\n",
       "      <td>spotify:track:2jUOGqov3TsX7wNHTMoIaJ</td>\n",
       "      <td>Shamoon Ismail</td>\n",
       "    </tr>\n",
       "    <tr>\n",
       "      <th>31</th>\n",
       "      <td>Love Sick</td>\n",
       "      <td>No Name</td>\n",
       "      <td>spotify:track:1skGwRjc7wYY70PJCAkKMr</td>\n",
       "      <td>Sidhu Moose Wala,AR Paisley</td>\n",
       "    </tr>\n",
       "    <tr>\n",
       "      <th>32</th>\n",
       "      <td>Never Fold</td>\n",
       "      <td>No Name</td>\n",
       "      <td>spotify:track:3JkVYvxNoGf2HCWJo61462</td>\n",
       "      <td>Sidhu Moose Wala,Sunny Malton,SOE</td>\n",
       "    </tr>\n",
       "    <tr>\n",
       "      <th>33</th>\n",
       "      <td>Oh Henry</td>\n",
       "      <td>The Civil Wars</td>\n",
       "      <td>spotify:track:4oQxCtf4WyMSiEE0k9kTUr</td>\n",
       "      <td>The Civil Wars</td>\n",
       "    </tr>\n",
       "    <tr>\n",
       "      <th>34</th>\n",
       "      <td>Promises</td>\n",
       "      <td>Scars &amp; Screws</td>\n",
       "      <td>spotify:track:5Y3OxkwWPuFZc5rRoJE45A</td>\n",
       "      <td>Shamoon Ismail,Annural Khalid</td>\n",
       "    </tr>\n",
       "    <tr>\n",
       "      <th>35</th>\n",
       "      <td>Promises (Rovalio Mix)</td>\n",
       "      <td>Scars &amp; Screws</td>\n",
       "      <td>spotify:track:7EX4LadxtxQo6tboAkJWBU</td>\n",
       "      <td>Shamoon Ismail</td>\n",
       "    </tr>\n",
       "    <tr>\n",
       "      <th>36</th>\n",
       "      <td>Roz</td>\n",
       "      <td>Baaraat</td>\n",
       "      <td>spotify:track:1rDQJd8kzwBRXeoTtojkQn</td>\n",
       "      <td>Ritviz,Nucleya</td>\n",
       "    </tr>\n",
       "    <tr>\n",
       "      <th>37</th>\n",
       "      <td>Sacred Heart</td>\n",
       "      <td>The Civil Wars</td>\n",
       "      <td>spotify:track:2gE7DT6krgEjU6qItbLdXZ</td>\n",
       "      <td>The Civil Wars</td>\n",
       "    </tr>\n",
       "    <tr>\n",
       "      <th>38</th>\n",
       "      <td>Same Old Same Old</td>\n",
       "      <td>The Civil Wars</td>\n",
       "      <td>spotify:track:4fwiUXTml7O24fL34JxFI7</td>\n",
       "      <td>The Civil Wars</td>\n",
       "    </tr>\n",
       "    <tr>\n",
       "      <th>39</th>\n",
       "      <td>Sathi</td>\n",
       "      <td>Baaraat</td>\n",
       "      <td>spotify:track:3QCL4FJOSqLrFDJmcdNSbA</td>\n",
       "      <td>Ritviz,Nucleya</td>\n",
       "    </tr>\n",
       "    <tr>\n",
       "      <th>40</th>\n",
       "      <td>Scars &amp; Screws</td>\n",
       "      <td>Scars &amp; Screws</td>\n",
       "      <td>spotify:track:51sZc2sRnjxpTuzLnlkNbm</td>\n",
       "      <td>Shamoon Ismail</td>\n",
       "    </tr>\n",
       "    <tr>\n",
       "      <th>41</th>\n",
       "      <td>Tell Mama</td>\n",
       "      <td>The Civil Wars</td>\n",
       "      <td>spotify:track:56ZfDPbCCrJUyyxU2syt6c</td>\n",
       "      <td>The Civil Wars</td>\n",
       "    </tr>\n",
       "    <tr>\n",
       "      <th>42</th>\n",
       "      <td>The Last Time</td>\n",
       "      <td>The Way That Lovers Do</td>\n",
       "      <td>spotify:track:29YXX6TCgc7d5jz3BYF7Gc</td>\n",
       "      <td>Prateek Kuhad</td>\n",
       "    </tr>\n",
       "    <tr>\n",
       "      <th>43</th>\n",
       "      <td>The One That Got Away</td>\n",
       "      <td>The Civil Wars</td>\n",
       "      <td>spotify:track:3W2G2Bwt9UAM0sgUVhOC6E</td>\n",
       "      <td>The Civil Wars</td>\n",
       "    </tr>\n",
       "    <tr>\n",
       "      <th>44</th>\n",
       "      <td>airplane thoughts</td>\n",
       "      <td>rapunzel</td>\n",
       "      <td>spotify:track:4t5joZkdlXlvzLXJbkgppJ</td>\n",
       "      <td>dhruv</td>\n",
       "    </tr>\n",
       "    <tr>\n",
       "      <th>45</th>\n",
       "      <td>double take</td>\n",
       "      <td>rapunzel</td>\n",
       "      <td>spotify:track:0QzuaeCEEOV40Pn7IvKEny</td>\n",
       "      <td>dhruv</td>\n",
       "    </tr>\n",
       "    <tr>\n",
       "      <th>46</th>\n",
       "      <td>grateful</td>\n",
       "      <td>rapunzel</td>\n",
       "      <td>spotify:track:7mMzlK2pYVbgkUL1zaGGyV</td>\n",
       "      <td>dhruv</td>\n",
       "    </tr>\n",
       "    <tr>\n",
       "      <th>47</th>\n",
       "      <td>moonlight</td>\n",
       "      <td>rapunzel</td>\n",
       "      <td>spotify:track:2Qn6WHJrY5Im82Jux8FboH</td>\n",
       "      <td>dhruv</td>\n",
       "    </tr>\n",
       "    <tr>\n",
       "      <th>48</th>\n",
       "      <td>retrograde</td>\n",
       "      <td>rapunzel</td>\n",
       "      <td>spotify:track:4w0rTd0QIbsvVykYij8M7L</td>\n",
       "      <td>dhruv</td>\n",
       "    </tr>\n",
       "    <tr>\n",
       "      <th>49</th>\n",
       "      <td>stable life</td>\n",
       "      <td>rapunzel</td>\n",
       "      <td>spotify:track:1KWbsqgeBi2WfqZ8Of494c</td>\n",
       "      <td>dhruv</td>\n",
       "    </tr>\n",
       "    <tr>\n",
       "      <th>50</th>\n",
       "      <td>vulnerable</td>\n",
       "      <td>rapunzel</td>\n",
       "      <td>spotify:track:4MiZmaNIbvO7yY8UltCATD</td>\n",
       "      <td>dhruv</td>\n",
       "    </tr>\n",
       "    <tr>\n",
       "      <th>51</th>\n",
       "      <td>what's wrong with me?</td>\n",
       "      <td>rapunzel</td>\n",
       "      <td>spotify:track:6sWkR0Y0NsJN4Ov3vKAPIa</td>\n",
       "      <td>dhruv</td>\n",
       "    </tr>\n",
       "  </tbody>\n",
       "</table>\n",
       "</div>"
      ],
      "text/plain": [
       "                              name                   album  \\\n",
       "0                         0 to 100                 No Name   \n",
       "1                           051021          Scars & Screws   \n",
       "2                       All I Need  The Way That Lovers Do   \n",
       "3                   All Night Long          Scars & Screws   \n",
       "4                          Ari Ari                 Baaraat   \n",
       "5                          Baaraat                 Baaraat   \n",
       "6   Bloodlust (feat. Mr. Capone-E)                 No Name   \n",
       "7                            Bloom  The Way That Lovers Do   \n",
       "8                Chaunde Ne Pharna          Scars & Screws   \n",
       "9                              Co2  The Way That Lovers Do   \n",
       "10                         Cocaine          Scars & Screws   \n",
       "11                        D'Arline          The Civil Wars   \n",
       "12                Devil's Backbone          The Civil Wars   \n",
       "13                          Disarm          The Civil Wars   \n",
       "14                           Drown  The Way That Lovers Do   \n",
       "15                    Dust to Dust          The Civil Wars   \n",
       "16                       Eavesdrop          The Civil Wars   \n",
       "17                 Everybody Hurts                 No Name   \n",
       "18                          Faasla          Scars & Screws   \n",
       "19                            Face  The Way That Lovers Do   \n",
       "20                  Favorite Peeps  The Way That Lovers Do   \n",
       "21                From This Valley          The Civil Wars   \n",
       "22                 Full Time Lover  The Way That Lovers Do   \n",
       "23                     Heartbroken  The Way That Lovers Do   \n",
       "24                          Hollow  The Way That Lovers Do   \n",
       "25                 I Had Me a Girl          The Civil Wars   \n",
       "26                 Into The Sunset          Scars & Screws   \n",
       "27                     Just A Word  The Way That Lovers Do   \n",
       "28                        Load Out          Scars & Screws   \n",
       "29                        Location          Scars & Screws   \n",
       "30              Lockdown Freestyle          Scars & Screws   \n",
       "31                       Love Sick                 No Name   \n",
       "32                      Never Fold                 No Name   \n",
       "33                        Oh Henry          The Civil Wars   \n",
       "34                        Promises          Scars & Screws   \n",
       "35          Promises (Rovalio Mix)          Scars & Screws   \n",
       "36                             Roz                 Baaraat   \n",
       "37                    Sacred Heart          The Civil Wars   \n",
       "38               Same Old Same Old          The Civil Wars   \n",
       "39                           Sathi                 Baaraat   \n",
       "40                  Scars & Screws          Scars & Screws   \n",
       "41                       Tell Mama          The Civil Wars   \n",
       "42                   The Last Time  The Way That Lovers Do   \n",
       "43           The One That Got Away          The Civil Wars   \n",
       "44               airplane thoughts                rapunzel   \n",
       "45                     double take                rapunzel   \n",
       "46                        grateful                rapunzel   \n",
       "47                       moonlight                rapunzel   \n",
       "48                      retrograde                rapunzel   \n",
       "49                     stable life                rapunzel   \n",
       "50                      vulnerable                rapunzel   \n",
       "51           what's wrong with me?                rapunzel   \n",
       "\n",
       "                                     uri                             artist  \n",
       "0   spotify:track:7cVe3mYMIfhOlz1NXFWv70                   Sidhu Moose Wala  \n",
       "1   spotify:track:6D0RJju2TSMtZM1jsRc58S         Shamoon Ismail,Talha Anjum  \n",
       "2   spotify:track:47hXMyQDGW8sA1NGqmFL7h                      Prateek Kuhad  \n",
       "3   spotify:track:308ngBPHBQa8HW4n0PBUKh                     Shamoon Ismail  \n",
       "4   spotify:track:3edqjLVQrRPLvt9FAYUAsT                     Ritviz,Nucleya  \n",
       "5   spotify:track:0YLSjVxSb5FT1Bo8Tnxr8j                     Ritviz,Nucleya  \n",
       "6   spotify:track:1O00WM9qGLUBA5gq2yw0WF      Sidhu Moose Wala,Mr. Capone-E  \n",
       "7   spotify:track:39lOHITmszIVH9WF4Jpbum                      Prateek Kuhad  \n",
       "8   spotify:track:18sA3ZuFnaYvinSyc1EZ0M                     Shamoon Ismail  \n",
       "9   spotify:track:3hB9lDLyAClYVZivMMl20N                      Prateek Kuhad  \n",
       "10  spotify:track:5Mk3wOYG9Emd6SL5jVviZ7                     Shamoon Ismail  \n",
       "11  spotify:track:6UoygTjFvuC8pEGo2siNGM                     The Civil Wars  \n",
       "12  spotify:track:4qoD4IJbbir3hsAu4IowiG                     The Civil Wars  \n",
       "13  spotify:track:5F1Ml9CcAC4FnMAOEZDXYv                     The Civil Wars  \n",
       "14  spotify:track:1kJvdhrr9MHOZ1e1PhTXTG                      Prateek Kuhad  \n",
       "15  spotify:track:5P6ZBMWS66FVo6deJaDdHy                     The Civil Wars  \n",
       "16  spotify:track:4BafNHkkPaUocRMKi392MT                     The Civil Wars  \n",
       "17  spotify:track:1w3exvIgbRFV2ijf6qyWm8                   Sidhu Moose Wala  \n",
       "18  spotify:track:3TB0OtQMzrPoNcmXfUMVzC        Shamoon Ismail,Hasan Raheem  \n",
       "19  spotify:track:0HuS5vFQd06cXV54I0twkV                      Prateek Kuhad  \n",
       "20  spotify:track:0SHa9XHwYYB1UUmgbgHuhQ                      Prateek Kuhad  \n",
       "21  spotify:track:79jxIFiRzVvJVPYiaqBTqK                     The Civil Wars  \n",
       "22  spotify:track:6Td37HXpeCVelczrLcg73L                      Prateek Kuhad  \n",
       "23  spotify:track:7pgIbZ3tWdXLUAlofe3r2i                      Prateek Kuhad  \n",
       "24  spotify:track:1y7FoHfVtbZV6mONGJgU7j                      Prateek Kuhad  \n",
       "25  spotify:track:37zPDZLuL3dgmI4hb6Yix0                     The Civil Wars  \n",
       "26  spotify:track:7xJv0nURSYIPtgdwiNSqiy                     Shamoon Ismail  \n",
       "27  spotify:track:3XWRc74od1pT7MUkGiJmoW                      Prateek Kuhad  \n",
       "28  spotify:track:1Dq6xyMtnxEdmVOjzV9caq        Shamoon Ismail,Talhah Yunus  \n",
       "29  spotify:track:3ADku3uSBCVbRF7fAl1J43                     Shamoon Ismail  \n",
       "30  spotify:track:2jUOGqov3TsX7wNHTMoIaJ                     Shamoon Ismail  \n",
       "31  spotify:track:1skGwRjc7wYY70PJCAkKMr        Sidhu Moose Wala,AR Paisley  \n",
       "32  spotify:track:3JkVYvxNoGf2HCWJo61462  Sidhu Moose Wala,Sunny Malton,SOE  \n",
       "33  spotify:track:4oQxCtf4WyMSiEE0k9kTUr                     The Civil Wars  \n",
       "34  spotify:track:5Y3OxkwWPuFZc5rRoJE45A      Shamoon Ismail,Annural Khalid  \n",
       "35  spotify:track:7EX4LadxtxQo6tboAkJWBU                     Shamoon Ismail  \n",
       "36  spotify:track:1rDQJd8kzwBRXeoTtojkQn                     Ritviz,Nucleya  \n",
       "37  spotify:track:2gE7DT6krgEjU6qItbLdXZ                     The Civil Wars  \n",
       "38  spotify:track:4fwiUXTml7O24fL34JxFI7                     The Civil Wars  \n",
       "39  spotify:track:3QCL4FJOSqLrFDJmcdNSbA                     Ritviz,Nucleya  \n",
       "40  spotify:track:51sZc2sRnjxpTuzLnlkNbm                     Shamoon Ismail  \n",
       "41  spotify:track:56ZfDPbCCrJUyyxU2syt6c                     The Civil Wars  \n",
       "42  spotify:track:29YXX6TCgc7d5jz3BYF7Gc                      Prateek Kuhad  \n",
       "43  spotify:track:3W2G2Bwt9UAM0sgUVhOC6E                     The Civil Wars  \n",
       "44  spotify:track:4t5joZkdlXlvzLXJbkgppJ                              dhruv  \n",
       "45  spotify:track:0QzuaeCEEOV40Pn7IvKEny                              dhruv  \n",
       "46  spotify:track:7mMzlK2pYVbgkUL1zaGGyV                              dhruv  \n",
       "47  spotify:track:2Qn6WHJrY5Im82Jux8FboH                              dhruv  \n",
       "48  spotify:track:4w0rTd0QIbsvVykYij8M7L                              dhruv  \n",
       "49  spotify:track:1KWbsqgeBi2WfqZ8Of494c                              dhruv  \n",
       "50  spotify:track:4MiZmaNIbvO7yY8UltCATD                              dhruv  \n",
       "51  spotify:track:6sWkR0Y0NsJN4Ov3vKAPIa                              dhruv  "
      ]
     },
     "execution_count": 26,
     "metadata": {},
     "output_type": "execute_result"
    }
   ],
   "source": [
    "tracksDF2 = TracksDF.groupby(['name','album','uri'])['artist'].apply(','.join).reset_index()\n",
    "# tracksDF2 = TracksDF.groupby('album').agg(lambda x: ''.join(set(x)))\n",
    "# tracksDF2 = TracksDF.groupby(['album','name','uri'])['artist'].apply(','.join).reset_index()\n",
    "tracksDF2"
   ]
  },
  {
   "cell_type": "code",
   "execution_count": 27,
   "metadata": {},
   "outputs": [
    {
     "data": {
      "text/html": [
       "<div>\n",
       "<style scoped>\n",
       "    .dataframe tbody tr th:only-of-type {\n",
       "        vertical-align: middle;\n",
       "    }\n",
       "\n",
       "    .dataframe tbody tr th {\n",
       "        vertical-align: top;\n",
       "    }\n",
       "\n",
       "    .dataframe thead th {\n",
       "        text-align: right;\n",
       "    }\n",
       "</style>\n",
       "<table border=\"1\" class=\"dataframe\">\n",
       "  <thead>\n",
       "    <tr style=\"text-align: right;\">\n",
       "      <th></th>\n",
       "      <th>name</th>\n",
       "      <th>album</th>\n",
       "      <th>uri</th>\n",
       "      <th>artist</th>\n",
       "      <th>playlist_uri</th>\n",
       "      <th>duration_ms</th>\n",
       "      <th>key</th>\n",
       "      <th>mode</th>\n",
       "      <th>time_signature</th>\n",
       "      <th>acousticness</th>\n",
       "      <th>danceability</th>\n",
       "      <th>energy</th>\n",
       "      <th>instrumentalness</th>\n",
       "      <th>liveness</th>\n",
       "      <th>loudness</th>\n",
       "      <th>speechiness</th>\n",
       "      <th>valence</th>\n",
       "      <th>tempo</th>\n",
       "    </tr>\n",
       "  </thead>\n",
       "  <tbody>\n",
       "    <tr>\n",
       "      <th>0</th>\n",
       "      <td>0 to 100</td>\n",
       "      <td>No Name</td>\n",
       "      <td>spotify:track:7cVe3mYMIfhOlz1NXFWv70</td>\n",
       "      <td>Sidhu Moose Wala</td>\n",
       "      <td>spotify:playlist:7gKVccRxsOD0gKdUv63HoB</td>\n",
       "      <td>108493</td>\n",
       "      <td>8</td>\n",
       "      <td>1</td>\n",
       "      <td>4</td>\n",
       "      <td>0.1390</td>\n",
       "      <td>0.742</td>\n",
       "      <td>0.675</td>\n",
       "      <td>0.000000</td>\n",
       "      <td>0.1670</td>\n",
       "      <td>-6.551</td>\n",
       "      <td>0.0907</td>\n",
       "      <td>0.679</td>\n",
       "      <td>145.989</td>\n",
       "    </tr>\n",
       "    <tr>\n",
       "      <th>1</th>\n",
       "      <td>051021</td>\n",
       "      <td>Scars &amp; Screws</td>\n",
       "      <td>spotify:track:6D0RJju2TSMtZM1jsRc58S</td>\n",
       "      <td>Shamoon Ismail,Talha Anjum</td>\n",
       "      <td>spotify:playlist:7gKVccRxsOD0gKdUv63HoB</td>\n",
       "      <td>211544</td>\n",
       "      <td>2</td>\n",
       "      <td>1</td>\n",
       "      <td>4</td>\n",
       "      <td>0.0641</td>\n",
       "      <td>0.679</td>\n",
       "      <td>0.661</td>\n",
       "      <td>0.003270</td>\n",
       "      <td>0.0976</td>\n",
       "      <td>-8.928</td>\n",
       "      <td>0.1240</td>\n",
       "      <td>0.388</td>\n",
       "      <td>169.979</td>\n",
       "    </tr>\n",
       "    <tr>\n",
       "      <th>2</th>\n",
       "      <td>All I Need</td>\n",
       "      <td>The Way That Lovers Do</td>\n",
       "      <td>spotify:track:47hXMyQDGW8sA1NGqmFL7h</td>\n",
       "      <td>Prateek Kuhad</td>\n",
       "      <td>spotify:playlist:7gKVccRxsOD0gKdUv63HoB</td>\n",
       "      <td>153693</td>\n",
       "      <td>6</td>\n",
       "      <td>1</td>\n",
       "      <td>4</td>\n",
       "      <td>0.7710</td>\n",
       "      <td>0.786</td>\n",
       "      <td>0.356</td>\n",
       "      <td>0.694000</td>\n",
       "      <td>0.1000</td>\n",
       "      <td>-11.432</td>\n",
       "      <td>0.0462</td>\n",
       "      <td>0.519</td>\n",
       "      <td>116.023</td>\n",
       "    </tr>\n",
       "    <tr>\n",
       "      <th>3</th>\n",
       "      <td>All Night Long</td>\n",
       "      <td>Scars &amp; Screws</td>\n",
       "      <td>spotify:track:308ngBPHBQa8HW4n0PBUKh</td>\n",
       "      <td>Shamoon Ismail</td>\n",
       "      <td>spotify:playlist:7gKVccRxsOD0gKdUv63HoB</td>\n",
       "      <td>190358</td>\n",
       "      <td>7</td>\n",
       "      <td>1</td>\n",
       "      <td>4</td>\n",
       "      <td>0.0554</td>\n",
       "      <td>0.756</td>\n",
       "      <td>0.436</td>\n",
       "      <td>0.031100</td>\n",
       "      <td>0.3090</td>\n",
       "      <td>-7.262</td>\n",
       "      <td>0.0457</td>\n",
       "      <td>0.228</td>\n",
       "      <td>101.933</td>\n",
       "    </tr>\n",
       "    <tr>\n",
       "      <th>4</th>\n",
       "      <td>Ari Ari</td>\n",
       "      <td>Baaraat</td>\n",
       "      <td>spotify:track:3edqjLVQrRPLvt9FAYUAsT</td>\n",
       "      <td>Ritviz,Nucleya</td>\n",
       "      <td>spotify:playlist:7gKVccRxsOD0gKdUv63HoB</td>\n",
       "      <td>167472</td>\n",
       "      <td>0</td>\n",
       "      <td>1</td>\n",
       "      <td>4</td>\n",
       "      <td>0.0052</td>\n",
       "      <td>0.721</td>\n",
       "      <td>0.676</td>\n",
       "      <td>0.000003</td>\n",
       "      <td>0.2050</td>\n",
       "      <td>-6.534</td>\n",
       "      <td>0.0450</td>\n",
       "      <td>0.394</td>\n",
       "      <td>140.080</td>\n",
       "    </tr>\n",
       "  </tbody>\n",
       "</table>\n",
       "</div>"
      ],
      "text/plain": [
       "             name                   album  \\\n",
       "0        0 to 100                 No Name   \n",
       "1          051021          Scars & Screws   \n",
       "2      All I Need  The Way That Lovers Do   \n",
       "3  All Night Long          Scars & Screws   \n",
       "4         Ari Ari                 Baaraat   \n",
       "\n",
       "                                    uri                      artist  \\\n",
       "0  spotify:track:7cVe3mYMIfhOlz1NXFWv70            Sidhu Moose Wala   \n",
       "1  spotify:track:6D0RJju2TSMtZM1jsRc58S  Shamoon Ismail,Talha Anjum   \n",
       "2  spotify:track:47hXMyQDGW8sA1NGqmFL7h               Prateek Kuhad   \n",
       "3  spotify:track:308ngBPHBQa8HW4n0PBUKh              Shamoon Ismail   \n",
       "4  spotify:track:3edqjLVQrRPLvt9FAYUAsT              Ritviz,Nucleya   \n",
       "\n",
       "                              playlist_uri  duration_ms  key  mode  \\\n",
       "0  spotify:playlist:7gKVccRxsOD0gKdUv63HoB       108493    8     1   \n",
       "1  spotify:playlist:7gKVccRxsOD0gKdUv63HoB       211544    2     1   \n",
       "2  spotify:playlist:7gKVccRxsOD0gKdUv63HoB       153693    6     1   \n",
       "3  spotify:playlist:7gKVccRxsOD0gKdUv63HoB       190358    7     1   \n",
       "4  spotify:playlist:7gKVccRxsOD0gKdUv63HoB       167472    0     1   \n",
       "\n",
       "   time_signature  acousticness  danceability  energy  instrumentalness  \\\n",
       "0               4        0.1390         0.742   0.675          0.000000   \n",
       "1               4        0.0641         0.679   0.661          0.003270   \n",
       "2               4        0.7710         0.786   0.356          0.694000   \n",
       "3               4        0.0554         0.756   0.436          0.031100   \n",
       "4               4        0.0052         0.721   0.676          0.000003   \n",
       "\n",
       "   liveness  loudness  speechiness  valence    tempo  \n",
       "0    0.1670    -6.551       0.0907    0.679  145.989  \n",
       "1    0.0976    -8.928       0.1240    0.388  169.979  \n",
       "2    0.1000   -11.432       0.0462    0.519  116.023  \n",
       "3    0.3090    -7.262       0.0457    0.228  101.933  \n",
       "4    0.2050    -6.534       0.0450    0.394  140.080  "
      ]
     },
     "execution_count": 27,
     "metadata": {},
     "output_type": "execute_result"
    }
   ],
   "source": [
    "DF1 = pd.merge(tracksDF2, FeatureDF, on=\"uri\")\n",
    "DF1.head()"
   ]
  },
  {
   "cell_type": "code",
   "execution_count": 28,
   "metadata": {},
   "outputs": [
    {
     "name": "stderr",
     "output_type": "stream",
     "text": [
      "C:\\Users\\prrra\\AppData\\Local\\Temp\\ipykernel_3848\\2907560218.py:1: FutureWarning:\n",
      "\n",
      "The default value of numeric_only in DataFrameGroupBy.mean is deprecated. In a future version, numeric_only will default to False. Either specify numeric_only or select only columns which should be valid for the function.\n",
      "\n"
     ]
    },
    {
     "data": {
      "text/html": [
       "<div>\n",
       "<style scoped>\n",
       "    .dataframe tbody tr th:only-of-type {\n",
       "        vertical-align: middle;\n",
       "    }\n",
       "\n",
       "    .dataframe tbody tr th {\n",
       "        vertical-align: top;\n",
       "    }\n",
       "\n",
       "    .dataframe thead th {\n",
       "        text-align: right;\n",
       "    }\n",
       "</style>\n",
       "<table border=\"1\" class=\"dataframe\">\n",
       "  <thead>\n",
       "    <tr style=\"text-align: right;\">\n",
       "      <th></th>\n",
       "      <th>album</th>\n",
       "      <th>duration_ms</th>\n",
       "      <th>key</th>\n",
       "      <th>mode</th>\n",
       "      <th>time_signature</th>\n",
       "      <th>acousticness</th>\n",
       "      <th>danceability</th>\n",
       "      <th>energy</th>\n",
       "      <th>instrumentalness</th>\n",
       "      <th>liveness</th>\n",
       "      <th>loudness</th>\n",
       "      <th>speechiness</th>\n",
       "      <th>valence</th>\n",
       "      <th>tempo</th>\n",
       "    </tr>\n",
       "  </thead>\n",
       "  <tbody>\n",
       "    <tr>\n",
       "      <th>0</th>\n",
       "      <td>Baaraat</td>\n",
       "      <td>206257.000000</td>\n",
       "      <td>3.750000</td>\n",
       "      <td>0.500000</td>\n",
       "      <td>4.000000</td>\n",
       "      <td>0.169650</td>\n",
       "      <td>0.704250</td>\n",
       "      <td>0.597250</td>\n",
       "      <td>6.450000e-07</td>\n",
       "      <td>0.219900</td>\n",
       "      <td>-7.001750</td>\n",
       "      <td>0.069000</td>\n",
       "      <td>0.528500</td>\n",
       "      <td>126.792000</td>\n",
       "    </tr>\n",
       "    <tr>\n",
       "      <th>1</th>\n",
       "      <td>No Name</td>\n",
       "      <td>171279.200000</td>\n",
       "      <td>7.400000</td>\n",
       "      <td>0.600000</td>\n",
       "      <td>4.200000</td>\n",
       "      <td>0.156220</td>\n",
       "      <td>0.734000</td>\n",
       "      <td>0.654000</td>\n",
       "      <td>0.000000e+00</td>\n",
       "      <td>0.130060</td>\n",
       "      <td>-7.104400</td>\n",
       "      <td>0.180800</td>\n",
       "      <td>0.589400</td>\n",
       "      <td>131.594600</td>\n",
       "    </tr>\n",
       "    <tr>\n",
       "      <th>2</th>\n",
       "      <td>Scars &amp; Screws</td>\n",
       "      <td>191376.916667</td>\n",
       "      <td>4.833333</td>\n",
       "      <td>0.583333</td>\n",
       "      <td>4.000000</td>\n",
       "      <td>0.166125</td>\n",
       "      <td>0.660167</td>\n",
       "      <td>0.434833</td>\n",
       "      <td>2.684601e-02</td>\n",
       "      <td>0.155367</td>\n",
       "      <td>-10.763917</td>\n",
       "      <td>0.151433</td>\n",
       "      <td>0.311500</td>\n",
       "      <td>115.787083</td>\n",
       "    </tr>\n",
       "    <tr>\n",
       "      <th>3</th>\n",
       "      <td>The Civil Wars</td>\n",
       "      <td>215217.750000</td>\n",
       "      <td>4.833333</td>\n",
       "      <td>0.666667</td>\n",
       "      <td>3.833333</td>\n",
       "      <td>0.740250</td>\n",
       "      <td>0.412083</td>\n",
       "      <td>0.319567</td>\n",
       "      <td>1.440484e-03</td>\n",
       "      <td>0.118400</td>\n",
       "      <td>-9.798500</td>\n",
       "      <td>0.033950</td>\n",
       "      <td>0.290917</td>\n",
       "      <td>131.534417</td>\n",
       "    </tr>\n",
       "    <tr>\n",
       "      <th>4</th>\n",
       "      <td>The Way That Lovers Do</td>\n",
       "      <td>179061.636364</td>\n",
       "      <td>5.272727</td>\n",
       "      <td>0.909091</td>\n",
       "      <td>4.000000</td>\n",
       "      <td>0.772091</td>\n",
       "      <td>0.543455</td>\n",
       "      <td>0.458818</td>\n",
       "      <td>1.653695e-01</td>\n",
       "      <td>0.120173</td>\n",
       "      <td>-10.351545</td>\n",
       "      <td>0.074764</td>\n",
       "      <td>0.341218</td>\n",
       "      <td>109.082909</td>\n",
       "    </tr>\n",
       "    <tr>\n",
       "      <th>5</th>\n",
       "      <td>rapunzel</td>\n",
       "      <td>197277.125000</td>\n",
       "      <td>5.875000</td>\n",
       "      <td>0.375000</td>\n",
       "      <td>4.000000</td>\n",
       "      <td>0.656625</td>\n",
       "      <td>0.595875</td>\n",
       "      <td>0.441250</td>\n",
       "      <td>4.528588e-03</td>\n",
       "      <td>0.210000</td>\n",
       "      <td>-10.232625</td>\n",
       "      <td>0.071925</td>\n",
       "      <td>0.321750</td>\n",
       "      <td>101.885875</td>\n",
       "    </tr>\n",
       "  </tbody>\n",
       "</table>\n",
       "</div>"
      ],
      "text/plain": [
       "                    album    duration_ms       key      mode  time_signature  \\\n",
       "0                 Baaraat  206257.000000  3.750000  0.500000        4.000000   \n",
       "1                 No Name  171279.200000  7.400000  0.600000        4.200000   \n",
       "2          Scars & Screws  191376.916667  4.833333  0.583333        4.000000   \n",
       "3          The Civil Wars  215217.750000  4.833333  0.666667        3.833333   \n",
       "4  The Way That Lovers Do  179061.636364  5.272727  0.909091        4.000000   \n",
       "5                rapunzel  197277.125000  5.875000  0.375000        4.000000   \n",
       "\n",
       "   acousticness  danceability    energy  instrumentalness  liveness  \\\n",
       "0      0.169650      0.704250  0.597250      6.450000e-07  0.219900   \n",
       "1      0.156220      0.734000  0.654000      0.000000e+00  0.130060   \n",
       "2      0.166125      0.660167  0.434833      2.684601e-02  0.155367   \n",
       "3      0.740250      0.412083  0.319567      1.440484e-03  0.118400   \n",
       "4      0.772091      0.543455  0.458818      1.653695e-01  0.120173   \n",
       "5      0.656625      0.595875  0.441250      4.528588e-03  0.210000   \n",
       "\n",
       "    loudness  speechiness   valence       tempo  \n",
       "0  -7.001750     0.069000  0.528500  126.792000  \n",
       "1  -7.104400     0.180800  0.589400  131.594600  \n",
       "2 -10.763917     0.151433  0.311500  115.787083  \n",
       "3  -9.798500     0.033950  0.290917  131.534417  \n",
       "4 -10.351545     0.074764  0.341218  109.082909  \n",
       "5 -10.232625     0.071925  0.321750  101.885875  "
      ]
     },
     "execution_count": 28,
     "metadata": {},
     "output_type": "execute_result"
    }
   ],
   "source": [
    "summaryDF = DF1.groupby(\"album\").mean().reset_index()\n",
    "summaryDF"
   ]
  },
  {
   "cell_type": "code",
   "execution_count": 32,
   "metadata": {},
   "outputs": [
    {
     "ename": "AttributeError",
     "evalue": "PathCollection.set() got an unexpected keyword argument 'mode'",
     "output_type": "error",
     "traceback": [
      "\u001b[1;31m---------------------------------------------------------------------------\u001b[0m",
      "\u001b[1;31mAttributeError\u001b[0m                            Traceback (most recent call last)",
      "Cell \u001b[1;32mIn [32], line 3\u001b[0m\n\u001b[0;32m      1\u001b[0m album \u001b[39m=\u001b[39m summaryDF[\u001b[39m'\u001b[39m\u001b[39malbum\u001b[39m\u001b[39m'\u001b[39m]\n\u001b[0;32m      2\u001b[0m fig \u001b[39m=\u001b[39m go\u001b[39m.\u001b[39mFigure()\n\u001b[1;32m----> 3\u001b[0m fig\u001b[39m.\u001b[39madd_trace(sns\u001b[39m.\u001b[39;49mscatterplot(x\u001b[39m=\u001b[39;49malbum, y\u001b[39m=\u001b[39;49mDF1[\u001b[39m'\u001b[39;49m\u001b[39mdanceability\u001b[39;49m\u001b[39m'\u001b[39;49m],\n\u001b[0;32m      4\u001b[0m                          mode\u001b[39m=\u001b[39;49m\u001b[39m'\u001b[39;49m\u001b[39mlines+markers\u001b[39;49m\u001b[39m'\u001b[39;49m, name\u001b[39m=\u001b[39;49m\u001b[39m'\u001b[39;49m\u001b[39mAvg. Danceability\u001b[39;49m\u001b[39m'\u001b[39;49m,))\n\u001b[0;32m      5\u001b[0m fig\u001b[39m.\u001b[39madd_trace(sns\u001b[39m.\u001b[39mscatterplot(x\u001b[39m=\u001b[39malbum, y\u001b[39m=\u001b[39mDF1[\u001b[39m'\u001b[39m\u001b[39menergy\u001b[39m\u001b[39m'\u001b[39m],\n\u001b[0;32m      6\u001b[0m                          mode\u001b[39m=\u001b[39m\u001b[39m'\u001b[39m\u001b[39mlines+markers\u001b[39m\u001b[39m'\u001b[39m, name\u001b[39m=\u001b[39m\u001b[39m'\u001b[39m\u001b[39mAvg. Energy\u001b[39m\u001b[39m'\u001b[39m))\n\u001b[0;32m      7\u001b[0m fig\u001b[39m.\u001b[39madd_trace(sns\u001b[39m.\u001b[39mscatterplot(x\u001b[39m=\u001b[39malbum, y\u001b[39m=\u001b[39mDF1[\u001b[39m'\u001b[39m\u001b[39mliveness\u001b[39m\u001b[39m'\u001b[39m],\n\u001b[0;32m      8\u001b[0m                          mode\u001b[39m=\u001b[39m\u001b[39m'\u001b[39m\u001b[39mlines+markers\u001b[39m\u001b[39m'\u001b[39m, name\u001b[39m=\u001b[39m\u001b[39m'\u001b[39m\u001b[39mAvg. Liveness\u001b[39m\u001b[39m'\u001b[39m))\n",
      "File \u001b[1;32m~\\AppData\\Roaming\\Python\\Python310\\site-packages\\seaborn\\relational.py:759\u001b[0m, in \u001b[0;36mscatterplot\u001b[1;34m(data, x, y, hue, size, style, palette, hue_order, hue_norm, sizes, size_order, size_norm, markers, style_order, legend, ax, **kwargs)\u001b[0m\n\u001b[0;32m    756\u001b[0m \u001b[39m# Other functions have color as an explicit param,\u001b[39;00m\n\u001b[0;32m    757\u001b[0m \u001b[39m# and we should probably do that here too\u001b[39;00m\n\u001b[0;32m    758\u001b[0m color \u001b[39m=\u001b[39m kwargs\u001b[39m.\u001b[39mpop(\u001b[39m\"\u001b[39m\u001b[39mcolor\u001b[39m\u001b[39m\"\u001b[39m, \u001b[39mNone\u001b[39;00m)\n\u001b[1;32m--> 759\u001b[0m kwargs[\u001b[39m\"\u001b[39m\u001b[39mcolor\u001b[39m\u001b[39m\"\u001b[39m] \u001b[39m=\u001b[39m _default_color(ax\u001b[39m.\u001b[39;49mscatter, hue, color, kwargs)\n\u001b[0;32m    761\u001b[0m p\u001b[39m.\u001b[39mplot(ax, kwargs)\n\u001b[0;32m    763\u001b[0m \u001b[39mreturn\u001b[39;00m ax\n",
      "File \u001b[1;32m~\\AppData\\Roaming\\Python\\Python310\\site-packages\\seaborn\\utils.py:118\u001b[0m, in \u001b[0;36m_default_color\u001b[1;34m(method, hue, color, kws)\u001b[0m\n\u001b[0;32m    112\u001b[0m scout_size \u001b[39m=\u001b[39m \u001b[39mmax\u001b[39m(\n\u001b[0;32m    113\u001b[0m     np\u001b[39m.\u001b[39matleast_1d(kws\u001b[39m.\u001b[39mget(key, []))\u001b[39m.\u001b[39mshape[\u001b[39m0\u001b[39m]\n\u001b[0;32m    114\u001b[0m     \u001b[39mfor\u001b[39;00m key \u001b[39min\u001b[39;00m [\u001b[39m\"\u001b[39m\u001b[39ms\u001b[39m\u001b[39m\"\u001b[39m, \u001b[39m\"\u001b[39m\u001b[39mc\u001b[39m\u001b[39m\"\u001b[39m, \u001b[39m\"\u001b[39m\u001b[39mfc\u001b[39m\u001b[39m\"\u001b[39m, \u001b[39m\"\u001b[39m\u001b[39mfacecolor\u001b[39m\u001b[39m\"\u001b[39m, \u001b[39m\"\u001b[39m\u001b[39mfacecolors\u001b[39m\u001b[39m\"\u001b[39m]\n\u001b[0;32m    115\u001b[0m )\n\u001b[0;32m    116\u001b[0m scout_x \u001b[39m=\u001b[39m scout_y \u001b[39m=\u001b[39m np\u001b[39m.\u001b[39mfull(scout_size, np\u001b[39m.\u001b[39mnan)\n\u001b[1;32m--> 118\u001b[0m scout \u001b[39m=\u001b[39m method(scout_x, scout_y, \u001b[39m*\u001b[39m\u001b[39m*\u001b[39mkws)\n\u001b[0;32m    119\u001b[0m facecolors \u001b[39m=\u001b[39m scout\u001b[39m.\u001b[39mget_facecolors()\n\u001b[0;32m    121\u001b[0m \u001b[39mif\u001b[39;00m \u001b[39mnot\u001b[39;00m \u001b[39mlen\u001b[39m(facecolors):\n\u001b[0;32m    122\u001b[0m     \u001b[39m# Handle bug in matplotlib <= 3.2 (I think)\u001b[39;00m\n\u001b[0;32m    123\u001b[0m     \u001b[39m# This will limit the ability to use non color= kwargs to specify\u001b[39;00m\n\u001b[0;32m    124\u001b[0m     \u001b[39m# a color in versions of matplotlib with the bug, but trying to\u001b[39;00m\n\u001b[0;32m    125\u001b[0m     \u001b[39m# work out what the user wanted by re-implementing the broken logic\u001b[39;00m\n\u001b[0;32m    126\u001b[0m     \u001b[39m# of inspecting the kwargs is probably too brittle.\u001b[39;00m\n",
      "File \u001b[1;32m~\\AppData\\Roaming\\Python\\Python310\\site-packages\\matplotlib\\__init__.py:1423\u001b[0m, in \u001b[0;36m_preprocess_data.<locals>.inner\u001b[1;34m(ax, data, *args, **kwargs)\u001b[0m\n\u001b[0;32m   1420\u001b[0m \u001b[39m@functools\u001b[39m\u001b[39m.\u001b[39mwraps(func)\n\u001b[0;32m   1421\u001b[0m \u001b[39mdef\u001b[39;00m \u001b[39minner\u001b[39m(ax, \u001b[39m*\u001b[39margs, data\u001b[39m=\u001b[39m\u001b[39mNone\u001b[39;00m, \u001b[39m*\u001b[39m\u001b[39m*\u001b[39mkwargs):\n\u001b[0;32m   1422\u001b[0m     \u001b[39mif\u001b[39;00m data \u001b[39mis\u001b[39;00m \u001b[39mNone\u001b[39;00m:\n\u001b[1;32m-> 1423\u001b[0m         \u001b[39mreturn\u001b[39;00m func(ax, \u001b[39m*\u001b[39m\u001b[39mmap\u001b[39m(sanitize_sequence, args), \u001b[39m*\u001b[39m\u001b[39m*\u001b[39mkwargs)\n\u001b[0;32m   1425\u001b[0m     bound \u001b[39m=\u001b[39m new_sig\u001b[39m.\u001b[39mbind(ax, \u001b[39m*\u001b[39margs, \u001b[39m*\u001b[39m\u001b[39m*\u001b[39mkwargs)\n\u001b[0;32m   1426\u001b[0m     auto_label \u001b[39m=\u001b[39m (bound\u001b[39m.\u001b[39marguments\u001b[39m.\u001b[39mget(label_namer)\n\u001b[0;32m   1427\u001b[0m                   \u001b[39mor\u001b[39;00m bound\u001b[39m.\u001b[39mkwargs\u001b[39m.\u001b[39mget(label_namer))\n",
      "File \u001b[1;32m~\\AppData\\Roaming\\Python\\Python310\\site-packages\\matplotlib\\axes\\_axes.py:4634\u001b[0m, in \u001b[0;36mAxes.scatter\u001b[1;34m(self, x, y, s, c, marker, cmap, norm, vmin, vmax, alpha, linewidths, edgecolors, plotnonfinite, **kwargs)\u001b[0m\n\u001b[0;32m   4630\u001b[0m         keys_str \u001b[39m=\u001b[39m \u001b[39m\"\u001b[39m\u001b[39m, \u001b[39m\u001b[39m\"\u001b[39m\u001b[39m.\u001b[39mjoin(\u001b[39mf\u001b[39m\u001b[39m\"\u001b[39m\u001b[39m'\u001b[39m\u001b[39m{\u001b[39;00mk\u001b[39m}\u001b[39;00m\u001b[39m'\u001b[39m\u001b[39m\"\u001b[39m \u001b[39mfor\u001b[39;00m k \u001b[39min\u001b[39;00m extra_keys)\n\u001b[0;32m   4631\u001b[0m         _api\u001b[39m.\u001b[39mwarn_external(\n\u001b[0;32m   4632\u001b[0m             \u001b[39m\"\u001b[39m\u001b[39mNo data for colormapping provided via \u001b[39m\u001b[39m'\u001b[39m\u001b[39mc\u001b[39m\u001b[39m'\u001b[39m\u001b[39m. \u001b[39m\u001b[39m\"\u001b[39m\n\u001b[0;32m   4633\u001b[0m             \u001b[39mf\u001b[39m\u001b[39m\"\u001b[39m\u001b[39mParameters \u001b[39m\u001b[39m{\u001b[39;00mkeys_str\u001b[39m}\u001b[39;00m\u001b[39m will be ignored\u001b[39m\u001b[39m\"\u001b[39m)\n\u001b[1;32m-> 4634\u001b[0m collection\u001b[39m.\u001b[39;49m_internal_update(kwargs)\n\u001b[0;32m   4636\u001b[0m \u001b[39m# Classic mode only:\u001b[39;00m\n\u001b[0;32m   4637\u001b[0m \u001b[39m# ensure there are margins to allow for the\u001b[39;00m\n\u001b[0;32m   4638\u001b[0m \u001b[39m# finite size of the symbols.  In v2.x, margins\u001b[39;00m\n\u001b[0;32m   4639\u001b[0m \u001b[39m# are present by default, so we disable this\u001b[39;00m\n\u001b[0;32m   4640\u001b[0m \u001b[39m# scatter-specific override.\u001b[39;00m\n\u001b[0;32m   4641\u001b[0m \u001b[39mif\u001b[39;00m mpl\u001b[39m.\u001b[39mrcParams[\u001b[39m'\u001b[39m\u001b[39m_internal.classic_mode\u001b[39m\u001b[39m'\u001b[39m]:\n",
      "File \u001b[1;32m~\\AppData\\Roaming\\Python\\Python310\\site-packages\\matplotlib\\artist.py:1186\u001b[0m, in \u001b[0;36mArtist._internal_update\u001b[1;34m(self, kwargs)\u001b[0m\n\u001b[0;32m   1179\u001b[0m \u001b[39mdef\u001b[39;00m \u001b[39m_internal_update\u001b[39m(\u001b[39mself\u001b[39m, kwargs):\n\u001b[0;32m   1180\u001b[0m     \u001b[39m\"\"\"\u001b[39;00m\n\u001b[0;32m   1181\u001b[0m \u001b[39m    Update artist properties without prenormalizing them, but generating\u001b[39;00m\n\u001b[0;32m   1182\u001b[0m \u001b[39m    errors as if calling `set`.\u001b[39;00m\n\u001b[0;32m   1183\u001b[0m \n\u001b[0;32m   1184\u001b[0m \u001b[39m    The lack of prenormalization is to maintain backcompatibility.\u001b[39;00m\n\u001b[0;32m   1185\u001b[0m \u001b[39m    \"\"\"\u001b[39;00m\n\u001b[1;32m-> 1186\u001b[0m     \u001b[39mreturn\u001b[39;00m \u001b[39mself\u001b[39;49m\u001b[39m.\u001b[39;49m_update_props(\n\u001b[0;32m   1187\u001b[0m         kwargs, \u001b[39m\"\u001b[39;49m\u001b[39m{cls.__name__}\u001b[39;49;00m\u001b[39m.set() got an unexpected keyword argument \u001b[39;49m\u001b[39m\"\u001b[39;49m\n\u001b[0;32m   1188\u001b[0m         \u001b[39m\"\u001b[39;49m\u001b[39m{prop_name!r}\u001b[39;49;00m\u001b[39m\"\u001b[39;49m)\n",
      "File \u001b[1;32m~\\AppData\\Roaming\\Python\\Python310\\site-packages\\matplotlib\\artist.py:1160\u001b[0m, in \u001b[0;36mArtist._update_props\u001b[1;34m(self, props, errfmt)\u001b[0m\n\u001b[0;32m   1158\u001b[0m             func \u001b[39m=\u001b[39m \u001b[39mgetattr\u001b[39m(\u001b[39mself\u001b[39m, \u001b[39mf\u001b[39m\u001b[39m\"\u001b[39m\u001b[39mset_\u001b[39m\u001b[39m{\u001b[39;00mk\u001b[39m}\u001b[39;00m\u001b[39m\"\u001b[39m, \u001b[39mNone\u001b[39;00m)\n\u001b[0;32m   1159\u001b[0m             \u001b[39mif\u001b[39;00m \u001b[39mnot\u001b[39;00m callable(func):\n\u001b[1;32m-> 1160\u001b[0m                 \u001b[39mraise\u001b[39;00m \u001b[39mAttributeError\u001b[39;00m(\n\u001b[0;32m   1161\u001b[0m                     errfmt\u001b[39m.\u001b[39mformat(\u001b[39mcls\u001b[39m\u001b[39m=\u001b[39m\u001b[39mtype\u001b[39m(\u001b[39mself\u001b[39m), prop_name\u001b[39m=\u001b[39mk))\n\u001b[0;32m   1162\u001b[0m             ret\u001b[39m.\u001b[39mappend(func(v))\n\u001b[0;32m   1163\u001b[0m \u001b[39mif\u001b[39;00m ret:\n",
      "\u001b[1;31mAttributeError\u001b[0m: PathCollection.set() got an unexpected keyword argument 'mode'"
     ]
    },
    {
     "data": {
      "image/png": "[encoded data removed]",
      "text/plain": [
       "<Figure size 640x480 with 1 Axes>"
      ]
     },
     "metadata": {},
     "output_type": "display_data"
    }
   ],
   "source": [
    "album = summaryDF['album']\n",
    "fig = go.Figure()\n",
    "fig.add_trace(sns.scatterplot(x=album, y=DF1['danceability'],\n",
    "                         mode='lines+markers', name='Avg. Danceability',))\n",
    "fig.add_trace(sns.scatterplot(x=album, y=DF1['energy'],\n",
    "                         mode='lines+markers', name='Avg. Energy'))\n",
    "fig.add_trace(sns.scatterplot(x=album, y=DF1['liveness'],\n",
    "                         mode='lines+markers', name='Avg. Liveness'))\n",
    "fig.add_trace(sns.scatterplot(x=album, y=DF1['valence'],\n",
    "                         mode='lines+markers', name='Avg. Valence'))\n",
    "fig.add_trace(sns.scatterplot(x=album, y=DF1['acousticness'],\n",
    "                         mode='lines+markers', name='Avg. Acousticness'))\n",
    "fig.add_trace(sns.scatterplot(x=album, y=DF1['speechiness'],\n",
    "                         mode='lines+markers', name='Avg. Speechiness'))\n"
   ]
  },
  {
   "cell_type": "code",
   "execution_count": null,
   "metadata": {},
   "outputs": [
    {
     "data": {
      "text/plain": [
       "0                   Baaraat\n",
       "1                   No Name\n",
       "2            Scars & Screws\n",
       "3            The Civil Wars\n",
       "4    The Way That Lovers Do\n",
       "5                  rapunzel\n",
       "Name: album, dtype: object"
      ]
     },
     "execution_count": 88,
     "metadata": {},
     "output_type": "execute_result"
    }
   ],
   "source": [
    "summaryDF['album']"
   ]
  },
  {
   "cell_type": "code",
   "execution_count": null,
   "metadata": {},
   "outputs": [
    {
     "data": {
      "application/vnd.plotly.v1+json": {
       "config": {
        "plotlyServerURL": "https://plot.ly"
       },
       "data": [
        {
         "fill": "toself",
         "name": "Ari Ari",
         "r": [
          0.721,
          0.676,
          0.045,
          0.0052,
          0.205,
          0.394
         ],
         "theta": [
          "danceability",
          "energy",
          "speechiness",
          "acousticness",
          "liveness",
          "valence"
         ],
         "type": "scatterpolar"
        },
        {
         "fill": "toself",
         "name": "Baaraat",
         "r": [
          0.678,
          0.449,
          0.0869,
          0.477,
          0.536,
          0.606
         ],
         "theta": [
          "danceability",
          "energy",
          "speechiness",
          "acousticness",
          "liveness",
          "valence"
         ],
         "type": "scatterpolar"
        },
        {
         "fill": "toself",
         "name": "Roz",
         "r": [
          0.833,
          0.639,
          0.0676,
          0.152,
          0.101,
          0.448
         ],
         "theta": [
          "danceability",
          "energy",
          "speechiness",
          "acousticness",
          "liveness",
          "valence"
         ],
         "type": "scatterpolar"
        },
        {
         "fill": "toself",
         "name": "Sathi",
         "r": [
          0.585,
          0.625,
          0.0765,
          0.0444,
          0.0376,
          0.666
         ],
         "theta": [
          "danceability",
          "energy",
          "speechiness",
          "acousticness",
          "liveness",
          "valence"
         ],
         "type": "scatterpolar"
        }
       ],
       "layout": {
        "template": {
         "data": {
          "bar": [
           {
            "error_x": {
             "color": "#2a3f5f"
            },
            "error_y": {
             "color": "#2a3f5f"
            },
            "marker": {
             "line": {
              "color": "#E5ECF6",
              "width": 0.5
             },
             "pattern": {
              "fillmode": "overlay",
              "size": 10,
              "solidity": 0.2
             }
            },
            "type": "bar"
           }
          ],
          "barpolar": [
           {
            "marker": {
             "line": {
              "color": "#E5ECF6",
              "width": 0.5
             },
             "pattern": {
              "fillmode": "overlay",
              "size": 10,
              "solidity": 0.2
             }
            },
            "type": "barpolar"
           }
          ],
          "carpet": [
           {
            "aaxis": {
             "endlinecolor": "#2a3f5f",
             "gridcolor": "white",
             "linecolor": "white",
             "minorgridcolor": "white",
             "startlinecolor": "#2a3f5f"
            },
            "baxis": {
             "endlinecolor": "#2a3f5f",
             "gridcolor": "white",
             "linecolor": "white",
             "minorgridcolor": "white",
             "startlinecolor": "#2a3f5f"
            },
            "type": "carpet"
           }
          ],
          "choropleth": [
           {
            "colorbar": {
             "outlinewidth": 0,
             "ticks": ""
            },
            "type": "choropleth"
           }
          ],
          "contour": [
           {
            "colorbar": {
             "outlinewidth": 0,
             "ticks": ""
            },
            "colorscale": [
             [
              0,
              "#0d0887"
             ],
             [
              0.1111111111111111,
              "#46039f"
             ],
             [
              0.2222222222222222,
              "#7201a8"
             ],
             [
              0.3333333333333333,
              "#9c179e"
             ],
             [
              0.4444444444444444,
              "#bd3786"
             ],
             [
              0.5555555555555556,
              "#d8576b"
             ],
             [
              0.6666666666666666,
              "#ed7953"
             ],
             [
              0.7777777777777778,
              "#fb9f3a"
             ],
             [
              0.8888888888888888,
              "#fdca26"
             ],
             [
              1,
              "#f0f921"
             ]
            ],
            "type": "contour"
           }
          ],
          "contourcarpet": [
           {
            "colorbar": {
             "outlinewidth": 0,
             "ticks": ""
            },
            "type": "contourcarpet"
           }
          ],
          "heatmap": [
           {
            "colorbar": {
             "outlinewidth": 0,
             "ticks": ""
            },
            "colorscale": [
             [
              0,
              "#0d0887"
             ],
             [
              0.1111111111111111,
              "#46039f"
             ],
             [
              0.2222222222222222,
              "#7201a8"
             ],
             [
              0.3333333333333333,
              "#9c179e"
             ],
             [
              0.4444444444444444,
              "#bd3786"
             ],
             [
              0.5555555555555556,
              "#d8576b"
             ],
             [
              0.6666666666666666,
              "#ed7953"
             ],
             [
              0.7777777777777778,
              "#fb9f3a"
             ],
             [
              0.8888888888888888,
              "#fdca26"
             ],
             [
              1,
              "#f0f921"
             ]
            ],
            "type": "heatmap"
           }
          ],
          "heatmapgl": [
           {
            "colorbar": {
             "outlinewidth": 0,
             "ticks": ""
            },
            "colorscale": [
             [
              0,
              "#0d0887"
             ],
             [
              0.1111111111111111,
              "#46039f"
             ],
             [
              0.2222222222222222,
              "#7201a8"
             ],
             [
              0.3333333333333333,
              "#9c179e"
             ],
             [
              0.4444444444444444,
              "#bd3786"
             ],
             [
              0.5555555555555556,
              "#d8576b"
             ],
             [
              0.6666666666666666,
              "#ed7953"
             ],
             [
              0.7777777777777778,
              "#fb9f3a"
             ],
             [
              0.8888888888888888,
              "#fdca26"
             ],
             [
              1,
              "#f0f921"
             ]
            ],
            "type": "heatmapgl"
           }
          ],
          "histogram": [
           {
            "marker": {
             "pattern": {
              "fillmode": "overlay",
              "size": 10,
              "solidity": 0.2
             }
            },
            "type": "histogram"
           }
          ],
          "histogram2d": [
           {
            "colorbar": {
             "outlinewidth": 0,
             "ticks": ""
            },
            "colorscale": [
             [
              0,
              "#0d0887"
             ],
             [
              0.1111111111111111,
              "#46039f"
             ],
             [
              0.2222222222222222,
              "#7201a8"
             ],
             [
              0.3333333333333333,
              "#9c179e"
             ],
             [
              0.4444444444444444,
              "#bd3786"
             ],
             [
              0.5555555555555556,
              "#d8576b"
             ],
             [
              0.6666666666666666,
              "#ed7953"
             ],
             [
              0.7777777777777778,
              "#fb9f3a"
             ],
             [
              0.8888888888888888,
              "#fdca26"
             ],
             [
              1,
              "#f0f921"
             ]
            ],
            "type": "histogram2d"
           }
          ],
          "histogram2dcontour": [
           {
            "colorbar": {
             "outlinewidth": 0,
             "ticks": ""
            },
            "colorscale": [
             [
              0,
              "#0d0887"
             ],
             [
              0.1111111111111111,
              "#46039f"
             ],
             [
              0.2222222222222222,
              "#7201a8"
             ],
             [
              0.3333333333333333,
              "#9c179e"
             ],
             [
              0.4444444444444444,
              "#bd3786"
             ],
             [
              0.5555555555555556,
              "#d8576b"
             ],
             [
              0.6666666666666666,
              "#ed7953"
             ],
             [
              0.7777777777777778,
              "#fb9f3a"
             ],
             [
              0.8888888888888888,
              "#fdca26"
             ],
             [
              1,
              "#f0f921"
             ]
            ],
            "type": "histogram2dcontour"
           }
          ],
          "mesh3d": [
           {
            "colorbar": {
             "outlinewidth": 0,
             "ticks": ""
            },
            "type": "mesh3d"
           }
          ],
          "parcoords": [
           {
            "line": {
             "colorbar": {
              "outlinewidth": 0,
              "ticks": ""
             }
            },
            "type": "parcoords"
           }
          ],
          "pie": [
           {
            "automargin": true,
            "type": "pie"
           }
          ],
          "scatter": [
           {
            "fillpattern": {
             "fillmode": "overlay",
             "size": 10,
             "solidity": 0.2
            },
            "type": "scatter"
           }
          ],
          "scatter3d": [
           {
            "line": {
             "colorbar": {
              "outlinewidth": 0,
              "ticks": ""
             }
            },
            "marker": {
             "colorbar": {
              "outlinewidth": 0,
              "ticks": ""
             }
            },
            "type": "scatter3d"
           }
          ],
          "scattercarpet": [
           {
            "marker": {
             "colorbar": {
              "outlinewidth": 0,
              "ticks": ""
             }
            },
            "type": "scattercarpet"
           }
          ],
          "scattergeo": [
           {
            "marker": {
             "colorbar": {
              "outlinewidth": 0,
              "ticks": ""
             }
            },
            "type": "scattergeo"
           }
          ],
          "scattergl": [
           {
            "marker": {
             "colorbar": {
              "outlinewidth": 0,
              "ticks": ""
             }
            },
            "type": "scattergl"
           }
          ],
          "scattermapbox": [
           {
            "marker": {
             "colorbar": {
              "outlinewidth": 0,
              "ticks": ""
             }
            },
            "type": "scattermapbox"
           }
          ],
          "scatterpolar": [
           {
            "marker": {
             "colorbar": {
              "outlinewidth": 0,
              "ticks": ""
             }
            },
            "type": "scatterpolar"
           }
          ],
          "scatterpolargl": [
           {
            "marker": {
             "colorbar": {
              "outlinewidth": 0,
              "ticks": ""
             }
            },
            "type": "scatterpolargl"
           }
          ],
          "scatterternary": [
           {
            "marker": {
             "colorbar": {
              "outlinewidth": 0,
              "ticks": ""
             }
            },
            "type": "scatterternary"
           }
          ],
          "surface": [
           {
            "colorbar": {
             "outlinewidth": 0,
             "ticks": ""
            },
            "colorscale": [
             [
              0,
              "#0d0887"
             ],
             [
              0.1111111111111111,
              "#46039f"
             ],
             [
              0.2222222222222222,
              "#7201a8"
             ],
             [
              0.3333333333333333,
              "#9c179e"
             ],
             [
              0.4444444444444444,
              "#bd3786"
             ],
             [
              0.5555555555555556,
              "#d8576b"
             ],
             [
              0.6666666666666666,
              "#ed7953"
             ],
             [
              0.7777777777777778,
              "#fb9f3a"
             ],
             [
              0.8888888888888888,
              "#fdca26"
             ],
             [
              1,
              "#f0f921"
             ]
            ],
            "type": "surface"
           }
          ],
          "table": [
           {
            "cells": {
             "fill": {
              "color": "#EBF0F8"
             },
             "line": {
              "color": "white"
             }
            },
            "header": {
             "fill": {
              "color": "#C8D4E3"
             },
             "line": {
              "color": "white"
             }
            },
            "type": "table"
           }
          ]
         },
         "layout": {
          "annotationdefaults": {
           "arrowcolor": "#2a3f5f",
           "arrowhead": 0,
           "arrowwidth": 1
          },
          "autotypenumbers": "strict",
          "coloraxis": {
           "colorbar": {
            "outlinewidth": 0,
            "ticks": ""
           }
          },
          "colorscale": {
           "diverging": [
            [
             0,
             "#8e0152"
            ],
            [
             0.1,
             "#c51b7d"
            ],
            [
             0.2,
             "#de77ae"
            ],
            [
             0.3,
             "#f1b6da"
            ],
            [
             0.4,
             "#fde0ef"
            ],
            [
             0.5,
             "#f7f7f7"
            ],
            [
             0.6,
             "#e6f5d0"
            ],
            [
             0.7,
             "#b8e186"
            ],
            [
             0.8,
             "#7fbc41"
            ],
            [
             0.9,
             "#4d9221"
            ],
            [
             1,
             "#276419"
            ]
           ],
           "sequential": [
            [
             0,
             "#0d0887"
            ],
            [
             0.1111111111111111,
             "#46039f"
            ],
            [
             0.2222222222222222,
             "#7201a8"
            ],
            [
             0.3333333333333333,
             "#9c179e"
            ],
            [
             0.4444444444444444,
             "#bd3786"
            ],
            [
             0.5555555555555556,
             "#d8576b"
            ],
            [
             0.6666666666666666,
             "#ed7953"
            ],
            [
             0.7777777777777778,
             "#fb9f3a"
            ],
            [
             0.8888888888888888,
             "#fdca26"
            ],
            [
             1,
             "#f0f921"
            ]
           ],
           "sequentialminus": [
            [
             0,
             "#0d0887"
            ],
            [
             0.1111111111111111,
             "#46039f"
            ],
            [
             0.2222222222222222,
             "#7201a8"
            ],
            [
             0.3333333333333333,
             "#9c179e"
            ],
            [
             0.4444444444444444,
             "#bd3786"
            ],
            [
             0.5555555555555556,
             "#d8576b"
            ],
            [
             0.6666666666666666,
             "#ed7953"
            ],
            [
             0.7777777777777778,
             "#fb9f3a"
            ],
            [
             0.8888888888888888,
             "#fdca26"
            ],
            [
             1,
             "#f0f921"
            ]
           ]
          },
          "colorway": [
           "#636efa",
           "#EF553B",
           "#00cc96",
           "#ab63fa",
           "#FFA15A",
           "#19d3f3",
           "#FF6692",
           "#B6E880",
           "#FF97FF",
           "#FECB52"
          ],
          "font": {
           "color": "#2a3f5f"
          },
          "geo": {
           "bgcolor": "white",
           "lakecolor": "white",
           "landcolor": "#E5ECF6",
           "showlakes": true,
           "showland": true,
           "subunitcolor": "white"
          },
          "hoverlabel": {
           "align": "left"
          },
          "hovermode": "closest",
          "mapbox": {
           "style": "light"
          },
          "paper_bgcolor": "white",
          "plot_bgcolor": "#E5ECF6",
          "polar": {
           "angularaxis": {
            "gridcolor": "white",
            "linecolor": "white",
            "ticks": ""
           },
           "bgcolor": "#E5ECF6",
           "radialaxis": {
            "gridcolor": "white",
            "linecolor": "white",
            "ticks": ""
           }
          },
          "scene": {
           "xaxis": {
            "backgroundcolor": "#E5ECF6",
            "gridcolor": "white",
            "gridwidth": 2,
            "linecolor": "white",
            "showbackground": true,
            "ticks": "",
            "zerolinecolor": "white"
           },
           "yaxis": {
            "backgroundcolor": "#E5ECF6",
            "gridcolor": "white",
            "gridwidth": 2,
            "linecolor": "white",
            "showbackground": true,
            "ticks": "",
            "zerolinecolor": "white"
           },
           "zaxis": {
            "backgroundcolor": "#E5ECF6",
            "gridcolor": "white",
            "gridwidth": 2,
            "linecolor": "white",
            "showbackground": true,
            "ticks": "",
            "zerolinecolor": "white"
           }
          },
          "shapedefaults": {
           "line": {
            "color": "#2a3f5f"
           }
          },
          "ternary": {
           "aaxis": {
            "gridcolor": "white",
            "linecolor": "white",
            "ticks": ""
           },
           "baxis": {
            "gridcolor": "white",
            "linecolor": "white",
            "ticks": ""
           },
           "bgcolor": "#E5ECF6",
           "caxis": {
            "gridcolor": "white",
            "linecolor": "white",
            "ticks": ""
           }
          },
          "title": {
           "x": 0.05
          },
          "xaxis": {
           "automargin": true,
           "gridcolor": "white",
           "linecolor": "white",
           "ticks": "",
           "title": {
            "standoff": 15
           },
           "zerolinecolor": "white",
           "zerolinewidth": 2
          },
          "yaxis": {
           "automargin": true,
           "gridcolor": "white",
           "linecolor": "white",
           "ticks": "",
           "title": {
            "standoff": 15
           },
           "zerolinecolor": "white",
           "zerolinewidth": 2
          }
         }
        },
        "title": {
         "text": "Album: Baaraat"
        }
       }
      }
     },
     "metadata": {},
     "output_type": "display_data"
    },
    {
     "data": {
      "application/vnd.plotly.v1+json": {
       "config": {
        "plotlyServerURL": "https://plot.ly"
       },
       "data": [
        {
         "fill": "toself",
         "name": "0 to 100",
         "r": [
          0.742,
          0.675,
          0.0907,
          0.139,
          0.167,
          0.679
         ],
         "theta": [
          "danceability",
          "energy",
          "speechiness",
          "acousticness",
          "liveness",
          "valence"
         ],
         "type": "scatterpolar"
        },
        {
         "fill": "toself",
         "name": "Bloodlust (feat. Mr. Capone-E)",
         "r": [
          0.552,
          0.667,
          0.333,
          0.0381,
          0.0777,
          0.348
         ],
         "theta": [
          "danceability",
          "energy",
          "speechiness",
          "acousticness",
          "liveness",
          "valence"
         ],
         "type": "scatterpolar"
        },
        {
         "fill": "toself",
         "name": "Everybody Hurts",
         "r": [
          0.738,
          0.599,
          0.0393,
          0.434,
          0.13,
          0.575
         ],
         "theta": [
          "danceability",
          "energy",
          "speechiness",
          "acousticness",
          "liveness",
          "valence"
         ],
         "type": "scatterpolar"
        },
        {
         "fill": "toself",
         "name": "Love Sick",
         "r": [
          0.824,
          0.543,
          0.209,
          0.101,
          0.178,
          0.548
         ],
         "theta": [
          "danceability",
          "energy",
          "speechiness",
          "acousticness",
          "liveness",
          "valence"
         ],
         "type": "scatterpolar"
        },
        {
         "fill": "toself",
         "name": "Never Fold",
         "r": [
          0.814,
          0.786,
          0.232,
          0.069,
          0.0976,
          0.797
         ],
         "theta": [
          "danceability",
          "energy",
          "speechiness",
          "acousticness",
          "liveness",
          "valence"
         ],
         "type": "scatterpolar"
        }
       ],
       "layout": {
        "template": {
         "data": {
          "bar": [
           {
            "error_x": {
             "color": "#2a3f5f"
            },
            "error_y": {
             "color": "#2a3f5f"
            },
            "marker": {
             "line": {
              "color": "#E5ECF6",
              "width": 0.5
             },
             "pattern": {
              "fillmode": "overlay",
              "size": 10,
              "solidity": 0.2
             }
            },
            "type": "bar"
           }
          ],
          "barpolar": [
           {
            "marker": {
             "line": {
              "color": "#E5ECF6",
              "width": 0.5
             },
             "pattern": {
              "fillmode": "overlay",
              "size": 10,
              "solidity": 0.2
             }
            },
            "type": "barpolar"
           }
          ],
          "carpet": [
           {
            "aaxis": {
             "endlinecolor": "#2a3f5f",
             "gridcolor": "white",
             "linecolor": "white",
             "minorgridcolor": "white",
             "startlinecolor": "#2a3f5f"
            },
            "baxis": {
             "endlinecolor": "#2a3f5f",
             "gridcolor": "white",
             "linecolor": "white",
             "minorgridcolor": "white",
             "startlinecolor": "#2a3f5f"
            },
            "type": "carpet"
           }
          ],
          "choropleth": [
           {
            "colorbar": {
             "outlinewidth": 0,
             "ticks": ""
            },
            "type": "choropleth"
           }
          ],
          "contour": [
           {
            "colorbar": {
             "outlinewidth": 0,
             "ticks": ""
            },
            "colorscale": [
             [
              0,
              "#0d0887"
             ],
             [
              0.1111111111111111,
              "#46039f"
             ],
             [
              0.2222222222222222,
              "#7201a8"
             ],
             [
              0.3333333333333333,
              "#9c179e"
             ],
             [
              0.4444444444444444,
              "#bd3786"
             ],
             [
              0.5555555555555556,
              "#d8576b"
             ],
             [
              0.6666666666666666,
              "#ed7953"
             ],
             [
              0.7777777777777778,
              "#fb9f3a"
             ],
             [
              0.8888888888888888,
              "#fdca26"
             ],
             [
              1,
              "#f0f921"
             ]
            ],
            "type": "contour"
           }
          ],
          "contourcarpet": [
           {
            "colorbar": {
             "outlinewidth": 0,
             "ticks": ""
            },
            "type": "contourcarpet"
           }
          ],
          "heatmap": [
           {
            "colorbar": {
             "outlinewidth": 0,
             "ticks": ""
            },
            "colorscale": [
             [
              0,
              "#0d0887"
             ],
             [
              0.1111111111111111,
              "#46039f"
             ],
             [
              0.2222222222222222,
              "#7201a8"
             ],
             [
              0.3333333333333333,
              "#9c179e"
             ],
             [
              0.4444444444444444,
              "#bd3786"
             ],
             [
              0.5555555555555556,
              "#d8576b"
             ],
             [
              0.6666666666666666,
              "#ed7953"
             ],
             [
              0.7777777777777778,
              "#fb9f3a"
             ],
             [
              0.8888888888888888,
              "#fdca26"
             ],
             [
              1,
              "#f0f921"
             ]
            ],
            "type": "heatmap"
           }
          ],
          "heatmapgl": [
           {
            "colorbar": {
             "outlinewidth": 0,
             "ticks": ""
            },
            "colorscale": [
             [
              0,
              "#0d0887"
             ],
             [
              0.1111111111111111,
              "#46039f"
             ],
             [
              0.2222222222222222,
              "#7201a8"
             ],
             [
              0.3333333333333333,
              "#9c179e"
             ],
             [
              0.4444444444444444,
              "#bd3786"
             ],
             [
              0.5555555555555556,
              "#d8576b"
             ],
             [
              0.6666666666666666,
              "#ed7953"
             ],
             [
              0.7777777777777778,
              "#fb9f3a"
             ],
             [
              0.8888888888888888,
              "#fdca26"
             ],
             [
              1,
              "#f0f921"
             ]
            ],
            "type": "heatmapgl"
           }
          ],
          "histogram": [
           {
            "marker": {
             "pattern": {
              "fillmode": "overlay",
              "size": 10,
              "solidity": 0.2
             }
            },
            "type": "histogram"
           }
          ],
          "histogram2d": [
           {
            "colorbar": {
             "outlinewidth": 0,
             "ticks": ""
            },
            "colorscale": [
             [
              0,
              "#0d0887"
             ],
             [
              0.1111111111111111,
              "#46039f"
             ],
             [
              0.2222222222222222,
              "#7201a8"
             ],
             [
              0.3333333333333333,
              "#9c179e"
             ],
             [
              0.4444444444444444,
              "#bd3786"
             ],
             [
              0.5555555555555556,
              "#d8576b"
             ],
             [
              0.6666666666666666,
              "#ed7953"
             ],
             [
              0.7777777777777778,
              "#fb9f3a"
             ],
             [
              0.8888888888888888,
              "#fdca26"
             ],
             [
              1,
              "#f0f921"
             ]
            ],
            "type": "histogram2d"
           }
          ],
          "histogram2dcontour": [
           {
            "colorbar": {
             "outlinewidth": 0,
             "ticks": ""
            },
            "colorscale": [
             [
              0,
              "#0d0887"
             ],
             [
              0.1111111111111111,
              "#46039f"
             ],
             [
              0.2222222222222222,
              "#7201a8"
             ],
             [
              0.3333333333333333,
              "#9c179e"
             ],
             [
              0.4444444444444444,
              "#bd3786"
             ],
             [
              0.5555555555555556,
              "#d8576b"
             ],
             [
              0.6666666666666666,
              "#ed7953"
             ],
             [
              0.7777777777777778,
              "#fb9f3a"
             ],
             [
              0.8888888888888888,
              "#fdca26"
             ],
             [
              1,
              "#f0f921"
             ]
            ],
            "type": "histogram2dcontour"
           }
          ],
          "mesh3d": [
           {
            "colorbar": {
             "outlinewidth": 0,
             "ticks": ""
            },
            "type": "mesh3d"
           }
          ],
          "parcoords": [
           {
            "line": {
             "colorbar": {
              "outlinewidth": 0,
              "ticks": ""
             }
            },
            "type": "parcoords"
           }
          ],
          "pie": [
           {
            "automargin": true,
            "type": "pie"
           }
          ],
          "scatter": [
           {
            "fillpattern": {
             "fillmode": "overlay",
             "size": 10,
             "solidity": 0.2
            },
            "type": "scatter"
           }
          ],
          "scatter3d": [
           {
            "line": {
             "colorbar": {
              "outlinewidth": 0,
              "ticks": ""
             }
            },
            "marker": {
             "colorbar": {
              "outlinewidth": 0,
              "ticks": ""
             }
            },
            "type": "scatter3d"
           }
          ],
          "scattercarpet": [
           {
            "marker": {
             "colorbar": {
              "outlinewidth": 0,
              "ticks": ""
             }
            },
            "type": "scattercarpet"
           }
          ],
          "scattergeo": [
           {
            "marker": {
             "colorbar": {
              "outlinewidth": 0,
              "ticks": ""
             }
            },
            "type": "scattergeo"
           }
          ],
          "scattergl": [
           {
            "marker": {
             "colorbar": {
              "outlinewidth": 0,
              "ticks": ""
             }
            },
            "type": "scattergl"
           }
          ],
          "scattermapbox": [
           {
            "marker": {
             "colorbar": {
              "outlinewidth": 0,
              "ticks": ""
             }
            },
            "type": "scattermapbox"
           }
          ],
          "scatterpolar": [
           {
            "marker": {
             "colorbar": {
              "outlinewidth": 0,
              "ticks": ""
             }
            },
            "type": "scatterpolar"
           }
          ],
          "scatterpolargl": [
           {
            "marker": {
             "colorbar": {
              "outlinewidth": 0,
              "ticks": ""
             }
            },
            "type": "scatterpolargl"
           }
          ],
          "scatterternary": [
           {
            "marker": {
             "colorbar": {
              "outlinewidth": 0,
              "ticks": ""
             }
            },
            "type": "scatterternary"
           }
          ],
          "surface": [
           {
            "colorbar": {
             "outlinewidth": 0,
             "ticks": ""
            },
            "colorscale": [
             [
              0,
              "#0d0887"
             ],
             [
              0.1111111111111111,
              "#46039f"
             ],
             [
              0.2222222222222222,
              "#7201a8"
             ],
             [
              0.3333333333333333,
              "#9c179e"
             ],
             [
              0.4444444444444444,
              "#bd3786"
             ],
             [
              0.5555555555555556,
              "#d8576b"
             ],
             [
              0.6666666666666666,
              "#ed7953"
             ],
             [
              0.7777777777777778,
              "#fb9f3a"
             ],
             [
              0.8888888888888888,
              "#fdca26"
             ],
             [
              1,
              "#f0f921"
             ]
            ],
            "type": "surface"
           }
          ],
          "table": [
           {
            "cells": {
             "fill": {
              "color": "#EBF0F8"
             },
             "line": {
              "color": "white"
             }
            },
            "header": {
             "fill": {
              "color": "#C8D4E3"
             },
             "line": {
              "color": "white"
             }
            },
            "type": "table"
           }
          ]
         },
         "layout": {
          "annotationdefaults": {
           "arrowcolor": "#2a3f5f",
           "arrowhead": 0,
           "arrowwidth": 1
          },
          "autotypenumbers": "strict",
          "coloraxis": {
           "colorbar": {
            "outlinewidth": 0,
            "ticks": ""
           }
          },
          "colorscale": {
           "diverging": [
            [
             0,
             "#8e0152"
            ],
            [
             0.1,
             "#c51b7d"
            ],
            [
             0.2,
             "#de77ae"
            ],
            [
             0.3,
             "#f1b6da"
            ],
            [
             0.4,
             "#fde0ef"
            ],
            [
             0.5,
             "#f7f7f7"
            ],
            [
             0.6,
             "#e6f5d0"
            ],
            [
             0.7,
             "#b8e186"
            ],
            [
             0.8,
             "#7fbc41"
            ],
            [
             0.9,
             "#4d9221"
            ],
            [
             1,
             "#276419"
            ]
           ],
           "sequential": [
            [
             0,
             "#0d0887"
            ],
            [
             0.1111111111111111,
             "#46039f"
            ],
            [
             0.2222222222222222,
             "#7201a8"
            ],
            [
             0.3333333333333333,
             "#9c179e"
            ],
            [
             0.4444444444444444,
             "#bd3786"
            ],
            [
             0.5555555555555556,
             "#d8576b"
            ],
            [
             0.6666666666666666,
             "#ed7953"
            ],
            [
             0.7777777777777778,
             "#fb9f3a"
            ],
            [
             0.8888888888888888,
             "#fdca26"
            ],
            [
             1,
             "#f0f921"
            ]
           ],
           "sequentialminus": [
            [
             0,
             "#0d0887"
            ],
            [
             0.1111111111111111,
             "#46039f"
            ],
            [
             0.2222222222222222,
             "#7201a8"
            ],
            [
             0.3333333333333333,
             "#9c179e"
            ],
            [
             0.4444444444444444,
             "#bd3786"
            ],
            [
             0.5555555555555556,
             "#d8576b"
            ],
            [
             0.6666666666666666,
             "#ed7953"
            ],
            [
             0.7777777777777778,
             "#fb9f3a"
            ],
            [
             0.8888888888888888,
             "#fdca26"
            ],
            [
             1,
             "#f0f921"
            ]
           ]
          },
          "colorway": [
           "#636efa",
           "#EF553B",
           "#00cc96",
           "#ab63fa",
           "#FFA15A",
           "#19d3f3",
           "#FF6692",
           "#B6E880",
           "#FF97FF",
           "#FECB52"
          ],
          "font": {
           "color": "#2a3f5f"
          },
          "geo": {
           "bgcolor": "white",
           "lakecolor": "white",
           "landcolor": "#E5ECF6",
           "showlakes": true,
           "showland": true,
           "subunitcolor": "white"
          },
          "hoverlabel": {
           "align": "left"
          },
          "hovermode": "closest",
          "mapbox": {
           "style": "light"
          },
          "paper_bgcolor": "white",
          "plot_bgcolor": "#E5ECF6",
          "polar": {
           "angularaxis": {
            "gridcolor": "white",
            "linecolor": "white",
            "ticks": ""
           },
           "bgcolor": "#E5ECF6",
           "radialaxis": {
            "gridcolor": "white",
            "linecolor": "white",
            "ticks": ""
           }
          },
          "scene": {
           "xaxis": {
            "backgroundcolor": "#E5ECF6",
            "gridcolor": "white",
            "gridwidth": 2,
            "linecolor": "white",
            "showbackground": true,
            "ticks": "",
            "zerolinecolor": "white"
           },
           "yaxis": {
            "backgroundcolor": "#E5ECF6",
            "gridcolor": "white",
            "gridwidth": 2,
            "linecolor": "white",
            "showbackground": true,
            "ticks": "",
            "zerolinecolor": "white"
           },
           "zaxis": {
            "backgroundcolor": "#E5ECF6",
            "gridcolor": "white",
            "gridwidth": 2,
            "linecolor": "white",
            "showbackground": true,
            "ticks": "",
            "zerolinecolor": "white"
           }
          },
          "shapedefaults": {
           "line": {
            "color": "#2a3f5f"
           }
          },
          "ternary": {
           "aaxis": {
            "gridcolor": "white",
            "linecolor": "white",
            "ticks": ""
           },
           "baxis": {
            "gridcolor": "white",
            "linecolor": "white",
            "ticks": ""
           },
           "bgcolor": "#E5ECF6",
           "caxis": {
            "gridcolor": "white",
            "linecolor": "white",
            "ticks": ""
           }
          },
          "title": {
           "x": 0.05
          },
          "xaxis": {
           "automargin": true,
           "gridcolor": "white",
           "linecolor": "white",
           "ticks": "",
           "title": {
            "standoff": 15
           },
           "zerolinecolor": "white",
           "zerolinewidth": 2
          },
          "yaxis": {
           "automargin": true,
           "gridcolor": "white",
           "linecolor": "white",
           "ticks": "",
           "title": {
            "standoff": 15
           },
           "zerolinecolor": "white",
           "zerolinewidth": 2
          }
         }
        },
        "title": {
         "text": "Album: No Name"
        }
       }
      }
     },
     "metadata": {},
     "output_type": "display_data"
    },
    {
     "data": {
      "application/vnd.plotly.v1+json": {
       "config": {
        "plotlyServerURL": "https://plot.ly"
       },
       "data": [
        {
         "fill": "toself",
         "name": "051021",
         "r": [
          0.679,
          0.661,
          0.124,
          0.0641,
          0.0976,
          0.388
         ],
         "theta": [
          "danceability",
          "energy",
          "speechiness",
          "acousticness",
          "liveness",
          "valence"
         ],
         "type": "scatterpolar"
        },
        {
         "fill": "toself",
         "name": "All Night Long",
         "r": [
          0.756,
          0.436,
          0.0457,
          0.0554,
          0.309,
          0.228
         ],
         "theta": [
          "danceability",
          "energy",
          "speechiness",
          "acousticness",
          "liveness",
          "valence"
         ],
         "type": "scatterpolar"
        },
        {
         "fill": "toself",
         "name": "Chaunde Ne Pharna",
         "r": [
          0.661,
          0.415,
          0.183,
          0.0202,
          0.31,
          0.286
         ],
         "theta": [
          "danceability",
          "energy",
          "speechiness",
          "acousticness",
          "liveness",
          "valence"
         ],
         "type": "scatterpolar"
        },
        {
         "fill": "toself",
         "name": "Cocaine",
         "r": [
          0.659,
          0.277,
          0.119,
          0.443,
          0.128,
          0.24
         ],
         "theta": [
          "danceability",
          "energy",
          "speechiness",
          "acousticness",
          "liveness",
          "valence"
         ],
         "type": "scatterpolar"
        },
        {
         "fill": "toself",
         "name": "Faasla",
         "r": [
          0.739,
          0.39,
          0.0918,
          0.0475,
          0.0732,
          0.285
         ],
         "theta": [
          "danceability",
          "energy",
          "speechiness",
          "acousticness",
          "liveness",
          "valence"
         ],
         "type": "scatterpolar"
        },
        {
         "fill": "toself",
         "name": "Into The Sunset",
         "r": [
          0.534,
          0.458,
          0.233,
          0.299,
          0.095,
          0.275
         ],
         "theta": [
          "danceability",
          "energy",
          "speechiness",
          "acousticness",
          "liveness",
          "valence"
         ],
         "type": "scatterpolar"
        },
        {
         "fill": "toself",
         "name": "Load Out",
         "r": [
          0.784,
          0.39,
          0.0615,
          0.286,
          0.139,
          0.316
         ],
         "theta": [
          "danceability",
          "energy",
          "speechiness",
          "acousticness",
          "liveness",
          "valence"
         ],
         "type": "scatterpolar"
        },
        {
         "fill": "toself",
         "name": "Location",
         "r": [
          0.831,
          0.364,
          0.124,
          0.0268,
          0.0736,
          0.649
         ],
         "theta": [
          "danceability",
          "energy",
          "speechiness",
          "acousticness",
          "liveness",
          "valence"
         ],
         "type": "scatterpolar"
        },
        {
         "fill": "toself",
         "name": "Lockdown Freestyle",
         "r": [
          0.601,
          0.459,
          0.44,
          0.195,
          0.144,
          0.231
         ],
         "theta": [
          "danceability",
          "energy",
          "speechiness",
          "acousticness",
          "liveness",
          "valence"
         ],
         "type": "scatterpolar"
        },
        {
         "fill": "toself",
         "name": "Promises",
         "r": [
          0.666,
          0.35,
          0.0389,
          0.204,
          0.238,
          0.272
         ],
         "theta": [
          "danceability",
          "energy",
          "speechiness",
          "acousticness",
          "liveness",
          "valence"
         ],
         "type": "scatterpolar"
        },
        {
         "fill": "toself",
         "name": "Promises (Rovalio Mix)",
         "r": [
          0.432,
          0.429,
          0.0293,
          0.0095,
          0.136,
          0.205
         ],
         "theta": [
          "danceability",
          "energy",
          "speechiness",
          "acousticness",
          "liveness",
          "valence"
         ],
         "type": "scatterpolar"
        },
        {
         "fill": "toself",
         "name": "Scars & Screws",
         "r": [
          0.58,
          0.589,
          0.327,
          0.343,
          0.121,
          0.363
         ],
         "theta": [
          "danceability",
          "energy",
          "speechiness",
          "acousticness",
          "liveness",
          "valence"
         ],
         "type": "scatterpolar"
        }
       ],
       "layout": {
        "template": {
         "data": {
          "bar": [
           {
            "error_x": {
             "color": "#2a3f5f"
            },
            "error_y": {
             "color": "#2a3f5f"
            },
            "marker": {
             "line": {
              "color": "#E5ECF6",
              "width": 0.5
             },
             "pattern": {
              "fillmode": "overlay",
              "size": 10,
              "solidity": 0.2
             }
            },
            "type": "bar"
           }
          ],
          "barpolar": [
           {
            "marker": {
             "line": {
              "color": "#E5ECF6",
              "width": 0.5
             },
             "pattern": {
              "fillmode": "overlay",
              "size": 10,
              "solidity": 0.2
             }
            },
            "type": "barpolar"
           }
          ],
          "carpet": [
           {
            "aaxis": {
             "endlinecolor": "#2a3f5f",
             "gridcolor": "white",
             "linecolor": "white",
             "minorgridcolor": "white",
             "startlinecolor": "#2a3f5f"
            },
            "baxis": {
             "endlinecolor": "#2a3f5f",
             "gridcolor": "white",
             "linecolor": "white",
             "minorgridcolor": "white",
             "startlinecolor": "#2a3f5f"
            },
            "type": "carpet"
           }
          ],
          "choropleth": [
           {
            "colorbar": {
             "outlinewidth": 0,
             "ticks": ""
            },
            "type": "choropleth"
           }
          ],
          "contour": [
           {
            "colorbar": {
             "outlinewidth": 0,
             "ticks": ""
            },
            "colorscale": [
             [
              0,
              "#0d0887"
             ],
             [
              0.1111111111111111,
              "#46039f"
             ],
             [
              0.2222222222222222,
              "#7201a8"
             ],
             [
              0.3333333333333333,
              "#9c179e"
             ],
             [
              0.4444444444444444,
              "#bd3786"
             ],
             [
              0.5555555555555556,
              "#d8576b"
             ],
             [
              0.6666666666666666,
              "#ed7953"
             ],
             [
              0.7777777777777778,
              "#fb9f3a"
             ],
             [
              0.8888888888888888,
              "#fdca26"
             ],
             [
              1,
              "#f0f921"
             ]
            ],
            "type": "contour"
           }
          ],
          "contourcarpet": [
           {
            "colorbar": {
             "outlinewidth": 0,
             "ticks": ""
            },
            "type": "contourcarpet"
           }
          ],
          "heatmap": [
           {
            "colorbar": {
             "outlinewidth": 0,
             "ticks": ""
            },
            "colorscale": [
             [
              0,
              "#0d0887"
             ],
             [
              0.1111111111111111,
              "#46039f"
             ],
             [
              0.2222222222222222,
              "#7201a8"
             ],
             [
              0.3333333333333333,
              "#9c179e"
             ],
             [
              0.4444444444444444,
              "#bd3786"
             ],
             [
              0.5555555555555556,
              "#d8576b"
             ],
             [
              0.6666666666666666,
              "#ed7953"
             ],
             [
              0.7777777777777778,
              "#fb9f3a"
             ],
             [
              0.8888888888888888,
              "#fdca26"
             ],
             [
              1,
              "#f0f921"
             ]
            ],
            "type": "heatmap"
           }
          ],
          "heatmapgl": [
           {
            "colorbar": {
             "outlinewidth": 0,
             "ticks": ""
            },
            "colorscale": [
             [
              0,
              "#0d0887"
             ],
             [
              0.1111111111111111,
              "#46039f"
             ],
             [
              0.2222222222222222,
              "#7201a8"
             ],
             [
              0.3333333333333333,
              "#9c179e"
             ],
             [
              0.4444444444444444,
              "#bd3786"
             ],
             [
              0.5555555555555556,
              "#d8576b"
             ],
             [
              0.6666666666666666,
              "#ed7953"
             ],
             [
              0.7777777777777778,
              "#fb9f3a"
             ],
             [
              0.8888888888888888,
              "#fdca26"
             ],
             [
              1,
              "#f0f921"
             ]
            ],
            "type": "heatmapgl"
           }
          ],
          "histogram": [
           {
            "marker": {
             "pattern": {
              "fillmode": "overlay",
              "size": 10,
              "solidity": 0.2
             }
            },
            "type": "histogram"
           }
          ],
          "histogram2d": [
           {
            "colorbar": {
             "outlinewidth": 0,
             "ticks": ""
            },
            "colorscale": [
             [
              0,
              "#0d0887"
             ],
             [
              0.1111111111111111,
              "#46039f"
             ],
             [
              0.2222222222222222,
              "#7201a8"
             ],
             [
              0.3333333333333333,
              "#9c179e"
             ],
             [
              0.4444444444444444,
              "#bd3786"
             ],
             [
              0.5555555555555556,
              "#d8576b"
             ],
             [
              0.6666666666666666,
              "#ed7953"
             ],
             [
              0.7777777777777778,
              "#fb9f3a"
             ],
             [
              0.8888888888888888,
              "#fdca26"
             ],
             [
              1,
              "#f0f921"
             ]
            ],
            "type": "histogram2d"
           }
          ],
          "histogram2dcontour": [
           {
            "colorbar": {
             "outlinewidth": 0,
             "ticks": ""
            },
            "colorscale": [
             [
              0,
              "#0d0887"
             ],
             [
              0.1111111111111111,
              "#46039f"
             ],
             [
              0.2222222222222222,
              "#7201a8"
             ],
             [
              0.3333333333333333,
              "#9c179e"
             ],
             [
              0.4444444444444444,
              "#bd3786"
             ],
             [
              0.5555555555555556,
              "#d8576b"
             ],
             [
              0.6666666666666666,
              "#ed7953"
             ],
             [
              0.7777777777777778,
              "#fb9f3a"
             ],
             [
              0.8888888888888888,
              "#fdca26"
             ],
             [
              1,
              "#f0f921"
             ]
            ],
            "type": "histogram2dcontour"
           }
          ],
          "mesh3d": [
           {
            "colorbar": {
             "outlinewidth": 0,
             "ticks": ""
            },
            "type": "mesh3d"
           }
          ],
          "parcoords": [
           {
            "line": {
             "colorbar": {
              "outlinewidth": 0,
              "ticks": ""
             }
            },
            "type": "parcoords"
           }
          ],
          "pie": [
           {
            "automargin": true,
            "type": "pie"
           }
          ],
          "scatter": [
           {
            "fillpattern": {
             "fillmode": "overlay",
             "size": 10,
             "solidity": 0.2
            },
            "type": "scatter"
           }
          ],
          "scatter3d": [
           {
            "line": {
             "colorbar": {
              "outlinewidth": 0,
              "ticks": ""
             }
            },
            "marker": {
             "colorbar": {
              "outlinewidth": 0,
              "ticks": ""
             }
            },
            "type": "scatter3d"
           }
          ],
          "scattercarpet": [
           {
            "marker": {
             "colorbar": {
              "outlinewidth": 0,
              "ticks": ""
             }
            },
            "type": "scattercarpet"
           }
          ],
          "scattergeo": [
           {
            "marker": {
             "colorbar": {
              "outlinewidth": 0,
              "ticks": ""
             }
            },
            "type": "scattergeo"
           }
          ],
          "scattergl": [
           {
            "marker": {
             "colorbar": {
              "outlinewidth": 0,
              "ticks": ""
             }
            },
            "type": "scattergl"
           }
          ],
          "scattermapbox": [
           {
            "marker": {
             "colorbar": {
              "outlinewidth": 0,
              "ticks": ""
             }
            },
            "type": "scattermapbox"
           }
          ],
          "scatterpolar": [
           {
            "marker": {
             "colorbar": {
              "outlinewidth": 0,
              "ticks": ""
             }
            },
            "type": "scatterpolar"
           }
          ],
          "scatterpolargl": [
           {
            "marker": {
             "colorbar": {
              "outlinewidth": 0,
              "ticks": ""
             }
            },
            "type": "scatterpolargl"
           }
          ],
          "scatterternary": [
           {
            "marker": {
             "colorbar": {
              "outlinewidth": 0,
              "ticks": ""
             }
            },
            "type": "scatterternary"
           }
          ],
          "surface": [
           {
            "colorbar": {
             "outlinewidth": 0,
             "ticks": ""
            },
            "colorscale": [
             [
              0,
              "#0d0887"
             ],
             [
              0.1111111111111111,
              "#46039f"
             ],
             [
              0.2222222222222222,
              "#7201a8"
             ],
             [
              0.3333333333333333,
              "#9c179e"
             ],
             [
              0.4444444444444444,
              "#bd3786"
             ],
             [
              0.5555555555555556,
              "#d8576b"
             ],
             [
              0.6666666666666666,
              "#ed7953"
             ],
             [
              0.7777777777777778,
              "#fb9f3a"
             ],
             [
              0.8888888888888888,
              "#fdca26"
             ],
             [
              1,
              "#f0f921"
             ]
            ],
            "type": "surface"
           }
          ],
          "table": [
           {
            "cells": {
             "fill": {
              "color": "#EBF0F8"
             },
             "line": {
              "color": "white"
             }
            },
            "header": {
             "fill": {
              "color": "#C8D4E3"
             },
             "line": {
              "color": "white"
             }
            },
            "type": "table"
           }
          ]
         },
         "layout": {
          "annotationdefaults": {
           "arrowcolor": "#2a3f5f",
           "arrowhead": 0,
           "arrowwidth": 1
          },
          "autotypenumbers": "strict",
          "coloraxis": {
           "colorbar": {
            "outlinewidth": 0,
            "ticks": ""
           }
          },
          "colorscale": {
           "diverging": [
            [
             0,
             "#8e0152"
            ],
            [
             0.1,
             "#c51b7d"
            ],
            [
             0.2,
             "#de77ae"
            ],
            [
             0.3,
             "#f1b6da"
            ],
            [
             0.4,
             "#fde0ef"
            ],
            [
             0.5,
             "#f7f7f7"
            ],
            [
             0.6,
             "#e6f5d0"
            ],
            [
             0.7,
             "#b8e186"
            ],
            [
             0.8,
             "#7fbc41"
            ],
            [
             0.9,
             "#4d9221"
            ],
            [
             1,
             "#276419"
            ]
           ],
           "sequential": [
            [
             0,
             "#0d0887"
            ],
            [
             0.1111111111111111,
             "#46039f"
            ],
            [
             0.2222222222222222,
             "#7201a8"
            ],
            [
             0.3333333333333333,
             "#9c179e"
            ],
            [
             0.4444444444444444,
             "#bd3786"
            ],
            [
             0.5555555555555556,
             "#d8576b"
            ],
            [
             0.6666666666666666,
             "#ed7953"
            ],
            [
             0.7777777777777778,
             "#fb9f3a"
            ],
            [
             0.8888888888888888,
             "#fdca26"
            ],
            [
             1,
             "#f0f921"
            ]
           ],
           "sequentialminus": [
            [
             0,
             "#0d0887"
            ],
            [
             0.1111111111111111,
             "#46039f"
            ],
            [
             0.2222222222222222,
             "#7201a8"
            ],
            [
             0.3333333333333333,
             "#9c179e"
            ],
            [
             0.4444444444444444,
             "#bd3786"
            ],
            [
             0.5555555555555556,
             "#d8576b"
            ],
            [
             0.6666666666666666,
             "#ed7953"
            ],
            [
             0.7777777777777778,
             "#fb9f3a"
            ],
            [
             0.8888888888888888,
             "#fdca26"
            ],
            [
             1,
             "#f0f921"
            ]
           ]
          },
          "colorway": [
           "#636efa",
           "#EF553B",
           "#00cc96",
           "#ab63fa",
           "#FFA15A",
           "#19d3f3",
           "#FF6692",
           "#B6E880",
           "#FF97FF",
           "#FECB52"
          ],
          "font": {
           "color": "#2a3f5f"
          },
          "geo": {
           "bgcolor": "white",
           "lakecolor": "white",
           "landcolor": "#E5ECF6",
           "showlakes": true,
           "showland": true,
           "subunitcolor": "white"
          },
          "hoverlabel": {
           "align": "left"
          },
          "hovermode": "closest",
          "mapbox": {
           "style": "light"
          },
          "paper_bgcolor": "white",
          "plot_bgcolor": "#E5ECF6",
          "polar": {
           "angularaxis": {
            "gridcolor": "white",
            "linecolor": "white",
            "ticks": ""
           },
           "bgcolor": "#E5ECF6",
           "radialaxis": {
            "gridcolor": "white",
            "linecolor": "white",
            "ticks": ""
           }
          },
          "scene": {
           "xaxis": {
            "backgroundcolor": "#E5ECF6",
            "gridcolor": "white",
            "gridwidth": 2,
            "linecolor": "white",
            "showbackground": true,
            "ticks": "",
            "zerolinecolor": "white"
           },
           "yaxis": {
            "backgroundcolor": "#E5ECF6",
            "gridcolor": "white",
            "gridwidth": 2,
            "linecolor": "white",
            "showbackground": true,
            "ticks": "",
            "zerolinecolor": "white"
           },
           "zaxis": {
            "backgroundcolor": "#E5ECF6",
            "gridcolor": "white",
            "gridwidth": 2,
            "linecolor": "white",
            "showbackground": true,
            "ticks": "",
            "zerolinecolor": "white"
           }
          },
          "shapedefaults": {
           "line": {
            "color": "#2a3f5f"
           }
          },
          "ternary": {
           "aaxis": {
            "gridcolor": "white",
            "linecolor": "white",
            "ticks": ""
           },
           "baxis": {
            "gridcolor": "white",
            "linecolor": "white",
            "ticks": ""
           },
           "bgcolor": "#E5ECF6",
           "caxis": {
            "gridcolor": "white",
            "linecolor": "white",
            "ticks": ""
           }
          },
          "title": {
           "x": 0.05
          },
          "xaxis": {
           "automargin": true,
           "gridcolor": "white",
           "linecolor": "white",
           "ticks": "",
           "title": {
            "standoff": 15
           },
           "zerolinecolor": "white",
           "zerolinewidth": 2
          },
          "yaxis": {
           "automargin": true,
           "gridcolor": "white",
           "linecolor": "white",
           "ticks": "",
           "title": {
            "standoff": 15
           },
           "zerolinecolor": "white",
           "zerolinewidth": 2
          }
         }
        },
        "title": {
         "text": "Album: Scars & Screws"
        }
       }
      }
     },
     "metadata": {},
     "output_type": "display_data"
    },
    {
     "data": {
      "application/vnd.plotly.v1+json": {
       "config": {
        "plotlyServerURL": "https://plot.ly"
       },
       "data": [
        {
         "fill": "toself",
         "name": "D'Arline",
         "r": [
          0.43,
          0.199,
          0.0348,
          0.906,
          0.145,
          0.477
         ],
         "theta": [
          "danceability",
          "energy",
          "speechiness",
          "acousticness",
          "liveness",
          "valence"
         ],
         "type": "scatterpolar"
        },
        {
         "fill": "toself",
         "name": "Devil's Backbone",
         "r": [
          0.254,
          0.349,
          0.0379,
          0.85,
          0.234,
          0.303
         ],
         "theta": [
          "danceability",
          "energy",
          "speechiness",
          "acousticness",
          "liveness",
          "valence"
         ],
         "type": "scatterpolar"
        },
        {
         "fill": "toself",
         "name": "Disarm",
         "r": [
          0.364,
          0.172,
          0.0335,
          0.92,
          0.0916,
          0.105
         ],
         "theta": [
          "danceability",
          "energy",
          "speechiness",
          "acousticness",
          "liveness",
          "valence"
         ],
         "type": "scatterpolar"
        },
        {
         "fill": "toself",
         "name": "Dust to Dust",
         "r": [
          0.747,
          0.265,
          0.0354,
          0.745,
          0.11,
          0.2
         ],
         "theta": [
          "danceability",
          "energy",
          "speechiness",
          "acousticness",
          "liveness",
          "valence"
         ],
         "type": "scatterpolar"
        },
        {
         "fill": "toself",
         "name": "Eavesdrop",
         "r": [
          0.512,
          0.381,
          0.0258,
          0.784,
          0.109,
          0.114
         ],
         "theta": [
          "danceability",
          "energy",
          "speechiness",
          "acousticness",
          "liveness",
          "valence"
         ],
         "type": "scatterpolar"
        },
        {
         "fill": "toself",
         "name": "From This Valley",
         "r": [
          0.317,
          0.451,
          0.0347,
          0.537,
          0.0898,
          0.459
         ],
         "theta": [
          "danceability",
          "energy",
          "speechiness",
          "acousticness",
          "liveness",
          "valence"
         ],
         "type": "scatterpolar"
        },
        {
         "fill": "toself",
         "name": "I Had Me a Girl",
         "r": [
          0.338,
          0.56,
          0.0298,
          0.204,
          0.108,
          0.576
         ],
         "theta": [
          "danceability",
          "energy",
          "speechiness",
          "acousticness",
          "liveness",
          "valence"
         ],
         "type": "scatterpolar"
        },
        {
         "fill": "toself",
         "name": "Oh Henry",
         "r": [
          0.435,
          0.588,
          0.0336,
          0.735,
          0.156,
          0.516
         ],
         "theta": [
          "danceability",
          "energy",
          "speechiness",
          "acousticness",
          "liveness",
          "valence"
         ],
         "type": "scatterpolar"
        },
        {
         "fill": "toself",
         "name": "Sacred Heart",
         "r": [
          0.338,
          0.0948,
          0.0434,
          0.884,
          0.1,
          0.237
         ],
         "theta": [
          "danceability",
          "energy",
          "speechiness",
          "acousticness",
          "liveness",
          "valence"
         ],
         "type": "scatterpolar"
        },
        {
         "fill": "toself",
         "name": "Same Old Same Old",
         "r": [
          0.401,
          0.161,
          0.0372,
          0.781,
          0.118,
          0.112
         ],
         "theta": [
          "danceability",
          "energy",
          "speechiness",
          "acousticness",
          "liveness",
          "valence"
         ],
         "type": "scatterpolar"
        },
        {
         "fill": "toself",
         "name": "Tell Mama",
         "r": [
          0.37,
          0.301,
          0.0322,
          0.845,
          0.113,
          0.149
         ],
         "theta": [
          "danceability",
          "energy",
          "speechiness",
          "acousticness",
          "liveness",
          "valence"
         ],
         "type": "scatterpolar"
        },
        {
         "fill": "toself",
         "name": "The One That Got Away",
         "r": [
          0.439,
          0.313,
          0.0291,
          0.692,
          0.0464,
          0.243
         ],
         "theta": [
          "danceability",
          "energy",
          "speechiness",
          "acousticness",
          "liveness",
          "valence"
         ],
         "type": "scatterpolar"
        }
       ],
       "layout": {
        "template": {
         "data": {
          "bar": [
           {
            "error_x": {
             "color": "#2a3f5f"
            },
            "error_y": {
             "color": "#2a3f5f"
            },
            "marker": {
             "line": {
              "color": "#E5ECF6",
              "width": 0.5
             },
             "pattern": {
              "fillmode": "overlay",
              "size": 10,
              "solidity": 0.2
             }
            },
            "type": "bar"
           }
          ],
          "barpolar": [
           {
            "marker": {
             "line": {
              "color": "#E5ECF6",
              "width": 0.5
             },
             "pattern": {
              "fillmode": "overlay",
              "size": 10,
              "solidity": 0.2
             }
            },
            "type": "barpolar"
           }
          ],
          "carpet": [
           {
            "aaxis": {
             "endlinecolor": "#2a3f5f",
             "gridcolor": "white",
             "linecolor": "white",
             "minorgridcolor": "white",
             "startlinecolor": "#2a3f5f"
            },
            "baxis": {
             "endlinecolor": "#2a3f5f",
             "gridcolor": "white",
             "linecolor": "white",
             "minorgridcolor": "white",
             "startlinecolor": "#2a3f5f"
            },
            "type": "carpet"
           }
          ],
          "choropleth": [
           {
            "colorbar": {
             "outlinewidth": 0,
             "ticks": ""
            },
            "type": "choropleth"
           }
          ],
          "contour": [
           {
            "colorbar": {
             "outlinewidth": 0,
             "ticks": ""
            },
            "colorscale": [
             [
              0,
              "#0d0887"
             ],
             [
              0.1111111111111111,
              "#46039f"
             ],
             [
              0.2222222222222222,
              "#7201a8"
             ],
             [
              0.3333333333333333,
              "#9c179e"
             ],
             [
              0.4444444444444444,
              "#bd3786"
             ],
             [
              0.5555555555555556,
              "#d8576b"
             ],
             [
              0.6666666666666666,
              "#ed7953"
             ],
             [
              0.7777777777777778,
              "#fb9f3a"
             ],
             [
              0.8888888888888888,
              "#fdca26"
             ],
             [
              1,
              "#f0f921"
             ]
            ],
            "type": "contour"
           }
          ],
          "contourcarpet": [
           {
            "colorbar": {
             "outlinewidth": 0,
             "ticks": ""
            },
            "type": "contourcarpet"
           }
          ],
          "heatmap": [
           {
            "colorbar": {
             "outlinewidth": 0,
             "ticks": ""
            },
            "colorscale": [
             [
              0,
              "#0d0887"
             ],
             [
              0.1111111111111111,
              "#46039f"
             ],
             [
              0.2222222222222222,
              "#7201a8"
             ],
             [
              0.3333333333333333,
              "#9c179e"
             ],
             [
              0.4444444444444444,
              "#bd3786"
             ],
             [
              0.5555555555555556,
              "#d8576b"
             ],
             [
              0.6666666666666666,
              "#ed7953"
             ],
             [
              0.7777777777777778,
              "#fb9f3a"
             ],
             [
              0.8888888888888888,
              "#fdca26"
             ],
             [
              1,
              "#f0f921"
             ]
            ],
            "type": "heatmap"
           }
          ],
          "heatmapgl": [
           {
            "colorbar": {
             "outlinewidth": 0,
             "ticks": ""
            },
            "colorscale": [
             [
              0,
              "#0d0887"
             ],
             [
              0.1111111111111111,
              "#46039f"
             ],
             [
              0.2222222222222222,
              "#7201a8"
             ],
             [
              0.3333333333333333,
              "#9c179e"
             ],
             [
              0.4444444444444444,
              "#bd3786"
             ],
             [
              0.5555555555555556,
              "#d8576b"
             ],
             [
              0.6666666666666666,
              "#ed7953"
             ],
             [
              0.7777777777777778,
              "#fb9f3a"
             ],
             [
              0.8888888888888888,
              "#fdca26"
             ],
             [
              1,
              "#f0f921"
             ]
            ],
            "type": "heatmapgl"
           }
          ],
          "histogram": [
           {
            "marker": {
             "pattern": {
              "fillmode": "overlay",
              "size": 10,
              "solidity": 0.2
             }
            },
            "type": "histogram"
           }
          ],
          "histogram2d": [
           {
            "colorbar": {
             "outlinewidth": 0,
             "ticks": ""
            },
            "colorscale": [
             [
              0,
              "#0d0887"
             ],
             [
              0.1111111111111111,
              "#46039f"
             ],
             [
              0.2222222222222222,
              "#7201a8"
             ],
             [
              0.3333333333333333,
              "#9c179e"
             ],
             [
              0.4444444444444444,
              "#bd3786"
             ],
             [
              0.5555555555555556,
              "#d8576b"
             ],
             [
              0.6666666666666666,
              "#ed7953"
             ],
             [
              0.7777777777777778,
              "#fb9f3a"
             ],
             [
              0.8888888888888888,
              "#fdca26"
             ],
             [
              1,
              "#f0f921"
             ]
            ],
            "type": "histogram2d"
           }
          ],
          "histogram2dcontour": [
           {
            "colorbar": {
             "outlinewidth": 0,
             "ticks": ""
            },
            "colorscale": [
             [
              0,
              "#0d0887"
             ],
             [
              0.1111111111111111,
              "#46039f"
             ],
             [
              0.2222222222222222,
              "#7201a8"
             ],
             [
              0.3333333333333333,
              "#9c179e"
             ],
             [
              0.4444444444444444,
              "#bd3786"
             ],
             [
              0.5555555555555556,
              "#d8576b"
             ],
             [
              0.6666666666666666,
              "#ed7953"
             ],
             [
              0.7777777777777778,
              "#fb9f3a"
             ],
             [
              0.8888888888888888,
              "#fdca26"
             ],
             [
              1,
              "#f0f921"
             ]
            ],
            "type": "histogram2dcontour"
           }
          ],
          "mesh3d": [
           {
            "colorbar": {
             "outlinewidth": 0,
             "ticks": ""
            },
            "type": "mesh3d"
           }
          ],
          "parcoords": [
           {
            "line": {
             "colorbar": {
              "outlinewidth": 0,
              "ticks": ""
             }
            },
            "type": "parcoords"
           }
          ],
          "pie": [
           {
            "automargin": true,
            "type": "pie"
           }
          ],
          "scatter": [
           {
            "fillpattern": {
             "fillmode": "overlay",
             "size": 10,
             "solidity": 0.2
            },
            "type": "scatter"
           }
          ],
          "scatter3d": [
           {
            "line": {
             "colorbar": {
              "outlinewidth": 0,
              "ticks": ""
             }
            },
            "marker": {
             "colorbar": {
              "outlinewidth": 0,
              "ticks": ""
             }
            },
            "type": "scatter3d"
           }
          ],
          "scattercarpet": [
           {
            "marker": {
             "colorbar": {
              "outlinewidth": 0,
              "ticks": ""
             }
            },
            "type": "scattercarpet"
           }
          ],
          "scattergeo": [
           {
            "marker": {
             "colorbar": {
              "outlinewidth": 0,
              "ticks": ""
             }
            },
            "type": "scattergeo"
           }
          ],
          "scattergl": [
           {
            "marker": {
             "colorbar": {
              "outlinewidth": 0,
              "ticks": ""
             }
            },
            "type": "scattergl"
           }
          ],
          "scattermapbox": [
           {
            "marker": {
             "colorbar": {
              "outlinewidth": 0,
              "ticks": ""
             }
            },
            "type": "scattermapbox"
           }
          ],
          "scatterpolar": [
           {
            "marker": {
             "colorbar": {
              "outlinewidth": 0,
              "ticks": ""
             }
            },
            "type": "scatterpolar"
           }
          ],
          "scatterpolargl": [
           {
            "marker": {
             "colorbar": {
              "outlinewidth": 0,
              "ticks": ""
             }
            },
            "type": "scatterpolargl"
           }
          ],
          "scatterternary": [
           {
            "marker": {
             "colorbar": {
              "outlinewidth": 0,
              "ticks": ""
             }
            },
            "type": "scatterternary"
           }
          ],
          "surface": [
           {
            "colorbar": {
             "outlinewidth": 0,
             "ticks": ""
            },
            "colorscale": [
             [
              0,
              "#0d0887"
             ],
             [
              0.1111111111111111,
              "#46039f"
             ],
             [
              0.2222222222222222,
              "#7201a8"
             ],
             [
              0.3333333333333333,
              "#9c179e"
             ],
             [
              0.4444444444444444,
              "#bd3786"
             ],
             [
              0.5555555555555556,
              "#d8576b"
             ],
             [
              0.6666666666666666,
              "#ed7953"
             ],
             [
              0.7777777777777778,
              "#fb9f3a"
             ],
             [
              0.8888888888888888,
              "#fdca26"
             ],
             [
              1,
              "#f0f921"
             ]
            ],
            "type": "surface"
           }
          ],
          "table": [
           {
            "cells": {
             "fill": {
              "color": "#EBF0F8"
             },
             "line": {
              "color": "white"
             }
            },
            "header": {
             "fill": {
              "color": "#C8D4E3"
             },
             "line": {
              "color": "white"
             }
            },
            "type": "table"
           }
          ]
         },
         "layout": {
          "annotationdefaults": {
           "arrowcolor": "#2a3f5f",
           "arrowhead": 0,
           "arrowwidth": 1
          },
          "autotypenumbers": "strict",
          "coloraxis": {
           "colorbar": {
            "outlinewidth": 0,
            "ticks": ""
           }
          },
          "colorscale": {
           "diverging": [
            [
             0,
             "#8e0152"
            ],
            [
             0.1,
             "#c51b7d"
            ],
            [
             0.2,
             "#de77ae"
            ],
            [
             0.3,
             "#f1b6da"
            ],
            [
             0.4,
             "#fde0ef"
            ],
            [
             0.5,
             "#f7f7f7"
            ],
            [
             0.6,
             "#e6f5d0"
            ],
            [
             0.7,
             "#b8e186"
            ],
            [
             0.8,
             "#7fbc41"
            ],
            [
             0.9,
             "#4d9221"
            ],
            [
             1,
             "#276419"
            ]
           ],
           "sequential": [
            [
             0,
             "#0d0887"
            ],
            [
             0.1111111111111111,
             "#46039f"
            ],
            [
             0.2222222222222222,
             "#7201a8"
            ],
            [
             0.3333333333333333,
             "#9c179e"
            ],
            [
             0.4444444444444444,
             "#bd3786"
            ],
            [
             0.5555555555555556,
             "#d8576b"
            ],
            [
             0.6666666666666666,
             "#ed7953"
            ],
            [
             0.7777777777777778,
             "#fb9f3a"
            ],
            [
             0.8888888888888888,
             "#fdca26"
            ],
            [
             1,
             "#f0f921"
            ]
           ],
           "sequentialminus": [
            [
             0,
             "#0d0887"
            ],
            [
             0.1111111111111111,
             "#46039f"
            ],
            [
             0.2222222222222222,
             "#7201a8"
            ],
            [
             0.3333333333333333,
             "#9c179e"
            ],
            [
             0.4444444444444444,
             "#bd3786"
            ],
            [
             0.5555555555555556,
             "#d8576b"
            ],
            [
             0.6666666666666666,
             "#ed7953"
            ],
            [
             0.7777777777777778,
             "#fb9f3a"
            ],
            [
             0.8888888888888888,
             "#fdca26"
            ],
            [
             1,
             "#f0f921"
            ]
           ]
          },
          "colorway": [
           "#636efa",
           "#EF553B",
           "#00cc96",
           "#ab63fa",
           "#FFA15A",
           "#19d3f3",
           "#FF6692",
           "#B6E880",
           "#FF97FF",
           "#FECB52"
          ],
          "font": {
           "color": "#2a3f5f"
          },
          "geo": {
           "bgcolor": "white",
           "lakecolor": "white",
           "landcolor": "#E5ECF6",
           "showlakes": true,
           "showland": true,
           "subunitcolor": "white"
          },
          "hoverlabel": {
           "align": "left"
          },
          "hovermode": "closest",
          "mapbox": {
           "style": "light"
          },
          "paper_bgcolor": "white",
          "plot_bgcolor": "#E5ECF6",
          "polar": {
           "angularaxis": {
            "gridcolor": "white",
            "linecolor": "white",
            "ticks": ""
           },
           "bgcolor": "#E5ECF6",
           "radialaxis": {
            "gridcolor": "white",
            "linecolor": "white",
            "ticks": ""
           }
          },
          "scene": {
           "xaxis": {
            "backgroundcolor": "#E5ECF6",
            "gridcolor": "white",
            "gridwidth": 2,
            "linecolor": "white",
            "showbackground": true,
            "ticks": "",
            "zerolinecolor": "white"
           },
           "yaxis": {
            "backgroundcolor": "#E5ECF6",
            "gridcolor": "white",
            "gridwidth": 2,
            "linecolor": "white",
            "showbackground": true,
            "ticks": "",
            "zerolinecolor": "white"
           },
           "zaxis": {
            "backgroundcolor": "#E5ECF6",
            "gridcolor": "white",
            "gridwidth": 2,
            "linecolor": "white",
            "showbackground": true,
            "ticks": "",
            "zerolinecolor": "white"
           }
          },
          "shapedefaults": {
           "line": {
            "color": "#2a3f5f"
           }
          },
          "ternary": {
           "aaxis": {
            "gridcolor": "white",
            "linecolor": "white",
            "ticks": ""
           },
           "baxis": {
            "gridcolor": "white",
            "linecolor": "white",
            "ticks": ""
           },
           "bgcolor": "#E5ECF6",
           "caxis": {
            "gridcolor": "white",
            "linecolor": "white",
            "ticks": ""
           }
          },
          "title": {
           "x": 0.05
          },
          "xaxis": {
           "automargin": true,
           "gridcolor": "white",
           "linecolor": "white",
           "ticks": "",
           "title": {
            "standoff": 15
           },
           "zerolinecolor": "white",
           "zerolinewidth": 2
          },
          "yaxis": {
           "automargin": true,
           "gridcolor": "white",
           "linecolor": "white",
           "ticks": "",
           "title": {
            "standoff": 15
           },
           "zerolinecolor": "white",
           "zerolinewidth": 2
          }
         }
        },
        "title": {
         "text": "Album: The Civil Wars"
        }
       }
      }
     },
     "metadata": {},
     "output_type": "display_data"
    },
    {
     "data": {
      "application/vnd.plotly.v1+json": {
       "config": {
        "plotlyServerURL": "https://plot.ly"
       },
       "data": [
        {
         "fill": "toself",
         "name": "All I Need",
         "r": [
          0.786,
          0.356,
          0.0462,
          0.771,
          0.1,
          0.519
         ],
         "theta": [
          "danceability",
          "energy",
          "speechiness",
          "acousticness",
          "liveness",
          "valence"
         ],
         "type": "scatterpolar"
        },
        {
         "fill": "toself",
         "name": "Bloom",
         "r": [
          0.606,
          0.488,
          0.0255,
          0.597,
          0.184,
          0.468
         ],
         "theta": [
          "danceability",
          "energy",
          "speechiness",
          "acousticness",
          "liveness",
          "valence"
         ],
         "type": "scatterpolar"
        },
        {
         "fill": "toself",
         "name": "Co2",
         "r": [
          0.533,
          0.678,
          0.0256,
          0.663,
          0.145,
          0.683
         ],
         "theta": [
          "danceability",
          "energy",
          "speechiness",
          "acousticness",
          "liveness",
          "valence"
         ],
         "type": "scatterpolar"
        },
        {
         "fill": "toself",
         "name": "Drown",
         "r": [
          0.358,
          0.58,
          0.045,
          0.768,
          0.127,
          0.352
         ],
         "theta": [
          "danceability",
          "energy",
          "speechiness",
          "acousticness",
          "liveness",
          "valence"
         ],
         "type": "scatterpolar"
        },
        {
         "fill": "toself",
         "name": "Face",
         "r": [
          0.481,
          0.669,
          0.455,
          0.92,
          0.139,
          0.351
         ],
         "theta": [
          "danceability",
          "energy",
          "speechiness",
          "acousticness",
          "liveness",
          "valence"
         ],
         "type": "scatterpolar"
        },
        {
         "fill": "toself",
         "name": "Favorite Peeps",
         "r": [
          0.611,
          0.525,
          0.0354,
          0.767,
          0.112,
          0.299
         ],
         "theta": [
          "danceability",
          "energy",
          "speechiness",
          "acousticness",
          "liveness",
          "valence"
         ],
         "type": "scatterpolar"
        },
        {
         "fill": "toself",
         "name": "Full Time Lover",
         "r": [
          0.541,
          0.254,
          0.0387,
          0.929,
          0.101,
          0.251
         ],
         "theta": [
          "danceability",
          "energy",
          "speechiness",
          "acousticness",
          "liveness",
          "valence"
         ],
         "type": "scatterpolar"
        },
        {
         "fill": "toself",
         "name": "Heartbroken",
         "r": [
          0.661,
          0.481,
          0.0294,
          0.662,
          0.0789,
          0.154
         ],
         "theta": [
          "danceability",
          "energy",
          "speechiness",
          "acousticness",
          "liveness",
          "valence"
         ],
         "type": "scatterpolar"
        },
        {
         "fill": "toself",
         "name": "Hollow",
         "r": [
          0.348,
          0.31,
          0.0413,
          0.845,
          0.111,
          0.0474
         ],
         "theta": [
          "danceability",
          "energy",
          "speechiness",
          "acousticness",
          "liveness",
          "valence"
         ],
         "type": "scatterpolar"
        },
        {
         "fill": "toself",
         "name": "Just A Word",
         "r": [
          0.36,
          0.247,
          0.0396,
          0.838,
          0.104,
          0.279
         ],
         "theta": [
          "danceability",
          "energy",
          "speechiness",
          "acousticness",
          "liveness",
          "valence"
         ],
         "type": "scatterpolar"
        },
        {
         "fill": "toself",
         "name": "The Last Time",
         "r": [
          0.693,
          0.459,
          0.0407,
          0.733,
          0.12,
          0.35
         ],
         "theta": [
          "danceability",
          "energy",
          "speechiness",
          "acousticness",
          "liveness",
          "valence"
         ],
         "type": "scatterpolar"
        }
       ],
       "layout": {
        "template": {
         "data": {
          "bar": [
           {
            "error_x": {
             "color": "#2a3f5f"
            },
            "error_y": {
             "color": "#2a3f5f"
            },
            "marker": {
             "line": {
              "color": "#E5ECF6",
              "width": 0.5
             },
             "pattern": {
              "fillmode": "overlay",
              "size": 10,
              "solidity": 0.2
             }
            },
            "type": "bar"
           }
          ],
          "barpolar": [
           {
            "marker": {
             "line": {
              "color": "#E5ECF6",
              "width": 0.5
             },
             "pattern": {
              "fillmode": "overlay",
              "size": 10,
              "solidity": 0.2
             }
            },
            "type": "barpolar"
           }
          ],
          "carpet": [
           {
            "aaxis": {
             "endlinecolor": "#2a3f5f",
             "gridcolor": "white",
             "linecolor": "white",
             "minorgridcolor": "white",
             "startlinecolor": "#2a3f5f"
            },
            "baxis": {
             "endlinecolor": "#2a3f5f",
             "gridcolor": "white",
             "linecolor": "white",
             "minorgridcolor": "white",
             "startlinecolor": "#2a3f5f"
            },
            "type": "carpet"
           }
          ],
          "choropleth": [
           {
            "colorbar": {
             "outlinewidth": 0,
             "ticks": ""
            },
            "type": "choropleth"
           }
          ],
          "contour": [
           {
            "colorbar": {
             "outlinewidth": 0,
             "ticks": ""
            },
            "colorscale": [
             [
              0,
              "#0d0887"
             ],
             [
              0.1111111111111111,
              "#46039f"
             ],
             [
              0.2222222222222222,
              "#7201a8"
             ],
             [
              0.3333333333333333,
              "#9c179e"
             ],
             [
              0.4444444444444444,
              "#bd3786"
             ],
             [
              0.5555555555555556,
              "#d8576b"
             ],
             [
              0.6666666666666666,
              "#ed7953"
             ],
             [
              0.7777777777777778,
              "#fb9f3a"
             ],
             [
              0.8888888888888888,
              "#fdca26"
             ],
             [
              1,
              "#f0f921"
             ]
            ],
            "type": "contour"
           }
          ],
          "contourcarpet": [
           {
            "colorbar": {
             "outlinewidth": 0,
             "ticks": ""
            },
            "type": "contourcarpet"
           }
          ],
          "heatmap": [
           {
            "colorbar": {
             "outlinewidth": 0,
             "ticks": ""
            },
            "colorscale": [
             [
              0,
              "#0d0887"
             ],
             [
              0.1111111111111111,
              "#46039f"
             ],
             [
              0.2222222222222222,
              "#7201a8"
             ],
             [
              0.3333333333333333,
              "#9c179e"
             ],
             [
              0.4444444444444444,
              "#bd3786"
             ],
             [
              0.5555555555555556,
              "#d8576b"
             ],
             [
              0.6666666666666666,
              "#ed7953"
             ],
             [
              0.7777777777777778,
              "#fb9f3a"
             ],
             [
              0.8888888888888888,
              "#fdca26"
             ],
             [
              1,
              "#f0f921"
             ]
            ],
            "type": "heatmap"
           }
          ],
          "heatmapgl": [
           {
            "colorbar": {
             "outlinewidth": 0,
             "ticks": ""
            },
            "colorscale": [
             [
              0,
              "#0d0887"
             ],
             [
              0.1111111111111111,
              "#46039f"
             ],
             [
              0.2222222222222222,
              "#7201a8"
             ],
             [
              0.3333333333333333,
              "#9c179e"
             ],
             [
              0.4444444444444444,
              "#bd3786"
             ],
             [
              0.5555555555555556,
              "#d8576b"
             ],
             [
              0.6666666666666666,
              "#ed7953"
             ],
             [
              0.7777777777777778,
              "#fb9f3a"
             ],
             [
              0.8888888888888888,
              "#fdca26"
             ],
             [
              1,
              "#f0f921"
             ]
            ],
            "type": "heatmapgl"
           }
          ],
          "histogram": [
           {
            "marker": {
             "pattern": {
              "fillmode": "overlay",
              "size": 10,
              "solidity": 0.2
             }
            },
            "type": "histogram"
           }
          ],
          "histogram2d": [
           {
            "colorbar": {
             "outlinewidth": 0,
             "ticks": ""
            },
            "colorscale": [
             [
              0,
              "#0d0887"
             ],
             [
              0.1111111111111111,
              "#46039f"
             ],
             [
              0.2222222222222222,
              "#7201a8"
             ],
             [
              0.3333333333333333,
              "#9c179e"
             ],
             [
              0.4444444444444444,
              "#bd3786"
             ],
             [
              0.5555555555555556,
              "#d8576b"
             ],
             [
              0.6666666666666666,
              "#ed7953"
             ],
             [
              0.7777777777777778,
              "#fb9f3a"
             ],
             [
              0.8888888888888888,
              "#fdca26"
             ],
             [
              1,
              "#f0f921"
             ]
            ],
            "type": "histogram2d"
           }
          ],
          "histogram2dcontour": [
           {
            "colorbar": {
             "outlinewidth": 0,
             "ticks": ""
            },
            "colorscale": [
             [
              0,
              "#0d0887"
             ],
             [
              0.1111111111111111,
              "#46039f"
             ],
             [
              0.2222222222222222,
              "#7201a8"
             ],
             [
              0.3333333333333333,
              "#9c179e"
             ],
             [
              0.4444444444444444,
              "#bd3786"
             ],
             [
              0.5555555555555556,
              "#d8576b"
             ],
             [
              0.6666666666666666,
              "#ed7953"
             ],
             [
              0.7777777777777778,
              "#fb9f3a"
             ],
             [
              0.8888888888888888,
              "#fdca26"
             ],
             [
              1,
              "#f0f921"
             ]
            ],
            "type": "histogram2dcontour"
           }
          ],
          "mesh3d": [
           {
            "colorbar": {
             "outlinewidth": 0,
             "ticks": ""
            },
            "type": "mesh3d"
           }
          ],
          "parcoords": [
           {
            "line": {
             "colorbar": {
              "outlinewidth": 0,
              "ticks": ""
             }
            },
            "type": "parcoords"
           }
          ],
          "pie": [
           {
            "automargin": true,
            "type": "pie"
           }
          ],
          "scatter": [
           {
            "fillpattern": {
             "fillmode": "overlay",
             "size": 10,
             "solidity": 0.2
            },
            "type": "scatter"
           }
          ],
          "scatter3d": [
           {
            "line": {
             "colorbar": {
              "outlinewidth": 0,
              "ticks": ""
             }
            },
            "marker": {
             "colorbar": {
              "outlinewidth": 0,
              "ticks": ""
             }
            },
            "type": "scatter3d"
           }
          ],
          "scattercarpet": [
           {
            "marker": {
             "colorbar": {
              "outlinewidth": 0,
              "ticks": ""
             }
            },
            "type": "scattercarpet"
           }
          ],
          "scattergeo": [
           {
            "marker": {
             "colorbar": {
              "outlinewidth": 0,
              "ticks": ""
             }
            },
            "type": "scattergeo"
           }
          ],
          "scattergl": [
           {
            "marker": {
             "colorbar": {
              "outlinewidth": 0,
              "ticks": ""
             }
            },
            "type": "scattergl"
           }
          ],
          "scattermapbox": [
           {
            "marker": {
             "colorbar": {
              "outlinewidth": 0,
              "ticks": ""
             }
            },
            "type": "scattermapbox"
           }
          ],
          "scatterpolar": [
           {
            "marker": {
             "colorbar": {
              "outlinewidth": 0,
              "ticks": ""
             }
            },
            "type": "scatterpolar"
           }
          ],
          "scatterpolargl": [
           {
            "marker": {
             "colorbar": {
              "outlinewidth": 0,
              "ticks": ""
             }
            },
            "type": "scatterpolargl"
           }
          ],
          "scatterternary": [
           {
            "marker": {
             "colorbar": {
              "outlinewidth": 0,
              "ticks": ""
             }
            },
            "type": "scatterternary"
           }
          ],
          "surface": [
           {
            "colorbar": {
             "outlinewidth": 0,
             "ticks": ""
            },
            "colorscale": [
             [
              0,
              "#0d0887"
             ],
             [
              0.1111111111111111,
              "#46039f"
             ],
             [
              0.2222222222222222,
              "#7201a8"
             ],
             [
              0.3333333333333333,
              "#9c179e"
             ],
             [
              0.4444444444444444,
              "#bd3786"
             ],
             [
              0.5555555555555556,
              "#d8576b"
             ],
             [
              0.6666666666666666,
              "#ed7953"
             ],
             [
              0.7777777777777778,
              "#fb9f3a"
             ],
             [
              0.8888888888888888,
              "#fdca26"
             ],
             [
              1,
              "#f0f921"
             ]
            ],
            "type": "surface"
           }
          ],
          "table": [
           {
            "cells": {
             "fill": {
              "color": "#EBF0F8"
             },
             "line": {
              "color": "white"
             }
            },
            "header": {
             "fill": {
              "color": "#C8D4E3"
             },
             "line": {
              "color": "white"
             }
            },
            "type": "table"
           }
          ]
         },
         "layout": {
          "annotationdefaults": {
           "arrowcolor": "#2a3f5f",
           "arrowhead": 0,
           "arrowwidth": 1
          },
          "autotypenumbers": "strict",
          "coloraxis": {
           "colorbar": {
            "outlinewidth": 0,
            "ticks": ""
           }
          },
          "colorscale": {
           "diverging": [
            [
             0,
             "#8e0152"
            ],
            [
             0.1,
             "#c51b7d"
            ],
            [
             0.2,
             "#de77ae"
            ],
            [
             0.3,
             "#f1b6da"
            ],
            [
             0.4,
             "#fde0ef"
            ],
            [
             0.5,
             "#f7f7f7"
            ],
            [
             0.6,
             "#e6f5d0"
            ],
            [
             0.7,
             "#b8e186"
            ],
            [
             0.8,
             "#7fbc41"
            ],
            [
             0.9,
             "#4d9221"
            ],
            [
             1,
             "#276419"
            ]
           ],
           "sequential": [
            [
             0,
             "#0d0887"
            ],
            [
             0.1111111111111111,
             "#46039f"
            ],
            [
             0.2222222222222222,
             "#7201a8"
            ],
            [
             0.3333333333333333,
             "#9c179e"
            ],
            [
             0.4444444444444444,
             "#bd3786"
            ],
            [
             0.5555555555555556,
             "#d8576b"
            ],
            [
             0.6666666666666666,
             "#ed7953"
            ],
            [
             0.7777777777777778,
             "#fb9f3a"
            ],
            [
             0.8888888888888888,
             "#fdca26"
            ],
            [
             1,
             "#f0f921"
            ]
           ],
           "sequentialminus": [
            [
             0,
             "#0d0887"
            ],
            [
             0.1111111111111111,
             "#46039f"
            ],
            [
             0.2222222222222222,
             "#7201a8"
            ],
            [
             0.3333333333333333,
             "#9c179e"
            ],
            [
             0.4444444444444444,
             "#bd3786"
            ],
            [
             0.5555555555555556,
             "#d8576b"
            ],
            [
             0.6666666666666666,
             "#ed7953"
            ],
            [
             0.7777777777777778,
             "#fb9f3a"
            ],
            [
             0.8888888888888888,
             "#fdca26"
            ],
            [
             1,
             "#f0f921"
            ]
           ]
          },
          "colorway": [
           "#636efa",
           "#EF553B",
           "#00cc96",
           "#ab63fa",
           "#FFA15A",
           "#19d3f3",
           "#FF6692",
           "#B6E880",
           "#FF97FF",
           "#FECB52"
          ],
          "font": {
           "color": "#2a3f5f"
          },
          "geo": {
           "bgcolor": "white",
           "lakecolor": "white",
           "landcolor": "#E5ECF6",
           "showlakes": true,
           "showland": true,
           "subunitcolor": "white"
          },
          "hoverlabel": {
           "align": "left"
          },
          "hovermode": "closest",
          "mapbox": {
           "style": "light"
          },
          "paper_bgcolor": "white",
          "plot_bgcolor": "#E5ECF6",
          "polar": {
           "angularaxis": {
            "gridcolor": "white",
            "linecolor": "white",
            "ticks": ""
           },
           "bgcolor": "#E5ECF6",
           "radialaxis": {
            "gridcolor": "white",
            "linecolor": "white",
            "ticks": ""
           }
          },
          "scene": {
           "xaxis": {
            "backgroundcolor": "#E5ECF6",
            "gridcolor": "white",
            "gridwidth": 2,
            "linecolor": "white",
            "showbackground": true,
            "ticks": "",
            "zerolinecolor": "white"
           },
           "yaxis": {
            "backgroundcolor": "#E5ECF6",
            "gridcolor": "white",
            "gridwidth": 2,
            "linecolor": "white",
            "showbackground": true,
            "ticks": "",
            "zerolinecolor": "white"
           },
           "zaxis": {
            "backgroundcolor": "#E5ECF6",
            "gridcolor": "white",
            "gridwidth": 2,
            "linecolor": "white",
            "showbackground": true,
            "ticks": "",
            "zerolinecolor": "white"
           }
          },
          "shapedefaults": {
           "line": {
            "color": "#2a3f5f"
           }
          },
          "ternary": {
           "aaxis": {
            "gridcolor": "white",
            "linecolor": "white",
            "ticks": ""
           },
           "baxis": {
            "gridcolor": "white",
            "linecolor": "white",
            "ticks": ""
           },
           "bgcolor": "#E5ECF6",
           "caxis": {
            "gridcolor": "white",
            "linecolor": "white",
            "ticks": ""
           }
          },
          "title": {
           "x": 0.05
          },
          "xaxis": {
           "automargin": true,
           "gridcolor": "white",
           "linecolor": "white",
           "ticks": "",
           "title": {
            "standoff": 15
           },
           "zerolinecolor": "white",
           "zerolinewidth": 2
          },
          "yaxis": {
           "automargin": true,
           "gridcolor": "white",
           "linecolor": "white",
           "ticks": "",
           "title": {
            "standoff": 15
           },
           "zerolinecolor": "white",
           "zerolinewidth": 2
          }
         }
        },
        "title": {
         "text": "Album: The Way That Lovers Do"
        }
       }
      }
     },
     "metadata": {},
     "output_type": "display_data"
    },
    {
     "data": {
      "application/vnd.plotly.v1+json": {
       "config": {
        "plotlyServerURL": "https://plot.ly"
       },
       "data": [
        {
         "fill": "toself",
         "name": "airplane thoughts",
         "r": [
          0.677,
          0.454,
          0.0673,
          0.83,
          0.274,
          0.273
         ],
         "theta": [
          "danceability",
          "energy",
          "speechiness",
          "acousticness",
          "liveness",
          "valence"
         ],
         "type": "scatterpolar"
        },
        {
         "fill": "toself",
         "name": "double take",
         "r": [
          0.656,
          0.436,
          0.0744,
          0.845,
          0.221,
          0.196
         ],
         "theta": [
          "danceability",
          "energy",
          "speechiness",
          "acousticness",
          "liveness",
          "valence"
         ],
         "type": "scatterpolar"
        },
        {
         "fill": "toself",
         "name": "grateful",
         "r": [
          0.507,
          0.516,
          0.106,
          0.457,
          0.128,
          0.486
         ],
         "theta": [
          "danceability",
          "energy",
          "speechiness",
          "acousticness",
          "liveness",
          "valence"
         ],
         "type": "scatterpolar"
        },
        {
         "fill": "toself",
         "name": "moonlight",
         "r": [
          0.735,
          0.501,
          0.167,
          0.627,
          0.104,
          0.551
         ],
         "theta": [
          "danceability",
          "energy",
          "speechiness",
          "acousticness",
          "liveness",
          "valence"
         ],
         "type": "scatterpolar"
        },
        {
         "fill": "toself",
         "name": "retrograde",
         "r": [
          0.49,
          0.229,
          0.0273,
          0.804,
          0.126,
          0.281
         ],
         "theta": [
          "danceability",
          "energy",
          "speechiness",
          "acousticness",
          "liveness",
          "valence"
         ],
         "type": "scatterpolar"
        },
        {
         "fill": "toself",
         "name": "stable life",
         "r": [
          0.502,
          0.446,
          0.0365,
          0.466,
          0.331,
          0.311
         ],
         "theta": [
          "danceability",
          "energy",
          "speechiness",
          "acousticness",
          "liveness",
          "valence"
         ],
         "type": "scatterpolar"
        },
        {
         "fill": "toself",
         "name": "vulnerable",
         "r": [
          0.696,
          0.543,
          0.0454,
          0.438,
          0.394,
          0.3
         ],
         "theta": [
          "danceability",
          "energy",
          "speechiness",
          "acousticness",
          "liveness",
          "valence"
         ],
         "type": "scatterpolar"
        },
        {
         "fill": "toself",
         "name": "what's wrong with me?",
         "r": [
          0.504,
          0.405,
          0.0515,
          0.786,
          0.102,
          0.176
         ],
         "theta": [
          "danceability",
          "energy",
          "speechiness",
          "acousticness",
          "liveness",
          "valence"
         ],
         "type": "scatterpolar"
        }
       ],
       "layout": {
        "template": {
         "data": {
          "bar": [
           {
            "error_x": {
             "color": "#2a3f5f"
            },
            "error_y": {
             "color": "#2a3f5f"
            },
            "marker": {
             "line": {
              "color": "#E5ECF6",
              "width": 0.5
             },
             "pattern": {
              "fillmode": "overlay",
              "size": 10,
              "solidity": 0.2
             }
            },
            "type": "bar"
           }
          ],
          "barpolar": [
           {
            "marker": {
             "line": {
              "color": "#E5ECF6",
              "width": 0.5
             },
             "pattern": {
              "fillmode": "overlay",
              "size": 10,
              "solidity": 0.2
             }
            },
            "type": "barpolar"
           }
          ],
          "carpet": [
           {
            "aaxis": {
             "endlinecolor": "#2a3f5f",
             "gridcolor": "white",
             "linecolor": "white",
             "minorgridcolor": "white",
             "startlinecolor": "#2a3f5f"
            },
            "baxis": {
             "endlinecolor": "#2a3f5f",
             "gridcolor": "white",
             "linecolor": "white",
             "minorgridcolor": "white",
             "startlinecolor": "#2a3f5f"
            },
            "type": "carpet"
           }
          ],
          "choropleth": [
           {
            "colorbar": {
             "outlinewidth": 0,
             "ticks": ""
            },
            "type": "choropleth"
           }
          ],
          "contour": [
           {
            "colorbar": {
             "outlinewidth": 0,
             "ticks": ""
            },
            "colorscale": [
             [
              0,
              "#0d0887"
             ],
             [
              0.1111111111111111,
              "#46039f"
             ],
             [
              0.2222222222222222,
              "#7201a8"
             ],
             [
              0.3333333333333333,
              "#9c179e"
             ],
             [
              0.4444444444444444,
              "#bd3786"
             ],
             [
              0.5555555555555556,
              "#d8576b"
             ],
             [
              0.6666666666666666,
              "#ed7953"
             ],
             [
              0.7777777777777778,
              "#fb9f3a"
             ],
             [
              0.8888888888888888,
              "#fdca26"
             ],
             [
              1,
              "#f0f921"
             ]
            ],
            "type": "contour"
           }
          ],
          "contourcarpet": [
           {
            "colorbar": {
             "outlinewidth": 0,
             "ticks": ""
            },
            "type": "contourcarpet"
           }
          ],
          "heatmap": [
           {
            "colorbar": {
             "outlinewidth": 0,
             "ticks": ""
            },
            "colorscale": [
             [
              0,
              "#0d0887"
             ],
             [
              0.1111111111111111,
              "#46039f"
             ],
             [
              0.2222222222222222,
              "#7201a8"
             ],
             [
              0.3333333333333333,
              "#9c179e"
             ],
             [
              0.4444444444444444,
              "#bd3786"
             ],
             [
              0.5555555555555556,
              "#d8576b"
             ],
             [
              0.6666666666666666,
              "#ed7953"
             ],
             [
              0.7777777777777778,
              "#fb9f3a"
             ],
             [
              0.8888888888888888,
              "#fdca26"
             ],
             [
              1,
              "#f0f921"
             ]
            ],
            "type": "heatmap"
           }
          ],
          "heatmapgl": [
           {
            "colorbar": {
             "outlinewidth": 0,
             "ticks": ""
            },
            "colorscale": [
             [
              0,
              "#0d0887"
             ],
             [
              0.1111111111111111,
              "#46039f"
             ],
             [
              0.2222222222222222,
              "#7201a8"
             ],
             [
              0.3333333333333333,
              "#9c179e"
             ],
             [
              0.4444444444444444,
              "#bd3786"
             ],
             [
              0.5555555555555556,
              "#d8576b"
             ],
             [
              0.6666666666666666,
              "#ed7953"
             ],
             [
              0.7777777777777778,
              "#fb9f3a"
             ],
             [
              0.8888888888888888,
              "#fdca26"
             ],
             [
              1,
              "#f0f921"
             ]
            ],
            "type": "heatmapgl"
           }
          ],
          "histogram": [
           {
            "marker": {
             "pattern": {
              "fillmode": "overlay",
              "size": 10,
              "solidity": 0.2
             }
            },
            "type": "histogram"
           }
          ],
          "histogram2d": [
           {
            "colorbar": {
             "outlinewidth": 0,
             "ticks": ""
            },
            "colorscale": [
             [
              0,
              "#0d0887"
             ],
             [
              0.1111111111111111,
              "#46039f"
             ],
             [
              0.2222222222222222,
              "#7201a8"
             ],
             [
              0.3333333333333333,
              "#9c179e"
             ],
             [
              0.4444444444444444,
              "#bd3786"
             ],
             [
              0.5555555555555556,
              "#d8576b"
             ],
             [
              0.6666666666666666,
              "#ed7953"
             ],
             [
              0.7777777777777778,
              "#fb9f3a"
             ],
             [
              0.8888888888888888,
              "#fdca26"
             ],
             [
              1,
              "#f0f921"
             ]
            ],
            "type": "histogram2d"
           }
          ],
          "histogram2dcontour": [
           {
            "colorbar": {
             "outlinewidth": 0,
             "ticks": ""
            },
            "colorscale": [
             [
              0,
              "#0d0887"
             ],
             [
              0.1111111111111111,
              "#46039f"
             ],
             [
              0.2222222222222222,
              "#7201a8"
             ],
             [
              0.3333333333333333,
              "#9c179e"
             ],
             [
              0.4444444444444444,
              "#bd3786"
             ],
             [
              0.5555555555555556,
              "#d8576b"
             ],
             [
              0.6666666666666666,
              "#ed7953"
             ],
             [
              0.7777777777777778,
              "#fb9f3a"
             ],
             [
              0.8888888888888888,
              "#fdca26"
             ],
             [
              1,
              "#f0f921"
             ]
            ],
            "type": "histogram2dcontour"
           }
          ],
          "mesh3d": [
           {
            "colorbar": {
             "outlinewidth": 0,
             "ticks": ""
            },
            "type": "mesh3d"
           }
          ],
          "parcoords": [
           {
            "line": {
             "colorbar": {
              "outlinewidth": 0,
              "ticks": ""
             }
            },
            "type": "parcoords"
           }
          ],
          "pie": [
           {
            "automargin": true,
            "type": "pie"
           }
          ],
          "scatter": [
           {
            "fillpattern": {
             "fillmode": "overlay",
             "size": 10,
             "solidity": 0.2
            },
            "type": "scatter"
           }
          ],
          "scatter3d": [
           {
            "line": {
             "colorbar": {
              "outlinewidth": 0,
              "ticks": ""
             }
            },
            "marker": {
             "colorbar": {
              "outlinewidth": 0,
              "ticks": ""
             }
            },
            "type": "scatter3d"
           }
          ],
          "scattercarpet": [
           {
            "marker": {
             "colorbar": {
              "outlinewidth": 0,
              "ticks": ""
             }
            },
            "type": "scattercarpet"
           }
          ],
          "scattergeo": [
           {
            "marker": {
             "colorbar": {
              "outlinewidth": 0,
              "ticks": ""
             }
            },
            "type": "scattergeo"
           }
          ],
          "scattergl": [
           {
            "marker": {
             "colorbar": {
              "outlinewidth": 0,
              "ticks": ""
             }
            },
            "type": "scattergl"
           }
          ],
          "scattermapbox": [
           {
            "marker": {
             "colorbar": {
              "outlinewidth": 0,
              "ticks": ""
             }
            },
            "type": "scattermapbox"
           }
          ],
          "scatterpolar": [
           {
            "marker": {
             "colorbar": {
              "outlinewidth": 0,
              "ticks": ""
             }
            },
            "type": "scatterpolar"
           }
          ],
          "scatterpolargl": [
           {
            "marker": {
             "colorbar": {
              "outlinewidth": 0,
              "ticks": ""
             }
            },
            "type": "scatterpolargl"
           }
          ],
          "scatterternary": [
           {
            "marker": {
             "colorbar": {
              "outlinewidth": 0,
              "ticks": ""
             }
            },
            "type": "scatterternary"
           }
          ],
          "surface": [
           {
            "colorbar": {
             "outlinewidth": 0,
             "ticks": ""
            },
            "colorscale": [
             [
              0,
              "#0d0887"
             ],
             [
              0.1111111111111111,
              "#46039f"
             ],
             [
              0.2222222222222222,
              "#7201a8"
             ],
             [
              0.3333333333333333,
              "#9c179e"
             ],
             [
              0.4444444444444444,
              "#bd3786"
             ],
             [
              0.5555555555555556,
              "#d8576b"
             ],
             [
              0.6666666666666666,
              "#ed7953"
             ],
             [
              0.7777777777777778,
              "#fb9f3a"
             ],
             [
              0.8888888888888888,
              "#fdca26"
             ],
             [
              1,
              "#f0f921"
             ]
            ],
            "type": "surface"
           }
          ],
          "table": [
           {
            "cells": {
             "fill": {
              "color": "#EBF0F8"
             },
             "line": {
              "color": "white"
             }
            },
            "header": {
             "fill": {
              "color": "#C8D4E3"
             },
             "line": {
              "color": "white"
             }
            },
            "type": "table"
           }
          ]
         },
         "layout": {
          "annotationdefaults": {
           "arrowcolor": "#2a3f5f",
           "arrowhead": 0,
           "arrowwidth": 1
          },
          "autotypenumbers": "strict",
          "coloraxis": {
           "colorbar": {
            "outlinewidth": 0,
            "ticks": ""
           }
          },
          "colorscale": {
           "diverging": [
            [
             0,
             "#8e0152"
            ],
            [
             0.1,
             "#c51b7d"
            ],
            [
             0.2,
             "#de77ae"
            ],
            [
             0.3,
             "#f1b6da"
            ],
            [
             0.4,
             "#fde0ef"
            ],
            [
             0.5,
             "#f7f7f7"
            ],
            [
             0.6,
             "#e6f5d0"
            ],
            [
             0.7,
             "#b8e186"
            ],
            [
             0.8,
             "#7fbc41"
            ],
            [
             0.9,
             "#4d9221"
            ],
            [
             1,
             "#276419"
            ]
           ],
           "sequential": [
            [
             0,
             "#0d0887"
            ],
            [
             0.1111111111111111,
             "#46039f"
            ],
            [
             0.2222222222222222,
             "#7201a8"
            ],
            [
             0.3333333333333333,
             "#9c179e"
            ],
            [
             0.4444444444444444,
             "#bd3786"
            ],
            [
             0.5555555555555556,
             "#d8576b"
            ],
            [
             0.6666666666666666,
             "#ed7953"
            ],
            [
             0.7777777777777778,
             "#fb9f3a"
            ],
            [
             0.8888888888888888,
             "#fdca26"
            ],
            [
             1,
             "#f0f921"
            ]
           ],
           "sequentialminus": [
            [
             0,
             "#0d0887"
            ],
            [
             0.1111111111111111,
             "#46039f"
            ],
            [
             0.2222222222222222,
             "#7201a8"
            ],
            [
             0.3333333333333333,
             "#9c179e"
            ],
            [
             0.4444444444444444,
             "#bd3786"
            ],
            [
             0.5555555555555556,
             "#d8576b"
            ],
            [
             0.6666666666666666,
             "#ed7953"
            ],
            [
             0.7777777777777778,
             "#fb9f3a"
            ],
            [
             0.8888888888888888,
             "#fdca26"
            ],
            [
             1,
             "#f0f921"
            ]
           ]
          },
          "colorway": [
           "#636efa",
           "#EF553B",
           "#00cc96",
           "#ab63fa",
           "#FFA15A",
           "#19d3f3",
           "#FF6692",
           "#B6E880",
           "#FF97FF",
           "#FECB52"
          ],
          "font": {
           "color": "#2a3f5f"
          },
          "geo": {
           "bgcolor": "white",
           "lakecolor": "white",
           "landcolor": "#E5ECF6",
           "showlakes": true,
           "showland": true,
           "subunitcolor": "white"
          },
          "hoverlabel": {
           "align": "left"
          },
          "hovermode": "closest",
          "mapbox": {
           "style": "light"
          },
          "paper_bgcolor": "white",
          "plot_bgcolor": "#E5ECF6",
          "polar": {
           "angularaxis": {
            "gridcolor": "white",
            "linecolor": "white",
            "ticks": ""
           },
           "bgcolor": "#E5ECF6",
           "radialaxis": {
            "gridcolor": "white",
            "linecolor": "white",
            "ticks": ""
           }
          },
          "scene": {
           "xaxis": {
            "backgroundcolor": "#E5ECF6",
            "gridcolor": "white",
            "gridwidth": 2,
            "linecolor": "white",
            "showbackground": true,
            "ticks": "",
            "zerolinecolor": "white"
           },
           "yaxis": {
            "backgroundcolor": "#E5ECF6",
            "gridcolor": "white",
            "gridwidth": 2,
            "linecolor": "white",
            "showbackground": true,
            "ticks": "",
            "zerolinecolor": "white"
           },
           "zaxis": {
            "backgroundcolor": "#E5ECF6",
            "gridcolor": "white",
            "gridwidth": 2,
            "linecolor": "white",
            "showbackground": true,
            "ticks": "",
            "zerolinecolor": "white"
           }
          },
          "shapedefaults": {
           "line": {
            "color": "#2a3f5f"
           }
          },
          "ternary": {
           "aaxis": {
            "gridcolor": "white",
            "linecolor": "white",
            "ticks": ""
           },
           "baxis": {
            "gridcolor": "white",
            "linecolor": "white",
            "ticks": ""
           },
           "bgcolor": "#E5ECF6",
           "caxis": {
            "gridcolor": "white",
            "linecolor": "white",
            "ticks": ""
           }
          },
          "title": {
           "x": 0.05
          },
          "xaxis": {
           "automargin": true,
           "gridcolor": "white",
           "linecolor": "white",
           "ticks": "",
           "title": {
            "standoff": 15
           },
           "zerolinecolor": "white",
           "zerolinewidth": 2
          },
          "yaxis": {
           "automargin": true,
           "gridcolor": "white",
           "linecolor": "white",
           "ticks": "",
           "title": {
            "standoff": 15
           },
           "zerolinecolor": "white",
           "zerolinewidth": 2
          }
         }
        },
        "title": {
         "text": "Album: rapunzel"
        }
       }
      }
     },
     "metadata": {},
     "output_type": "display_data"
    }
   ],
   "source": [
    "fig = go.Figure()\n",
    "album_names = summaryDF['album']\n",
    "for a in album_names:\n",
    "    temp = DF1[DF1[\"album\"] == a]\n",
    "    for index, row in temp.iterrows():\n",
    "        fig.add_trace(sns.scatterplotpolar(\n",
    "            r=row[categories],\n",
    "            theta=categories,\n",
    "            fill='toself',\n",
    "            name=row[\"name\"]\n",
    "        ))\n",
    "    fig.update_layout(title=\"Album: \" + a)\n",
    "    fig.show()\n",
    "    fig = go.Figure()\n"
   ]
  },
  {
   "cell_type": "code",
   "execution_count": null,
   "metadata": {},
   "outputs": [],
   "source": []
  }
 ],
 "metadata": {
  "kernelspec": {
   "display_name": "Python 3.10.5 64-bit",
   "language": "python",
   "name": "python3"
  },
  "language_info": {
   "codemirror_mode": {
    "name": "ipython",
    "version": 3
   },
   "file_extension": ".py",
   "mimetype": "text/x-python",
   "name": "python",
   "nbconvert_exporter": "python",
   "pygments_lexer": "ipython3",
   "version": "3.10.5"
  },
  "orig_nbformat": 4,
  "vscode": {
   "interpreter": {
    "hash": "26de051ba29f2982a8de78e945f0abaf191376122a1563185a90213a26c5da77"
   }
  }
 },
 "nbformat": 4,
 "nbformat_minor": 2
}

{
 "cells": [
  {
   "cell_type": "markdown",
   "metadata": {},
   "source": [
    "# **SPOTIPY ANALYSIS**\n",
    "\n",
    "| Name           | Roll No. | Course                     | Semester |\n",
    "| -------------- | -------- | -------------------------- | -------- |\n",
    "| Pratham Sharma | AC-1232  | B.Sc. (H) Computer Science | 5        |\n",
    "| Raj Khatri     | AC-1235  | B.Sc. (H) Computer Science | 5        |\n",
    "\n",
    "### **Subject** : Data Analysis and Visualization\n",
    "\n",
    "### **Submitted To** : Dr. Sharanjit Kaur\n",
    "\n",
    "### **Date of Submission** : 10th November 2022\n"
   ]
  },
  {
   "cell_type": "markdown",
   "metadata": {},
   "source": [
    "Objective\n",
    "\n",
    "1. To analyse the listening habits of people over the past decade\n",
    "2. Analysing songs from different generations on the factors such as :\n",
    "   - danceability\n",
    "   - energy\n",
    "   - key\n",
    "   - loudness\n",
    "   - mode\n",
    "   - speechiness\n",
    "   - acousticness\n",
    "   - instrumentalness\n",
    "   - liveness\n",
    "   - valence\n",
    "3. Growth of particular artists over the year\n",
    "4. Analysing growth of departed artists like KK, Siddhu Moosewala, etc. before and after their death.\n",
    "5. Comparative Analysis of songs and their remake versions.\n",
    "\n",
    "Steps\n",
    "\n",
    "1. Creating a Spotify Account\n",
    "2. Registering the Spotify Developer Program\n",
    "3. Creating spotify credentials for the project\n",
    "4. Installing spotipy package\n",
    "5. Initilaizing spotipy in Jupiter notebook.\n",
    "6. Using previously created credetials for api calling\n",
    "7. Storing the data in a pandas database\n",
    "8. Analysing data and Plotting graphs using pandas, numpy and Matplotlib\n"
   ]
  },
  {
   "cell_type": "code",
   "execution_count": 2,
   "metadata": {},
   "outputs": [],
   "source": [
    "import pandas as pd\n",
    "import numpy as np\n",
    "import seaborn as sns\n",
    "import matplotlib.pyplot as plt\n",
    "from datetime import datetime\n",
    "import pandas as pd\n",
    "import plotly.express as px\n",
    "from plotly.subplots import make_subplots\n",
    "import plotly.graph_objects as go\n"
   ]
  },
  {
   "cell_type": "code",
   "execution_count": 3,
   "metadata": {},
   "outputs": [
    {
     "data": {
      "text/plain": [
       "{'display_name': 'pratham',\n",
       " 'external_urls': {'spotify': 'https://open.spotify.com/user/pratham'},\n",
       " 'followers': {'href': None, 'total': 0},\n",
       " 'href': 'https://api.spotify.com/v1/users/pratham',\n",
       " 'id': 'pratham',\n",
       " 'images': [],\n",
       " 'type': 'user',\n",
       " 'uri': 'spotify:user:pratham'}"
      ]
     },
     "execution_count": 3,
     "metadata": {},
     "output_type": "execute_result"
    }
   ],
   "source": [
    "from spotipy.oauth2 import SpotifyClientCredentials\n",
    "import spotipy\n",
    "from spotipy.oauth2 import SpotifyOAuth\n",
    "\n",
    "cid = '5d9494efb79d4abaabc13e9778431f49'\n",
    "secret = '4d23d535c7fe4e9cadd241ddf58df15e'\n",
    "scope = \"user-read-currently-playing\"\n",
    "\n",
    "client_credentials_manager = SpotifyClientCredentials(\n",
    "    client_id=cid, client_secret=secret)\n",
    "\n",
    "sp = spotipy.Spotify(auth_manager=SpotifyOAuth(\n",
    "    client_id=cid, client_secret=secret, redirect_uri=\"http://localhost:9000\"))\n",
    "\n",
    "# sp = spotipy.Spotify(client_credentials_manager=client_credentials_manager, scope=scope)\n",
    "sp.user('pratham')\n"
   ]
  },
  {
   "cell_type": "code",
   "execution_count": 4,
   "metadata": {},
   "outputs": [],
   "source": [
    "FeatureDF = pd.read_csv('./data/features/features.csv')\n",
    "TracksDF = pd.read_csv('./data/tracks/tracks.csv')\n"
   ]
  },
  {
   "cell_type": "code",
   "execution_count": 5,
   "metadata": {},
   "outputs": [
    {
     "data": {
      "text/html": [
       "<div>\n",
       "<style scoped>\n",
       "    .dataframe tbody tr th:only-of-type {\n",
       "        vertical-align: middle;\n",
       "    }\n",
       "\n",
       "    .dataframe tbody tr th {\n",
       "        vertical-align: top;\n",
       "    }\n",
       "\n",
       "    .dataframe thead th {\n",
       "        text-align: right;\n",
       "    }\n",
       "</style>\n",
       "<table border=\"1\" class=\"dataframe\">\n",
       "  <thead>\n",
       "    <tr style=\"text-align: right;\">\n",
       "      <th></th>\n",
       "      <th>playlist_uri</th>\n",
       "      <th>album</th>\n",
       "      <th>album_uri</th>\n",
       "      <th>artist</th>\n",
       "      <th>artist_uri</th>\n",
       "      <th>disc_number</th>\n",
       "      <th>duration_ms</th>\n",
       "      <th>name</th>\n",
       "      <th>popularity</th>\n",
       "      <th>explicit</th>\n",
       "      <th>uri</th>\n",
       "      <th>link</th>\n",
       "    </tr>\n",
       "  </thead>\n",
       "  <tbody>\n",
       "    <tr>\n",
       "      <th>0</th>\n",
       "      <td>spotify:playlist:7gKVccRxsOD0gKdUv63HoB</td>\n",
       "      <td>The Way That Lovers Do</td>\n",
       "      <td>spotify:album:4WLh56ZjwINYBNhaxLvEhA</td>\n",
       "      <td>Prateek Kuhad</td>\n",
       "      <td>spotify:artist:0tC995Rfn9k2l7nqgCZsV7</td>\n",
       "      <td>1</td>\n",
       "      <td>153693</td>\n",
       "      <td>All I Need</td>\n",
       "      <td>55</td>\n",
       "      <td>False</td>\n",
       "      <td>spotify:track:47hXMyQDGW8sA1NGqmFL7h</td>\n",
       "      <td>https://api.spotify.com/v1/tracks/47hXMyQDGW8s...</td>\n",
       "    </tr>\n",
       "    <tr>\n",
       "      <th>1</th>\n",
       "      <td>spotify:playlist:7gKVccRxsOD0gKdUv63HoB</td>\n",
       "      <td>The Way That Lovers Do</td>\n",
       "      <td>spotify:album:4WLh56ZjwINYBNhaxLvEhA</td>\n",
       "      <td>Prateek Kuhad</td>\n",
       "      <td>spotify:artist:0tC995Rfn9k2l7nqgCZsV7</td>\n",
       "      <td>1</td>\n",
       "      <td>204373</td>\n",
       "      <td>Hollow</td>\n",
       "      <td>40</td>\n",
       "      <td>False</td>\n",
       "      <td>spotify:track:1y7FoHfVtbZV6mONGJgU7j</td>\n",
       "      <td>https://api.spotify.com/v1/tracks/1y7FoHfVtbZV...</td>\n",
       "    </tr>\n",
       "    <tr>\n",
       "      <th>2</th>\n",
       "      <td>spotify:playlist:7gKVccRxsOD0gKdUv63HoB</td>\n",
       "      <td>The Way That Lovers Do</td>\n",
       "      <td>spotify:album:4WLh56ZjwINYBNhaxLvEhA</td>\n",
       "      <td>Prateek Kuhad</td>\n",
       "      <td>spotify:artist:0tC995Rfn9k2l7nqgCZsV7</td>\n",
       "      <td>1</td>\n",
       "      <td>193733</td>\n",
       "      <td>Favorite Peeps</td>\n",
       "      <td>44</td>\n",
       "      <td>False</td>\n",
       "      <td>spotify:track:0SHa9XHwYYB1UUmgbgHuhQ</td>\n",
       "      <td>https://api.spotify.com/v1/tracks/0SHa9XHwYYB1...</td>\n",
       "    </tr>\n",
       "    <tr>\n",
       "      <th>3</th>\n",
       "      <td>spotify:playlist:7gKVccRxsOD0gKdUv63HoB</td>\n",
       "      <td>The Way That Lovers Do</td>\n",
       "      <td>spotify:album:4WLh56ZjwINYBNhaxLvEhA</td>\n",
       "      <td>Prateek Kuhad</td>\n",
       "      <td>spotify:artist:0tC995Rfn9k2l7nqgCZsV7</td>\n",
       "      <td>1</td>\n",
       "      <td>163653</td>\n",
       "      <td>Co2</td>\n",
       "      <td>53</td>\n",
       "      <td>False</td>\n",
       "      <td>spotify:track:3hB9lDLyAClYVZivMMl20N</td>\n",
       "      <td>https://api.spotify.com/v1/tracks/3hB9lDLyAClY...</td>\n",
       "    </tr>\n",
       "    <tr>\n",
       "      <th>4</th>\n",
       "      <td>spotify:playlist:7gKVccRxsOD0gKdUv63HoB</td>\n",
       "      <td>The Way That Lovers Do</td>\n",
       "      <td>spotify:album:4WLh56ZjwINYBNhaxLvEhA</td>\n",
       "      <td>Prateek Kuhad</td>\n",
       "      <td>spotify:artist:0tC995Rfn9k2l7nqgCZsV7</td>\n",
       "      <td>1</td>\n",
       "      <td>184413</td>\n",
       "      <td>Face</td>\n",
       "      <td>39</td>\n",
       "      <td>False</td>\n",
       "      <td>spotify:track:0HuS5vFQd06cXV54I0twkV</td>\n",
       "      <td>https://api.spotify.com/v1/tracks/0HuS5vFQd06c...</td>\n",
       "    </tr>\n",
       "  </tbody>\n",
       "</table>\n",
       "</div>"
      ],
      "text/plain": [
       "                              playlist_uri                   album  \\\n",
       "0  spotify:playlist:7gKVccRxsOD0gKdUv63HoB  The Way That Lovers Do   \n",
       "1  spotify:playlist:7gKVccRxsOD0gKdUv63HoB  The Way That Lovers Do   \n",
       "2  spotify:playlist:7gKVccRxsOD0gKdUv63HoB  The Way That Lovers Do   \n",
       "3  spotify:playlist:7gKVccRxsOD0gKdUv63HoB  The Way That Lovers Do   \n",
       "4  spotify:playlist:7gKVccRxsOD0gKdUv63HoB  The Way That Lovers Do   \n",
       "\n",
       "                              album_uri         artist  \\\n",
       "0  spotify:album:4WLh56ZjwINYBNhaxLvEhA  Prateek Kuhad   \n",
       "1  spotify:album:4WLh56ZjwINYBNhaxLvEhA  Prateek Kuhad   \n",
       "2  spotify:album:4WLh56ZjwINYBNhaxLvEhA  Prateek Kuhad   \n",
       "3  spotify:album:4WLh56ZjwINYBNhaxLvEhA  Prateek Kuhad   \n",
       "4  spotify:album:4WLh56ZjwINYBNhaxLvEhA  Prateek Kuhad   \n",
       "\n",
       "                              artist_uri  disc_number  duration_ms  \\\n",
       "0  spotify:artist:0tC995Rfn9k2l7nqgCZsV7            1       153693   \n",
       "1  spotify:artist:0tC995Rfn9k2l7nqgCZsV7            1       204373   \n",
       "2  spotify:artist:0tC995Rfn9k2l7nqgCZsV7            1       193733   \n",
       "3  spotify:artist:0tC995Rfn9k2l7nqgCZsV7            1       163653   \n",
       "4  spotify:artist:0tC995Rfn9k2l7nqgCZsV7            1       184413   \n",
       "\n",
       "             name  popularity  explicit                                   uri  \\\n",
       "0      All I Need          55     False  spotify:track:47hXMyQDGW8sA1NGqmFL7h   \n",
       "1          Hollow          40     False  spotify:track:1y7FoHfVtbZV6mONGJgU7j   \n",
       "2  Favorite Peeps          44     False  spotify:track:0SHa9XHwYYB1UUmgbgHuhQ   \n",
       "3             Co2          53     False  spotify:track:3hB9lDLyAClYVZivMMl20N   \n",
       "4            Face          39     False  spotify:track:0HuS5vFQd06cXV54I0twkV   \n",
       "\n",
       "                                                link  \n",
       "0  https://api.spotify.com/v1/tracks/47hXMyQDGW8s...  \n",
       "1  https://api.spotify.com/v1/tracks/1y7FoHfVtbZV...  \n",
       "2  https://api.spotify.com/v1/tracks/0SHa9XHwYYB1...  \n",
       "3  https://api.spotify.com/v1/tracks/3hB9lDLyAClY...  \n",
       "4  https://api.spotify.com/v1/tracks/0HuS5vFQd06c...  "
      ]
     },
     "execution_count": 5,
     "metadata": {},
     "output_type": "execute_result"
    }
   ],
   "source": [
    "TracksDF.head()\n"
   ]
  },
  {
   "cell_type": "code",
   "execution_count": 6,
   "metadata": {},
   "outputs": [
    {
     "data": {
      "text/html": [
       "<div>\n",
       "<style scoped>\n",
       "    .dataframe tbody tr th:only-of-type {\n",
       "        vertical-align: middle;\n",
       "    }\n",
       "\n",
       "    .dataframe tbody tr th {\n",
       "        vertical-align: top;\n",
       "    }\n",
       "\n",
       "    .dataframe thead th {\n",
       "        text-align: right;\n",
       "    }\n",
       "</style>\n",
       "<table border=\"1\" class=\"dataframe\">\n",
       "  <thead>\n",
       "    <tr style=\"text-align: right;\">\n",
       "      <th></th>\n",
       "      <th>playlist_uri</th>\n",
       "      <th>duration_ms</th>\n",
       "      <th>key</th>\n",
       "      <th>mode</th>\n",
       "      <th>time_signature</th>\n",
       "      <th>acousticness</th>\n",
       "      <th>danceability</th>\n",
       "      <th>energy</th>\n",
       "      <th>instrumentalness</th>\n",
       "      <th>liveness</th>\n",
       "      <th>loudness</th>\n",
       "      <th>speechiness</th>\n",
       "      <th>valence</th>\n",
       "      <th>tempo</th>\n",
       "      <th>uri</th>\n",
       "    </tr>\n",
       "  </thead>\n",
       "  <tbody>\n",
       "    <tr>\n",
       "      <th>0</th>\n",
       "      <td>spotify:playlist:7gKVccRxsOD0gKdUv63HoB</td>\n",
       "      <td>153693</td>\n",
       "      <td>6</td>\n",
       "      <td>1</td>\n",
       "      <td>4</td>\n",
       "      <td>0.771</td>\n",
       "      <td>0.786</td>\n",
       "      <td>0.356</td>\n",
       "      <td>0.6940</td>\n",
       "      <td>0.100</td>\n",
       "      <td>-11.432</td>\n",
       "      <td>0.0462</td>\n",
       "      <td>0.5190</td>\n",
       "      <td>116.023</td>\n",
       "      <td>spotify:track:47hXMyQDGW8sA1NGqmFL7h</td>\n",
       "    </tr>\n",
       "    <tr>\n",
       "      <th>1</th>\n",
       "      <td>spotify:playlist:7gKVccRxsOD0gKdUv63HoB</td>\n",
       "      <td>204373</td>\n",
       "      <td>11</td>\n",
       "      <td>1</td>\n",
       "      <td>4</td>\n",
       "      <td>0.845</td>\n",
       "      <td>0.348</td>\n",
       "      <td>0.310</td>\n",
       "      <td>0.0569</td>\n",
       "      <td>0.111</td>\n",
       "      <td>-13.122</td>\n",
       "      <td>0.0413</td>\n",
       "      <td>0.0474</td>\n",
       "      <td>114.812</td>\n",
       "      <td>spotify:track:1y7FoHfVtbZV6mONGJgU7j</td>\n",
       "    </tr>\n",
       "    <tr>\n",
       "      <th>2</th>\n",
       "      <td>spotify:playlist:7gKVccRxsOD0gKdUv63HoB</td>\n",
       "      <td>193733</td>\n",
       "      <td>7</td>\n",
       "      <td>1</td>\n",
       "      <td>4</td>\n",
       "      <td>0.767</td>\n",
       "      <td>0.611</td>\n",
       "      <td>0.525</td>\n",
       "      <td>0.7990</td>\n",
       "      <td>0.112</td>\n",
       "      <td>-9.683</td>\n",
       "      <td>0.0354</td>\n",
       "      <td>0.2990</td>\n",
       "      <td>113.946</td>\n",
       "      <td>spotify:track:0SHa9XHwYYB1UUmgbgHuhQ</td>\n",
       "    </tr>\n",
       "    <tr>\n",
       "      <th>3</th>\n",
       "      <td>spotify:playlist:7gKVccRxsOD0gKdUv63HoB</td>\n",
       "      <td>163653</td>\n",
       "      <td>1</td>\n",
       "      <td>1</td>\n",
       "      <td>4</td>\n",
       "      <td>0.663</td>\n",
       "      <td>0.533</td>\n",
       "      <td>0.678</td>\n",
       "      <td>0.0000</td>\n",
       "      <td>0.145</td>\n",
       "      <td>-5.244</td>\n",
       "      <td>0.0256</td>\n",
       "      <td>0.6830</td>\n",
       "      <td>80.960</td>\n",
       "      <td>spotify:track:3hB9lDLyAClYVZivMMl20N</td>\n",
       "    </tr>\n",
       "    <tr>\n",
       "      <th>4</th>\n",
       "      <td>spotify:playlist:7gKVccRxsOD0gKdUv63HoB</td>\n",
       "      <td>184413</td>\n",
       "      <td>7</td>\n",
       "      <td>1</td>\n",
       "      <td>4</td>\n",
       "      <td>0.920</td>\n",
       "      <td>0.481</td>\n",
       "      <td>0.669</td>\n",
       "      <td>0.0219</td>\n",
       "      <td>0.139</td>\n",
       "      <td>-13.329</td>\n",
       "      <td>0.4550</td>\n",
       "      <td>0.3510</td>\n",
       "      <td>128.219</td>\n",
       "      <td>spotify:track:0HuS5vFQd06cXV54I0twkV</td>\n",
       "    </tr>\n",
       "  </tbody>\n",
       "</table>\n",
       "</div>"
      ],
      "text/plain": [
       "                              playlist_uri  duration_ms  key  mode  \\\n",
       "0  spotify:playlist:7gKVccRxsOD0gKdUv63HoB       153693    6     1   \n",
       "1  spotify:playlist:7gKVccRxsOD0gKdUv63HoB       204373   11     1   \n",
       "2  spotify:playlist:7gKVccRxsOD0gKdUv63HoB       193733    7     1   \n",
       "3  spotify:playlist:7gKVccRxsOD0gKdUv63HoB       163653    1     1   \n",
       "4  spotify:playlist:7gKVccRxsOD0gKdUv63HoB       184413    7     1   \n",
       "\n",
       "   time_signature  acousticness  danceability  energy  instrumentalness  \\\n",
       "0               4         0.771         0.786   0.356            0.6940   \n",
       "1               4         0.845         0.348   0.310            0.0569   \n",
       "2               4         0.767         0.611   0.525            0.7990   \n",
       "3               4         0.663         0.533   0.678            0.0000   \n",
       "4               4         0.920         0.481   0.669            0.0219   \n",
       "\n",
       "   liveness  loudness  speechiness  valence    tempo  \\\n",
       "0     0.100   -11.432       0.0462   0.5190  116.023   \n",
       "1     0.111   -13.122       0.0413   0.0474  114.812   \n",
       "2     0.112    -9.683       0.0354   0.2990  113.946   \n",
       "3     0.145    -5.244       0.0256   0.6830   80.960   \n",
       "4     0.139   -13.329       0.4550   0.3510  128.219   \n",
       "\n",
       "                                    uri  \n",
       "0  spotify:track:47hXMyQDGW8sA1NGqmFL7h  \n",
       "1  spotify:track:1y7FoHfVtbZV6mONGJgU7j  \n",
       "2  spotify:track:0SHa9XHwYYB1UUmgbgHuhQ  \n",
       "3  spotify:track:3hB9lDLyAClYVZivMMl20N  \n",
       "4  spotify:track:0HuS5vFQd06cXV54I0twkV  "
      ]
     },
     "execution_count": 6,
     "metadata": {},
     "output_type": "execute_result"
    }
   ],
   "source": [
    "FeatureDF.head()\n"
   ]
  },
  {
   "cell_type": "markdown",
   "metadata": {},
   "source": [
    "Since Danceability, Energy, Speech, Acousticness, Instrumentalness, Liveness, Valence share the same scale, they would be usually grouped together and compared in data visualisations."
   ]
  },
  {
   "cell_type": "code",
   "execution_count": 7,
   "metadata": {},
   "outputs": [],
   "source": [
    "categories = ['danceability',\n",
    "              'energy',\n",
    "              'speechiness',\n",
    "              'acousticness',\n",
    "              'liveness',\n",
    "              'valence']\n"
   ]
  },
  {
   "cell_type": "markdown",
   "metadata": {},
   "source": [
    "# KEY\n",
    "The key the track is in. Integers map to pitches using standard Pitch Class notation. E.g. 0 = C, 1 = C♯/D♭, 2 = D, and so on. If no key was detected, the value is -1.\n",
    "\n",
    "Plotting the Key data from the tracks feature Dataframe shows us that the most used keys i.e. E & F"
   ]
  },
  {
   "cell_type": "code",
   "execution_count": 10,
   "metadata": {},
   "outputs": [
    {
     "data": {
      "text/plain": [
       "<AxesSubplot: xlabel='key', ylabel='Count'>"
      ]
     },
     "execution_count": 10,
     "metadata": {},
     "output_type": "execute_result"
    },
    {
     "data": {
      "image/png": "[encoded data removed]",
      "text/plain": [
       "<Figure size 1000x800 with 1 Axes>"
      ]
     },
     "metadata": {},
     "output_type": "display_data"
    }
   ],
   "source": [
    "plt.figure(figsize=[10,8])\n",
    "sns.histplot(FeatureDF,x='key')"
   ]
  },
  {
   "cell_type": "markdown",
   "metadata": {},
   "source": [
    "# MAJOR and MINOR\n",
    "\n",
    "0: Minor\n",
    "1: Major\n",
    "\n",
    "Mode indicates the modality (major or minor) of a track, the type of scale from which its melodic content is derived. Major is represented by 1 and minor is 0.\n",
    "\n",
    "Pie Chart below shows that the majority of songs have Major Modality"
   ]
  },
  {
   "cell_type": "code",
   "execution_count": 12,
   "metadata": {},
   "outputs": [
    {
     "data": {
      "image/png": "[encoded data removed]",
      "text/plain": [
       "<Figure size 1000x800 with 1 Axes>"
      ]
     },
     "metadata": {},
     "output_type": "display_data"
    },
    {
     "data": {
      "text/plain": [
       "<Figure size 640x480 with 0 Axes>"
      ]
     },
     "metadata": {},
     "output_type": "display_data"
    }
   ],
   "source": [
    "plt.figure(figsize=[10,8])\n",
    "\n",
    "mode = list(FeatureDF['mode'].value_counts().index)\n",
    "size = list(FeatureDF['mode'].value_counts())\n",
    "\n",
    "plt.pie(size,labels=mode,autopct='%1.0F%%')\n",
    "plt.legend(mode,title='Mode',loc='best')\n",
    "plt.figure(facecolor='white')\n",
    "plt.show()"
   ]
  },
  {
   "cell_type": "markdown",
   "metadata": {},
   "source": [
    "The plot below shows the distribution of scores for all tracks in the given playlist. Most songs are typically high-energy but the songs usually fall within the mid-level for danceability.\n",
    "\n",
    "- Most of the songs have high energy, Dancebility and surprisingly acousticness.\n",
    "- Acoustic songs generally not associated with these two factors.\n",
    "- This result can be attributed to new age indie songs and their emphasis on beats over vocals"
   ]
  },
  {
   "cell_type": "code",
   "execution_count": 14,
   "metadata": {},
   "outputs": [
    {
     "data": {
      "text/plain": [
       "[Text(0.5, 1.0, 'Valence')]"
      ]
     },
     "execution_count": 14,
     "metadata": {},
     "output_type": "execute_result"
    },
    {
     "data": {
      "image/png": "[encoded data removed]",
      "text/plain": [
       "<Figure size 1800x1000 with 6 Axes>"
      ]
     },
     "metadata": {},
     "output_type": "display_data"
    }
   ],
   "source": [
    "fig, axes = plt.subplots(2, 3, figsize=(18, 10))\n",
    "\n",
    "fig.suptitle(['Energy', 'Danceability', 'Speechiness','Acousticness', 'Liveness', 'Valence'])\n",
    "\n",
    "fig.tight_layout(pad=5.0)\n",
    "\n",
    "sns.histplot(ax=axes[0, 0], data=FeatureDF, x='energy').set(title='Energy')\n",
    "sns.histplot(ax=axes[0, 1], data=FeatureDF, x='danceability').set(title=\"Danceability\")\n",
    "sns.histplot(ax=axes[0, 2], data=FeatureDF, x='speechiness').set(title='Speechiness')\n",
    "sns.histplot(ax=axes[1, 0], data=FeatureDF, x='acousticness').set(title='Acousticness')\n",
    "sns.histplot(ax=axes[1, 1], data=FeatureDF, x='liveness').set(title='Liveness')\n",
    "sns.histplot(ax=axes[1, 2], data=FeatureDF, x='valence').set(title='Valence')"
   ]
  },
  {
   "cell_type": "markdown",
   "metadata": {},
   "source": [
    "## Data Filtering\n",
    "The data taken from the Spotify API stores the same track in multiple rows for multiple artists. So, for a song with 3 artists there will be 3 entries.\n",
    "To reduce this redundancy we first combine the tracks data on the basis of the song name and album name"
   ]
  },
  {
   "cell_type": "code",
   "execution_count": 23,
   "metadata": {},
   "outputs": [
    {
     "data": {
      "text/html": [
       "<div>\n",
       "<style scoped>\n",
       "    .dataframe tbody tr th:only-of-type {\n",
       "        vertical-align: middle;\n",
       "    }\n",
       "\n",
       "    .dataframe tbody tr th {\n",
       "        vertical-align: top;\n",
       "    }\n",
       "\n",
       "    .dataframe thead th {\n",
       "        text-align: right;\n",
       "    }\n",
       "</style>\n",
       "<table border=\"1\" class=\"dataframe\">\n",
       "  <thead>\n",
       "    <tr style=\"text-align: right;\">\n",
       "      <th></th>\n",
       "      <th>playlist_uri</th>\n",
       "      <th>album</th>\n",
       "      <th>album_uri</th>\n",
       "      <th>artist</th>\n",
       "      <th>artist_uri</th>\n",
       "      <th>disc_number</th>\n",
       "      <th>duration_ms</th>\n",
       "      <th>name</th>\n",
       "      <th>popularity</th>\n",
       "      <th>explicit</th>\n",
       "      <th>uri</th>\n",
       "      <th>link</th>\n",
       "    </tr>\n",
       "  </thead>\n",
       "  <tbody>\n",
       "    <tr>\n",
       "      <th>0</th>\n",
       "      <td>spotify:playlist:7gKVccRxsOD0gKdUv63HoB</td>\n",
       "      <td>The Way That Lovers Do</td>\n",
       "      <td>spotify:album:4WLh56ZjwINYBNhaxLvEhA</td>\n",
       "      <td>Prateek Kuhad</td>\n",
       "      <td>spotify:artist:0tC995Rfn9k2l7nqgCZsV7</td>\n",
       "      <td>1</td>\n",
       "      <td>153693</td>\n",
       "      <td>All I Need</td>\n",
       "      <td>55</td>\n",
       "      <td>False</td>\n",
       "      <td>spotify:track:47hXMyQDGW8sA1NGqmFL7h</td>\n",
       "      <td>https://api.spotify.com/v1/tracks/47hXMyQDGW8s...</td>\n",
       "    </tr>\n",
       "    <tr>\n",
       "      <th>1</th>\n",
       "      <td>spotify:playlist:7gKVccRxsOD0gKdUv63HoB</td>\n",
       "      <td>The Way That Lovers Do</td>\n",
       "      <td>spotify:album:4WLh56ZjwINYBNhaxLvEhA</td>\n",
       "      <td>Prateek Kuhad</td>\n",
       "      <td>spotify:artist:0tC995Rfn9k2l7nqgCZsV7</td>\n",
       "      <td>1</td>\n",
       "      <td>204373</td>\n",
       "      <td>Hollow</td>\n",
       "      <td>40</td>\n",
       "      <td>False</td>\n",
       "      <td>spotify:track:1y7FoHfVtbZV6mONGJgU7j</td>\n",
       "      <td>https://api.spotify.com/v1/tracks/1y7FoHfVtbZV...</td>\n",
       "    </tr>\n",
       "    <tr>\n",
       "      <th>2</th>\n",
       "      <td>spotify:playlist:7gKVccRxsOD0gKdUv63HoB</td>\n",
       "      <td>The Way That Lovers Do</td>\n",
       "      <td>spotify:album:4WLh56ZjwINYBNhaxLvEhA</td>\n",
       "      <td>Prateek Kuhad</td>\n",
       "      <td>spotify:artist:0tC995Rfn9k2l7nqgCZsV7</td>\n",
       "      <td>1</td>\n",
       "      <td>193733</td>\n",
       "      <td>Favorite Peeps</td>\n",
       "      <td>44</td>\n",
       "      <td>False</td>\n",
       "      <td>spotify:track:0SHa9XHwYYB1UUmgbgHuhQ</td>\n",
       "      <td>https://api.spotify.com/v1/tracks/0SHa9XHwYYB1...</td>\n",
       "    </tr>\n",
       "    <tr>\n",
       "      <th>3</th>\n",
       "      <td>spotify:playlist:7gKVccRxsOD0gKdUv63HoB</td>\n",
       "      <td>The Way That Lovers Do</td>\n",
       "      <td>spotify:album:4WLh56ZjwINYBNhaxLvEhA</td>\n",
       "      <td>Prateek Kuhad</td>\n",
       "      <td>spotify:artist:0tC995Rfn9k2l7nqgCZsV7</td>\n",
       "      <td>1</td>\n",
       "      <td>163653</td>\n",
       "      <td>Co2</td>\n",
       "      <td>53</td>\n",
       "      <td>False</td>\n",
       "      <td>spotify:track:3hB9lDLyAClYVZivMMl20N</td>\n",
       "      <td>https://api.spotify.com/v1/tracks/3hB9lDLyAClY...</td>\n",
       "    </tr>\n",
       "    <tr>\n",
       "      <th>4</th>\n",
       "      <td>spotify:playlist:7gKVccRxsOD0gKdUv63HoB</td>\n",
       "      <td>The Way That Lovers Do</td>\n",
       "      <td>spotify:album:4WLh56ZjwINYBNhaxLvEhA</td>\n",
       "      <td>Prateek Kuhad</td>\n",
       "      <td>spotify:artist:0tC995Rfn9k2l7nqgCZsV7</td>\n",
       "      <td>1</td>\n",
       "      <td>184413</td>\n",
       "      <td>Face</td>\n",
       "      <td>39</td>\n",
       "      <td>False</td>\n",
       "      <td>spotify:track:0HuS5vFQd06cXV54I0twkV</td>\n",
       "      <td>https://api.spotify.com/v1/tracks/0HuS5vFQd06c...</td>\n",
       "    </tr>\n",
       "    <tr>\n",
       "      <th>...</th>\n",
       "      <td>...</td>\n",
       "      <td>...</td>\n",
       "      <td>...</td>\n",
       "      <td>...</td>\n",
       "      <td>...</td>\n",
       "      <td>...</td>\n",
       "      <td>...</td>\n",
       "      <td>...</td>\n",
       "      <td>...</td>\n",
       "      <td>...</td>\n",
       "      <td>...</td>\n",
       "      <td>...</td>\n",
       "    </tr>\n",
       "    <tr>\n",
       "      <th>59</th>\n",
       "      <td>spotify:playlist:7gKVccRxsOD0gKdUv63HoB</td>\n",
       "      <td>Baaraat</td>\n",
       "      <td>spotify:album:5tJNl2p7wNTuRBvikWFHSn</td>\n",
       "      <td>Nucleya</td>\n",
       "      <td>spotify:artist:2CkrXQPoBz8jTQ3u0ZeLPh</td>\n",
       "      <td>1</td>\n",
       "      <td>167471</td>\n",
       "      <td>Ari Ari</td>\n",
       "      <td>52</td>\n",
       "      <td>False</td>\n",
       "      <td>spotify:track:3edqjLVQrRPLvt9FAYUAsT</td>\n",
       "      <td>https://api.spotify.com/v1/tracks/3edqjLVQrRPL...</td>\n",
       "    </tr>\n",
       "    <tr>\n",
       "      <th>60</th>\n",
       "      <td>spotify:playlist:7gKVccRxsOD0gKdUv63HoB</td>\n",
       "      <td>Baaraat</td>\n",
       "      <td>spotify:album:5tJNl2p7wNTuRBvikWFHSn</td>\n",
       "      <td>Ritviz</td>\n",
       "      <td>spotify:artist:72beYOeW2sb2yfcS4JsRvb</td>\n",
       "      <td>1</td>\n",
       "      <td>219240</td>\n",
       "      <td>Roz</td>\n",
       "      <td>58</td>\n",
       "      <td>False</td>\n",
       "      <td>spotify:track:1rDQJd8kzwBRXeoTtojkQn</td>\n",
       "      <td>https://api.spotify.com/v1/tracks/1rDQJd8kzwBR...</td>\n",
       "    </tr>\n",
       "    <tr>\n",
       "      <th>61</th>\n",
       "      <td>spotify:playlist:7gKVccRxsOD0gKdUv63HoB</td>\n",
       "      <td>Baaraat</td>\n",
       "      <td>spotify:album:5tJNl2p7wNTuRBvikWFHSn</td>\n",
       "      <td>Nucleya</td>\n",
       "      <td>spotify:artist:2CkrXQPoBz8jTQ3u0ZeLPh</td>\n",
       "      <td>1</td>\n",
       "      <td>219240</td>\n",
       "      <td>Roz</td>\n",
       "      <td>58</td>\n",
       "      <td>False</td>\n",
       "      <td>spotify:track:1rDQJd8kzwBRXeoTtojkQn</td>\n",
       "      <td>https://api.spotify.com/v1/tracks/1rDQJd8kzwBR...</td>\n",
       "    </tr>\n",
       "    <tr>\n",
       "      <th>62</th>\n",
       "      <td>spotify:playlist:7gKVccRxsOD0gKdUv63HoB</td>\n",
       "      <td>Baaraat</td>\n",
       "      <td>spotify:album:5tJNl2p7wNTuRBvikWFHSn</td>\n",
       "      <td>Ritviz</td>\n",
       "      <td>spotify:artist:72beYOeW2sb2yfcS4JsRvb</td>\n",
       "      <td>1</td>\n",
       "      <td>222096</td>\n",
       "      <td>Baaraat</td>\n",
       "      <td>64</td>\n",
       "      <td>False</td>\n",
       "      <td>spotify:track:0YLSjVxSb5FT1Bo8Tnxr8j</td>\n",
       "      <td>https://api.spotify.com/v1/tracks/0YLSjVxSb5FT...</td>\n",
       "    </tr>\n",
       "    <tr>\n",
       "      <th>63</th>\n",
       "      <td>spotify:playlist:7gKVccRxsOD0gKdUv63HoB</td>\n",
       "      <td>Baaraat</td>\n",
       "      <td>spotify:album:5tJNl2p7wNTuRBvikWFHSn</td>\n",
       "      <td>Nucleya</td>\n",
       "      <td>spotify:artist:2CkrXQPoBz8jTQ3u0ZeLPh</td>\n",
       "      <td>1</td>\n",
       "      <td>222096</td>\n",
       "      <td>Baaraat</td>\n",
       "      <td>64</td>\n",
       "      <td>False</td>\n",
       "      <td>spotify:track:0YLSjVxSb5FT1Bo8Tnxr8j</td>\n",
       "      <td>https://api.spotify.com/v1/tracks/0YLSjVxSb5FT...</td>\n",
       "    </tr>\n",
       "  </tbody>\n",
       "</table>\n",
       "<p>64 rows × 12 columns</p>\n",
       "</div>"
      ],
      "text/plain": [
       "                               playlist_uri                   album  \\\n",
       "0   spotify:playlist:7gKVccRxsOD0gKdUv63HoB  The Way That Lovers Do   \n",
       "1   spotify:playlist:7gKVccRxsOD0gKdUv63HoB  The Way That Lovers Do   \n",
       "2   spotify:playlist:7gKVccRxsOD0gKdUv63HoB  The Way That Lovers Do   \n",
       "3   spotify:playlist:7gKVccRxsOD0gKdUv63HoB  The Way That Lovers Do   \n",
       "4   spotify:playlist:7gKVccRxsOD0gKdUv63HoB  The Way That Lovers Do   \n",
       "..                                      ...                     ...   \n",
       "59  spotify:playlist:7gKVccRxsOD0gKdUv63HoB                 Baaraat   \n",
       "60  spotify:playlist:7gKVccRxsOD0gKdUv63HoB                 Baaraat   \n",
       "61  spotify:playlist:7gKVccRxsOD0gKdUv63HoB                 Baaraat   \n",
       "62  spotify:playlist:7gKVccRxsOD0gKdUv63HoB                 Baaraat   \n",
       "63  spotify:playlist:7gKVccRxsOD0gKdUv63HoB                 Baaraat   \n",
       "\n",
       "                               album_uri         artist  \\\n",
       "0   spotify:album:4WLh56ZjwINYBNhaxLvEhA  Prateek Kuhad   \n",
       "1   spotify:album:4WLh56ZjwINYBNhaxLvEhA  Prateek Kuhad   \n",
       "2   spotify:album:4WLh56ZjwINYBNhaxLvEhA  Prateek Kuhad   \n",
       "3   spotify:album:4WLh56ZjwINYBNhaxLvEhA  Prateek Kuhad   \n",
       "4   spotify:album:4WLh56ZjwINYBNhaxLvEhA  Prateek Kuhad   \n",
       "..                                   ...            ...   \n",
       "59  spotify:album:5tJNl2p7wNTuRBvikWFHSn        Nucleya   \n",
       "60  spotify:album:5tJNl2p7wNTuRBvikWFHSn         Ritviz   \n",
       "61  spotify:album:5tJNl2p7wNTuRBvikWFHSn        Nucleya   \n",
       "62  spotify:album:5tJNl2p7wNTuRBvikWFHSn         Ritviz   \n",
       "63  spotify:album:5tJNl2p7wNTuRBvikWFHSn        Nucleya   \n",
       "\n",
       "                               artist_uri  disc_number  duration_ms  \\\n",
       "0   spotify:artist:0tC995Rfn9k2l7nqgCZsV7            1       153693   \n",
       "1   spotify:artist:0tC995Rfn9k2l7nqgCZsV7            1       204373   \n",
       "2   spotify:artist:0tC995Rfn9k2l7nqgCZsV7            1       193733   \n",
       "3   spotify:artist:0tC995Rfn9k2l7nqgCZsV7            1       163653   \n",
       "4   spotify:artist:0tC995Rfn9k2l7nqgCZsV7            1       184413   \n",
       "..                                    ...          ...          ...   \n",
       "59  spotify:artist:2CkrXQPoBz8jTQ3u0ZeLPh            1       167471   \n",
       "60  spotify:artist:72beYOeW2sb2yfcS4JsRvb            1       219240   \n",
       "61  spotify:artist:2CkrXQPoBz8jTQ3u0ZeLPh            1       219240   \n",
       "62  spotify:artist:72beYOeW2sb2yfcS4JsRvb            1       222096   \n",
       "63  spotify:artist:2CkrXQPoBz8jTQ3u0ZeLPh            1       222096   \n",
       "\n",
       "              name  popularity  explicit  \\\n",
       "0       All I Need          55     False   \n",
       "1           Hollow          40     False   \n",
       "2   Favorite Peeps          44     False   \n",
       "3              Co2          53     False   \n",
       "4             Face          39     False   \n",
       "..             ...         ...       ...   \n",
       "59         Ari Ari          52     False   \n",
       "60             Roz          58     False   \n",
       "61             Roz          58     False   \n",
       "62         Baaraat          64     False   \n",
       "63         Baaraat          64     False   \n",
       "\n",
       "                                     uri  \\\n",
       "0   spotify:track:47hXMyQDGW8sA1NGqmFL7h   \n",
       "1   spotify:track:1y7FoHfVtbZV6mONGJgU7j   \n",
       "2   spotify:track:0SHa9XHwYYB1UUmgbgHuhQ   \n",
       "3   spotify:track:3hB9lDLyAClYVZivMMl20N   \n",
       "4   spotify:track:0HuS5vFQd06cXV54I0twkV   \n",
       "..                                   ...   \n",
       "59  spotify:track:3edqjLVQrRPLvt9FAYUAsT   \n",
       "60  spotify:track:1rDQJd8kzwBRXeoTtojkQn   \n",
       "61  spotify:track:1rDQJd8kzwBRXeoTtojkQn   \n",
       "62  spotify:track:0YLSjVxSb5FT1Bo8Tnxr8j   \n",
       "63  spotify:track:0YLSjVxSb5FT1Bo8Tnxr8j   \n",
       "\n",
       "                                                 link  \n",
       "0   https://api.spotify.com/v1/tracks/47hXMyQDGW8s...  \n",
       "1   https://api.spotify.com/v1/tracks/1y7FoHfVtbZV...  \n",
       "2   https://api.spotify.com/v1/tracks/0SHa9XHwYYB1...  \n",
       "3   https://api.spotify.com/v1/tracks/3hB9lDLyAClY...  \n",
       "4   https://api.spotify.com/v1/tracks/0HuS5vFQd06c...  \n",
       "..                                                ...  \n",
       "59  https://api.spotify.com/v1/tracks/3edqjLVQrRPL...  \n",
       "60  https://api.spotify.com/v1/tracks/1rDQJd8kzwBR...  \n",
       "61  https://api.spotify.com/v1/tracks/1rDQJd8kzwBR...  \n",
       "62  https://api.spotify.com/v1/tracks/0YLSjVxSb5FT...  \n",
       "63  https://api.spotify.com/v1/tracks/0YLSjVxSb5FT...  \n",
       "\n",
       "[64 rows x 12 columns]"
      ]
     },
     "execution_count": 23,
     "metadata": {},
     "output_type": "execute_result"
    }
   ],
   "source": [
    "# Fetched data\n",
    "TracksDF"
   ]
  },
  {
   "cell_type": "code",
   "execution_count": 24,
   "metadata": {},
   "outputs": [
    {
     "data": {
      "text/html": [
       "<div>\n",
       "<style scoped>\n",
       "    .dataframe tbody tr th:only-of-type {\n",
       "        vertical-align: middle;\n",
       "    }\n",
       "\n",
       "    .dataframe tbody tr th {\n",
       "        vertical-align: top;\n",
       "    }\n",
       "\n",
       "    .dataframe thead th {\n",
       "        text-align: right;\n",
       "    }\n",
       "</style>\n",
       "<table border=\"1\" class=\"dataframe\">\n",
       "  <thead>\n",
       "    <tr style=\"text-align: right;\">\n",
       "      <th></th>\n",
       "      <th>name</th>\n",
       "      <th>album</th>\n",
       "      <th>uri</th>\n",
       "      <th>artist</th>\n",
       "    </tr>\n",
       "  </thead>\n",
       "  <tbody>\n",
       "    <tr>\n",
       "      <th>0</th>\n",
       "      <td>0 to 100</td>\n",
       "      <td>No Name</td>\n",
       "      <td>spotify:track:7cVe3mYMIfhOlz1NXFWv70</td>\n",
       "      <td>Sidhu Moose Wala</td>\n",
       "    </tr>\n",
       "    <tr>\n",
       "      <th>1</th>\n",
       "      <td>051021</td>\n",
       "      <td>Scars &amp; Screws</td>\n",
       "      <td>spotify:track:6D0RJju2TSMtZM1jsRc58S</td>\n",
       "      <td>Shamoon Ismail,Talha Anjum</td>\n",
       "    </tr>\n",
       "    <tr>\n",
       "      <th>2</th>\n",
       "      <td>All I Need</td>\n",
       "      <td>The Way That Lovers Do</td>\n",
       "      <td>spotify:track:47hXMyQDGW8sA1NGqmFL7h</td>\n",
       "      <td>Prateek Kuhad</td>\n",
       "    </tr>\n",
       "    <tr>\n",
       "      <th>3</th>\n",
       "      <td>All Night Long</td>\n",
       "      <td>Scars &amp; Screws</td>\n",
       "      <td>spotify:track:308ngBPHBQa8HW4n0PBUKh</td>\n",
       "      <td>Shamoon Ismail</td>\n",
       "    </tr>\n",
       "    <tr>\n",
       "      <th>4</th>\n",
       "      <td>Ari Ari</td>\n",
       "      <td>Baaraat</td>\n",
       "      <td>spotify:track:3edqjLVQrRPLvt9FAYUAsT</td>\n",
       "      <td>Ritviz,Nucleya</td>\n",
       "    </tr>\n",
       "    <tr>\n",
       "      <th>5</th>\n",
       "      <td>Baaraat</td>\n",
       "      <td>Baaraat</td>\n",
       "      <td>spotify:track:0YLSjVxSb5FT1Bo8Tnxr8j</td>\n",
       "      <td>Ritviz,Nucleya</td>\n",
       "    </tr>\n",
       "    <tr>\n",
       "      <th>6</th>\n",
       "      <td>Bloodlust (feat. Mr. Capone-E)</td>\n",
       "      <td>No Name</td>\n",
       "      <td>spotify:track:1O00WM9qGLUBA5gq2yw0WF</td>\n",
       "      <td>Sidhu Moose Wala,Mr. Capone-E</td>\n",
       "    </tr>\n",
       "    <tr>\n",
       "      <th>7</th>\n",
       "      <td>Bloom</td>\n",
       "      <td>The Way That Lovers Do</td>\n",
       "      <td>spotify:track:39lOHITmszIVH9WF4Jpbum</td>\n",
       "      <td>Prateek Kuhad</td>\n",
       "    </tr>\n",
       "    <tr>\n",
       "      <th>8</th>\n",
       "      <td>Chaunde Ne Pharna</td>\n",
       "      <td>Scars &amp; Screws</td>\n",
       "      <td>spotify:track:18sA3ZuFnaYvinSyc1EZ0M</td>\n",
       "      <td>Shamoon Ismail</td>\n",
       "    </tr>\n",
       "    <tr>\n",
       "      <th>9</th>\n",
       "      <td>Co2</td>\n",
       "      <td>The Way That Lovers Do</td>\n",
       "      <td>spotify:track:3hB9lDLyAClYVZivMMl20N</td>\n",
       "      <td>Prateek Kuhad</td>\n",
       "    </tr>\n",
       "    <tr>\n",
       "      <th>10</th>\n",
       "      <td>Cocaine</td>\n",
       "      <td>Scars &amp; Screws</td>\n",
       "      <td>spotify:track:5Mk3wOYG9Emd6SL5jVviZ7</td>\n",
       "      <td>Shamoon Ismail</td>\n",
       "    </tr>\n",
       "    <tr>\n",
       "      <th>11</th>\n",
       "      <td>D'Arline</td>\n",
       "      <td>The Civil Wars</td>\n",
       "      <td>spotify:track:6UoygTjFvuC8pEGo2siNGM</td>\n",
       "      <td>The Civil Wars</td>\n",
       "    </tr>\n",
       "    <tr>\n",
       "      <th>12</th>\n",
       "      <td>Devil's Backbone</td>\n",
       "      <td>The Civil Wars</td>\n",
       "      <td>spotify:track:4qoD4IJbbir3hsAu4IowiG</td>\n",
       "      <td>The Civil Wars</td>\n",
       "    </tr>\n",
       "    <tr>\n",
       "      <th>13</th>\n",
       "      <td>Disarm</td>\n",
       "      <td>The Civil Wars</td>\n",
       "      <td>spotify:track:5F1Ml9CcAC4FnMAOEZDXYv</td>\n",
       "      <td>The Civil Wars</td>\n",
       "    </tr>\n",
       "    <tr>\n",
       "      <th>14</th>\n",
       "      <td>Drown</td>\n",
       "      <td>The Way That Lovers Do</td>\n",
       "      <td>spotify:track:1kJvdhrr9MHOZ1e1PhTXTG</td>\n",
       "      <td>Prateek Kuhad</td>\n",
       "    </tr>\n",
       "    <tr>\n",
       "      <th>15</th>\n",
       "      <td>Dust to Dust</td>\n",
       "      <td>The Civil Wars</td>\n",
       "      <td>spotify:track:5P6ZBMWS66FVo6deJaDdHy</td>\n",
       "      <td>The Civil Wars</td>\n",
       "    </tr>\n",
       "    <tr>\n",
       "      <th>16</th>\n",
       "      <td>Eavesdrop</td>\n",
       "      <td>The Civil Wars</td>\n",
       "      <td>spotify:track:4BafNHkkPaUocRMKi392MT</td>\n",
       "      <td>The Civil Wars</td>\n",
       "    </tr>\n",
       "    <tr>\n",
       "      <th>17</th>\n",
       "      <td>Everybody Hurts</td>\n",
       "      <td>No Name</td>\n",
       "      <td>spotify:track:1w3exvIgbRFV2ijf6qyWm8</td>\n",
       "      <td>Sidhu Moose Wala</td>\n",
       "    </tr>\n",
       "    <tr>\n",
       "      <th>18</th>\n",
       "      <td>Faasla</td>\n",
       "      <td>Scars &amp; Screws</td>\n",
       "      <td>spotify:track:3TB0OtQMzrPoNcmXfUMVzC</td>\n",
       "      <td>Shamoon Ismail,Hasan Raheem</td>\n",
       "    </tr>\n",
       "    <tr>\n",
       "      <th>19</th>\n",
       "      <td>Face</td>\n",
       "      <td>The Way That Lovers Do</td>\n",
       "      <td>spotify:track:0HuS5vFQd06cXV54I0twkV</td>\n",
       "      <td>Prateek Kuhad</td>\n",
       "    </tr>\n",
       "    <tr>\n",
       "      <th>20</th>\n",
       "      <td>Favorite Peeps</td>\n",
       "      <td>The Way That Lovers Do</td>\n",
       "      <td>spotify:track:0SHa9XHwYYB1UUmgbgHuhQ</td>\n",
       "      <td>Prateek Kuhad</td>\n",
       "    </tr>\n",
       "    <tr>\n",
       "      <th>21</th>\n",
       "      <td>From This Valley</td>\n",
       "      <td>The Civil Wars</td>\n",
       "      <td>spotify:track:79jxIFiRzVvJVPYiaqBTqK</td>\n",
       "      <td>The Civil Wars</td>\n",
       "    </tr>\n",
       "    <tr>\n",
       "      <th>22</th>\n",
       "      <td>Full Time Lover</td>\n",
       "      <td>The Way That Lovers Do</td>\n",
       "      <td>spotify:track:6Td37HXpeCVelczrLcg73L</td>\n",
       "      <td>Prateek Kuhad</td>\n",
       "    </tr>\n",
       "    <tr>\n",
       "      <th>23</th>\n",
       "      <td>Heartbroken</td>\n",
       "      <td>The Way That Lovers Do</td>\n",
       "      <td>spotify:track:7pgIbZ3tWdXLUAlofe3r2i</td>\n",
       "      <td>Prateek Kuhad</td>\n",
       "    </tr>\n",
       "    <tr>\n",
       "      <th>24</th>\n",
       "      <td>Hollow</td>\n",
       "      <td>The Way That Lovers Do</td>\n",
       "      <td>spotify:track:1y7FoHfVtbZV6mONGJgU7j</td>\n",
       "      <td>Prateek Kuhad</td>\n",
       "    </tr>\n",
       "    <tr>\n",
       "      <th>25</th>\n",
       "      <td>I Had Me a Girl</td>\n",
       "      <td>The Civil Wars</td>\n",
       "      <td>spotify:track:37zPDZLuL3dgmI4hb6Yix0</td>\n",
       "      <td>The Civil Wars</td>\n",
       "    </tr>\n",
       "    <tr>\n",
       "      <th>26</th>\n",
       "      <td>Into The Sunset</td>\n",
       "      <td>Scars &amp; Screws</td>\n",
       "      <td>spotify:track:7xJv0nURSYIPtgdwiNSqiy</td>\n",
       "      <td>Shamoon Ismail</td>\n",
       "    </tr>\n",
       "    <tr>\n",
       "      <th>27</th>\n",
       "      <td>Just A Word</td>\n",
       "      <td>The Way That Lovers Do</td>\n",
       "      <td>spotify:track:3XWRc74od1pT7MUkGiJmoW</td>\n",
       "      <td>Prateek Kuhad</td>\n",
       "    </tr>\n",
       "    <tr>\n",
       "      <th>28</th>\n",
       "      <td>Load Out</td>\n",
       "      <td>Scars &amp; Screws</td>\n",
       "      <td>spotify:track:1Dq6xyMtnxEdmVOjzV9caq</td>\n",
       "      <td>Shamoon Ismail,Talhah Yunus</td>\n",
       "    </tr>\n",
       "    <tr>\n",
       "      <th>29</th>\n",
       "      <td>Location</td>\n",
       "      <td>Scars &amp; Screws</td>\n",
       "      <td>spotify:track:3ADku3uSBCVbRF7fAl1J43</td>\n",
       "      <td>Shamoon Ismail</td>\n",
       "    </tr>\n",
       "    <tr>\n",
       "      <th>30</th>\n",
       "      <td>Lockdown Freestyle</td>\n",
       "      <td>Scars &amp; Screws</td>\n",
       "      <td>spotify:track:2jUOGqov3TsX7wNHTMoIaJ</td>\n",
       "      <td>Shamoon Ismail</td>\n",
       "    </tr>\n",
       "    <tr>\n",
       "      <th>31</th>\n",
       "      <td>Love Sick</td>\n",
       "      <td>No Name</td>\n",
       "      <td>spotify:track:1skGwRjc7wYY70PJCAkKMr</td>\n",
       "      <td>Sidhu Moose Wala,AR Paisley</td>\n",
       "    </tr>\n",
       "    <tr>\n",
       "      <th>32</th>\n",
       "      <td>Never Fold</td>\n",
       "      <td>No Name</td>\n",
       "      <td>spotify:track:3JkVYvxNoGf2HCWJo61462</td>\n",
       "      <td>Sidhu Moose Wala,Sunny Malton,SOE</td>\n",
       "    </tr>\n",
       "    <tr>\n",
       "      <th>33</th>\n",
       "      <td>Oh Henry</td>\n",
       "      <td>The Civil Wars</td>\n",
       "      <td>spotify:track:4oQxCtf4WyMSiEE0k9kTUr</td>\n",
       "      <td>The Civil Wars</td>\n",
       "    </tr>\n",
       "    <tr>\n",
       "      <th>34</th>\n",
       "      <td>Promises</td>\n",
       "      <td>Scars &amp; Screws</td>\n",
       "      <td>spotify:track:5Y3OxkwWPuFZc5rRoJE45A</td>\n",
       "      <td>Shamoon Ismail,Annural Khalid</td>\n",
       "    </tr>\n",
       "    <tr>\n",
       "      <th>35</th>\n",
       "      <td>Promises (Rovalio Mix)</td>\n",
       "      <td>Scars &amp; Screws</td>\n",
       "      <td>spotify:track:7EX4LadxtxQo6tboAkJWBU</td>\n",
       "      <td>Shamoon Ismail</td>\n",
       "    </tr>\n",
       "    <tr>\n",
       "      <th>36</th>\n",
       "      <td>Roz</td>\n",
       "      <td>Baaraat</td>\n",
       "      <td>spotify:track:1rDQJd8kzwBRXeoTtojkQn</td>\n",
       "      <td>Ritviz,Nucleya</td>\n",
       "    </tr>\n",
       "    <tr>\n",
       "      <th>37</th>\n",
       "      <td>Sacred Heart</td>\n",
       "      <td>The Civil Wars</td>\n",
       "      <td>spotify:track:2gE7DT6krgEjU6qItbLdXZ</td>\n",
       "      <td>The Civil Wars</td>\n",
       "    </tr>\n",
       "    <tr>\n",
       "      <th>38</th>\n",
       "      <td>Same Old Same Old</td>\n",
       "      <td>The Civil Wars</td>\n",
       "      <td>spotify:track:4fwiUXTml7O24fL34JxFI7</td>\n",
       "      <td>The Civil Wars</td>\n",
       "    </tr>\n",
       "    <tr>\n",
       "      <th>39</th>\n",
       "      <td>Sathi</td>\n",
       "      <td>Baaraat</td>\n",
       "      <td>spotify:track:3QCL4FJOSqLrFDJmcdNSbA</td>\n",
       "      <td>Ritviz,Nucleya</td>\n",
       "    </tr>\n",
       "    <tr>\n",
       "      <th>40</th>\n",
       "      <td>Scars &amp; Screws</td>\n",
       "      <td>Scars &amp; Screws</td>\n",
       "      <td>spotify:track:51sZc2sRnjxpTuzLnlkNbm</td>\n",
       "      <td>Shamoon Ismail</td>\n",
       "    </tr>\n",
       "    <tr>\n",
       "      <th>41</th>\n",
       "      <td>Tell Mama</td>\n",
       "      <td>The Civil Wars</td>\n",
       "      <td>spotify:track:56ZfDPbCCrJUyyxU2syt6c</td>\n",
       "      <td>The Civil Wars</td>\n",
       "    </tr>\n",
       "    <tr>\n",
       "      <th>42</th>\n",
       "      <td>The Last Time</td>\n",
       "      <td>The Way That Lovers Do</td>\n",
       "      <td>spotify:track:29YXX6TCgc7d5jz3BYF7Gc</td>\n",
       "      <td>Prateek Kuhad</td>\n",
       "    </tr>\n",
       "    <tr>\n",
       "      <th>43</th>\n",
       "      <td>The One That Got Away</td>\n",
       "      <td>The Civil Wars</td>\n",
       "      <td>spotify:track:3W2G2Bwt9UAM0sgUVhOC6E</td>\n",
       "      <td>The Civil Wars</td>\n",
       "    </tr>\n",
       "    <tr>\n",
       "      <th>44</th>\n",
       "      <td>airplane thoughts</td>\n",
       "      <td>rapunzel</td>\n",
       "      <td>spotify:track:4t5joZkdlXlvzLXJbkgppJ</td>\n",
       "      <td>dhruv</td>\n",
       "    </tr>\n",
       "    <tr>\n",
       "      <th>45</th>\n",
       "      <td>double take</td>\n",
       "      <td>rapunzel</td>\n",
       "      <td>spotify:track:0QzuaeCEEOV40Pn7IvKEny</td>\n",
       "      <td>dhruv</td>\n",
       "    </tr>\n",
       "    <tr>\n",
       "      <th>46</th>\n",
       "      <td>grateful</td>\n",
       "      <td>rapunzel</td>\n",
       "      <td>spotify:track:7mMzlK2pYVbgkUL1zaGGyV</td>\n",
       "      <td>dhruv</td>\n",
       "    </tr>\n",
       "    <tr>\n",
       "      <th>47</th>\n",
       "      <td>moonlight</td>\n",
       "      <td>rapunzel</td>\n",
       "      <td>spotify:track:2Qn6WHJrY5Im82Jux8FboH</td>\n",
       "      <td>dhruv</td>\n",
       "    </tr>\n",
       "    <tr>\n",
       "      <th>48</th>\n",
       "      <td>retrograde</td>\n",
       "      <td>rapunzel</td>\n",
       "      <td>spotify:track:4w0rTd0QIbsvVykYij8M7L</td>\n",
       "      <td>dhruv</td>\n",
       "    </tr>\n",
       "    <tr>\n",
       "      <th>49</th>\n",
       "      <td>stable life</td>\n",
       "      <td>rapunzel</td>\n",
       "      <td>spotify:track:1KWbsqgeBi2WfqZ8Of494c</td>\n",
       "      <td>dhruv</td>\n",
       "    </tr>\n",
       "    <tr>\n",
       "      <th>50</th>\n",
       "      <td>vulnerable</td>\n",
       "      <td>rapunzel</td>\n",
       "      <td>spotify:track:4MiZmaNIbvO7yY8UltCATD</td>\n",
       "      <td>dhruv</td>\n",
       "    </tr>\n",
       "    <tr>\n",
       "      <th>51</th>\n",
       "      <td>what's wrong with me?</td>\n",
       "      <td>rapunzel</td>\n",
       "      <td>spotify:track:6sWkR0Y0NsJN4Ov3vKAPIa</td>\n",
       "      <td>dhruv</td>\n",
       "    </tr>\n",
       "  </tbody>\n",
       "</table>\n",
       "</div>"
      ],
      "text/plain": [
       "                              name                   album  \\\n",
       "0                         0 to 100                 No Name   \n",
       "1                           051021          Scars & Screws   \n",
       "2                       All I Need  The Way That Lovers Do   \n",
       "3                   All Night Long          Scars & Screws   \n",
       "4                          Ari Ari                 Baaraat   \n",
       "5                          Baaraat                 Baaraat   \n",
       "6   Bloodlust (feat. Mr. Capone-E)                 No Name   \n",
       "7                            Bloom  The Way That Lovers Do   \n",
       "8                Chaunde Ne Pharna          Scars & Screws   \n",
       "9                              Co2  The Way That Lovers Do   \n",
       "10                         Cocaine          Scars & Screws   \n",
       "11                        D'Arline          The Civil Wars   \n",
       "12                Devil's Backbone          The Civil Wars   \n",
       "13                          Disarm          The Civil Wars   \n",
       "14                           Drown  The Way That Lovers Do   \n",
       "15                    Dust to Dust          The Civil Wars   \n",
       "16                       Eavesdrop          The Civil Wars   \n",
       "17                 Everybody Hurts                 No Name   \n",
       "18                          Faasla          Scars & Screws   \n",
       "19                            Face  The Way That Lovers Do   \n",
       "20                  Favorite Peeps  The Way That Lovers Do   \n",
       "21                From This Valley          The Civil Wars   \n",
       "22                 Full Time Lover  The Way That Lovers Do   \n",
       "23                     Heartbroken  The Way That Lovers Do   \n",
       "24                          Hollow  The Way That Lovers Do   \n",
       "25                 I Had Me a Girl          The Civil Wars   \n",
       "26                 Into The Sunset          Scars & Screws   \n",
       "27                     Just A Word  The Way That Lovers Do   \n",
       "28                        Load Out          Scars & Screws   \n",
       "29                        Location          Scars & Screws   \n",
       "30              Lockdown Freestyle          Scars & Screws   \n",
       "31                       Love Sick                 No Name   \n",
       "32                      Never Fold                 No Name   \n",
       "33                        Oh Henry          The Civil Wars   \n",
       "34                        Promises          Scars & Screws   \n",
       "35          Promises (Rovalio Mix)          Scars & Screws   \n",
       "36                             Roz                 Baaraat   \n",
       "37                    Sacred Heart          The Civil Wars   \n",
       "38               Same Old Same Old          The Civil Wars   \n",
       "39                           Sathi                 Baaraat   \n",
       "40                  Scars & Screws          Scars & Screws   \n",
       "41                       Tell Mama          The Civil Wars   \n",
       "42                   The Last Time  The Way That Lovers Do   \n",
       "43           The One That Got Away          The Civil Wars   \n",
       "44               airplane thoughts                rapunzel   \n",
       "45                     double take                rapunzel   \n",
       "46                        grateful                rapunzel   \n",
       "47                       moonlight                rapunzel   \n",
       "48                      retrograde                rapunzel   \n",
       "49                     stable life                rapunzel   \n",
       "50                      vulnerable                rapunzel   \n",
       "51           what's wrong with me?                rapunzel   \n",
       "\n",
       "                                     uri                             artist  \n",
       "0   spotify:track:7cVe3mYMIfhOlz1NXFWv70                   Sidhu Moose Wala  \n",
       "1   spotify:track:6D0RJju2TSMtZM1jsRc58S         Shamoon Ismail,Talha Anjum  \n",
       "2   spotify:track:47hXMyQDGW8sA1NGqmFL7h                      Prateek Kuhad  \n",
       "3   spotify:track:308ngBPHBQa8HW4n0PBUKh                     Shamoon Ismail  \n",
       "4   spotify:track:3edqjLVQrRPLvt9FAYUAsT                     Ritviz,Nucleya  \n",
       "5   spotify:track:0YLSjVxSb5FT1Bo8Tnxr8j                     Ritviz,Nucleya  \n",
       "6   spotify:track:1O00WM9qGLUBA5gq2yw0WF      Sidhu Moose Wala,Mr. Capone-E  \n",
       "7   spotify:track:39lOHITmszIVH9WF4Jpbum                      Prateek Kuhad  \n",
       "8   spotify:track:18sA3ZuFnaYvinSyc1EZ0M                     Shamoon Ismail  \n",
       "9   spotify:track:3hB9lDLyAClYVZivMMl20N                      Prateek Kuhad  \n",
       "10  spotify:track:5Mk3wOYG9Emd6SL5jVviZ7                     Shamoon Ismail  \n",
       "11  spotify:track:6UoygTjFvuC8pEGo2siNGM                     The Civil Wars  \n",
       "12  spotify:track:4qoD4IJbbir3hsAu4IowiG                     The Civil Wars  \n",
       "13  spotify:track:5F1Ml9CcAC4FnMAOEZDXYv                     The Civil Wars  \n",
       "14  spotify:track:1kJvdhrr9MHOZ1e1PhTXTG                      Prateek Kuhad  \n",
       "15  spotify:track:5P6ZBMWS66FVo6deJaDdHy                     The Civil Wars  \n",
       "16  spotify:track:4BafNHkkPaUocRMKi392MT                     The Civil Wars  \n",
       "17  spotify:track:1w3exvIgbRFV2ijf6qyWm8                   Sidhu Moose Wala  \n",
       "18  spotify:track:3TB0OtQMzrPoNcmXfUMVzC        Shamoon Ismail,Hasan Raheem  \n",
       "19  spotify:track:0HuS5vFQd06cXV54I0twkV                      Prateek Kuhad  \n",
       "20  spotify:track:0SHa9XHwYYB1UUmgbgHuhQ                      Prateek Kuhad  \n",
       "21  spotify:track:79jxIFiRzVvJVPYiaqBTqK                     The Civil Wars  \n",
       "22  spotify:track:6Td37HXpeCVelczrLcg73L                      Prateek Kuhad  \n",
       "23  spotify:track:7pgIbZ3tWdXLUAlofe3r2i                      Prateek Kuhad  \n",
       "24  spotify:track:1y7FoHfVtbZV6mONGJgU7j                      Prateek Kuhad  \n",
       "25  spotify:track:37zPDZLuL3dgmI4hb6Yix0                     The Civil Wars  \n",
       "26  spotify:track:7xJv0nURSYIPtgdwiNSqiy                     Shamoon Ismail  \n",
       "27  spotify:track:3XWRc74od1pT7MUkGiJmoW                      Prateek Kuhad  \n",
       "28  spotify:track:1Dq6xyMtnxEdmVOjzV9caq        Shamoon Ismail,Talhah Yunus  \n",
       "29  spotify:track:3ADku3uSBCVbRF7fAl1J43                     Shamoon Ismail  \n",
       "30  spotify:track:2jUOGqov3TsX7wNHTMoIaJ                     Shamoon Ismail  \n",
       "31  spotify:track:1skGwRjc7wYY70PJCAkKMr        Sidhu Moose Wala,AR Paisley  \n",
       "32  spotify:track:3JkVYvxNoGf2HCWJo61462  Sidhu Moose Wala,Sunny Malton,SOE  \n",
       "33  spotify:track:4oQxCtf4WyMSiEE0k9kTUr                     The Civil Wars  \n",
       "34  spotify:track:5Y3OxkwWPuFZc5rRoJE45A      Shamoon Ismail,Annural Khalid  \n",
       "35  spotify:track:7EX4LadxtxQo6tboAkJWBU                     Shamoon Ismail  \n",
       "36  spotify:track:1rDQJd8kzwBRXeoTtojkQn                     Ritviz,Nucleya  \n",
       "37  spotify:track:2gE7DT6krgEjU6qItbLdXZ                     The Civil Wars  \n",
       "38  spotify:track:4fwiUXTml7O24fL34JxFI7                     The Civil Wars  \n",
       "39  spotify:track:3QCL4FJOSqLrFDJmcdNSbA                     Ritviz,Nucleya  \n",
       "40  spotify:track:51sZc2sRnjxpTuzLnlkNbm                     Shamoon Ismail  \n",
       "41  spotify:track:56ZfDPbCCrJUyyxU2syt6c                     The Civil Wars  \n",
       "42  spotify:track:29YXX6TCgc7d5jz3BYF7Gc                      Prateek Kuhad  \n",
       "43  spotify:track:3W2G2Bwt9UAM0sgUVhOC6E                     The Civil Wars  \n",
       "44  spotify:track:4t5joZkdlXlvzLXJbkgppJ                              dhruv  \n",
       "45  spotify:track:0QzuaeCEEOV40Pn7IvKEny                              dhruv  \n",
       "46  spotify:track:7mMzlK2pYVbgkUL1zaGGyV                              dhruv  \n",
       "47  spotify:track:2Qn6WHJrY5Im82Jux8FboH                              dhruv  \n",
       "48  spotify:track:4w0rTd0QIbsvVykYij8M7L                              dhruv  \n",
       "49  spotify:track:1KWbsqgeBi2WfqZ8Of494c                              dhruv  \n",
       "50  spotify:track:4MiZmaNIbvO7yY8UltCATD                              dhruv  \n",
       "51  spotify:track:6sWkR0Y0NsJN4Ov3vKAPIa                              dhruv  "
      ]
     },
     "execution_count": 24,
     "metadata": {},
     "output_type": "execute_result"
    }
   ],
   "source": [
    "# Grouped Data\n",
    "tracksDF2 = TracksDF.groupby(['name', 'album', 'uri'])[\n",
    "    'artist'].apply(','.join).reset_index()\n",
    "tracksDF2\n"
   ]
  },
  {
   "cell_type": "markdown",
   "metadata": {},
   "source": [
    "Now we combine the 2 Dataframes fetched from the Playlist to create a DataFrame containing a Song's name, album name, Artists and its several features"
   ]
  },
  {
   "cell_type": "code",
   "execution_count": 17,
   "metadata": {},
   "outputs": [
    {
     "data": {
      "text/html": [
       "<div>\n",
       "<style scoped>\n",
       "    .dataframe tbody tr th:only-of-type {\n",
       "        vertical-align: middle;\n",
       "    }\n",
       "\n",
       "    .dataframe tbody tr th {\n",
       "        vertical-align: top;\n",
       "    }\n",
       "\n",
       "    .dataframe thead th {\n",
       "        text-align: right;\n",
       "    }\n",
       "</style>\n",
       "<table border=\"1\" class=\"dataframe\">\n",
       "  <thead>\n",
       "    <tr style=\"text-align: right;\">\n",
       "      <th></th>\n",
       "      <th>name</th>\n",
       "      <th>album</th>\n",
       "      <th>uri</th>\n",
       "      <th>artist</th>\n",
       "      <th>playlist_uri</th>\n",
       "      <th>duration_ms</th>\n",
       "      <th>key</th>\n",
       "      <th>mode</th>\n",
       "      <th>time_signature</th>\n",
       "      <th>acousticness</th>\n",
       "      <th>danceability</th>\n",
       "      <th>energy</th>\n",
       "      <th>instrumentalness</th>\n",
       "      <th>liveness</th>\n",
       "      <th>loudness</th>\n",
       "      <th>speechiness</th>\n",
       "      <th>valence</th>\n",
       "      <th>tempo</th>\n",
       "    </tr>\n",
       "  </thead>\n",
       "  <tbody>\n",
       "    <tr>\n",
       "      <th>0</th>\n",
       "      <td>0 to 100</td>\n",
       "      <td>No Name</td>\n",
       "      <td>spotify:track:7cVe3mYMIfhOlz1NXFWv70</td>\n",
       "      <td>Sidhu Moose Wala</td>\n",
       "      <td>spotify:playlist:7gKVccRxsOD0gKdUv63HoB</td>\n",
       "      <td>108493</td>\n",
       "      <td>8</td>\n",
       "      <td>1</td>\n",
       "      <td>4</td>\n",
       "      <td>0.1390</td>\n",
       "      <td>0.742</td>\n",
       "      <td>0.675</td>\n",
       "      <td>0.000000</td>\n",
       "      <td>0.1670</td>\n",
       "      <td>-6.551</td>\n",
       "      <td>0.0907</td>\n",
       "      <td>0.679</td>\n",
       "      <td>145.989</td>\n",
       "    </tr>\n",
       "    <tr>\n",
       "      <th>1</th>\n",
       "      <td>051021</td>\n",
       "      <td>Scars &amp; Screws</td>\n",
       "      <td>spotify:track:6D0RJju2TSMtZM1jsRc58S</td>\n",
       "      <td>Shamoon Ismail,Talha Anjum</td>\n",
       "      <td>spotify:playlist:7gKVccRxsOD0gKdUv63HoB</td>\n",
       "      <td>211544</td>\n",
       "      <td>2</td>\n",
       "      <td>1</td>\n",
       "      <td>4</td>\n",
       "      <td>0.0641</td>\n",
       "      <td>0.679</td>\n",
       "      <td>0.661</td>\n",
       "      <td>0.003270</td>\n",
       "      <td>0.0976</td>\n",
       "      <td>-8.928</td>\n",
       "      <td>0.1240</td>\n",
       "      <td>0.388</td>\n",
       "      <td>169.979</td>\n",
       "    </tr>\n",
       "    <tr>\n",
       "      <th>2</th>\n",
       "      <td>All I Need</td>\n",
       "      <td>The Way That Lovers Do</td>\n",
       "      <td>spotify:track:47hXMyQDGW8sA1NGqmFL7h</td>\n",
       "      <td>Prateek Kuhad</td>\n",
       "      <td>spotify:playlist:7gKVccRxsOD0gKdUv63HoB</td>\n",
       "      <td>153693</td>\n",
       "      <td>6</td>\n",
       "      <td>1</td>\n",
       "      <td>4</td>\n",
       "      <td>0.7710</td>\n",
       "      <td>0.786</td>\n",
       "      <td>0.356</td>\n",
       "      <td>0.694000</td>\n",
       "      <td>0.1000</td>\n",
       "      <td>-11.432</td>\n",
       "      <td>0.0462</td>\n",
       "      <td>0.519</td>\n",
       "      <td>116.023</td>\n",
       "    </tr>\n",
       "    <tr>\n",
       "      <th>3</th>\n",
       "      <td>All Night Long</td>\n",
       "      <td>Scars &amp; Screws</td>\n",
       "      <td>spotify:track:308ngBPHBQa8HW4n0PBUKh</td>\n",
       "      <td>Shamoon Ismail</td>\n",
       "      <td>spotify:playlist:7gKVccRxsOD0gKdUv63HoB</td>\n",
       "      <td>190358</td>\n",
       "      <td>7</td>\n",
       "      <td>1</td>\n",
       "      <td>4</td>\n",
       "      <td>0.0554</td>\n",
       "      <td>0.756</td>\n",
       "      <td>0.436</td>\n",
       "      <td>0.031100</td>\n",
       "      <td>0.3090</td>\n",
       "      <td>-7.262</td>\n",
       "      <td>0.0457</td>\n",
       "      <td>0.228</td>\n",
       "      <td>101.933</td>\n",
       "    </tr>\n",
       "    <tr>\n",
       "      <th>4</th>\n",
       "      <td>Ari Ari</td>\n",
       "      <td>Baaraat</td>\n",
       "      <td>spotify:track:3edqjLVQrRPLvt9FAYUAsT</td>\n",
       "      <td>Ritviz,Nucleya</td>\n",
       "      <td>spotify:playlist:7gKVccRxsOD0gKdUv63HoB</td>\n",
       "      <td>167472</td>\n",
       "      <td>0</td>\n",
       "      <td>1</td>\n",
       "      <td>4</td>\n",
       "      <td>0.0052</td>\n",
       "      <td>0.721</td>\n",
       "      <td>0.676</td>\n",
       "      <td>0.000003</td>\n",
       "      <td>0.2050</td>\n",
       "      <td>-6.534</td>\n",
       "      <td>0.0450</td>\n",
       "      <td>0.394</td>\n",
       "      <td>140.080</td>\n",
       "    </tr>\n",
       "  </tbody>\n",
       "</table>\n",
       "</div>"
      ],
      "text/plain": [
       "             name                   album  \\\n",
       "0        0 to 100                 No Name   \n",
       "1          051021          Scars & Screws   \n",
       "2      All I Need  The Way That Lovers Do   \n",
       "3  All Night Long          Scars & Screws   \n",
       "4         Ari Ari                 Baaraat   \n",
       "\n",
       "                                    uri                      artist  \\\n",
       "0  spotify:track:7cVe3mYMIfhOlz1NXFWv70            Sidhu Moose Wala   \n",
       "1  spotify:track:6D0RJju2TSMtZM1jsRc58S  Shamoon Ismail,Talha Anjum   \n",
       "2  spotify:track:47hXMyQDGW8sA1NGqmFL7h               Prateek Kuhad   \n",
       "3  spotify:track:308ngBPHBQa8HW4n0PBUKh              Shamoon Ismail   \n",
       "4  spotify:track:3edqjLVQrRPLvt9FAYUAsT              Ritviz,Nucleya   \n",
       "\n",
       "                              playlist_uri  duration_ms  key  mode  \\\n",
       "0  spotify:playlist:7gKVccRxsOD0gKdUv63HoB       108493    8     1   \n",
       "1  spotify:playlist:7gKVccRxsOD0gKdUv63HoB       211544    2     1   \n",
       "2  spotify:playlist:7gKVccRxsOD0gKdUv63HoB       153693    6     1   \n",
       "3  spotify:playlist:7gKVccRxsOD0gKdUv63HoB       190358    7     1   \n",
       "4  spotify:playlist:7gKVccRxsOD0gKdUv63HoB       167472    0     1   \n",
       "\n",
       "   time_signature  acousticness  danceability  energy  instrumentalness  \\\n",
       "0               4        0.1390         0.742   0.675          0.000000   \n",
       "1               4        0.0641         0.679   0.661          0.003270   \n",
       "2               4        0.7710         0.786   0.356          0.694000   \n",
       "3               4        0.0554         0.756   0.436          0.031100   \n",
       "4               4        0.0052         0.721   0.676          0.000003   \n",
       "\n",
       "   liveness  loudness  speechiness  valence    tempo  \n",
       "0    0.1670    -6.551       0.0907    0.679  145.989  \n",
       "1    0.0976    -8.928       0.1240    0.388  169.979  \n",
       "2    0.1000   -11.432       0.0462    0.519  116.023  \n",
       "3    0.3090    -7.262       0.0457    0.228  101.933  \n",
       "4    0.2050    -6.534       0.0450    0.394  140.080  "
      ]
     },
     "execution_count": 17,
     "metadata": {},
     "output_type": "execute_result"
    }
   ],
   "source": [
    "DF1 = pd.merge(tracksDF2, FeatureDF, on=\"uri\")\n",
    "DF1.head()"
   ]
  },
  {
   "cell_type": "markdown",
   "metadata": {},
   "source": [
    "The summaryDF groups the data on the basis of album name and takes the average of the features of all the songs in that album"
   ]
  },
  {
   "cell_type": "code",
   "execution_count": 18,
   "metadata": {},
   "outputs": [
    {
     "name": "stderr",
     "output_type": "stream",
     "text": [
      "C:\\Users\\prrra\\AppData\\Local\\Temp\\ipykernel_17252\\3398390596.py:1: FutureWarning:\n",
      "\n",
      "The default value of numeric_only in DataFrameGroupBy.mean is deprecated. In a future version, numeric_only will default to False. Either specify numeric_only or select only columns which should be valid for the function.\n",
      "\n"
     ]
    },
    {
     "data": {
      "text/html": [
       "<div>\n",
       "<style scoped>\n",
       "    .dataframe tbody tr th:only-of-type {\n",
       "        vertical-align: middle;\n",
       "    }\n",
       "\n",
       "    .dataframe tbody tr th {\n",
       "        vertical-align: top;\n",
       "    }\n",
       "\n",
       "    .dataframe thead th {\n",
       "        text-align: right;\n",
       "    }\n",
       "</style>\n",
       "<table border=\"1\" class=\"dataframe\">\n",
       "  <thead>\n",
       "    <tr style=\"text-align: right;\">\n",
       "      <th></th>\n",
       "      <th>album</th>\n",
       "      <th>duration_ms</th>\n",
       "      <th>key</th>\n",
       "      <th>mode</th>\n",
       "      <th>time_signature</th>\n",
       "      <th>acousticness</th>\n",
       "      <th>danceability</th>\n",
       "      <th>energy</th>\n",
       "      <th>instrumentalness</th>\n",
       "      <th>liveness</th>\n",
       "      <th>loudness</th>\n",
       "      <th>speechiness</th>\n",
       "      <th>valence</th>\n",
       "      <th>tempo</th>\n",
       "    </tr>\n",
       "  </thead>\n",
       "  <tbody>\n",
       "    <tr>\n",
       "      <th>0</th>\n",
       "      <td>Baaraat</td>\n",
       "      <td>206257.000000</td>\n",
       "      <td>3.750000</td>\n",
       "      <td>0.500000</td>\n",
       "      <td>4.000000</td>\n",
       "      <td>0.169650</td>\n",
       "      <td>0.704250</td>\n",
       "      <td>0.597250</td>\n",
       "      <td>6.450000e-07</td>\n",
       "      <td>0.219900</td>\n",
       "      <td>-7.001750</td>\n",
       "      <td>0.069000</td>\n",
       "      <td>0.528500</td>\n",
       "      <td>126.792000</td>\n",
       "    </tr>\n",
       "    <tr>\n",
       "      <th>1</th>\n",
       "      <td>No Name</td>\n",
       "      <td>171279.200000</td>\n",
       "      <td>7.400000</td>\n",
       "      <td>0.600000</td>\n",
       "      <td>4.200000</td>\n",
       "      <td>0.156220</td>\n",
       "      <td>0.734000</td>\n",
       "      <td>0.654000</td>\n",
       "      <td>0.000000e+00</td>\n",
       "      <td>0.130060</td>\n",
       "      <td>-7.104400</td>\n",
       "      <td>0.180800</td>\n",
       "      <td>0.589400</td>\n",
       "      <td>131.594600</td>\n",
       "    </tr>\n",
       "    <tr>\n",
       "      <th>2</th>\n",
       "      <td>Scars &amp; Screws</td>\n",
       "      <td>191376.916667</td>\n",
       "      <td>4.833333</td>\n",
       "      <td>0.583333</td>\n",
       "      <td>4.000000</td>\n",
       "      <td>0.166125</td>\n",
       "      <td>0.660167</td>\n",
       "      <td>0.434833</td>\n",
       "      <td>2.684601e-02</td>\n",
       "      <td>0.155367</td>\n",
       "      <td>-10.763917</td>\n",
       "      <td>0.151433</td>\n",
       "      <td>0.311500</td>\n",
       "      <td>115.787083</td>\n",
       "    </tr>\n",
       "    <tr>\n",
       "      <th>3</th>\n",
       "      <td>The Civil Wars</td>\n",
       "      <td>215217.750000</td>\n",
       "      <td>4.833333</td>\n",
       "      <td>0.666667</td>\n",
       "      <td>3.833333</td>\n",
       "      <td>0.740250</td>\n",
       "      <td>0.412083</td>\n",
       "      <td>0.319567</td>\n",
       "      <td>1.440484e-03</td>\n",
       "      <td>0.118400</td>\n",
       "      <td>-9.798500</td>\n",
       "      <td>0.033950</td>\n",
       "      <td>0.290917</td>\n",
       "      <td>131.534417</td>\n",
       "    </tr>\n",
       "    <tr>\n",
       "      <th>4</th>\n",
       "      <td>The Way That Lovers Do</td>\n",
       "      <td>179061.636364</td>\n",
       "      <td>5.272727</td>\n",
       "      <td>0.909091</td>\n",
       "      <td>4.000000</td>\n",
       "      <td>0.772091</td>\n",
       "      <td>0.543455</td>\n",
       "      <td>0.458818</td>\n",
       "      <td>1.653695e-01</td>\n",
       "      <td>0.120173</td>\n",
       "      <td>-10.351545</td>\n",
       "      <td>0.074764</td>\n",
       "      <td>0.341218</td>\n",
       "      <td>109.082909</td>\n",
       "    </tr>\n",
       "    <tr>\n",
       "      <th>5</th>\n",
       "      <td>rapunzel</td>\n",
       "      <td>197277.125000</td>\n",
       "      <td>5.875000</td>\n",
       "      <td>0.375000</td>\n",
       "      <td>4.000000</td>\n",
       "      <td>0.656625</td>\n",
       "      <td>0.595875</td>\n",
       "      <td>0.441250</td>\n",
       "      <td>4.528588e-03</td>\n",
       "      <td>0.210000</td>\n",
       "      <td>-10.232625</td>\n",
       "      <td>0.071925</td>\n",
       "      <td>0.321750</td>\n",
       "      <td>101.885875</td>\n",
       "    </tr>\n",
       "  </tbody>\n",
       "</table>\n",
       "</div>"
      ],
      "text/plain": [
       "                    album    duration_ms       key      mode  time_signature  \\\n",
       "0                 Baaraat  206257.000000  3.750000  0.500000        4.000000   \n",
       "1                 No Name  171279.200000  7.400000  0.600000        4.200000   \n",
       "2          Scars & Screws  191376.916667  4.833333  0.583333        4.000000   \n",
       "3          The Civil Wars  215217.750000  4.833333  0.666667        3.833333   \n",
       "4  The Way That Lovers Do  179061.636364  5.272727  0.909091        4.000000   \n",
       "5                rapunzel  197277.125000  5.875000  0.375000        4.000000   \n",
       "\n",
       "   acousticness  danceability    energy  instrumentalness  liveness  \\\n",
       "0      0.169650      0.704250  0.597250      6.450000e-07  0.219900   \n",
       "1      0.156220      0.734000  0.654000      0.000000e+00  0.130060   \n",
       "2      0.166125      0.660167  0.434833      2.684601e-02  0.155367   \n",
       "3      0.740250      0.412083  0.319567      1.440484e-03  0.118400   \n",
       "4      0.772091      0.543455  0.458818      1.653695e-01  0.120173   \n",
       "5      0.656625      0.595875  0.441250      4.528588e-03  0.210000   \n",
       "\n",
       "    loudness  speechiness   valence       tempo  \n",
       "0  -7.001750     0.069000  0.528500  126.792000  \n",
       "1  -7.104400     0.180800  0.589400  131.594600  \n",
       "2 -10.763917     0.151433  0.311500  115.787083  \n",
       "3  -9.798500     0.033950  0.290917  131.534417  \n",
       "4 -10.351545     0.074764  0.341218  109.082909  \n",
       "5 -10.232625     0.071925  0.321750  101.885875  "
      ]
     },
     "execution_count": 18,
     "metadata": {},
     "output_type": "execute_result"
    }
   ],
   "source": [
    "summaryDF = DF1.groupby(\"album\").mean().reset_index()\n",
    "summaryDF\n"
   ]
  },
  {
   "cell_type": "markdown",
   "metadata": {},
   "source": [
    "The Plot below shows a pictorial linechart representation of each album can be viewed below"
   ]
  },
  {
   "cell_type": "code",
   "execution_count": 19,
   "metadata": {},
   "outputs": [
    {
     "data": {
      "application/vnd.plotly.v1+json": {
       "config": {
        "plotlyServerURL": "https://plot.ly"
       },
       "data": [
        {
         "mode": "lines+markers",
         "name": "Avg. Danceability",
         "type": "scatter",
         "x": [
          "Baaraat",
          "No Name",
          "Scars & Screws",
          "The Civil Wars",
          "The Way That Lovers Do",
          "rapunzel"
         ],
         "y": [
          0.742,
          0.679,
          0.786,
          0.756,
          0.721,
          0.678,
          0.552,
          0.606,
          0.661,
          0.533,
          0.659,
          0.43,
          0.254,
          0.364,
          0.358,
          0.747,
          0.512,
          0.738,
          0.739,
          0.481,
          0.611,
          0.317,
          0.541,
          0.661,
          0.348,
          0.338,
          0.534,
          0.36,
          0.784,
          0.831,
          0.601,
          0.824,
          0.814,
          0.435,
          0.666,
          0.432,
          0.833,
          0.338,
          0.401,
          0.585,
          0.58,
          0.37,
          0.693,
          0.439,
          0.677,
          0.656,
          0.507,
          0.735,
          0.49,
          0.502,
          0.696,
          0.504
         ]
        },
        {
         "mode": "lines+markers",
         "name": "Avg. Energy",
         "type": "scatter",
         "x": [
          "Baaraat",
          "No Name",
          "Scars & Screws",
          "The Civil Wars",
          "The Way That Lovers Do",
          "rapunzel"
         ],
         "y": [
          0.675,
          0.661,
          0.356,
          0.436,
          0.676,
          0.449,
          0.667,
          0.488,
          0.415,
          0.678,
          0.277,
          0.199,
          0.349,
          0.172,
          0.58,
          0.265,
          0.381,
          0.599,
          0.39,
          0.669,
          0.525,
          0.451,
          0.254,
          0.481,
          0.31,
          0.56,
          0.458,
          0.247,
          0.39,
          0.364,
          0.459,
          0.543,
          0.786,
          0.588,
          0.35,
          0.429,
          0.639,
          0.0948,
          0.161,
          0.625,
          0.589,
          0.301,
          0.459,
          0.313,
          0.454,
          0.436,
          0.516,
          0.501,
          0.229,
          0.446,
          0.543,
          0.405
         ]
        },
        {
         "mode": "lines+markers",
         "name": "Avg. Liveness",
         "type": "scatter",
         "x": [
          "Baaraat",
          "No Name",
          "Scars & Screws",
          "The Civil Wars",
          "The Way That Lovers Do",
          "rapunzel"
         ],
         "y": [
          0.167,
          0.0976,
          0.1,
          0.309,
          0.205,
          0.536,
          0.0777,
          0.184,
          0.31,
          0.145,
          0.128,
          0.145,
          0.234,
          0.0916,
          0.127,
          0.11,
          0.109,
          0.13,
          0.0732,
          0.139,
          0.112,
          0.0898,
          0.101,
          0.0789,
          0.111,
          0.108,
          0.095,
          0.104,
          0.139,
          0.0736,
          0.144,
          0.178,
          0.0976,
          0.156,
          0.238,
          0.136,
          0.101,
          0.1,
          0.118,
          0.0376,
          0.121,
          0.113,
          0.12,
          0.0464,
          0.274,
          0.221,
          0.128,
          0.104,
          0.126,
          0.331,
          0.394,
          0.102
         ]
        },
        {
         "mode": "lines+markers",
         "name": "Avg. Valence",
         "type": "scatter",
         "x": [
          "Baaraat",
          "No Name",
          "Scars & Screws",
          "The Civil Wars",
          "The Way That Lovers Do",
          "rapunzel"
         ],
         "y": [
          0.679,
          0.388,
          0.519,
          0.228,
          0.394,
          0.606,
          0.348,
          0.468,
          0.286,
          0.683,
          0.24,
          0.477,
          0.303,
          0.105,
          0.352,
          0.2,
          0.114,
          0.575,
          0.285,
          0.351,
          0.299,
          0.459,
          0.251,
          0.154,
          0.0474,
          0.576,
          0.275,
          0.279,
          0.316,
          0.649,
          0.231,
          0.548,
          0.797,
          0.516,
          0.272,
          0.205,
          0.448,
          0.237,
          0.112,
          0.666,
          0.363,
          0.149,
          0.35,
          0.243,
          0.273,
          0.196,
          0.486,
          0.551,
          0.281,
          0.311,
          0.3,
          0.176
         ]
        },
        {
         "mode": "lines+markers",
         "name": "Avg. Acousticness",
         "type": "scatter",
         "x": [
          "Baaraat",
          "No Name",
          "Scars & Screws",
          "The Civil Wars",
          "The Way That Lovers Do",
          "rapunzel"
         ],
         "y": [
          0.139,
          0.0641,
          0.771,
          0.0554,
          0.0052,
          0.477,
          0.0381,
          0.597,
          0.0202,
          0.663,
          0.443,
          0.906,
          0.85,
          0.92,
          0.768,
          0.745,
          0.784,
          0.434,
          0.0475,
          0.92,
          0.767,
          0.537,
          0.929,
          0.662,
          0.845,
          0.204,
          0.299,
          0.838,
          0.286,
          0.0268,
          0.195,
          0.101,
          0.069,
          0.735,
          0.204,
          0.0095,
          0.152,
          0.884,
          0.781,
          0.0444,
          0.343,
          0.845,
          0.733,
          0.692,
          0.83,
          0.845,
          0.457,
          0.627,
          0.804,
          0.466,
          0.438,
          0.786
         ]
        },
        {
         "mode": "lines+markers",
         "name": "Avg. Speechiness",
         "type": "scatter",
         "x": [
          "Baaraat",
          "No Name",
          "Scars & Screws",
          "The Civil Wars",
          "The Way That Lovers Do",
          "rapunzel"
         ],
         "y": [
          0.0907,
          0.124,
          0.0462,
          0.0457,
          0.045,
          0.0869,
          0.333,
          0.0255,
          0.183,
          0.0256,
          0.119,
          0.0348,
          0.0379,
          0.0335,
          0.045,
          0.0354,
          0.0258,
          0.0393,
          0.0918,
          0.455,
          0.0354,
          0.0347,
          0.0387,
          0.0294,
          0.0413,
          0.0298,
          0.233,
          0.0396,
          0.0615,
          0.124,
          0.44,
          0.209,
          0.232,
          0.0336,
          0.0389,
          0.0293,
          0.0676,
          0.0434,
          0.0372,
          0.0765,
          0.327,
          0.0322,
          0.0407,
          0.0291,
          0.0673,
          0.0744,
          0.106,
          0.167,
          0.0273,
          0.0365,
          0.0454,
          0.0515
         ]
        }
       ],
       "layout": {
        "template": {
         "data": {
          "bar": [
           {
            "error_x": {
             "color": "#2a3f5f"
            },
            "error_y": {
             "color": "#2a3f5f"
            },
            "marker": {
             "line": {
              "color": "#E5ECF6",
              "width": 0.5
             },
             "pattern": {
              "fillmode": "overlay",
              "size": 10,
              "solidity": 0.2
             }
            },
            "type": "bar"
           }
          ],
          "barpolar": [
           {
            "marker": {
             "line": {
              "color": "#E5ECF6",
              "width": 0.5
             },
             "pattern": {
              "fillmode": "overlay",
              "size": 10,
              "solidity": 0.2
             }
            },
            "type": "barpolar"
           }
          ],
          "carpet": [
           {
            "aaxis": {
             "endlinecolor": "#2a3f5f",
             "gridcolor": "white",
             "linecolor": "white",
             "minorgridcolor": "white",
             "startlinecolor": "#2a3f5f"
            },
            "baxis": {
             "endlinecolor": "#2a3f5f",
             "gridcolor": "white",
             "linecolor": "white",
             "minorgridcolor": "white",
             "startlinecolor": "#2a3f5f"
            },
            "type": "carpet"
           }
          ],
          "choropleth": [
           {
            "colorbar": {
             "outlinewidth": 0,
             "ticks": ""
            },
            "type": "choropleth"
           }
          ],
          "contour": [
           {
            "colorbar": {
             "outlinewidth": 0,
             "ticks": ""
            },
            "colorscale": [
             [
              0,
              "#0d0887"
             ],
             [
              0.1111111111111111,
              "#46039f"
             ],
             [
              0.2222222222222222,
              "#7201a8"
             ],
             [
              0.3333333333333333,
              "#9c179e"
             ],
             [
              0.4444444444444444,
              "#bd3786"
             ],
             [
              0.5555555555555556,
              "#d8576b"
             ],
             [
              0.6666666666666666,
              "#ed7953"
             ],
             [
              0.7777777777777778,
              "#fb9f3a"
             ],
             [
              0.8888888888888888,
              "#fdca26"
             ],
             [
              1,
              "#f0f921"
             ]
            ],
            "type": "contour"
           }
          ],
          "contourcarpet": [
           {
            "colorbar": {
             "outlinewidth": 0,
             "ticks": ""
            },
            "type": "contourcarpet"
           }
          ],
          "heatmap": [
           {
            "colorbar": {
             "outlinewidth": 0,
             "ticks": ""
            },
            "colorscale": [
             [
              0,
              "#0d0887"
             ],
             [
              0.1111111111111111,
              "#46039f"
             ],
             [
              0.2222222222222222,
              "#7201a8"
             ],
             [
              0.3333333333333333,
              "#9c179e"
             ],
             [
              0.4444444444444444,
              "#bd3786"
             ],
             [
              0.5555555555555556,
              "#d8576b"
             ],
             [
              0.6666666666666666,
              "#ed7953"
             ],
             [
              0.7777777777777778,
              "#fb9f3a"
             ],
             [
              0.8888888888888888,
              "#fdca26"
             ],
             [
              1,
              "#f0f921"
             ]
            ],
            "type": "heatmap"
           }
          ],
          "heatmapgl": [
           {
            "colorbar": {
             "outlinewidth": 0,
             "ticks": ""
            },
            "colorscale": [
             [
              0,
              "#0d0887"
             ],
             [
              0.1111111111111111,
              "#46039f"
             ],
             [
              0.2222222222222222,
              "#7201a8"
             ],
             [
              0.3333333333333333,
              "#9c179e"
             ],
             [
              0.4444444444444444,
              "#bd3786"
             ],
             [
              0.5555555555555556,
              "#d8576b"
             ],
             [
              0.6666666666666666,
              "#ed7953"
             ],
             [
              0.7777777777777778,
              "#fb9f3a"
             ],
             [
              0.8888888888888888,
              "#fdca26"
             ],
             [
              1,
              "#f0f921"
             ]
            ],
            "type": "heatmapgl"
           }
          ],
          "histogram": [
           {
            "marker": {
             "pattern": {
              "fillmode": "overlay",
              "size": 10,
              "solidity": 0.2
             }
            },
            "type": "histogram"
           }
          ],
          "histogram2d": [
           {
            "colorbar": {
             "outlinewidth": 0,
             "ticks": ""
            },
            "colorscale": [
             [
              0,
              "#0d0887"
             ],
             [
              0.1111111111111111,
              "#46039f"
             ],
             [
              0.2222222222222222,
              "#7201a8"
             ],
             [
              0.3333333333333333,
              "#9c179e"
             ],
             [
              0.4444444444444444,
              "#bd3786"
             ],
             [
              0.5555555555555556,
              "#d8576b"
             ],
             [
              0.6666666666666666,
              "#ed7953"
             ],
             [
              0.7777777777777778,
              "#fb9f3a"
             ],
             [
              0.8888888888888888,
              "#fdca26"
             ],
             [
              1,
              "#f0f921"
             ]
            ],
            "type": "histogram2d"
           }
          ],
          "histogram2dcontour": [
           {
            "colorbar": {
             "outlinewidth": 0,
             "ticks": ""
            },
            "colorscale": [
             [
              0,
              "#0d0887"
             ],
             [
              0.1111111111111111,
              "#46039f"
             ],
             [
              0.2222222222222222,
              "#7201a8"
             ],
             [
              0.3333333333333333,
              "#9c179e"
             ],
             [
              0.4444444444444444,
              "#bd3786"
             ],
             [
              0.5555555555555556,
              "#d8576b"
             ],
             [
              0.6666666666666666,
              "#ed7953"
             ],
             [
              0.7777777777777778,
              "#fb9f3a"
             ],
             [
              0.8888888888888888,
              "#fdca26"
             ],
             [
              1,
              "#f0f921"
             ]
            ],
            "type": "histogram2dcontour"
           }
          ],
          "mesh3d": [
           {
            "colorbar": {
             "outlinewidth": 0,
             "ticks": ""
            },
            "type": "mesh3d"
           }
          ],
          "parcoords": [
           {
            "line": {
             "colorbar": {
              "outlinewidth": 0,
              "ticks": ""
             }
            },
            "type": "parcoords"
           }
          ],
          "pie": [
           {
            "automargin": true,
            "type": "pie"
           }
          ],
          "scatter": [
           {
            "fillpattern": {
             "fillmode": "overlay",
             "size": 10,
             "solidity": 0.2
            },
            "type": "scatter"
           }
          ],
          "scatter3d": [
           {
            "line": {
             "colorbar": {
              "outlinewidth": 0,
              "ticks": ""
             }
            },
            "marker": {
             "colorbar": {
              "outlinewidth": 0,
              "ticks": ""
             }
            },
            "type": "scatter3d"
           }
          ],
          "scattercarpet": [
           {
            "marker": {
             "colorbar": {
              "outlinewidth": 0,
              "ticks": ""
             }
            },
            "type": "scattercarpet"
           }
          ],
          "scattergeo": [
           {
            "marker": {
             "colorbar": {
              "outlinewidth": 0,
              "ticks": ""
             }
            },
            "type": "scattergeo"
           }
          ],
          "scattergl": [
           {
            "marker": {
             "colorbar": {
              "outlinewidth": 0,
              "ticks": ""
             }
            },
            "type": "scattergl"
           }
          ],
          "scattermapbox": [
           {
            "marker": {
             "colorbar": {
              "outlinewidth": 0,
              "ticks": ""
             }
            },
            "type": "scattermapbox"
           }
          ],
          "scatterpolar": [
           {
            "marker": {
             "colorbar": {
              "outlinewidth": 0,
              "ticks": ""
             }
            },
            "type": "scatterpolar"
           }
          ],
          "scatterpolargl": [
           {
            "marker": {
             "colorbar": {
              "outlinewidth": 0,
              "ticks": ""
             }
            },
            "type": "scatterpolargl"
           }
          ],
          "scatterternary": [
           {
            "marker": {
             "colorbar": {
              "outlinewidth": 0,
              "ticks": ""
             }
            },
            "type": "scatterternary"
           }
          ],
          "surface": [
           {
            "colorbar": {
             "outlinewidth": 0,
             "ticks": ""
            },
            "colorscale": [
             [
              0,
              "#0d0887"
             ],
             [
              0.1111111111111111,
              "#46039f"
             ],
             [
              0.2222222222222222,
              "#7201a8"
             ],
             [
              0.3333333333333333,
              "#9c179e"
             ],
             [
              0.4444444444444444,
              "#bd3786"
             ],
             [
              0.5555555555555556,
              "#d8576b"
             ],
             [
              0.6666666666666666,
              "#ed7953"
             ],
             [
              0.7777777777777778,
              "#fb9f3a"
             ],
             [
              0.8888888888888888,
              "#fdca26"
             ],
             [
              1,
              "#f0f921"
             ]
            ],
            "type": "surface"
           }
          ],
          "table": [
           {
            "cells": {
             "fill": {
              "color": "#EBF0F8"
             },
             "line": {
              "color": "white"
             }
            },
            "header": {
             "fill": {
              "color": "#C8D4E3"
             },
             "line": {
              "color": "white"
             }
            },
            "type": "table"
           }
          ]
         },
         "layout": {
          "annotationdefaults": {
           "arrowcolor": "#2a3f5f",
           "arrowhead": 0,
           "arrowwidth": 1
          },
          "autotypenumbers": "strict",
          "coloraxis": {
           "colorbar": {
            "outlinewidth": 0,
            "ticks": ""
           }
          },
          "colorscale": {
           "diverging": [
            [
             0,
             "#8e0152"
            ],
            [
             0.1,
             "#c51b7d"
            ],
            [
             0.2,
             "#de77ae"
            ],
            [
             0.3,
             "#f1b6da"
            ],
            [
             0.4,
             "#fde0ef"
            ],
            [
             0.5,
             "#f7f7f7"
            ],
            [
             0.6,
             "#e6f5d0"
            ],
            [
             0.7,
             "#b8e186"
            ],
            [
             0.8,
             "#7fbc41"
            ],
            [
             0.9,
             "#4d9221"
            ],
            [
             1,
             "#276419"
            ]
           ],
           "sequential": [
            [
             0,
             "#0d0887"
            ],
            [
             0.1111111111111111,
             "#46039f"
            ],
            [
             0.2222222222222222,
             "#7201a8"
            ],
            [
             0.3333333333333333,
             "#9c179e"
            ],
            [
             0.4444444444444444,
             "#bd3786"
            ],
            [
             0.5555555555555556,
             "#d8576b"
            ],
            [
             0.6666666666666666,
             "#ed7953"
            ],
            [
             0.7777777777777778,
             "#fb9f3a"
            ],
            [
             0.8888888888888888,
             "#fdca26"
            ],
            [
             1,
             "#f0f921"
            ]
           ],
           "sequentialminus": [
            [
             0,
             "#0d0887"
            ],
            [
             0.1111111111111111,
             "#46039f"
            ],
            [
             0.2222222222222222,
             "#7201a8"
            ],
            [
             0.3333333333333333,
             "#9c179e"
            ],
            [
             0.4444444444444444,
             "#bd3786"
            ],
            [
             0.5555555555555556,
             "#d8576b"
            ],
            [
             0.6666666666666666,
             "#ed7953"
            ],
            [
             0.7777777777777778,
             "#fb9f3a"
            ],
            [
             0.8888888888888888,
             "#fdca26"
            ],
            [
             1,
             "#f0f921"
            ]
           ]
          },
          "colorway": [
           "#636efa",
           "#EF553B",
           "#00cc96",
           "#ab63fa",
           "#FFA15A",
           "#19d3f3",
           "#FF6692",
           "#B6E880",
           "#FF97FF",
           "#FECB52"
          ],
          "font": {
           "color": "#2a3f5f"
          },
          "geo": {
           "bgcolor": "white",
           "lakecolor": "white",
           "landcolor": "#E5ECF6",
           "showlakes": true,
           "showland": true,
           "subunitcolor": "white"
          },
          "hoverlabel": {
           "align": "left"
          },
          "hovermode": "closest",
          "mapbox": {
           "style": "light"
          },
          "paper_bgcolor": "white",
          "plot_bgcolor": "#E5ECF6",
          "polar": {
           "angularaxis": {
            "gridcolor": "white",
            "linecolor": "white",
            "ticks": ""
           },
           "bgcolor": "#E5ECF6",
           "radialaxis": {
            "gridcolor": "white",
            "linecolor": "white",
            "ticks": ""
           }
          },
          "scene": {
           "xaxis": {
            "backgroundcolor": "#E5ECF6",
            "gridcolor": "white",
            "gridwidth": 2,
            "linecolor": "white",
            "showbackground": true,
            "ticks": "",
            "zerolinecolor": "white"
           },
           "yaxis": {
            "backgroundcolor": "#E5ECF6",
            "gridcolor": "white",
            "gridwidth": 2,
            "linecolor": "white",
            "showbackground": true,
            "ticks": "",
            "zerolinecolor": "white"
           },
           "zaxis": {
            "backgroundcolor": "#E5ECF6",
            "gridcolor": "white",
            "gridwidth": 2,
            "linecolor": "white",
            "showbackground": true,
            "ticks": "",
            "zerolinecolor": "white"
           }
          },
          "shapedefaults": {
           "line": {
            "color": "#2a3f5f"
           }
          },
          "ternary": {
           "aaxis": {
            "gridcolor": "white",
            "linecolor": "white",
            "ticks": ""
           },
           "baxis": {
            "gridcolor": "white",
            "linecolor": "white",
            "ticks": ""
           },
           "bgcolor": "#E5ECF6",
           "caxis": {
            "gridcolor": "white",
            "linecolor": "white",
            "ticks": ""
           }
          },
          "title": {
           "x": 0.05
          },
          "xaxis": {
           "automargin": true,
           "gridcolor": "white",
           "linecolor": "white",
           "ticks": "",
           "title": {
            "standoff": 15
           },
           "zerolinecolor": "white",
           "zerolinewidth": 2
          },
          "yaxis": {
           "automargin": true,
           "gridcolor": "white",
           "linecolor": "white",
           "ticks": "",
           "title": {
            "standoff": 15
           },
           "zerolinecolor": "white",
           "zerolinewidth": 2
          }
         }
        }
       }
      }
     },
     "metadata": {},
     "output_type": "display_data"
    }
   ],
   "source": [
    "album = summaryDF['album']\n",
    "fig = go.Figure()\n",
    "fig.add_trace(go.Scatter(x=album, y=DF1['danceability'],\n",
    "                         mode='lines+markers', name='Avg. Danceability',))\n",
    "fig.add_trace(go.Scatter(x=album, y=DF1['energy'],\n",
    "                         mode='lines+markers', name='Avg. Energy'))\n",
    "fig.add_trace(go.Scatter(x=album, y=DF1['liveness'],\n",
    "                         mode='lines+markers', name='Avg. Liveness'))\n",
    "fig.add_trace(go.Scatter(x=album, y=DF1['valence'],\n",
    "                         mode='lines+markers', name='Avg. Valence'))\n",
    "fig.add_trace(go.Scatter(x=album, y=DF1['acousticness'],\n",
    "                         mode='lines+markers', name='Avg. Acousticness'))\n",
    "fig.add_trace(go.Scatter(x=album, y=DF1['speechiness'],\n",
    "                         mode='lines+markers', name='Avg. Speechiness'))\n"
   ]
  },
  {
   "cell_type": "code",
   "execution_count": 20,
   "metadata": {},
   "outputs": [
    {
     "data": {
      "text/plain": [
       "0                   Baaraat\n",
       "1                   No Name\n",
       "2            Scars & Screws\n",
       "3            The Civil Wars\n",
       "4    The Way That Lovers Do\n",
       "5                  rapunzel\n",
       "Name: album, dtype: object"
      ]
     },
     "execution_count": 20,
     "metadata": {},
     "output_type": "execute_result"
    }
   ],
   "source": [
    "summaryDF['album']"
   ]
  },
  {
   "cell_type": "markdown",
   "metadata": {},
   "source": []
  },
  {
   "cell_type": "code",
   "execution_count": 22,
   "metadata": {},
   "outputs": [
    {
     "data": {
      "application/vnd.plotly.v1+json": {
       "config": {
        "plotlyServerURL": "https://plot.ly"
       },
       "data": [
        {
         "fill": "toself",
         "name": "Ari Ari",
         "r": [
          0.721,
          0.676,
          0.045,
          0.0052,
          0.205,
          0.394
         ],
         "theta": [
          "danceability",
          "energy",
          "speechiness",
          "acousticness",
          "liveness",
          "valence"
         ],
         "type": "scatterpolar"
        },
        {
         "fill": "toself",
         "name": "Baaraat",
         "r": [
          0.678,
          0.449,
          0.0869,
          0.477,
          0.536,
          0.606
         ],
         "theta": [
          "danceability",
          "energy",
          "speechiness",
          "acousticness",
          "liveness",
          "valence"
         ],
         "type": "scatterpolar"
        },
        {
         "fill": "toself",
         "name": "Roz",
         "r": [
          0.833,
          0.639,
          0.0676,
          0.152,
          0.101,
          0.448
         ],
         "theta": [
          "danceability",
          "energy",
          "speechiness",
          "acousticness",
          "liveness",
          "valence"
         ],
         "type": "scatterpolar"
        },
        {
         "fill": "toself",
         "name": "Sathi",
         "r": [
          0.585,
          0.625,
          0.0765,
          0.0444,
          0.0376,
          0.666
         ],
         "theta": [
          "danceability",
          "energy",
          "speechiness",
          "acousticness",
          "liveness",
          "valence"
         ],
         "type": "scatterpolar"
        }
       ],
       "layout": {
        "template": {
         "data": {
          "bar": [
           {
            "error_x": {
             "color": "#2a3f5f"
            },
            "error_y": {
             "color": "#2a3f5f"
            },
            "marker": {
             "line": {
              "color": "#E5ECF6",
              "width": 0.5
             },
             "pattern": {
              "fillmode": "overlay",
              "size": 10,
              "solidity": 0.2
             }
            },
            "type": "bar"
           }
          ],
          "barpolar": [
           {
            "marker": {
             "line": {
              "color": "#E5ECF6",
              "width": 0.5
             },
             "pattern": {
              "fillmode": "overlay",
              "size": 10,
              "solidity": 0.2
             }
            },
            "type": "barpolar"
           }
          ],
          "carpet": [
           {
            "aaxis": {
             "endlinecolor": "#2a3f5f",
             "gridcolor": "white",
             "linecolor": "white",
             "minorgridcolor": "white",
             "startlinecolor": "#2a3f5f"
            },
            "baxis": {
             "endlinecolor": "#2a3f5f",
             "gridcolor": "white",
             "linecolor": "white",
             "minorgridcolor": "white",
             "startlinecolor": "#2a3f5f"
            },
            "type": "carpet"
           }
          ],
          "choropleth": [
           {
            "colorbar": {
             "outlinewidth": 0,
             "ticks": ""
            },
            "type": "choropleth"
           }
          ],
          "contour": [
           {
            "colorbar": {
             "outlinewidth": 0,
             "ticks": ""
            },
            "colorscale": [
             [
              0,
              "#0d0887"
             ],
             [
              0.1111111111111111,
              "#46039f"
             ],
             [
              0.2222222222222222,
              "#7201a8"
             ],
             [
              0.3333333333333333,
              "#9c179e"
             ],
             [
              0.4444444444444444,
              "#bd3786"
             ],
             [
              0.5555555555555556,
              "#d8576b"
             ],
             [
              0.6666666666666666,
              "#ed7953"
             ],
             [
              0.7777777777777778,
              "#fb9f3a"
             ],
             [
              0.8888888888888888,
              "#fdca26"
             ],
             [
              1,
              "#f0f921"
             ]
            ],
            "type": "contour"
           }
          ],
          "contourcarpet": [
           {
            "colorbar": {
             "outlinewidth": 0,
             "ticks": ""
            },
            "type": "contourcarpet"
           }
          ],
          "heatmap": [
           {
            "colorbar": {
             "outlinewidth": 0,
             "ticks": ""
            },
            "colorscale": [
             [
              0,
              "#0d0887"
             ],
             [
              0.1111111111111111,
              "#46039f"
             ],
             [
              0.2222222222222222,
              "#7201a8"
             ],
             [
              0.3333333333333333,
              "#9c179e"
             ],
             [
              0.4444444444444444,
              "#bd3786"
             ],
             [
              0.5555555555555556,
              "#d8576b"
             ],
             [
              0.6666666666666666,
              "#ed7953"
             ],
             [
              0.7777777777777778,
              "#fb9f3a"
             ],
             [
              0.8888888888888888,
              "#fdca26"
             ],
             [
              1,
              "#f0f921"
             ]
            ],
            "type": "heatmap"
           }
          ],
          "heatmapgl": [
           {
            "colorbar": {
             "outlinewidth": 0,
             "ticks": ""
            },
            "colorscale": [
             [
              0,
              "#0d0887"
             ],
             [
              0.1111111111111111,
              "#46039f"
             ],
             [
              0.2222222222222222,
              "#7201a8"
             ],
             [
              0.3333333333333333,
              "#9c179e"
             ],
             [
              0.4444444444444444,
              "#bd3786"
             ],
             [
              0.5555555555555556,
              "#d8576b"
             ],
             [
              0.6666666666666666,
              "#ed7953"
             ],
             [
              0.7777777777777778,
              "#fb9f3a"
             ],
             [
              0.8888888888888888,
              "#fdca26"
             ],
             [
              1,
              "#f0f921"
             ]
            ],
            "type": "heatmapgl"
           }
          ],
          "histogram": [
           {
            "marker": {
             "pattern": {
              "fillmode": "overlay",
              "size": 10,
              "solidity": 0.2
             }
            },
            "type": "histogram"
           }
          ],
          "histogram2d": [
           {
            "colorbar": {
             "outlinewidth": 0,
             "ticks": ""
            },
            "colorscale": [
             [
              0,
              "#0d0887"
             ],
             [
              0.1111111111111111,
              "#46039f"
             ],
             [
              0.2222222222222222,
              "#7201a8"
             ],
             [
              0.3333333333333333,
              "#9c179e"
             ],
             [
              0.4444444444444444,
              "#bd3786"
             ],
             [
              0.5555555555555556,
              "#d8576b"
             ],
             [
              0.6666666666666666,
              "#ed7953"
             ],
             [
              0.7777777777777778,
              "#fb9f3a"
             ],
             [
              0.8888888888888888,
              "#fdca26"
             ],
             [
              1,
              "#f0f921"
             ]
            ],
            "type": "histogram2d"
           }
          ],
          "histogram2dcontour": [
           {
            "colorbar": {
             "outlinewidth": 0,
             "ticks": ""
            },
            "colorscale": [
             [
              0,
              "#0d0887"
             ],
             [
              0.1111111111111111,
              "#46039f"
             ],
             [
              0.2222222222222222,
              "#7201a8"
             ],
             [
              0.3333333333333333,
              "#9c179e"
             ],
             [
              0.4444444444444444,
              "#bd3786"
             ],
             [
              0.5555555555555556,
              "#d8576b"
             ],
             [
              0.6666666666666666,
              "#ed7953"
             ],
             [
              0.7777777777777778,
              "#fb9f3a"
             ],
             [
              0.8888888888888888,
              "#fdca26"
             ],
             [
              1,
              "#f0f921"
             ]
            ],
            "type": "histogram2dcontour"
           }
          ],
          "mesh3d": [
           {
            "colorbar": {
             "outlinewidth": 0,
             "ticks": ""
            },
            "type": "mesh3d"
           }
          ],
          "parcoords": [
           {
            "line": {
             "colorbar": {
              "outlinewidth": 0,
              "ticks": ""
             }
            },
            "type": "parcoords"
           }
          ],
          "pie": [
           {
            "automargin": true,
            "type": "pie"
           }
          ],
          "scatter": [
           {
            "fillpattern": {
             "fillmode": "overlay",
             "size": 10,
             "solidity": 0.2
            },
            "type": "scatter"
           }
          ],
          "scatter3d": [
           {
            "line": {
             "colorbar": {
              "outlinewidth": 0,
              "ticks": ""
             }
            },
            "marker": {
             "colorbar": {
              "outlinewidth": 0,
              "ticks": ""
             }
            },
            "type": "scatter3d"
           }
          ],
          "scattercarpet": [
           {
            "marker": {
             "colorbar": {
              "outlinewidth": 0,
              "ticks": ""
             }
            },
            "type": "scattercarpet"
           }
          ],
          "scattergeo": [
           {
            "marker": {
             "colorbar": {
              "outlinewidth": 0,
              "ticks": ""
             }
            },
            "type": "scattergeo"
           }
          ],
          "scattergl": [
           {
            "marker": {
             "colorbar": {
              "outlinewidth": 0,
              "ticks": ""
             }
            },
            "type": "scattergl"
           }
          ],
          "scattermapbox": [
           {
            "marker": {
             "colorbar": {
              "outlinewidth": 0,
              "ticks": ""
             }
            },
            "type": "scattermapbox"
           }
          ],
          "scatterpolar": [
           {
            "marker": {
             "colorbar": {
              "outlinewidth": 0,
              "ticks": ""
             }
            },
            "type": "scatterpolar"
           }
          ],
          "scatterpolargl": [
           {
            "marker": {
             "colorbar": {
              "outlinewidth": 0,
              "ticks": ""
             }
            },
            "type": "scatterpolargl"
           }
          ],
          "scatterternary": [
           {
            "marker": {
             "colorbar": {
              "outlinewidth": 0,
              "ticks": ""
             }
            },
            "type": "scatterternary"
           }
          ],
          "surface": [
           {
            "colorbar": {
             "outlinewidth": 0,
             "ticks": ""
            },
            "colorscale": [
             [
              0,
              "#0d0887"
             ],
             [
              0.1111111111111111,
              "#46039f"
             ],
             [
              0.2222222222222222,
              "#7201a8"
             ],
             [
              0.3333333333333333,
              "#9c179e"
             ],
             [
              0.4444444444444444,
              "#bd3786"
             ],
             [
              0.5555555555555556,
              "#d8576b"
             ],
             [
              0.6666666666666666,
              "#ed7953"
             ],
             [
              0.7777777777777778,
              "#fb9f3a"
             ],
             [
              0.8888888888888888,
              "#fdca26"
             ],
             [
              1,
              "#f0f921"
             ]
            ],
            "type": "surface"
           }
          ],
          "table": [
           {
            "cells": {
             "fill": {
              "color": "#EBF0F8"
             },
             "line": {
              "color": "white"
             }
            },
            "header": {
             "fill": {
              "color": "#C8D4E3"
             },
             "line": {
              "color": "white"
             }
            },
            "type": "table"
           }
          ]
         },
         "layout": {
          "annotationdefaults": {
           "arrowcolor": "#2a3f5f",
           "arrowhead": 0,
           "arrowwidth": 1
          },
          "autotypenumbers": "strict",
          "coloraxis": {
           "colorbar": {
            "outlinewidth": 0,
            "ticks": ""
           }
          },
          "colorscale": {
           "diverging": [
            [
             0,
             "#8e0152"
            ],
            [
             0.1,
             "#c51b7d"
            ],
            [
             0.2,
             "#de77ae"
            ],
            [
             0.3,
             "#f1b6da"
            ],
            [
             0.4,
             "#fde0ef"
            ],
            [
             0.5,
             "#f7f7f7"
            ],
            [
             0.6,
             "#e6f5d0"
            ],
            [
             0.7,
             "#b8e186"
            ],
            [
             0.8,
             "#7fbc41"
            ],
            [
             0.9,
             "#4d9221"
            ],
            [
             1,
             "#276419"
            ]
           ],
           "sequential": [
            [
             0,
             "#0d0887"
            ],
            [
             0.1111111111111111,
             "#46039f"
            ],
            [
             0.2222222222222222,
             "#7201a8"
            ],
            [
             0.3333333333333333,
             "#9c179e"
            ],
            [
             0.4444444444444444,
             "#bd3786"
            ],
            [
             0.5555555555555556,
             "#d8576b"
            ],
            [
             0.6666666666666666,
             "#ed7953"
            ],
            [
             0.7777777777777778,
             "#fb9f3a"
            ],
            [
             0.8888888888888888,
             "#fdca26"
            ],
            [
             1,
             "#f0f921"
            ]
           ],
           "sequentialminus": [
            [
             0,
             "#0d0887"
            ],
            [
             0.1111111111111111,
             "#46039f"
            ],
            [
             0.2222222222222222,
             "#7201a8"
            ],
            [
             0.3333333333333333,
             "#9c179e"
            ],
            [
             0.4444444444444444,
             "#bd3786"
            ],
            [
             0.5555555555555556,
             "#d8576b"
            ],
            [
             0.6666666666666666,
             "#ed7953"
            ],
            [
             0.7777777777777778,
             "#fb9f3a"
            ],
            [
             0.8888888888888888,
             "#fdca26"
            ],
            [
             1,
             "#f0f921"
            ]
           ]
          },
          "colorway": [
           "#636efa",
           "#EF553B",
           "#00cc96",
           "#ab63fa",
           "#FFA15A",
           "#19d3f3",
           "#FF6692",
           "#B6E880",
           "#FF97FF",
           "#FECB52"
          ],
          "font": {
           "color": "#2a3f5f"
          },
          "geo": {
           "bgcolor": "white",
           "lakecolor": "white",
           "landcolor": "#E5ECF6",
           "showlakes": true,
           "showland": true,
           "subunitcolor": "white"
          },
          "hoverlabel": {
           "align": "left"
          },
          "hovermode": "closest",
          "mapbox": {
           "style": "light"
          },
          "paper_bgcolor": "white",
          "plot_bgcolor": "#E5ECF6",
          "polar": {
           "angularaxis": {
            "gridcolor": "white",
            "linecolor": "white",
            "ticks": ""
           },
           "bgcolor": "#E5ECF6",
           "radialaxis": {
            "gridcolor": "white",
            "linecolor": "white",
            "ticks": ""
           }
          },
          "scene": {
           "xaxis": {
            "backgroundcolor": "#E5ECF6",
            "gridcolor": "white",
            "gridwidth": 2,
            "linecolor": "white",
            "showbackground": true,
            "ticks": "",
            "zerolinecolor": "white"
           },
           "yaxis": {
            "backgroundcolor": "#E5ECF6",
            "gridcolor": "white",
            "gridwidth": 2,
            "linecolor": "white",
            "showbackground": true,
            "ticks": "",
            "zerolinecolor": "white"
           },
           "zaxis": {
            "backgroundcolor": "#E5ECF6",
            "gridcolor": "white",
            "gridwidth": 2,
            "linecolor": "white",
            "showbackground": true,
            "ticks": "",
            "zerolinecolor": "white"
           }
          },
          "shapedefaults": {
           "line": {
            "color": "#2a3f5f"
           }
          },
          "ternary": {
           "aaxis": {
            "gridcolor": "white",
            "linecolor": "white",
            "ticks": ""
           },
           "baxis": {
            "gridcolor": "white",
            "linecolor": "white",
            "ticks": ""
           },
           "bgcolor": "#E5ECF6",
           "caxis": {
            "gridcolor": "white",
            "linecolor": "white",
            "ticks": ""
           }
          },
          "title": {
           "x": 0.05
          },
          "xaxis": {
           "automargin": true,
           "gridcolor": "white",
           "linecolor": "white",
           "ticks": "",
           "title": {
            "standoff": 15
           },
           "zerolinecolor": "white",
           "zerolinewidth": 2
          },
          "yaxis": {
           "automargin": true,
           "gridcolor": "white",
           "linecolor": "white",
           "ticks": "",
           "title": {
            "standoff": 15
           },
           "zerolinecolor": "white",
           "zerolinewidth": 2
          }
         }
        },
        "title": {
         "text": "Album: Baaraat"
        }
       }
      }
     },
     "metadata": {},
     "output_type": "display_data"
    },
    {
     "data": {
      "application/vnd.plotly.v1+json": {
       "config": {
        "plotlyServerURL": "https://plot.ly"
       },
       "data": [
        {
         "fill": "toself",
         "name": "0 to 100",
         "r": [
          0.742,
          0.675,
          0.0907,
          0.139,
          0.167,
          0.679
         ],
         "theta": [
          "danceability",
          "energy",
          "speechiness",
          "acousticness",
          "liveness",
          "valence"
         ],
         "type": "scatterpolar"
        },
        {
         "fill": "toself",
         "name": "Bloodlust (feat. Mr. Capone-E)",
         "r": [
          0.552,
          0.667,
          0.333,
          0.0381,
          0.0777,
          0.348
         ],
         "theta": [
          "danceability",
          "energy",
          "speechiness",
          "acousticness",
          "liveness",
          "valence"
         ],
         "type": "scatterpolar"
        },
        {
         "fill": "toself",
         "name": "Everybody Hurts",
         "r": [
          0.738,
          0.599,
          0.0393,
          0.434,
          0.13,
          0.575
         ],
         "theta": [
          "danceability",
          "energy",
          "speechiness",
          "acousticness",
          "liveness",
          "valence"
         ],
         "type": "scatterpolar"
        },
        {
         "fill": "toself",
         "name": "Love Sick",
         "r": [
          0.824,
          0.543,
          0.209,
          0.101,
          0.178,
          0.548
         ],
         "theta": [
          "danceability",
          "energy",
          "speechiness",
          "acousticness",
          "liveness",
          "valence"
         ],
         "type": "scatterpolar"
        },
        {
         "fill": "toself",
         "name": "Never Fold",
         "r": [
          0.814,
          0.786,
          0.232,
          0.069,
          0.0976,
          0.797
         ],
         "theta": [
          "danceability",
          "energy",
          "speechiness",
          "acousticness",
          "liveness",
          "valence"
         ],
         "type": "scatterpolar"
        }
       ],
       "layout": {
        "template": {
         "data": {
          "bar": [
           {
            "error_x": {
             "color": "#2a3f5f"
            },
            "error_y": {
             "color": "#2a3f5f"
            },
            "marker": {
             "line": {
              "color": "#E5ECF6",
              "width": 0.5
             },
             "pattern": {
              "fillmode": "overlay",
              "size": 10,
              "solidity": 0.2
             }
            },
            "type": "bar"
           }
          ],
          "barpolar": [
           {
            "marker": {
             "line": {
              "color": "#E5ECF6",
              "width": 0.5
             },
             "pattern": {
              "fillmode": "overlay",
              "size": 10,
              "solidity": 0.2
             }
            },
            "type": "barpolar"
           }
          ],
          "carpet": [
           {
            "aaxis": {
             "endlinecolor": "#2a3f5f",
             "gridcolor": "white",
             "linecolor": "white",
             "minorgridcolor": "white",
             "startlinecolor": "#2a3f5f"
            },
            "baxis": {
             "endlinecolor": "#2a3f5f",
             "gridcolor": "white",
             "linecolor": "white",
             "minorgridcolor": "white",
             "startlinecolor": "#2a3f5f"
            },
            "type": "carpet"
           }
          ],
          "choropleth": [
           {
            "colorbar": {
             "outlinewidth": 0,
             "ticks": ""
            },
            "type": "choropleth"
           }
          ],
          "contour": [
           {
            "colorbar": {
             "outlinewidth": 0,
             "ticks": ""
            },
            "colorscale": [
             [
              0,
              "#0d0887"
             ],
             [
              0.1111111111111111,
              "#46039f"
             ],
             [
              0.2222222222222222,
              "#7201a8"
             ],
             [
              0.3333333333333333,
              "#9c179e"
             ],
             [
              0.4444444444444444,
              "#bd3786"
             ],
             [
              0.5555555555555556,
              "#d8576b"
             ],
             [
              0.6666666666666666,
              "#ed7953"
             ],
             [
              0.7777777777777778,
              "#fb9f3a"
             ],
             [
              0.8888888888888888,
              "#fdca26"
             ],
             [
              1,
              "#f0f921"
             ]
            ],
            "type": "contour"
           }
          ],
          "contourcarpet": [
           {
            "colorbar": {
             "outlinewidth": 0,
             "ticks": ""
            },
            "type": "contourcarpet"
           }
          ],
          "heatmap": [
           {
            "colorbar": {
             "outlinewidth": 0,
             "ticks": ""
            },
            "colorscale": [
             [
              0,
              "#0d0887"
             ],
             [
              0.1111111111111111,
              "#46039f"
             ],
             [
              0.2222222222222222,
              "#7201a8"
             ],
             [
              0.3333333333333333,
              "#9c179e"
             ],
             [
              0.4444444444444444,
              "#bd3786"
             ],
             [
              0.5555555555555556,
              "#d8576b"
             ],
             [
              0.6666666666666666,
              "#ed7953"
             ],
             [
              0.7777777777777778,
              "#fb9f3a"
             ],
             [
              0.8888888888888888,
              "#fdca26"
             ],
             [
              1,
              "#f0f921"
             ]
            ],
            "type": "heatmap"
           }
          ],
          "heatmapgl": [
           {
            "colorbar": {
             "outlinewidth": 0,
             "ticks": ""
            },
            "colorscale": [
             [
              0,
              "#0d0887"
             ],
             [
              0.1111111111111111,
              "#46039f"
             ],
             [
              0.2222222222222222,
              "#7201a8"
             ],
             [
              0.3333333333333333,
              "#9c179e"
             ],
             [
              0.4444444444444444,
              "#bd3786"
             ],
             [
              0.5555555555555556,
              "#d8576b"
             ],
             [
              0.6666666666666666,
              "#ed7953"
             ],
             [
              0.7777777777777778,
              "#fb9f3a"
             ],
             [
              0.8888888888888888,
              "#fdca26"
             ],
             [
              1,
              "#f0f921"
             ]
            ],
            "type": "heatmapgl"
           }
          ],
          "histogram": [
           {
            "marker": {
             "pattern": {
              "fillmode": "overlay",
              "size": 10,
              "solidity": 0.2
             }
            },
            "type": "histogram"
           }
          ],
          "histogram2d": [
           {
            "colorbar": {
             "outlinewidth": 0,
             "ticks": ""
            },
            "colorscale": [
             [
              0,
              "#0d0887"
             ],
             [
              0.1111111111111111,
              "#46039f"
             ],
             [
              0.2222222222222222,
              "#7201a8"
             ],
             [
              0.3333333333333333,
              "#9c179e"
             ],
             [
              0.4444444444444444,
              "#bd3786"
             ],
             [
              0.5555555555555556,
              "#d8576b"
             ],
             [
              0.6666666666666666,
              "#ed7953"
             ],
             [
              0.7777777777777778,
              "#fb9f3a"
             ],
             [
              0.8888888888888888,
              "#fdca26"
             ],
             [
              1,
              "#f0f921"
             ]
            ],
            "type": "histogram2d"
           }
          ],
          "histogram2dcontour": [
           {
            "colorbar": {
             "outlinewidth": 0,
             "ticks": ""
            },
            "colorscale": [
             [
              0,
              "#0d0887"
             ],
             [
              0.1111111111111111,
              "#46039f"
             ],
             [
              0.2222222222222222,
              "#7201a8"
             ],
             [
              0.3333333333333333,
              "#9c179e"
             ],
             [
              0.4444444444444444,
              "#bd3786"
             ],
             [
              0.5555555555555556,
              "#d8576b"
             ],
             [
              0.6666666666666666,
              "#ed7953"
             ],
             [
              0.7777777777777778,
              "#fb9f3a"
             ],
             [
              0.8888888888888888,
              "#fdca26"
             ],
             [
              1,
              "#f0f921"
             ]
            ],
            "type": "histogram2dcontour"
           }
          ],
          "mesh3d": [
           {
            "colorbar": {
             "outlinewidth": 0,
             "ticks": ""
            },
            "type": "mesh3d"
           }
          ],
          "parcoords": [
           {
            "line": {
             "colorbar": {
              "outlinewidth": 0,
              "ticks": ""
             }
            },
            "type": "parcoords"
           }
          ],
          "pie": [
           {
            "automargin": true,
            "type": "pie"
           }
          ],
          "scatter": [
           {
            "fillpattern": {
             "fillmode": "overlay",
             "size": 10,
             "solidity": 0.2
            },
            "type": "scatter"
           }
          ],
          "scatter3d": [
           {
            "line": {
             "colorbar": {
              "outlinewidth": 0,
              "ticks": ""
             }
            },
            "marker": {
             "colorbar": {
              "outlinewidth": 0,
              "ticks": ""
             }
            },
            "type": "scatter3d"
           }
          ],
          "scattercarpet": [
           {
            "marker": {
             "colorbar": {
              "outlinewidth": 0,
              "ticks": ""
             }
            },
            "type": "scattercarpet"
           }
          ],
          "scattergeo": [
           {
            "marker": {
             "colorbar": {
              "outlinewidth": 0,
              "ticks": ""
             }
            },
            "type": "scattergeo"
           }
          ],
          "scattergl": [
           {
            "marker": {
             "colorbar": {
              "outlinewidth": 0,
              "ticks": ""
             }
            },
            "type": "scattergl"
           }
          ],
          "scattermapbox": [
           {
            "marker": {
             "colorbar": {
              "outlinewidth": 0,
              "ticks": ""
             }
            },
            "type": "scattermapbox"
           }
          ],
          "scatterpolar": [
           {
            "marker": {
             "colorbar": {
              "outlinewidth": 0,
              "ticks": ""
             }
            },
            "type": "scatterpolar"
           }
          ],
          "scatterpolargl": [
           {
            "marker": {
             "colorbar": {
              "outlinewidth": 0,
              "ticks": ""
             }
            },
            "type": "scatterpolargl"
           }
          ],
          "scatterternary": [
           {
            "marker": {
             "colorbar": {
              "outlinewidth": 0,
              "ticks": ""
             }
            },
            "type": "scatterternary"
           }
          ],
          "surface": [
           {
            "colorbar": {
             "outlinewidth": 0,
             "ticks": ""
            },
            "colorscale": [
             [
              0,
              "#0d0887"
             ],
             [
              0.1111111111111111,
              "#46039f"
             ],
             [
              0.2222222222222222,
              "#7201a8"
             ],
             [
              0.3333333333333333,
              "#9c179e"
             ],
             [
              0.4444444444444444,
              "#bd3786"
             ],
             [
              0.5555555555555556,
              "#d8576b"
             ],
             [
              0.6666666666666666,
              "#ed7953"
             ],
             [
              0.7777777777777778,
              "#fb9f3a"
             ],
             [
              0.8888888888888888,
              "#fdca26"
             ],
             [
              1,
              "#f0f921"
             ]
            ],
            "type": "surface"
           }
          ],
          "table": [
           {
            "cells": {
             "fill": {
              "color": "#EBF0F8"
             },
             "line": {
              "color": "white"
             }
            },
            "header": {
             "fill": {
              "color": "#C8D4E3"
             },
             "line": {
              "color": "white"
             }
            },
            "type": "table"
           }
          ]
         },
         "layout": {
          "annotationdefaults": {
           "arrowcolor": "#2a3f5f",
           "arrowhead": 0,
           "arrowwidth": 1
          },
          "autotypenumbers": "strict",
          "coloraxis": {
           "colorbar": {
            "outlinewidth": 0,
            "ticks": ""
           }
          },
          "colorscale": {
           "diverging": [
            [
             0,
             "#8e0152"
            ],
            [
             0.1,
             "#c51b7d"
            ],
            [
             0.2,
             "#de77ae"
            ],
            [
             0.3,
             "#f1b6da"
            ],
            [
             0.4,
             "#fde0ef"
            ],
            [
             0.5,
             "#f7f7f7"
            ],
            [
             0.6,
             "#e6f5d0"
            ],
            [
             0.7,
             "#b8e186"
            ],
            [
             0.8,
             "#7fbc41"
            ],
            [
             0.9,
             "#4d9221"
            ],
            [
             1,
             "#276419"
            ]
           ],
           "sequential": [
            [
             0,
             "#0d0887"
            ],
            [
             0.1111111111111111,
             "#46039f"
            ],
            [
             0.2222222222222222,
             "#7201a8"
            ],
            [
             0.3333333333333333,
             "#9c179e"
            ],
            [
             0.4444444444444444,
             "#bd3786"
            ],
            [
             0.5555555555555556,
             "#d8576b"
            ],
            [
             0.6666666666666666,
             "#ed7953"
            ],
            [
             0.7777777777777778,
             "#fb9f3a"
            ],
            [
             0.8888888888888888,
             "#fdca26"
            ],
            [
             1,
             "#f0f921"
            ]
           ],
           "sequentialminus": [
            [
             0,
             "#0d0887"
            ],
            [
             0.1111111111111111,
             "#46039f"
            ],
            [
             0.2222222222222222,
             "#7201a8"
            ],
            [
             0.3333333333333333,
             "#9c179e"
            ],
            [
             0.4444444444444444,
             "#bd3786"
            ],
            [
             0.5555555555555556,
             "#d8576b"
            ],
            [
             0.6666666666666666,
             "#ed7953"
            ],
            [
             0.7777777777777778,
             "#fb9f3a"
            ],
            [
             0.8888888888888888,
             "#fdca26"
            ],
            [
             1,
             "#f0f921"
            ]
           ]
          },
          "colorway": [
           "#636efa",
           "#EF553B",
           "#00cc96",
           "#ab63fa",
           "#FFA15A",
           "#19d3f3",
           "#FF6692",
           "#B6E880",
           "#FF97FF",
           "#FECB52"
          ],
          "font": {
           "color": "#2a3f5f"
          },
          "geo": {
           "bgcolor": "white",
           "lakecolor": "white",
           "landcolor": "#E5ECF6",
           "showlakes": true,
           "showland": true,
           "subunitcolor": "white"
          },
          "hoverlabel": {
           "align": "left"
          },
          "hovermode": "closest",
          "mapbox": {
           "style": "light"
          },
          "paper_bgcolor": "white",
          "plot_bgcolor": "#E5ECF6",
          "polar": {
           "angularaxis": {
            "gridcolor": "white",
            "linecolor": "white",
            "ticks": ""
           },
           "bgcolor": "#E5ECF6",
           "radialaxis": {
            "gridcolor": "white",
            "linecolor": "white",
            "ticks": ""
           }
          },
          "scene": {
           "xaxis": {
            "backgroundcolor": "#E5ECF6",
            "gridcolor": "white",
            "gridwidth": 2,
            "linecolor": "white",
            "showbackground": true,
            "ticks": "",
            "zerolinecolor": "white"
           },
           "yaxis": {
            "backgroundcolor": "#E5ECF6",
            "gridcolor": "white",
            "gridwidth": 2,
            "linecolor": "white",
            "showbackground": true,
            "ticks": "",
            "zerolinecolor": "white"
           },
           "zaxis": {
            "backgroundcolor": "#E5ECF6",
            "gridcolor": "white",
            "gridwidth": 2,
            "linecolor": "white",
            "showbackground": true,
            "ticks": "",
            "zerolinecolor": "white"
           }
          },
          "shapedefaults": {
           "line": {
            "color": "#2a3f5f"
           }
          },
          "ternary": {
           "aaxis": {
            "gridcolor": "white",
            "linecolor": "white",
            "ticks": ""
           },
           "baxis": {
            "gridcolor": "white",
            "linecolor": "white",
            "ticks": ""
           },
           "bgcolor": "#E5ECF6",
           "caxis": {
            "gridcolor": "white",
            "linecolor": "white",
            "ticks": ""
           }
          },
          "title": {
           "x": 0.05
          },
          "xaxis": {
           "automargin": true,
           "gridcolor": "white",
           "linecolor": "white",
           "ticks": "",
           "title": {
            "standoff": 15
           },
           "zerolinecolor": "white",
           "zerolinewidth": 2
          },
          "yaxis": {
           "automargin": true,
           "gridcolor": "white",
           "linecolor": "white",
           "ticks": "",
           "title": {
            "standoff": 15
           },
           "zerolinecolor": "white",
           "zerolinewidth": 2
          }
         }
        },
        "title": {
         "text": "Album: No Name"
        }
       }
      }
     },
     "metadata": {},
     "output_type": "display_data"
    },
    {
     "data": {
      "application/vnd.plotly.v1+json": {
       "config": {
        "plotlyServerURL": "https://plot.ly"
       },
       "data": [
        {
         "fill": "toself",
         "name": "051021",
         "r": [
          0.679,
          0.661,
          0.124,
          0.0641,
          0.0976,
          0.388
         ],
         "theta": [
          "danceability",
          "energy",
          "speechiness",
          "acousticness",
          "liveness",
          "valence"
         ],
         "type": "scatterpolar"
        },
        {
         "fill": "toself",
         "name": "All Night Long",
         "r": [
          0.756,
          0.436,
          0.0457,
          0.0554,
          0.309,
          0.228
         ],
         "theta": [
          "danceability",
          "energy",
          "speechiness",
          "acousticness",
          "liveness",
          "valence"
         ],
         "type": "scatterpolar"
        },
        {
         "fill": "toself",
         "name": "Chaunde Ne Pharna",
         "r": [
          0.661,
          0.415,
          0.183,
          0.0202,
          0.31,
          0.286
         ],
         "theta": [
          "danceability",
          "energy",
          "speechiness",
          "acousticness",
          "liveness",
          "valence"
         ],
         "type": "scatterpolar"
        },
        {
         "fill": "toself",
         "name": "Cocaine",
         "r": [
          0.659,
          0.277,
          0.119,
          0.443,
          0.128,
          0.24
         ],
         "theta": [
          "danceability",
          "energy",
          "speechiness",
          "acousticness",
          "liveness",
          "valence"
         ],
         "type": "scatterpolar"
        },
        {
         "fill": "toself",
         "name": "Faasla",
         "r": [
          0.739,
          0.39,
          0.0918,
          0.0475,
          0.0732,
          0.285
         ],
         "theta": [
          "danceability",
          "energy",
          "speechiness",
          "acousticness",
          "liveness",
          "valence"
         ],
         "type": "scatterpolar"
        },
        {
         "fill": "toself",
         "name": "Into The Sunset",
         "r": [
          0.534,
          0.458,
          0.233,
          0.299,
          0.095,
          0.275
         ],
         "theta": [
          "danceability",
          "energy",
          "speechiness",
          "acousticness",
          "liveness",
          "valence"
         ],
         "type": "scatterpolar"
        },
        {
         "fill": "toself",
         "name": "Load Out",
         "r": [
          0.784,
          0.39,
          0.0615,
          0.286,
          0.139,
          0.316
         ],
         "theta": [
          "danceability",
          "energy",
          "speechiness",
          "acousticness",
          "liveness",
          "valence"
         ],
         "type": "scatterpolar"
        },
        {
         "fill": "toself",
         "name": "Location",
         "r": [
          0.831,
          0.364,
          0.124,
          0.0268,
          0.0736,
          0.649
         ],
         "theta": [
          "danceability",
          "energy",
          "speechiness",
          "acousticness",
          "liveness",
          "valence"
         ],
         "type": "scatterpolar"
        },
        {
         "fill": "toself",
         "name": "Lockdown Freestyle",
         "r": [
          0.601,
          0.459,
          0.44,
          0.195,
          0.144,
          0.231
         ],
         "theta": [
          "danceability",
          "energy",
          "speechiness",
          "acousticness",
          "liveness",
          "valence"
         ],
         "type": "scatterpolar"
        },
        {
         "fill": "toself",
         "name": "Promises",
         "r": [
          0.666,
          0.35,
          0.0389,
          0.204,
          0.238,
          0.272
         ],
         "theta": [
          "danceability",
          "energy",
          "speechiness",
          "acousticness",
          "liveness",
          "valence"
         ],
         "type": "scatterpolar"
        },
        {
         "fill": "toself",
         "name": "Promises (Rovalio Mix)",
         "r": [
          0.432,
          0.429,
          0.0293,
          0.0095,
          0.136,
          0.205
         ],
         "theta": [
          "danceability",
          "energy",
          "speechiness",
          "acousticness",
          "liveness",
          "valence"
         ],
         "type": "scatterpolar"
        },
        {
         "fill": "toself",
         "name": "Scars & Screws",
         "r": [
          0.58,
          0.589,
          0.327,
          0.343,
          0.121,
          0.363
         ],
         "theta": [
          "danceability",
          "energy",
          "speechiness",
          "acousticness",
          "liveness",
          "valence"
         ],
         "type": "scatterpolar"
        }
       ],
       "layout": {
        "template": {
         "data": {
          "bar": [
           {
            "error_x": {
             "color": "#2a3f5f"
            },
            "error_y": {
             "color": "#2a3f5f"
            },
            "marker": {
             "line": {
              "color": "#E5ECF6",
              "width": 0.5
             },
             "pattern": {
              "fillmode": "overlay",
              "size": 10,
              "solidity": 0.2
             }
            },
            "type": "bar"
           }
          ],
          "barpolar": [
           {
            "marker": {
             "line": {
              "color": "#E5ECF6",
              "width": 0.5
             },
             "pattern": {
              "fillmode": "overlay",
              "size": 10,
              "solidity": 0.2
             }
            },
            "type": "barpolar"
           }
          ],
          "carpet": [
           {
            "aaxis": {
             "endlinecolor": "#2a3f5f",
             "gridcolor": "white",
             "linecolor": "white",
             "minorgridcolor": "white",
             "startlinecolor": "#2a3f5f"
            },
            "baxis": {
             "endlinecolor": "#2a3f5f",
             "gridcolor": "white",
             "linecolor": "white",
             "minorgridcolor": "white",
             "startlinecolor": "#2a3f5f"
            },
            "type": "carpet"
           }
          ],
          "choropleth": [
           {
            "colorbar": {
             "outlinewidth": 0,
             "ticks": ""
            },
            "type": "choropleth"
           }
          ],
          "contour": [
           {
            "colorbar": {
             "outlinewidth": 0,
             "ticks": ""
            },
            "colorscale": [
             [
              0,
              "#0d0887"
             ],
             [
              0.1111111111111111,
              "#46039f"
             ],
             [
              0.2222222222222222,
              "#7201a8"
             ],
             [
              0.3333333333333333,
              "#9c179e"
             ],
             [
              0.4444444444444444,
              "#bd3786"
             ],
             [
              0.5555555555555556,
              "#d8576b"
             ],
             [
              0.6666666666666666,
              "#ed7953"
             ],
             [
              0.7777777777777778,
              "#fb9f3a"
             ],
             [
              0.8888888888888888,
              "#fdca26"
             ],
             [
              1,
              "#f0f921"
             ]
            ],
            "type": "contour"
           }
          ],
          "contourcarpet": [
           {
            "colorbar": {
             "outlinewidth": 0,
             "ticks": ""
            },
            "type": "contourcarpet"
           }
          ],
          "heatmap": [
           {
            "colorbar": {
             "outlinewidth": 0,
             "ticks": ""
            },
            "colorscale": [
             [
              0,
              "#0d0887"
             ],
             [
              0.1111111111111111,
              "#46039f"
             ],
             [
              0.2222222222222222,
              "#7201a8"
             ],
             [
              0.3333333333333333,
              "#9c179e"
             ],
             [
              0.4444444444444444,
              "#bd3786"
             ],
             [
              0.5555555555555556,
              "#d8576b"
             ],
             [
              0.6666666666666666,
              "#ed7953"
             ],
             [
              0.7777777777777778,
              "#fb9f3a"
             ],
             [
              0.8888888888888888,
              "#fdca26"
             ],
             [
              1,
              "#f0f921"
             ]
            ],
            "type": "heatmap"
           }
          ],
          "heatmapgl": [
           {
            "colorbar": {
             "outlinewidth": 0,
             "ticks": ""
            },
            "colorscale": [
             [
              0,
              "#0d0887"
             ],
             [
              0.1111111111111111,
              "#46039f"
             ],
             [
              0.2222222222222222,
              "#7201a8"
             ],
             [
              0.3333333333333333,
              "#9c179e"
             ],
             [
              0.4444444444444444,
              "#bd3786"
             ],
             [
              0.5555555555555556,
              "#d8576b"
             ],
             [
              0.6666666666666666,
              "#ed7953"
             ],
             [
              0.7777777777777778,
              "#fb9f3a"
             ],
             [
              0.8888888888888888,
              "#fdca26"
             ],
             [
              1,
              "#f0f921"
             ]
            ],
            "type": "heatmapgl"
           }
          ],
          "histogram": [
           {
            "marker": {
             "pattern": {
              "fillmode": "overlay",
              "size": 10,
              "solidity": 0.2
             }
            },
            "type": "histogram"
           }
          ],
          "histogram2d": [
           {
            "colorbar": {
             "outlinewidth": 0,
             "ticks": ""
            },
            "colorscale": [
             [
              0,
              "#0d0887"
             ],
             [
              0.1111111111111111,
              "#46039f"
             ],
             [
              0.2222222222222222,
              "#7201a8"
             ],
             [
              0.3333333333333333,
              "#9c179e"
             ],
             [
              0.4444444444444444,
              "#bd3786"
             ],
             [
              0.5555555555555556,
              "#d8576b"
             ],
             [
              0.6666666666666666,
              "#ed7953"
             ],
             [
              0.7777777777777778,
              "#fb9f3a"
             ],
             [
              0.8888888888888888,
              "#fdca26"
             ],
             [
              1,
              "#f0f921"
             ]
            ],
            "type": "histogram2d"
           }
          ],
          "histogram2dcontour": [
           {
            "colorbar": {
             "outlinewidth": 0,
             "ticks": ""
            },
            "colorscale": [
             [
              0,
              "#0d0887"
             ],
             [
              0.1111111111111111,
              "#46039f"
             ],
             [
              0.2222222222222222,
              "#7201a8"
             ],
             [
              0.3333333333333333,
              "#9c179e"
             ],
             [
              0.4444444444444444,
              "#bd3786"
             ],
             [
              0.5555555555555556,
              "#d8576b"
             ],
             [
              0.6666666666666666,
              "#ed7953"
             ],
             [
              0.7777777777777778,
              "#fb9f3a"
             ],
             [
              0.8888888888888888,
              "#fdca26"
             ],
             [
              1,
              "#f0f921"
             ]
            ],
            "type": "histogram2dcontour"
           }
          ],
          "mesh3d": [
           {
            "colorbar": {
             "outlinewidth": 0,
             "ticks": ""
            },
            "type": "mesh3d"
           }
          ],
          "parcoords": [
           {
            "line": {
             "colorbar": {
              "outlinewidth": 0,
              "ticks": ""
             }
            },
            "type": "parcoords"
           }
          ],
          "pie": [
           {
            "automargin": true,
            "type": "pie"
           }
          ],
          "scatter": [
           {
            "fillpattern": {
             "fillmode": "overlay",
             "size": 10,
             "solidity": 0.2
            },
            "type": "scatter"
           }
          ],
          "scatter3d": [
           {
            "line": {
             "colorbar": {
              "outlinewidth": 0,
              "ticks": ""
             }
            },
            "marker": {
             "colorbar": {
              "outlinewidth": 0,
              "ticks": ""
             }
            },
            "type": "scatter3d"
           }
          ],
          "scattercarpet": [
           {
            "marker": {
             "colorbar": {
              "outlinewidth": 0,
              "ticks": ""
             }
            },
            "type": "scattercarpet"
           }
          ],
          "scattergeo": [
           {
            "marker": {
             "colorbar": {
              "outlinewidth": 0,
              "ticks": ""
             }
            },
            "type": "scattergeo"
           }
          ],
          "scattergl": [
           {
            "marker": {
             "colorbar": {
              "outlinewidth": 0,
              "ticks": ""
             }
            },
            "type": "scattergl"
           }
          ],
          "scattermapbox": [
           {
            "marker": {
             "colorbar": {
              "outlinewidth": 0,
              "ticks": ""
             }
            },
            "type": "scattermapbox"
           }
          ],
          "scatterpolar": [
           {
            "marker": {
             "colorbar": {
              "outlinewidth": 0,
              "ticks": ""
             }
            },
            "type": "scatterpolar"
           }
          ],
          "scatterpolargl": [
           {
            "marker": {
             "colorbar": {
              "outlinewidth": 0,
              "ticks": ""
             }
            },
            "type": "scatterpolargl"
           }
          ],
          "scatterternary": [
           {
            "marker": {
             "colorbar": {
              "outlinewidth": 0,
              "ticks": ""
             }
            },
            "type": "scatterternary"
           }
          ],
          "surface": [
           {
            "colorbar": {
             "outlinewidth": 0,
             "ticks": ""
            },
            "colorscale": [
             [
              0,
              "#0d0887"
             ],
             [
              0.1111111111111111,
              "#46039f"
             ],
             [
              0.2222222222222222,
              "#7201a8"
             ],
             [
              0.3333333333333333,
              "#9c179e"
             ],
             [
              0.4444444444444444,
              "#bd3786"
             ],
             [
              0.5555555555555556,
              "#d8576b"
             ],
             [
              0.6666666666666666,
              "#ed7953"
             ],
             [
              0.7777777777777778,
              "#fb9f3a"
             ],
             [
              0.8888888888888888,
              "#fdca26"
             ],
             [
              1,
              "#f0f921"
             ]
            ],
            "type": "surface"
           }
          ],
          "table": [
           {
            "cells": {
             "fill": {
              "color": "#EBF0F8"
             },
             "line": {
              "color": "white"
             }
            },
            "header": {
             "fill": {
              "color": "#C8D4E3"
             },
             "line": {
              "color": "white"
             }
            },
            "type": "table"
           }
          ]
         },
         "layout": {
          "annotationdefaults": {
           "arrowcolor": "#2a3f5f",
           "arrowhead": 0,
           "arrowwidth": 1
          },
          "autotypenumbers": "strict",
          "coloraxis": {
           "colorbar": {
            "outlinewidth": 0,
            "ticks": ""
           }
          },
          "colorscale": {
           "diverging": [
            [
             0,
             "#8e0152"
            ],
            [
             0.1,
             "#c51b7d"
            ],
            [
             0.2,
             "#de77ae"
            ],
            [
             0.3,
             "#f1b6da"
            ],
            [
             0.4,
             "#fde0ef"
            ],
            [
             0.5,
             "#f7f7f7"
            ],
            [
             0.6,
             "#e6f5d0"
            ],
            [
             0.7,
             "#b8e186"
            ],
            [
             0.8,
             "#7fbc41"
            ],
            [
             0.9,
             "#4d9221"
            ],
            [
             1,
             "#276419"
            ]
           ],
           "sequential": [
            [
             0,
             "#0d0887"
            ],
            [
             0.1111111111111111,
             "#46039f"
            ],
            [
             0.2222222222222222,
             "#7201a8"
            ],
            [
             0.3333333333333333,
             "#9c179e"
            ],
            [
             0.4444444444444444,
             "#bd3786"
            ],
            [
             0.5555555555555556,
             "#d8576b"
            ],
            [
             0.6666666666666666,
             "#ed7953"
            ],
            [
             0.7777777777777778,
             "#fb9f3a"
            ],
            [
             0.8888888888888888,
             "#fdca26"
            ],
            [
             1,
             "#f0f921"
            ]
           ],
           "sequentialminus": [
            [
             0,
             "#0d0887"
            ],
            [
             0.1111111111111111,
             "#46039f"
            ],
            [
             0.2222222222222222,
             "#7201a8"
            ],
            [
             0.3333333333333333,
             "#9c179e"
            ],
            [
             0.4444444444444444,
             "#bd3786"
            ],
            [
             0.5555555555555556,
             "#d8576b"
            ],
            [
             0.6666666666666666,
             "#ed7953"
            ],
            [
             0.7777777777777778,
             "#fb9f3a"
            ],
            [
             0.8888888888888888,
             "#fdca26"
            ],
            [
             1,
             "#f0f921"
            ]
           ]
          },
          "colorway": [
           "#636efa",
           "#EF553B",
           "#00cc96",
           "#ab63fa",
           "#FFA15A",
           "#19d3f3",
           "#FF6692",
           "#B6E880",
           "#FF97FF",
           "#FECB52"
          ],
          "font": {
           "color": "#2a3f5f"
          },
          "geo": {
           "bgcolor": "white",
           "lakecolor": "white",
           "landcolor": "#E5ECF6",
           "showlakes": true,
           "showland": true,
           "subunitcolor": "white"
          },
          "hoverlabel": {
           "align": "left"
          },
          "hovermode": "closest",
          "mapbox": {
           "style": "light"
          },
          "paper_bgcolor": "white",
          "plot_bgcolor": "#E5ECF6",
          "polar": {
           "angularaxis": {
            "gridcolor": "white",
            "linecolor": "white",
            "ticks": ""
           },
           "bgcolor": "#E5ECF6",
           "radialaxis": {
            "gridcolor": "white",
            "linecolor": "white",
            "ticks": ""
           }
          },
          "scene": {
           "xaxis": {
            "backgroundcolor": "#E5ECF6",
            "gridcolor": "white",
            "gridwidth": 2,
            "linecolor": "white",
            "showbackground": true,
            "ticks": "",
            "zerolinecolor": "white"
           },
           "yaxis": {
            "backgroundcolor": "#E5ECF6",
            "gridcolor": "white",
            "gridwidth": 2,
            "linecolor": "white",
            "showbackground": true,
            "ticks": "",
            "zerolinecolor": "white"
           },
           "zaxis": {
            "backgroundcolor": "#E5ECF6",
            "gridcolor": "white",
            "gridwidth": 2,
            "linecolor": "white",
            "showbackground": true,
            "ticks": "",
            "zerolinecolor": "white"
           }
          },
          "shapedefaults": {
           "line": {
            "color": "#2a3f5f"
           }
          },
          "ternary": {
           "aaxis": {
            "gridcolor": "white",
            "linecolor": "white",
            "ticks": ""
           },
           "baxis": {
            "gridcolor": "white",
            "linecolor": "white",
            "ticks": ""
           },
           "bgcolor": "#E5ECF6",
           "caxis": {
            "gridcolor": "white",
            "linecolor": "white",
            "ticks": ""
           }
          },
          "title": {
           "x": 0.05
          },
          "xaxis": {
           "automargin": true,
           "gridcolor": "white",
           "linecolor": "white",
           "ticks": "",
           "title": {
            "standoff": 15
           },
           "zerolinecolor": "white",
           "zerolinewidth": 2
          },
          "yaxis": {
           "automargin": true,
           "gridcolor": "white",
           "linecolor": "white",
           "ticks": "",
           "title": {
            "standoff": 15
           },
           "zerolinecolor": "white",
           "zerolinewidth": 2
          }
         }
        },
        "title": {
         "text": "Album: Scars & Screws"
        }
       }
      }
     },
     "metadata": {},
     "output_type": "display_data"
    },
    {
     "data": {
      "application/vnd.plotly.v1+json": {
       "config": {
        "plotlyServerURL": "https://plot.ly"
       },
       "data": [
        {
         "fill": "toself",
         "name": "D'Arline",
         "r": [
          0.43,
          0.199,
          0.0348,
          0.906,
          0.145,
          0.477
         ],
         "theta": [
          "danceability",
          "energy",
          "speechiness",
          "acousticness",
          "liveness",
          "valence"
         ],
         "type": "scatterpolar"
        },
        {
         "fill": "toself",
         "name": "Devil's Backbone",
         "r": [
          0.254,
          0.349,
          0.0379,
          0.85,
          0.234,
          0.303
         ],
         "theta": [
          "danceability",
          "energy",
          "speechiness",
          "acousticness",
          "liveness",
          "valence"
         ],
         "type": "scatterpolar"
        },
        {
         "fill": "toself",
         "name": "Disarm",
         "r": [
          0.364,
          0.172,
          0.0335,
          0.92,
          0.0916,
          0.105
         ],
         "theta": [
          "danceability",
          "energy",
          "speechiness",
          "acousticness",
          "liveness",
          "valence"
         ],
         "type": "scatterpolar"
        },
        {
         "fill": "toself",
         "name": "Dust to Dust",
         "r": [
          0.747,
          0.265,
          0.0354,
          0.745,
          0.11,
          0.2
         ],
         "theta": [
          "danceability",
          "energy",
          "speechiness",
          "acousticness",
          "liveness",
          "valence"
         ],
         "type": "scatterpolar"
        },
        {
         "fill": "toself",
         "name": "Eavesdrop",
         "r": [
          0.512,
          0.381,
          0.0258,
          0.784,
          0.109,
          0.114
         ],
         "theta": [
          "danceability",
          "energy",
          "speechiness",
          "acousticness",
          "liveness",
          "valence"
         ],
         "type": "scatterpolar"
        },
        {
         "fill": "toself",
         "name": "From This Valley",
         "r": [
          0.317,
          0.451,
          0.0347,
          0.537,
          0.0898,
          0.459
         ],
         "theta": [
          "danceability",
          "energy",
          "speechiness",
          "acousticness",
          "liveness",
          "valence"
         ],
         "type": "scatterpolar"
        },
        {
         "fill": "toself",
         "name": "I Had Me a Girl",
         "r": [
          0.338,
          0.56,
          0.0298,
          0.204,
          0.108,
          0.576
         ],
         "theta": [
          "danceability",
          "energy",
          "speechiness",
          "acousticness",
          "liveness",
          "valence"
         ],
         "type": "scatterpolar"
        },
        {
         "fill": "toself",
         "name": "Oh Henry",
         "r": [
          0.435,
          0.588,
          0.0336,
          0.735,
          0.156,
          0.516
         ],
         "theta": [
          "danceability",
          "energy",
          "speechiness",
          "acousticness",
          "liveness",
          "valence"
         ],
         "type": "scatterpolar"
        },
        {
         "fill": "toself",
         "name": "Sacred Heart",
         "r": [
          0.338,
          0.0948,
          0.0434,
          0.884,
          0.1,
          0.237
         ],
         "theta": [
          "danceability",
          "energy",
          "speechiness",
          "acousticness",
          "liveness",
          "valence"
         ],
         "type": "scatterpolar"
        },
        {
         "fill": "toself",
         "name": "Same Old Same Old",
         "r": [
          0.401,
          0.161,
          0.0372,
          0.781,
          0.118,
          0.112
         ],
         "theta": [
          "danceability",
          "energy",
          "speechiness",
          "acousticness",
          "liveness",
          "valence"
         ],
         "type": "scatterpolar"
        },
        {
         "fill": "toself",
         "name": "Tell Mama",
         "r": [
          0.37,
          0.301,
          0.0322,
          0.845,
          0.113,
          0.149
         ],
         "theta": [
          "danceability",
          "energy",
          "speechiness",
          "acousticness",
          "liveness",
          "valence"
         ],
         "type": "scatterpolar"
        },
        {
         "fill": "toself",
         "name": "The One That Got Away",
         "r": [
          0.439,
          0.313,
          0.0291,
          0.692,
          0.0464,
          0.243
         ],
         "theta": [
          "danceability",
          "energy",
          "speechiness",
          "acousticness",
          "liveness",
          "valence"
         ],
         "type": "scatterpolar"
        }
       ],
       "layout": {
        "template": {
         "data": {
          "bar": [
           {
            "error_x": {
             "color": "#2a3f5f"
            },
            "error_y": {
             "color": "#2a3f5f"
            },
            "marker": {
             "line": {
              "color": "#E5ECF6",
              "width": 0.5
             },
             "pattern": {
              "fillmode": "overlay",
              "size": 10,
              "solidity": 0.2
             }
            },
            "type": "bar"
           }
          ],
          "barpolar": [
           {
            "marker": {
             "line": {
              "color": "#E5ECF6",
              "width": 0.5
             },
             "pattern": {
              "fillmode": "overlay",
              "size": 10,
              "solidity": 0.2
             }
            },
            "type": "barpolar"
           }
          ],
          "carpet": [
           {
            "aaxis": {
             "endlinecolor": "#2a3f5f",
             "gridcolor": "white",
             "linecolor": "white",
             "minorgridcolor": "white",
             "startlinecolor": "#2a3f5f"
            },
            "baxis": {
             "endlinecolor": "#2a3f5f",
             "gridcolor": "white",
             "linecolor": "white",
             "minorgridcolor": "white",
             "startlinecolor": "#2a3f5f"
            },
            "type": "carpet"
           }
          ],
          "choropleth": [
           {
            "colorbar": {
             "outlinewidth": 0,
             "ticks": ""
            },
            "type": "choropleth"
           }
          ],
          "contour": [
           {
            "colorbar": {
             "outlinewidth": 0,
             "ticks": ""
            },
            "colorscale": [
             [
              0,
              "#0d0887"
             ],
             [
              0.1111111111111111,
              "#46039f"
             ],
             [
              0.2222222222222222,
              "#7201a8"
             ],
             [
              0.3333333333333333,
              "#9c179e"
             ],
             [
              0.4444444444444444,
              "#bd3786"
             ],
             [
              0.5555555555555556,
              "#d8576b"
             ],
             [
              0.6666666666666666,
              "#ed7953"
             ],
             [
              0.7777777777777778,
              "#fb9f3a"
             ],
             [
              0.8888888888888888,
              "#fdca26"
             ],
             [
              1,
              "#f0f921"
             ]
            ],
            "type": "contour"
           }
          ],
          "contourcarpet": [
           {
            "colorbar": {
             "outlinewidth": 0,
             "ticks": ""
            },
            "type": "contourcarpet"
           }
          ],
          "heatmap": [
           {
            "colorbar": {
             "outlinewidth": 0,
             "ticks": ""
            },
            "colorscale": [
             [
              0,
              "#0d0887"
             ],
             [
              0.1111111111111111,
              "#46039f"
             ],
             [
              0.2222222222222222,
              "#7201a8"
             ],
             [
              0.3333333333333333,
              "#9c179e"
             ],
             [
              0.4444444444444444,
              "#bd3786"
             ],
             [
              0.5555555555555556,
              "#d8576b"
             ],
             [
              0.6666666666666666,
              "#ed7953"
             ],
             [
              0.7777777777777778,
              "#fb9f3a"
             ],
             [
              0.8888888888888888,
              "#fdca26"
             ],
             [
              1,
              "#f0f921"
             ]
            ],
            "type": "heatmap"
           }
          ],
          "heatmapgl": [
           {
            "colorbar": {
             "outlinewidth": 0,
             "ticks": ""
            },
            "colorscale": [
             [
              0,
              "#0d0887"
             ],
             [
              0.1111111111111111,
              "#46039f"
             ],
             [
              0.2222222222222222,
              "#7201a8"
             ],
             [
              0.3333333333333333,
              "#9c179e"
             ],
             [
              0.4444444444444444,
              "#bd3786"
             ],
             [
              0.5555555555555556,
              "#d8576b"
             ],
             [
              0.6666666666666666,
              "#ed7953"
             ],
             [
              0.7777777777777778,
              "#fb9f3a"
             ],
             [
              0.8888888888888888,
              "#fdca26"
             ],
             [
              1,
              "#f0f921"
             ]
            ],
            "type": "heatmapgl"
           }
          ],
          "histogram": [
           {
            "marker": {
             "pattern": {
              "fillmode": "overlay",
              "size": 10,
              "solidity": 0.2
             }
            },
            "type": "histogram"
           }
          ],
          "histogram2d": [
           {
            "colorbar": {
             "outlinewidth": 0,
             "ticks": ""
            },
            "colorscale": [
             [
              0,
              "#0d0887"
             ],
             [
              0.1111111111111111,
              "#46039f"
             ],
             [
              0.2222222222222222,
              "#7201a8"
             ],
             [
              0.3333333333333333,
              "#9c179e"
             ],
             [
              0.4444444444444444,
              "#bd3786"
             ],
             [
              0.5555555555555556,
              "#d8576b"
             ],
             [
              0.6666666666666666,
              "#ed7953"
             ],
             [
              0.7777777777777778,
              "#fb9f3a"
             ],
             [
              0.8888888888888888,
              "#fdca26"
             ],
             [
              1,
              "#f0f921"
             ]
            ],
            "type": "histogram2d"
           }
          ],
          "histogram2dcontour": [
           {
            "colorbar": {
             "outlinewidth": 0,
             "ticks": ""
            },
            "colorscale": [
             [
              0,
              "#0d0887"
             ],
             [
              0.1111111111111111,
              "#46039f"
             ],
             [
              0.2222222222222222,
              "#7201a8"
             ],
             [
              0.3333333333333333,
              "#9c179e"
             ],
             [
              0.4444444444444444,
              "#bd3786"
             ],
             [
              0.5555555555555556,
              "#d8576b"
             ],
             [
              0.6666666666666666,
              "#ed7953"
             ],
             [
              0.7777777777777778,
              "#fb9f3a"
             ],
             [
              0.8888888888888888,
              "#fdca26"
             ],
             [
              1,
              "#f0f921"
             ]
            ],
            "type": "histogram2dcontour"
           }
          ],
          "mesh3d": [
           {
            "colorbar": {
             "outlinewidth": 0,
             "ticks": ""
            },
            "type": "mesh3d"
           }
          ],
          "parcoords": [
           {
            "line": {
             "colorbar": {
              "outlinewidth": 0,
              "ticks": ""
             }
            },
            "type": "parcoords"
           }
          ],
          "pie": [
           {
            "automargin": true,
            "type": "pie"
           }
          ],
          "scatter": [
           {
            "fillpattern": {
             "fillmode": "overlay",
             "size": 10,
             "solidity": 0.2
            },
            "type": "scatter"
           }
          ],
          "scatter3d": [
           {
            "line": {
             "colorbar": {
              "outlinewidth": 0,
              "ticks": ""
             }
            },
            "marker": {
             "colorbar": {
              "outlinewidth": 0,
              "ticks": ""
             }
            },
            "type": "scatter3d"
           }
          ],
          "scattercarpet": [
           {
            "marker": {
             "colorbar": {
              "outlinewidth": 0,
              "ticks": ""
             }
            },
            "type": "scattercarpet"
           }
          ],
          "scattergeo": [
           {
            "marker": {
             "colorbar": {
              "outlinewidth": 0,
              "ticks": ""
             }
            },
            "type": "scattergeo"
           }
          ],
          "scattergl": [
           {
            "marker": {
             "colorbar": {
              "outlinewidth": 0,
              "ticks": ""
             }
            },
            "type": "scattergl"
           }
          ],
          "scattermapbox": [
           {
            "marker": {
             "colorbar": {
              "outlinewidth": 0,
              "ticks": ""
             }
            },
            "type": "scattermapbox"
           }
          ],
          "scatterpolar": [
           {
            "marker": {
             "colorbar": {
              "outlinewidth": 0,
              "ticks": ""
             }
            },
            "type": "scatterpolar"
           }
          ],
          "scatterpolargl": [
           {
            "marker": {
             "colorbar": {
              "outlinewidth": 0,
              "ticks": ""
             }
            },
            "type": "scatterpolargl"
           }
          ],
          "scatterternary": [
           {
            "marker": {
             "colorbar": {
              "outlinewidth": 0,
              "ticks": ""
             }
            },
            "type": "scatterternary"
           }
          ],
          "surface": [
           {
            "colorbar": {
             "outlinewidth": 0,
             "ticks": ""
            },
            "colorscale": [
             [
              0,
              "#0d0887"
             ],
             [
              0.1111111111111111,
              "#46039f"
             ],
             [
              0.2222222222222222,
              "#7201a8"
             ],
             [
              0.3333333333333333,
              "#9c179e"
             ],
             [
              0.4444444444444444,
              "#bd3786"
             ],
             [
              0.5555555555555556,
              "#d8576b"
             ],
             [
              0.6666666666666666,
              "#ed7953"
             ],
             [
              0.7777777777777778,
              "#fb9f3a"
             ],
             [
              0.8888888888888888,
              "#fdca26"
             ],
             [
              1,
              "#f0f921"
             ]
            ],
            "type": "surface"
           }
          ],
          "table": [
           {
            "cells": {
             "fill": {
              "color": "#EBF0F8"
             },
             "line": {
              "color": "white"
             }
            },
            "header": {
             "fill": {
              "color": "#C8D4E3"
             },
             "line": {
              "color": "white"
             }
            },
            "type": "table"
           }
          ]
         },
         "layout": {
          "annotationdefaults": {
           "arrowcolor": "#2a3f5f",
           "arrowhead": 0,
           "arrowwidth": 1
          },
          "autotypenumbers": "strict",
          "coloraxis": {
           "colorbar": {
            "outlinewidth": 0,
            "ticks": ""
           }
          },
          "colorscale": {
           "diverging": [
            [
             0,
             "#8e0152"
            ],
            [
             0.1,
             "#c51b7d"
            ],
            [
             0.2,
             "#de77ae"
            ],
            [
             0.3,
             "#f1b6da"
            ],
            [
             0.4,
             "#fde0ef"
            ],
            [
             0.5,
             "#f7f7f7"
            ],
            [
             0.6,
             "#e6f5d0"
            ],
            [
             0.7,
             "#b8e186"
            ],
            [
             0.8,
             "#7fbc41"
            ],
            [
             0.9,
             "#4d9221"
            ],
            [
             1,
             "#276419"
            ]
           ],
           "sequential": [
            [
             0,
             "#0d0887"
            ],
            [
             0.1111111111111111,
             "#46039f"
            ],
            [
             0.2222222222222222,
             "#7201a8"
            ],
            [
             0.3333333333333333,
             "#9c179e"
            ],
            [
             0.4444444444444444,
             "#bd3786"
            ],
            [
             0.5555555555555556,
             "#d8576b"
            ],
            [
             0.6666666666666666,
             "#ed7953"
            ],
            [
             0.7777777777777778,
             "#fb9f3a"
            ],
            [
             0.8888888888888888,
             "#fdca26"
            ],
            [
             1,
             "#f0f921"
            ]
           ],
           "sequentialminus": [
            [
             0,
             "#0d0887"
            ],
            [
             0.1111111111111111,
             "#46039f"
            ],
            [
             0.2222222222222222,
             "#7201a8"
            ],
            [
             0.3333333333333333,
             "#9c179e"
            ],
            [
             0.4444444444444444,
             "#bd3786"
            ],
            [
             0.5555555555555556,
             "#d8576b"
            ],
            [
             0.6666666666666666,
             "#ed7953"
            ],
            [
             0.7777777777777778,
             "#fb9f3a"
            ],
            [
             0.8888888888888888,
             "#fdca26"
            ],
            [
             1,
             "#f0f921"
            ]
           ]
          },
          "colorway": [
           "#636efa",
           "#EF553B",
           "#00cc96",
           "#ab63fa",
           "#FFA15A",
           "#19d3f3",
           "#FF6692",
           "#B6E880",
           "#FF97FF",
           "#FECB52"
          ],
          "font": {
           "color": "#2a3f5f"
          },
          "geo": {
           "bgcolor": "white",
           "lakecolor": "white",
           "landcolor": "#E5ECF6",
           "showlakes": true,
           "showland": true,
           "subunitcolor": "white"
          },
          "hoverlabel": {
           "align": "left"
          },
          "hovermode": "closest",
          "mapbox": {
           "style": "light"
          },
          "paper_bgcolor": "white",
          "plot_bgcolor": "#E5ECF6",
          "polar": {
           "angularaxis": {
            "gridcolor": "white",
            "linecolor": "white",
            "ticks": ""
           },
           "bgcolor": "#E5ECF6",
           "radialaxis": {
            "gridcolor": "white",
            "linecolor": "white",
            "ticks": ""
           }
          },
          "scene": {
           "xaxis": {
            "backgroundcolor": "#E5ECF6",
            "gridcolor": "white",
            "gridwidth": 2,
            "linecolor": "white",
            "showbackground": true,
            "ticks": "",
            "zerolinecolor": "white"
           },
           "yaxis": {
            "backgroundcolor": "#E5ECF6",
            "gridcolor": "white",
            "gridwidth": 2,
            "linecolor": "white",
            "showbackground": true,
            "ticks": "",
            "zerolinecolor": "white"
           },
           "zaxis": {
            "backgroundcolor": "#E5ECF6",
            "gridcolor": "white",
            "gridwidth": 2,
            "linecolor": "white",
            "showbackground": true,
            "ticks": "",
            "zerolinecolor": "white"
           }
          },
          "shapedefaults": {
           "line": {
            "color": "#2a3f5f"
           }
          },
          "ternary": {
           "aaxis": {
            "gridcolor": "white",
            "linecolor": "white",
            "ticks": ""
           },
           "baxis": {
            "gridcolor": "white",
            "linecolor": "white",
            "ticks": ""
           },
           "bgcolor": "#E5ECF6",
           "caxis": {
            "gridcolor": "white",
            "linecolor": "white",
            "ticks": ""
           }
          },
          "title": {
           "x": 0.05
          },
          "xaxis": {
           "automargin": true,
           "gridcolor": "white",
           "linecolor": "white",
           "ticks": "",
           "title": {
            "standoff": 15
           },
           "zerolinecolor": "white",
           "zerolinewidth": 2
          },
          "yaxis": {
           "automargin": true,
           "gridcolor": "white",
           "linecolor": "white",
           "ticks": "",
           "title": {
            "standoff": 15
           },
           "zerolinecolor": "white",
           "zerolinewidth": 2
          }
         }
        },
        "title": {
         "text": "Album: The Civil Wars"
        }
       }
      }
     },
     "metadata": {},
     "output_type": "display_data"
    },
    {
     "data": {
      "application/vnd.plotly.v1+json": {
       "config": {
        "plotlyServerURL": "https://plot.ly"
       },
       "data": [
        {
         "fill": "toself",
         "name": "All I Need",
         "r": [
          0.786,
          0.356,
          0.0462,
          0.771,
          0.1,
          0.519
         ],
         "theta": [
          "danceability",
          "energy",
          "speechiness",
          "acousticness",
          "liveness",
          "valence"
         ],
         "type": "scatterpolar"
        },
        {
         "fill": "toself",
         "name": "Bloom",
         "r": [
          0.606,
          0.488,
          0.0255,
          0.597,
          0.184,
          0.468
         ],
         "theta": [
          "danceability",
          "energy",
          "speechiness",
          "acousticness",
          "liveness",
          "valence"
         ],
         "type": "scatterpolar"
        },
        {
         "fill": "toself",
         "name": "Co2",
         "r": [
          0.533,
          0.678,
          0.0256,
          0.663,
          0.145,
          0.683
         ],
         "theta": [
          "danceability",
          "energy",
          "speechiness",
          "acousticness",
          "liveness",
          "valence"
         ],
         "type": "scatterpolar"
        },
        {
         "fill": "toself",
         "name": "Drown",
         "r": [
          0.358,
          0.58,
          0.045,
          0.768,
          0.127,
          0.352
         ],
         "theta": [
          "danceability",
          "energy",
          "speechiness",
          "acousticness",
          "liveness",
          "valence"
         ],
         "type": "scatterpolar"
        },
        {
         "fill": "toself",
         "name": "Face",
         "r": [
          0.481,
          0.669,
          0.455,
          0.92,
          0.139,
          0.351
         ],
         "theta": [
          "danceability",
          "energy",
          "speechiness",
          "acousticness",
          "liveness",
          "valence"
         ],
         "type": "scatterpolar"
        },
        {
         "fill": "toself",
         "name": "Favorite Peeps",
         "r": [
          0.611,
          0.525,
          0.0354,
          0.767,
          0.112,
          0.299
         ],
         "theta": [
          "danceability",
          "energy",
          "speechiness",
          "acousticness",
          "liveness",
          "valence"
         ],
         "type": "scatterpolar"
        },
        {
         "fill": "toself",
         "name": "Full Time Lover",
         "r": [
          0.541,
          0.254,
          0.0387,
          0.929,
          0.101,
          0.251
         ],
         "theta": [
          "danceability",
          "energy",
          "speechiness",
          "acousticness",
          "liveness",
          "valence"
         ],
         "type": "scatterpolar"
        },
        {
         "fill": "toself",
         "name": "Heartbroken",
         "r": [
          0.661,
          0.481,
          0.0294,
          0.662,
          0.0789,
          0.154
         ],
         "theta": [
          "danceability",
          "energy",
          "speechiness",
          "acousticness",
          "liveness",
          "valence"
         ],
         "type": "scatterpolar"
        },
        {
         "fill": "toself",
         "name": "Hollow",
         "r": [
          0.348,
          0.31,
          0.0413,
          0.845,
          0.111,
          0.0474
         ],
         "theta": [
          "danceability",
          "energy",
          "speechiness",
          "acousticness",
          "liveness",
          "valence"
         ],
         "type": "scatterpolar"
        },
        {
         "fill": "toself",
         "name": "Just A Word",
         "r": [
          0.36,
          0.247,
          0.0396,
          0.838,
          0.104,
          0.279
         ],
         "theta": [
          "danceability",
          "energy",
          "speechiness",
          "acousticness",
          "liveness",
          "valence"
         ],
         "type": "scatterpolar"
        },
        {
         "fill": "toself",
         "name": "The Last Time",
         "r": [
          0.693,
          0.459,
          0.0407,
          0.733,
          0.12,
          0.35
         ],
         "theta": [
          "danceability",
          "energy",
          "speechiness",
          "acousticness",
          "liveness",
          "valence"
         ],
         "type": "scatterpolar"
        }
       ],
       "layout": {
        "template": {
         "data": {
          "bar": [
           {
            "error_x": {
             "color": "#2a3f5f"
            },
            "error_y": {
             "color": "#2a3f5f"
            },
            "marker": {
             "line": {
              "color": "#E5ECF6",
              "width": 0.5
             },
             "pattern": {
              "fillmode": "overlay",
              "size": 10,
              "solidity": 0.2
             }
            },
            "type": "bar"
           }
          ],
          "barpolar": [
           {
            "marker": {
             "line": {
              "color": "#E5ECF6",
              "width": 0.5
             },
             "pattern": {
              "fillmode": "overlay",
              "size": 10,
              "solidity": 0.2
             }
            },
            "type": "barpolar"
           }
          ],
          "carpet": [
           {
            "aaxis": {
             "endlinecolor": "#2a3f5f",
             "gridcolor": "white",
             "linecolor": "white",
             "minorgridcolor": "white",
             "startlinecolor": "#2a3f5f"
            },
            "baxis": {
             "endlinecolor": "#2a3f5f",
             "gridcolor": "white",
             "linecolor": "white",
             "minorgridcolor": "white",
             "startlinecolor": "#2a3f5f"
            },
            "type": "carpet"
           }
          ],
          "choropleth": [
           {
            "colorbar": {
             "outlinewidth": 0,
             "ticks": ""
            },
            "type": "choropleth"
           }
          ],
          "contour": [
           {
            "colorbar": {
             "outlinewidth": 0,
             "ticks": ""
            },
            "colorscale": [
             [
              0,
              "#0d0887"
             ],
             [
              0.1111111111111111,
              "#46039f"
             ],
             [
              0.2222222222222222,
              "#7201a8"
             ],
             [
              0.3333333333333333,
              "#9c179e"
             ],
             [
              0.4444444444444444,
              "#bd3786"
             ],
             [
              0.5555555555555556,
              "#d8576b"
             ],
             [
              0.6666666666666666,
              "#ed7953"
             ],
             [
              0.7777777777777778,
              "#fb9f3a"
             ],
             [
              0.8888888888888888,
              "#fdca26"
             ],
             [
              1,
              "#f0f921"
             ]
            ],
            "type": "contour"
           }
          ],
          "contourcarpet": [
           {
            "colorbar": {
             "outlinewidth": 0,
             "ticks": ""
            },
            "type": "contourcarpet"
           }
          ],
          "heatmap": [
           {
            "colorbar": {
             "outlinewidth": 0,
             "ticks": ""
            },
            "colorscale": [
             [
              0,
              "#0d0887"
             ],
             [
              0.1111111111111111,
              "#46039f"
             ],
             [
              0.2222222222222222,
              "#7201a8"
             ],
             [
              0.3333333333333333,
              "#9c179e"
             ],
             [
              0.4444444444444444,
              "#bd3786"
             ],
             [
              0.5555555555555556,
              "#d8576b"
             ],
             [
              0.6666666666666666,
              "#ed7953"
             ],
             [
              0.7777777777777778,
              "#fb9f3a"
             ],
             [
              0.8888888888888888,
              "#fdca26"
             ],
             [
              1,
              "#f0f921"
             ]
            ],
            "type": "heatmap"
           }
          ],
          "heatmapgl": [
           {
            "colorbar": {
             "outlinewidth": 0,
             "ticks": ""
            },
            "colorscale": [
             [
              0,
              "#0d0887"
             ],
             [
              0.1111111111111111,
              "#46039f"
             ],
             [
              0.2222222222222222,
              "#7201a8"
             ],
             [
              0.3333333333333333,
              "#9c179e"
             ],
             [
              0.4444444444444444,
              "#bd3786"
             ],
             [
              0.5555555555555556,
              "#d8576b"
             ],
             [
              0.6666666666666666,
              "#ed7953"
             ],
             [
              0.7777777777777778,
              "#fb9f3a"
             ],
             [
              0.8888888888888888,
              "#fdca26"
             ],
             [
              1,
              "#f0f921"
             ]
            ],
            "type": "heatmapgl"
           }
          ],
          "histogram": [
           {
            "marker": {
             "pattern": {
              "fillmode": "overlay",
              "size": 10,
              "solidity": 0.2
             }
            },
            "type": "histogram"
           }
          ],
          "histogram2d": [
           {
            "colorbar": {
             "outlinewidth": 0,
             "ticks": ""
            },
            "colorscale": [
             [
              0,
              "#0d0887"
             ],
             [
              0.1111111111111111,
              "#46039f"
             ],
             [
              0.2222222222222222,
              "#7201a8"
             ],
             [
              0.3333333333333333,
              "#9c179e"
             ],
             [
              0.4444444444444444,
              "#bd3786"
             ],
             [
              0.5555555555555556,
              "#d8576b"
             ],
             [
              0.6666666666666666,
              "#ed7953"
             ],
             [
              0.7777777777777778,
              "#fb9f3a"
             ],
             [
              0.8888888888888888,
              "#fdca26"
             ],
             [
              1,
              "#f0f921"
             ]
            ],
            "type": "histogram2d"
           }
          ],
          "histogram2dcontour": [
           {
            "colorbar": {
             "outlinewidth": 0,
             "ticks": ""
            },
            "colorscale": [
             [
              0,
              "#0d0887"
             ],
             [
              0.1111111111111111,
              "#46039f"
             ],
             [
              0.2222222222222222,
              "#7201a8"
             ],
             [
              0.3333333333333333,
              "#9c179e"
             ],
             [
              0.4444444444444444,
              "#bd3786"
             ],
             [
              0.5555555555555556,
              "#d8576b"
             ],
             [
              0.6666666666666666,
              "#ed7953"
             ],
             [
              0.7777777777777778,
              "#fb9f3a"
             ],
             [
              0.8888888888888888,
              "#fdca26"
             ],
             [
              1,
              "#f0f921"
             ]
            ],
            "type": "histogram2dcontour"
           }
          ],
          "mesh3d": [
           {
            "colorbar": {
             "outlinewidth": 0,
             "ticks": ""
            },
            "type": "mesh3d"
           }
          ],
          "parcoords": [
           {
            "line": {
             "colorbar": {
              "outlinewidth": 0,
              "ticks": ""
             }
            },
            "type": "parcoords"
           }
          ],
          "pie": [
           {
            "automargin": true,
            "type": "pie"
           }
          ],
          "scatter": [
           {
            "fillpattern": {
             "fillmode": "overlay",
             "size": 10,
             "solidity": 0.2
            },
            "type": "scatter"
           }
          ],
          "scatter3d": [
           {
            "line": {
             "colorbar": {
              "outlinewidth": 0,
              "ticks": ""
             }
            },
            "marker": {
             "colorbar": {
              "outlinewidth": 0,
              "ticks": ""
             }
            },
            "type": "scatter3d"
           }
          ],
          "scattercarpet": [
           {
            "marker": {
             "colorbar": {
              "outlinewidth": 0,
              "ticks": ""
             }
            },
            "type": "scattercarpet"
           }
          ],
          "scattergeo": [
           {
            "marker": {
             "colorbar": {
              "outlinewidth": 0,
              "ticks": ""
             }
            },
            "type": "scattergeo"
           }
          ],
          "scattergl": [
           {
            "marker": {
             "colorbar": {
              "outlinewidth": 0,
              "ticks": ""
             }
            },
            "type": "scattergl"
           }
          ],
          "scattermapbox": [
           {
            "marker": {
             "colorbar": {
              "outlinewidth": 0,
              "ticks": ""
             }
            },
            "type": "scattermapbox"
           }
          ],
          "scatterpolar": [
           {
            "marker": {
             "colorbar": {
              "outlinewidth": 0,
              "ticks": ""
             }
            },
            "type": "scatterpolar"
           }
          ],
          "scatterpolargl": [
           {
            "marker": {
             "colorbar": {
              "outlinewidth": 0,
              "ticks": ""
             }
            },
            "type": "scatterpolargl"
           }
          ],
          "scatterternary": [
           {
            "marker": {
             "colorbar": {
              "outlinewidth": 0,
              "ticks": ""
             }
            },
            "type": "scatterternary"
           }
          ],
          "surface": [
           {
            "colorbar": {
             "outlinewidth": 0,
             "ticks": ""
            },
            "colorscale": [
             [
              0,
              "#0d0887"
             ],
             [
              0.1111111111111111,
              "#46039f"
             ],
             [
              0.2222222222222222,
              "#7201a8"
             ],
             [
              0.3333333333333333,
              "#9c179e"
             ],
             [
              0.4444444444444444,
              "#bd3786"
             ],
             [
              0.5555555555555556,
              "#d8576b"
             ],
             [
              0.6666666666666666,
              "#ed7953"
             ],
             [
              0.7777777777777778,
              "#fb9f3a"
             ],
             [
              0.8888888888888888,
              "#fdca26"
             ],
             [
              1,
              "#f0f921"
             ]
            ],
            "type": "surface"
           }
          ],
          "table": [
           {
            "cells": {
             "fill": {
              "color": "#EBF0F8"
             },
             "line": {
              "color": "white"
             }
            },
            "header": {
             "fill": {
              "color": "#C8D4E3"
             },
             "line": {
              "color": "white"
             }
            },
            "type": "table"
           }
          ]
         },
         "layout": {
          "annotationdefaults": {
           "arrowcolor": "#2a3f5f",
           "arrowhead": 0,
           "arrowwidth": 1
          },
          "autotypenumbers": "strict",
          "coloraxis": {
           "colorbar": {
            "outlinewidth": 0,
            "ticks": ""
           }
          },
          "colorscale": {
           "diverging": [
            [
             0,
             "#8e0152"
            ],
            [
             0.1,
             "#c51b7d"
            ],
            [
             0.2,
             "#de77ae"
            ],
            [
             0.3,
             "#f1b6da"
            ],
            [
             0.4,
             "#fde0ef"
            ],
            [
             0.5,
             "#f7f7f7"
            ],
            [
             0.6,
             "#e6f5d0"
            ],
            [
             0.7,
             "#b8e186"
            ],
            [
             0.8,
             "#7fbc41"
            ],
            [
             0.9,
             "#4d9221"
            ],
            [
             1,
             "#276419"
            ]
           ],
           "sequential": [
            [
             0,
             "#0d0887"
            ],
            [
             0.1111111111111111,
             "#46039f"
            ],
            [
             0.2222222222222222,
             "#7201a8"
            ],
            [
             0.3333333333333333,
             "#9c179e"
            ],
            [
             0.4444444444444444,
             "#bd3786"
            ],
            [
             0.5555555555555556,
             "#d8576b"
            ],
            [
             0.6666666666666666,
             "#ed7953"
            ],
            [
             0.7777777777777778,
             "#fb9f3a"
            ],
            [
             0.8888888888888888,
             "#fdca26"
            ],
            [
             1,
             "#f0f921"
            ]
           ],
           "sequentialminus": [
            [
             0,
             "#0d0887"
            ],
            [
             0.1111111111111111,
             "#46039f"
            ],
            [
             0.2222222222222222,
             "#7201a8"
            ],
            [
             0.3333333333333333,
             "#9c179e"
            ],
            [
             0.4444444444444444,
             "#bd3786"
            ],
            [
             0.5555555555555556,
             "#d8576b"
            ],
            [
             0.6666666666666666,
             "#ed7953"
            ],
            [
             0.7777777777777778,
             "#fb9f3a"
            ],
            [
             0.8888888888888888,
             "#fdca26"
            ],
            [
             1,
             "#f0f921"
            ]
           ]
          },
          "colorway": [
           "#636efa",
           "#EF553B",
           "#00cc96",
           "#ab63fa",
           "#FFA15A",
           "#19d3f3",
           "#FF6692",
           "#B6E880",
           "#FF97FF",
           "#FECB52"
          ],
          "font": {
           "color": "#2a3f5f"
          },
          "geo": {
           "bgcolor": "white",
           "lakecolor": "white",
           "landcolor": "#E5ECF6",
           "showlakes": true,
           "showland": true,
           "subunitcolor": "white"
          },
          "hoverlabel": {
           "align": "left"
          },
          "hovermode": "closest",
          "mapbox": {
           "style": "light"
          },
          "paper_bgcolor": "white",
          "plot_bgcolor": "#E5ECF6",
          "polar": {
           "angularaxis": {
            "gridcolor": "white",
            "linecolor": "white",
            "ticks": ""
           },
           "bgcolor": "#E5ECF6",
           "radialaxis": {
            "gridcolor": "white",
            "linecolor": "white",
            "ticks": ""
           }
          },
          "scene": {
           "xaxis": {
            "backgroundcolor": "#E5ECF6",
            "gridcolor": "white",
            "gridwidth": 2,
            "linecolor": "white",
            "showbackground": true,
            "ticks": "",
            "zerolinecolor": "white"
           },
           "yaxis": {
            "backgroundcolor": "#E5ECF6",
            "gridcolor": "white",
            "gridwidth": 2,
            "linecolor": "white",
            "showbackground": true,
            "ticks": "",
            "zerolinecolor": "white"
           },
           "zaxis": {
            "backgroundcolor": "#E5ECF6",
            "gridcolor": "white",
            "gridwidth": 2,
            "linecolor": "white",
            "showbackground": true,
            "ticks": "",
            "zerolinecolor": "white"
           }
          },
          "shapedefaults": {
           "line": {
            "color": "#2a3f5f"
           }
          },
          "ternary": {
           "aaxis": {
            "gridcolor": "white",
            "linecolor": "white",
            "ticks": ""
           },
           "baxis": {
            "gridcolor": "white",
            "linecolor": "white",
            "ticks": ""
           },
           "bgcolor": "#E5ECF6",
           "caxis": {
            "gridcolor": "white",
            "linecolor": "white",
            "ticks": ""
           }
          },
          "title": {
           "x": 0.05
          },
          "xaxis": {
           "automargin": true,
           "gridcolor": "white",
           "linecolor": "white",
           "ticks": "",
           "title": {
            "standoff": 15
           },
           "zerolinecolor": "white",
           "zerolinewidth": 2
          },
          "yaxis": {
           "automargin": true,
           "gridcolor": "white",
           "linecolor": "white",
           "ticks": "",
           "title": {
            "standoff": 15
           },
           "zerolinecolor": "white",
           "zerolinewidth": 2
          }
         }
        },
        "title": {
         "text": "Album: The Way That Lovers Do"
        }
       }
      }
     },
     "metadata": {},
     "output_type": "display_data"
    },
    {
     "data": {
      "application/vnd.plotly.v1+json": {
       "config": {
        "plotlyServerURL": "https://plot.ly"
       },
       "data": [
        {
         "fill": "toself",
         "name": "airplane thoughts",
         "r": [
          0.677,
          0.454,
          0.0673,
          0.83,
          0.274,
          0.273
         ],
         "theta": [
          "danceability",
          "energy",
          "speechiness",
          "acousticness",
          "liveness",
          "valence"
         ],
         "type": "scatterpolar"
        },
        {
         "fill": "toself",
         "name": "double take",
         "r": [
          0.656,
          0.436,
          0.0744,
          0.845,
          0.221,
          0.196
         ],
         "theta": [
          "danceability",
          "energy",
          "speechiness",
          "acousticness",
          "liveness",
          "valence"
         ],
         "type": "scatterpolar"
        },
        {
         "fill": "toself",
         "name": "grateful",
         "r": [
          0.507,
          0.516,
          0.106,
          0.457,
          0.128,
          0.486
         ],
         "theta": [
          "danceability",
          "energy",
          "speechiness",
          "acousticness",
          "liveness",
          "valence"
         ],
         "type": "scatterpolar"
        },
        {
         "fill": "toself",
         "name": "moonlight",
         "r": [
          0.735,
          0.501,
          0.167,
          0.627,
          0.104,
          0.551
         ],
         "theta": [
          "danceability",
          "energy",
          "speechiness",
          "acousticness",
          "liveness",
          "valence"
         ],
         "type": "scatterpolar"
        },
        {
         "fill": "toself",
         "name": "retrograde",
         "r": [
          0.49,
          0.229,
          0.0273,
          0.804,
          0.126,
          0.281
         ],
         "theta": [
          "danceability",
          "energy",
          "speechiness",
          "acousticness",
          "liveness",
          "valence"
         ],
         "type": "scatterpolar"
        },
        {
         "fill": "toself",
         "name": "stable life",
         "r": [
          0.502,
          0.446,
          0.0365,
          0.466,
          0.331,
          0.311
         ],
         "theta": [
          "danceability",
          "energy",
          "speechiness",
          "acousticness",
          "liveness",
          "valence"
         ],
         "type": "scatterpolar"
        },
        {
         "fill": "toself",
         "name": "vulnerable",
         "r": [
          0.696,
          0.543,
          0.0454,
          0.438,
          0.394,
          0.3
         ],
         "theta": [
          "danceability",
          "energy",
          "speechiness",
          "acousticness",
          "liveness",
          "valence"
         ],
         "type": "scatterpolar"
        },
        {
         "fill": "toself",
         "name": "what's wrong with me?",
         "r": [
          0.504,
          0.405,
          0.0515,
          0.786,
          0.102,
          0.176
         ],
         "theta": [
          "danceability",
          "energy",
          "speechiness",
          "acousticness",
          "liveness",
          "valence"
         ],
         "type": "scatterpolar"
        }
       ],
       "layout": {
        "template": {
         "data": {
          "bar": [
           {
            "error_x": {
             "color": "#2a3f5f"
            },
            "error_y": {
             "color": "#2a3f5f"
            },
            "marker": {
             "line": {
              "color": "#E5ECF6",
              "width": 0.5
             },
             "pattern": {
              "fillmode": "overlay",
              "size": 10,
              "solidity": 0.2
             }
            },
            "type": "bar"
           }
          ],
          "barpolar": [
           {
            "marker": {
             "line": {
              "color": "#E5ECF6",
              "width": 0.5
             },
             "pattern": {
              "fillmode": "overlay",
              "size": 10,
              "solidity": 0.2
             }
            },
            "type": "barpolar"
           }
          ],
          "carpet": [
           {
            "aaxis": {
             "endlinecolor": "#2a3f5f",
             "gridcolor": "white",
             "linecolor": "white",
             "minorgridcolor": "white",
             "startlinecolor": "#2a3f5f"
            },
            "baxis": {
             "endlinecolor": "#2a3f5f",
             "gridcolor": "white",
             "linecolor": "white",
             "minorgridcolor": "white",
             "startlinecolor": "#2a3f5f"
            },
            "type": "carpet"
           }
          ],
          "choropleth": [
           {
            "colorbar": {
             "outlinewidth": 0,
             "ticks": ""
            },
            "type": "choropleth"
           }
          ],
          "contour": [
           {
            "colorbar": {
             "outlinewidth": 0,
             "ticks": ""
            },
            "colorscale": [
             [
              0,
              "#0d0887"
             ],
             [
              0.1111111111111111,
              "#46039f"
             ],
             [
              0.2222222222222222,
              "#7201a8"
             ],
             [
              0.3333333333333333,
              "#9c179e"
             ],
             [
              0.4444444444444444,
              "#bd3786"
             ],
             [
              0.5555555555555556,
              "#d8576b"
             ],
             [
              0.6666666666666666,
              "#ed7953"
             ],
             [
              0.7777777777777778,
              "#fb9f3a"
             ],
             [
              0.8888888888888888,
              "#fdca26"
             ],
             [
              1,
              "#f0f921"
             ]
            ],
            "type": "contour"
           }
          ],
          "contourcarpet": [
           {
            "colorbar": {
             "outlinewidth": 0,
             "ticks": ""
            },
            "type": "contourcarpet"
           }
          ],
          "heatmap": [
           {
            "colorbar": {
             "outlinewidth": 0,
             "ticks": ""
            },
            "colorscale": [
             [
              0,
              "#0d0887"
             ],
             [
              0.1111111111111111,
              "#46039f"
             ],
             [
              0.2222222222222222,
              "#7201a8"
             ],
             [
              0.3333333333333333,
              "#9c179e"
             ],
             [
              0.4444444444444444,
              "#bd3786"
             ],
             [
              0.5555555555555556,
              "#d8576b"
             ],
             [
              0.6666666666666666,
              "#ed7953"
             ],
             [
              0.7777777777777778,
              "#fb9f3a"
             ],
             [
              0.8888888888888888,
              "#fdca26"
             ],
             [
              1,
              "#f0f921"
             ]
            ],
            "type": "heatmap"
           }
          ],
          "heatmapgl": [
           {
            "colorbar": {
             "outlinewidth": 0,
             "ticks": ""
            },
            "colorscale": [
             [
              0,
              "#0d0887"
             ],
             [
              0.1111111111111111,
              "#46039f"
             ],
             [
              0.2222222222222222,
              "#7201a8"
             ],
             [
              0.3333333333333333,
              "#9c179e"
             ],
             [
              0.4444444444444444,
              "#bd3786"
             ],
             [
              0.5555555555555556,
              "#d8576b"
             ],
             [
              0.6666666666666666,
              "#ed7953"
             ],
             [
              0.7777777777777778,
              "#fb9f3a"
             ],
             [
              0.8888888888888888,
              "#fdca26"
             ],
             [
              1,
              "#f0f921"
             ]
            ],
            "type": "heatmapgl"
           }
          ],
          "histogram": [
           {
            "marker": {
             "pattern": {
              "fillmode": "overlay",
              "size": 10,
              "solidity": 0.2
             }
            },
            "type": "histogram"
           }
          ],
          "histogram2d": [
           {
            "colorbar": {
             "outlinewidth": 0,
             "ticks": ""
            },
            "colorscale": [
             [
              0,
              "#0d0887"
             ],
             [
              0.1111111111111111,
              "#46039f"
             ],
             [
              0.2222222222222222,
              "#7201a8"
             ],
             [
              0.3333333333333333,
              "#9c179e"
             ],
             [
              0.4444444444444444,
              "#bd3786"
             ],
             [
              0.5555555555555556,
              "#d8576b"
             ],
             [
              0.6666666666666666,
              "#ed7953"
             ],
             [
              0.7777777777777778,
              "#fb9f3a"
             ],
             [
              0.8888888888888888,
              "#fdca26"
             ],
             [
              1,
              "#f0f921"
             ]
            ],
            "type": "histogram2d"
           }
          ],
          "histogram2dcontour": [
           {
            "colorbar": {
             "outlinewidth": 0,
             "ticks": ""
            },
            "colorscale": [
             [
              0,
              "#0d0887"
             ],
             [
              0.1111111111111111,
              "#46039f"
             ],
             [
              0.2222222222222222,
              "#7201a8"
             ],
             [
              0.3333333333333333,
              "#9c179e"
             ],
             [
              0.4444444444444444,
              "#bd3786"
             ],
             [
              0.5555555555555556,
              "#d8576b"
             ],
             [
              0.6666666666666666,
              "#ed7953"
             ],
             [
              0.7777777777777778,
              "#fb9f3a"
             ],
             [
              0.8888888888888888,
              "#fdca26"
             ],
             [
              1,
              "#f0f921"
             ]
            ],
            "type": "histogram2dcontour"
           }
          ],
          "mesh3d": [
           {
            "colorbar": {
             "outlinewidth": 0,
             "ticks": ""
            },
            "type": "mesh3d"
           }
          ],
          "parcoords": [
           {
            "line": {
             "colorbar": {
              "outlinewidth": 0,
              "ticks": ""
             }
            },
            "type": "parcoords"
           }
          ],
          "pie": [
           {
            "automargin": true,
            "type": "pie"
           }
          ],
          "scatter": [
           {
            "fillpattern": {
             "fillmode": "overlay",
             "size": 10,
             "solidity": 0.2
            },
            "type": "scatter"
           }
          ],
          "scatter3d": [
           {
            "line": {
             "colorbar": {
              "outlinewidth": 0,
              "ticks": ""
             }
            },
            "marker": {
             "colorbar": {
              "outlinewidth": 0,
              "ticks": ""
             }
            },
            "type": "scatter3d"
           }
          ],
          "scattercarpet": [
           {
            "marker": {
             "colorbar": {
              "outlinewidth": 0,
              "ticks": ""
             }
            },
            "type": "scattercarpet"
           }
          ],
          "scattergeo": [
           {
            "marker": {
             "colorbar": {
              "outlinewidth": 0,
              "ticks": ""
             }
            },
            "type": "scattergeo"
           }
          ],
          "scattergl": [
           {
            "marker": {
             "colorbar": {
              "outlinewidth": 0,
              "ticks": ""
             }
            },
            "type": "scattergl"
           }
          ],
          "scattermapbox": [
           {
            "marker": {
             "colorbar": {
              "outlinewidth": 0,
              "ticks": ""
             }
            },
            "type": "scattermapbox"
           }
          ],
          "scatterpolar": [
           {
            "marker": {
             "colorbar": {
              "outlinewidth": 0,
              "ticks": ""
             }
            },
            "type": "scatterpolar"
           }
          ],
          "scatterpolargl": [
           {
            "marker": {
             "colorbar": {
              "outlinewidth": 0,
              "ticks": ""
             }
            },
            "type": "scatterpolargl"
           }
          ],
          "scatterternary": [
           {
            "marker": {
             "colorbar": {
              "outlinewidth": 0,
              "ticks": ""
             }
            },
            "type": "scatterternary"
           }
          ],
          "surface": [
           {
            "colorbar": {
             "outlinewidth": 0,
             "ticks": ""
            },
            "colorscale": [
             [
              0,
              "#0d0887"
             ],
             [
              0.1111111111111111,
              "#46039f"
             ],
             [
              0.2222222222222222,
              "#7201a8"
             ],
             [
              0.3333333333333333,
              "#9c179e"
             ],
             [
              0.4444444444444444,
              "#bd3786"
             ],
             [
              0.5555555555555556,
              "#d8576b"
             ],
             [
              0.6666666666666666,
              "#ed7953"
             ],
             [
              0.7777777777777778,
              "#fb9f3a"
             ],
             [
              0.8888888888888888,
              "#fdca26"
             ],
             [
              1,
              "#f0f921"
             ]
            ],
            "type": "surface"
           }
          ],
          "table": [
           {
            "cells": {
             "fill": {
              "color": "#EBF0F8"
             },
             "line": {
              "color": "white"
             }
            },
            "header": {
             "fill": {
              "color": "#C8D4E3"
             },
             "line": {
              "color": "white"
             }
            },
            "type": "table"
           }
          ]
         },
         "layout": {
          "annotationdefaults": {
           "arrowcolor": "#2a3f5f",
           "arrowhead": 0,
           "arrowwidth": 1
          },
          "autotypenumbers": "strict",
          "coloraxis": {
           "colorbar": {
            "outlinewidth": 0,
            "ticks": ""
           }
          },
          "colorscale": {
           "diverging": [
            [
             0,
             "#8e0152"
            ],
            [
             0.1,
             "#c51b7d"
            ],
            [
             0.2,
             "#de77ae"
            ],
            [
             0.3,
             "#f1b6da"
            ],
            [
             0.4,
             "#fde0ef"
            ],
            [
             0.5,
             "#f7f7f7"
            ],
            [
             0.6,
             "#e6f5d0"
            ],
            [
             0.7,
             "#b8e186"
            ],
            [
             0.8,
             "#7fbc41"
            ],
            [
             0.9,
             "#4d9221"
            ],
            [
             1,
             "#276419"
            ]
           ],
           "sequential": [
            [
             0,
             "#0d0887"
            ],
            [
             0.1111111111111111,
             "#46039f"
            ],
            [
             0.2222222222222222,
             "#7201a8"
            ],
            [
             0.3333333333333333,
             "#9c179e"
            ],
            [
             0.4444444444444444,
             "#bd3786"
            ],
            [
             0.5555555555555556,
             "#d8576b"
            ],
            [
             0.6666666666666666,
             "#ed7953"
            ],
            [
             0.7777777777777778,
             "#fb9f3a"
            ],
            [
             0.8888888888888888,
             "#fdca26"
            ],
            [
             1,
             "#f0f921"
            ]
           ],
           "sequentialminus": [
            [
             0,
             "#0d0887"
            ],
            [
             0.1111111111111111,
             "#46039f"
            ],
            [
             0.2222222222222222,
             "#7201a8"
            ],
            [
             0.3333333333333333,
             "#9c179e"
            ],
            [
             0.4444444444444444,
             "#bd3786"
            ],
            [
             0.5555555555555556,
             "#d8576b"
            ],
            [
             0.6666666666666666,
             "#ed7953"
            ],
            [
             0.7777777777777778,
             "#fb9f3a"
            ],
            [
             0.8888888888888888,
             "#fdca26"
            ],
            [
             1,
             "#f0f921"
            ]
           ]
          },
          "colorway": [
           "#636efa",
           "#EF553B",
           "#00cc96",
           "#ab63fa",
           "#FFA15A",
           "#19d3f3",
           "#FF6692",
           "#B6E880",
           "#FF97FF",
           "#FECB52"
          ],
          "font": {
           "color": "#2a3f5f"
          },
          "geo": {
           "bgcolor": "white",
           "lakecolor": "white",
           "landcolor": "#E5ECF6",
           "showlakes": true,
           "showland": true,
           "subunitcolor": "white"
          },
          "hoverlabel": {
           "align": "left"
          },
          "hovermode": "closest",
          "mapbox": {
           "style": "light"
          },
          "paper_bgcolor": "white",
          "plot_bgcolor": "#E5ECF6",
          "polar": {
           "angularaxis": {
            "gridcolor": "white",
            "linecolor": "white",
            "ticks": ""
           },
           "bgcolor": "#E5ECF6",
           "radialaxis": {
            "gridcolor": "white",
            "linecolor": "white",
            "ticks": ""
           }
          },
          "scene": {
           "xaxis": {
            "backgroundcolor": "#E5ECF6",
            "gridcolor": "white",
            "gridwidth": 2,
            "linecolor": "white",
            "showbackground": true,
            "ticks": "",
            "zerolinecolor": "white"
           },
           "yaxis": {
            "backgroundcolor": "#E5ECF6",
            "gridcolor": "white",
            "gridwidth": 2,
            "linecolor": "white",
            "showbackground": true,
            "ticks": "",
            "zerolinecolor": "white"
           },
           "zaxis": {
            "backgroundcolor": "#E5ECF6",
            "gridcolor": "white",
            "gridwidth": 2,
            "linecolor": "white",
            "showbackground": true,
            "ticks": "",
            "zerolinecolor": "white"
           }
          },
          "shapedefaults": {
           "line": {
            "color": "#2a3f5f"
           }
          },
          "ternary": {
           "aaxis": {
            "gridcolor": "white",
            "linecolor": "white",
            "ticks": ""
           },
           "baxis": {
            "gridcolor": "white",
            "linecolor": "white",
            "ticks": ""
           },
           "bgcolor": "#E5ECF6",
           "caxis": {
            "gridcolor": "white",
            "linecolor": "white",
            "ticks": ""
           }
          },
          "title": {
           "x": 0.05
          },
          "xaxis": {
           "automargin": true,
           "gridcolor": "white",
           "linecolor": "white",
           "ticks": "",
           "title": {
            "standoff": 15
           },
           "zerolinecolor": "white",
           "zerolinewidth": 2
          },
          "yaxis": {
           "automargin": true,
           "gridcolor": "white",
           "linecolor": "white",
           "ticks": "",
           "title": {
            "standoff": 15
           },
           "zerolinecolor": "white",
           "zerolinewidth": 2
          }
         }
        },
        "title": {
         "text": "Album: rapunzel"
        }
       }
      }
     },
     "metadata": {},
     "output_type": "display_data"
    }
   ],
   "source": [
    "fig = go.Figure()\n",
    "album_names = summaryDF['album']\n",
    "for a in album_names:\n",
    "    temp = DF1[DF1[\"album\"] == a]\n",
    "    for index, row in temp.iterrows():\n",
    "        fig.add_trace(go.Scatterpolar(\n",
    "            r=row[categories],\n",
    "            theta=categories,\n",
    "            fill='toself',\n",
    "            name=row[\"name\"]\n",
    "        ))\n",
    "    fig.update_layout(title=\"Album: \" + a)\n",
    "    fig.show()\n",
    "    fig = go.Figure()\n"
   ]
  }
 ],
 "metadata": {
  "kernelspec": {
   "display_name": "Python 3.10.5 64-bit",
   "language": "python",
   "name": "python3"
  },
  "language_info": {
   "codemirror_mode": {
    "name": "ipython",
    "version": 3
   },
   "file_extension": ".py",
   "mimetype": "text/x-python",
   "name": "python",
   "nbconvert_exporter": "python",
   "pygments_lexer": "ipython3",
   "version": "3.10.5"
  },
  "orig_nbformat": 4,
  "vscode": {
   "interpreter": {
    "hash": "26de051ba29f2982a8de78e945f0abaf191376122a1563185a90213a26c5da77"
   }
  }
 },
 "nbformat": 4,
 "nbformat_minor": 2
}
